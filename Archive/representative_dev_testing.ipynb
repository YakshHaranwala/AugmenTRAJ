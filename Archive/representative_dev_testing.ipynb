{
 "cells": [
  {
   "cell_type": "code",
   "execution_count": 1,
   "metadata": {
    "collapsed": true,
    "pycharm": {
     "name": "#%%\n"
    }
   },
   "outputs": [],
   "source": [
    "from ptrail.core.TrajectoryDF import PTRAILDataFrame\n",
    "from ptrail.core.Datasets import Datasets\n",
    "from ptrail.preprocessing.statistics import Statistics\n",
    "from ptrail.features.kinematic_features import KinematicFeatures\n",
    "import pandas as pd"
   ]
  },
  {
   "cell_type": "code",
   "execution_count": 2,
   "outputs": [
    {
     "name": "stdout",
     "output_type": "stream",
     "text": [
      "------------------------ Dataset Facts ------------------------------\n",
      "\n",
      "Number of unique Trajectories in the data: 253\n",
      "Number of points in the data: 287136\n",
      "Dataset time range: 1196 days 22:51:45\n",
      "Datatype of the DataFrame: <class 'ptrail.core.TrajectoryDF.PTRAILDataFrame'>\n",
      "Dataset Bounding Box: (45.18896978643169, -118.61020848239596, 45.314545642992, -118.50455596234036)\n",
      "\n",
      "---------------------------------------------------------------------\n"
     ]
    }
   ],
   "source": [
    "starkey = Datasets.load_starkey()"
   ],
   "metadata": {
    "collapsed": false,
    "pycharm": {
     "name": "#%%\n"
    }
   }
  },
  {
   "cell_type": "code",
   "execution_count": 3,
   "outputs": [
    {
     "name": "stdout",
     "output_type": "stream",
     "text": [
      "51\n",
      "202\n",
      "CPU times: user 53.3 s, sys: 2.29 s, total: 55.6 s\n",
      "Wall time: 59.4 s\n"
     ]
    }
   ],
   "source": [
    "%%time\n",
    "\n",
    "from src.selection.select import Selection\n",
    "\n",
    "selected_trajs = Selection.select_representative_trajectories(starkey, \"Species\", 0.5)\n",
    "print(len(selected_trajs['test']))\n",
    "print(len(selected_trajs['train']))"
   ],
   "metadata": {
    "collapsed": false,
    "pycharm": {
     "name": "#%%\n"
    }
   }
  },
  {
   "cell_type": "code",
   "execution_count": 4,
   "outputs": [
    {
     "name": "stdout",
     "output_type": "stream",
     "text": [
      "50\n",
      "203\n"
     ]
    }
   ],
   "source": [
    "from random import *\n",
    "a = Selection.select_randomly(starkey)\n",
    "print(len(a['test']))\n",
    "print(len(a['train']))"
   ],
   "metadata": {
    "collapsed": false,
    "pycharm": {
     "name": "#%%\n"
    }
   }
  },
  {
   "cell_type": "code",
   "execution_count": 5,
   "outputs": [
    {
     "data": {
      "text/plain": "['910315E14sel',\n '920225D01',\n '920226D01',\n '920303D05',\n '920304D03',\n '920309D02',\n '920318D02',\n '921123E22',\n '921130E09',\n '921130E30',\n '921215E02',\n '921216E02sel',\n '921216E04sel',\n '921216E08',\n '921228E02',\n '921228E04',\n '921228E06',\n '921228E09',\n '921228E12',\n '921228E16',\n '921228E19',\n '921228E34',\n '921230E03',\n '930104E05',\n '930107E06',\n '930107E08',\n '930107E09',\n '930119E02',\n '930119E03',\n '930120D04',\n '930127D01',\n '930202D01',\n '930202E03',\n '930202E07',\n '930202E16',\n '930203E01',\n '930203E03',\n '930203E06',\n '930209E06',\n '930209E08',\n '930216E01',\n '930216E05',\n '930218D01sel',\n '930304E05',\n '930304E06',\n '930304E13',\n '930304E16sel',\n '930318D01',\n '930318D03',\n '930318D04',\n '930406D01',\n '930408E03',\n '930408E08',\n '930409D01',\n '930409E04sel',\n '930410E01',\n '930410E04',\n '930415D02',\n '930415E02',\n '930415E04sel',\n '930416D01',\n '930417E01',\n '930421E03',\n '930422E04',\n '930429E01',\n '930429E08',\n '931215E09',\n '931216E09',\n '940105D01',\n '940105D02',\n '940110D01',\n '940117D02',\n '940119D01',\n '940124D01',\n '940131D01',\n '940205D01',\n '940212D01',\n '940213D01',\n '940213E01',\n '940215D01',\n '940215E02',\n '940217D01',\n '940219E02',\n '940219E06',\n '940219E07',\n '940219E10',\n '940219E11',\n '940219E12',\n '940221E07',\n '940222D01',\n '940228E01',\n '940303D01',\n '940316D01',\n '940318D01',\n '940329E01',\n '940413E01',\n '941128E01',\n '941129E04',\n '941220E01',\n '941220E05',\n '941220E09',\n '941221E06',\n '941221E14',\n '941222E03',\n '941227E01',\n '950104E02',\n '950104E04',\n '950104E07',\n '950124D01',\n '950124D02',\n '950124E01',\n '950125E01',\n '950125E10',\n '950125E13',\n '950126D01',\n '950227D02',\n '950308D03',\n '950313D01',\n '950405E12',\n '950415E01',\n '950418E01',\n '960121D01',\n '960127D01',\n '960131D02',\n '960131E12',\n '960227E09',\n '960313E02',\n '960313E04',\n 'OSUX83041',\n 'OSUX83061',\n 'OSUX85078sel',\n 'OSUX85135sel',\n 'OSUX85159',\n 'OSUX86137',\n 'OSUX87130',\n 'OSUX87175',\n 'OSUX87188',\n 'OSUX87190',\n 'OSUX88123',\n 'OSUX88129',\n 'OSUX88134',\n 'OSUX88159',\n 'OSUX88169',\n 'OSUX88176',\n 'OSUX89065sel',\n 'OSUX89073',\n 'OSUX89078',\n 'OSUX89086sel',\n 'OSUX89087',\n 'OSUX89105',\n 'OSUX89116',\n 'OSUX89125',\n 'OSUX89127',\n 'OSUX89128',\n 'OSUX89132',\n 'OSUX89136',\n 'OSUX89141',\n 'OSUX89146',\n 'OSUX89153',\n 'OSUX89177',\n 'OSUX89189',\n 'OSUX89199',\n 'OSUX89203',\n 'OSUX89208',\n 'OSUX91032',\n 'OSUX91038',\n 'OSUX91057',\n 'OSUX91063',\n 'OSUX91066',\n 'OSUX91073',\n 'OSUX91075',\n 'OSUX91092',\n 'OSUX91095',\n 'OSUX91116',\n 'OSUX91121',\n 'OSUX91143',\n 'OSUX91164',\n 'OSUX92002',\n 'OSUX92008',\n 'OSUX92013',\n 'OSUX92014',\n 'OSUX92016',\n 'OSUX92020',\n 'OSUX92031',\n 'OSUX92035',\n 'OSUX92061',\n 'OSUX92069',\n 'OSUX92070',\n 'OSUX92071',\n 'OSUX92083',\n 'OSUX92107',\n 'OSUX92115',\n 'OSUX93007',\n 'OSUX93039',\n 'OSUX93041',\n 'OSUX93046',\n 'OSUX93066',\n 'OSUX93091',\n 'OSUX93110',\n 'OSUX93123',\n 'OSUX93151',\n 'OSUX93191']"
     },
     "execution_count": 5,
     "metadata": {},
     "output_type": "execute_result"
    }
   ],
   "source": [
    "selected_trajs['train']"
   ],
   "metadata": {
    "collapsed": false,
    "pycharm": {
     "name": "#%%\n"
    }
   }
  }
 ],
 "metadata": {
  "kernelspec": {
   "display_name": "Python 3",
   "language": "python",
   "name": "python3"
  },
  "language_info": {
   "codemirror_mode": {
    "name": "ipython",
    "version": 2
   },
   "file_extension": ".py",
   "mimetype": "text/x-python",
   "name": "python",
   "nbconvert_exporter": "python",
   "pygments_lexer": "ipython2",
   "version": "2.7.6"
  }
 },
 "nbformat": 4,
 "nbformat_minor": 0
}