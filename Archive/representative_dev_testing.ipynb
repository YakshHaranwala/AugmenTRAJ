{
 "cells": [
  {
   "cell_type": "code",
   "execution_count": 1,
   "outputs": [],
   "source": [
    "from ptrail.core.TrajectoryDF import PTRAILDataFrame\n",
    "from ptrail.core.Datasets import Datasets\n",
    "from ptrail.preprocessing.statistics import Statistics\n",
    "from ptrail.features.kinematic_features import KinematicFeatures\n",
    "from src.selection.select import Selection\n",
    "import pandas as pd"
   ],
   "metadata": {
    "collapsed": false,
    "pycharm": {
     "name": "#%%\n"
    }
   }
  },
  {
   "cell_type": "code",
   "execution_count": 2,
   "outputs": [
    {
     "name": "stdout",
     "output_type": "stream",
     "text": [
      "------------------------ Dataset Facts ------------------------------\n",
      "\n",
      "Number of unique Trajectories in the data: 253\n",
      "Number of points in the data: 287136\n",
      "Dataset time range: 1196 days 22:51:45\n",
      "Datatype of the DataFrame: <class 'ptrail.core.TrajectoryDF.PTRAILDataFrame'>\n",
      "Dataset Bounding Box: (45.18896978643169, -118.61020848239596, 45.314545642992, -118.50455596234036)\n",
      "\n",
      "---------------------------------------------------------------------\n",
      "{1: 128, 0: 51, 2: 74}\n",
      "0\n"
     ]
    },
    {
     "data": {
      "text/plain": "{'test': ['890221E02',\n  '890222E01',\n  '890224E04',\n  '890317E01',\n  '890317E23',\n  '890317E25',\n  '890324E17',\n  '890328E12',\n  '890328E21',\n  '890328E34',\n  '890413E05',\n  '890418E01',\n  '890418E04',\n  '890418E13',\n  '890418E15',\n  '890424E06',\n  '890424E08',\n  '890504E01',\n  '900205E01',\n  '900205E11',\n  '900205E14',\n  '900219E15',\n  '900626E01',\n  '910312E05',\n  '910312E09',\n  '910312E12',\n  '910312E13',\n  '910313E07',\n  '910313E11',\n  '910313E18',\n  '910313E19',\n  '910313E26',\n  '910313E37',\n  '910315E04',\n  '910315E08',\n  '910315E14',\n  '910315E15',\n  '910315E17',\n  '910315E20',\n  '910315E22',\n  '910319E02',\n  '910319E11',\n  '920125E01',\n  '921123E22',\n  '921130E09',\n  '921130E30',\n  '921215E02',\n  '921216E02',\n  '921216E04',\n  '921216E08',\n  '921228E02',\n  '921228E04',\n  '921228E06',\n  '921228E09',\n  '921228E12',\n  '921228E16',\n  '921228E19',\n  '921228E34',\n  '921230E03',\n  '930104E05',\n  '930107E06',\n  '930107E08',\n  '930107E09',\n  '930119E02',\n  '930119E03',\n  '930202E03',\n  '930202E07',\n  '930202E16',\n  '930203E01',\n  '930203E03',\n  '930203E06',\n  '930209E06',\n  '930209E08',\n  '930216E01',\n  '930216E05',\n  '930304E05',\n  '930304E06',\n  '930304E13',\n  '930304E16',\n  '930408E03',\n  '930408E08',\n  '930409E04',\n  '930410E01',\n  '930410E04',\n  '930415E02',\n  '930415E04',\n  '930417E01',\n  '930421E03',\n  '930422E04',\n  '930429E01',\n  '930429E08',\n  '931215E09',\n  '931216E09',\n  '940213E01',\n  '940215E02',\n  '940219E02',\n  '940219E06',\n  '940219E07',\n  '940219E10',\n  '940219E11',\n  '940219E12',\n  '940221E07',\n  '940228E01',\n  '940329E01',\n  '940413E01',\n  '941128E01',\n  '941129E04',\n  '941220E01',\n  '941220E05',\n  '941220E09',\n  '941221E06',\n  '941221E14',\n  '941222E03',\n  '941227E01',\n  '950104E02',\n  '950104E04',\n  '950104E07',\n  '950124E01',\n  '950125E01',\n  '950125E10',\n  '950125E13',\n  '950405E12',\n  '950415E01',\n  '950418E01',\n  '960131E12',\n  '960227E09',\n  '960313E02',\n  '960313E04',\n  'OSUX83041',\n  'OSUX83061',\n  'OSUX85078',\n  'OSUX85135',\n  'OSUX85159',\n  'OSUX86137',\n  'OSUX87130',\n  'OSUX87175',\n  'OSUX87188',\n  'OSUX87190',\n  'OSUX88123',\n  'OSUX88129',\n  'OSUX88134',\n  'OSUX88159',\n  'OSUX88169',\n  'OSUX88176',\n  'OSUX89065',\n  'OSUX89073',\n  'OSUX89078',\n  'OSUX89086',\n  'OSUX89087',\n  'OSUX89105',\n  'OSUX89116',\n  'OSUX89125',\n  'OSUX89127',\n  'OSUX89128',\n  'OSUX89132',\n  'OSUX89136',\n  'OSUX89141',\n  'OSUX89146',\n  'OSUX89153',\n  'OSUX89177',\n  'OSUX89189',\n  'OSUX89199',\n  'OSUX89203',\n  'OSUX89208',\n  'OSUX91032',\n  'OSUX91038',\n  'OSUX91057',\n  'OSUX91063',\n  'OSUX91066',\n  'OSUX91073',\n  'OSUX91075',\n  'OSUX91092',\n  'OSUX91095',\n  'OSUX91116',\n  'OSUX91121',\n  'OSUX91143',\n  'OSUX91164',\n  'OSUX92002',\n  'OSUX92008',\n  'OSUX92013',\n  'OSUX92014',\n  'OSUX92016',\n  'OSUX92020',\n  'OSUX92031',\n  'OSUX92035',\n  'OSUX92061',\n  'OSUX92069',\n  'OSUX92070',\n  'OSUX92071',\n  'OSUX92083',\n  'OSUX92107',\n  'OSUX92115',\n  'OSUX93007',\n  'OSUX93039',\n  'OSUX93041',\n  'OSUX93046',\n  'OSUX93066',\n  'OSUX93091',\n  'OSUX93110',\n  'OSUX93123',\n  'OSUX93151',\n  'OSUX93191'],\n 'train': ['880109D01',\n  '880119D02',\n  '880120D02',\n  '890130D09',\n  '900313D02',\n  '910130D01',\n  '910214D01',\n  '910301D01',\n  '920122D01',\n  '920225D01',\n  '920226D01',\n  '920303D05',\n  '920304D03',\n  '920309D02',\n  '920318D02',\n  '930120D04',\n  '930127D01',\n  '930202D01',\n  '930218D01',\n  '930318D01',\n  '930318D03',\n  '930318D04',\n  '930406D01',\n  '930409D01',\n  '930415D02',\n  '930416D01',\n  '940105D01',\n  '940105D02',\n  '940110D01',\n  '940117D02',\n  '940119D01',\n  '940124D01',\n  '940131D01',\n  '940205D01',\n  '940212D01',\n  '940213D01',\n  '940215D01',\n  '940217D01',\n  '940222D01',\n  '940303D01',\n  '940316D01',\n  '940318D01',\n  '950124D01',\n  '950124D02',\n  '950126D01',\n  '950227D02',\n  '950308D03',\n  '950313D01',\n  '960121D01',\n  '960127D01',\n  '960131D02']}"
     },
     "execution_count": 2,
     "metadata": {},
     "output_type": "execute_result"
    }
   ],
   "source": [
    "starkey = Datasets.load_starkey()\n",
    "selected_trajs = Selection.select_fewest_class(starkey, \"Species\")\n",
    "selected_trajs"
   ],
   "metadata": {
    "collapsed": false,
    "pycharm": {
     "name": "#%%\n"
    }
   }
  },
  {
   "cell_type": "code",
   "execution_count": 3,
   "outputs": [
    {
     "name": "stdout",
     "output_type": "stream",
     "text": [
      "------------------------ Dataset Facts ------------------------------\n",
      "\n",
      "Number of unique Trajectories in the data: 125\n",
      "Number of points in the data: 44905\n",
      "Dataset time range: 0 days 00:00:59.900000\n",
      "Datatype of the DataFrame: <class 'ptrail.core.TrajectoryDF.PTRAILDataFrame'>\n",
      "Dataset Bounding Box: (34.7107417, 135.4640652, 34.7156517, 135.4702002)\n",
      "\n",
      "---------------------------------------------------------------------\n",
      "{2: 64, 1: 59, 3: 2}\n",
      "3\n"
     ]
    },
    {
     "data": {
      "text/plain": "{'test': ['1371',\n  '1373',\n  '1375',\n  '1376',\n  '1377',\n  '1378',\n  '1379',\n  '1380',\n  '1381',\n  '1382',\n  '1383',\n  '1384',\n  '1385',\n  '1386',\n  '1387',\n  '1388',\n  '1389',\n  '1390',\n  '1391',\n  '1392',\n  '1393',\n  '1394',\n  '1395',\n  '1396',\n  '1397',\n  '1398',\n  '1399',\n  '1400',\n  '1402',\n  '1403',\n  '1404',\n  '1405',\n  '1406',\n  '1407',\n  '1408',\n  '1409',\n  '1410',\n  '1411',\n  '1412',\n  '1413',\n  '1414',\n  '1415',\n  '1416',\n  '1417',\n  '1418',\n  '1419',\n  '1420',\n  '1421',\n  '1422',\n  '1423',\n  '1424',\n  '1425',\n  '1426',\n  '1427',\n  '1428',\n  '1429',\n  '1430',\n  '1431',\n  '1432',\n  '1433',\n  '1434',\n  '1435',\n  '1436',\n  '1437',\n  '1438',\n  '1439',\n  '1440',\n  '1441',\n  '1442',\n  '1443',\n  '1444',\n  '1445',\n  '1446',\n  '1447',\n  '1448',\n  '1449',\n  '1450',\n  '1451',\n  '1452',\n  '1453',\n  '1454',\n  '1455',\n  '1456',\n  '1457',\n  '1458',\n  '1459',\n  '1460',\n  '1461',\n  '1462',\n  '1463',\n  '1464',\n  '1465',\n  '1466',\n  '1467',\n  '1468',\n  '1469',\n  '1470',\n  '1471',\n  '1472',\n  '1473',\n  '1474',\n  '1475',\n  '1476',\n  '1477',\n  '1478',\n  '1479',\n  '1480',\n  '1481',\n  '1482',\n  '1485',\n  '1486',\n  '1487',\n  '1489',\n  '1492',\n  '1495',\n  '2910',\n  '2955',\n  '3003',\n  '3004',\n  '3005',\n  '3353',\n  '3354',\n  '3355',\n  '3356',\n  '3357'],\n 'train': ['3356', '3357']}"
     },
     "execution_count": 3,
     "metadata": {},
     "output_type": "execute_result"
    }
   ],
   "source": [
    "traffic = Datasets.load_traffic_data()\n",
    "traffic_selected = Selection.select_fewest_class(traffic, 'traffic_lane')\n",
    "traffic_selected"
   ],
   "metadata": {
    "collapsed": false,
    "pycharm": {
     "name": "#%%\n"
    }
   }
  }
 ],
 "metadata": {
  "kernelspec": {
   "display_name": "Python 3",
   "language": "python",
   "name": "python3"
  },
  "language_info": {
   "codemirror_mode": {
    "name": "ipython",
    "version": 2
   },
   "file_extension": ".py",
   "mimetype": "text/x-python",
   "name": "python",
   "nbconvert_exporter": "python",
   "pygments_lexer": "ipython2",
   "version": "2.7.6"
  }
 },
 "nbformat": 4,
 "nbformat_minor": 0
}