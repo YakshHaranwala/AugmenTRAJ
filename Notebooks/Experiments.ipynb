{
 "cells": [
  {
   "cell_type": "code",
   "execution_count": 1,
   "metadata": {
    "collapsed": true,
    "ExecuteTime": {
     "end_time": "2023-05-22T19:11:58.735030358Z",
     "start_time": "2023-05-22T19:11:56.703009268Z"
    }
   },
   "outputs": [],
   "source": [
    "import random\n",
    "\n",
    "import pandas as pd\n",
    "from ptrail.core.Datasets import Datasets\n",
    "from ptrail.features.kinematic_features import KinematicFeatures\n",
    "from ptrail.preprocessing.statistics import Statistics\n",
    "from sklearn.ensemble import GradientBoostingClassifier\n",
    "from sklearn.metrics import f1_score, accuracy_score\n",
    "\n",
    "from src.augmentation.augment import Augmentation\n",
    "from src.selection.select import Selection\n",
    "from src.utils.general_utils import Utilities"
   ]
  },
  {
   "cell_type": "code",
   "execution_count": 2,
   "outputs": [],
   "source": [
    "# Load the dataset and create the distance column in it which is necessary for Augmentation.\n",
    "final_results = [\"seed, strategy, model, accuracy, f1_score\"]\n",
    "seed = Utilities.generate_pi_seed(1)\n",
    "seed = next(seed)\n",
    "\n",
    "def augment_trajectories(dataset, to_augment, circle, class_col):\n",
    "    dataset = Augmentation.augment_trajectories_with_randomly_generated_points(dataset,\n",
    "                                                                               ids_to_augment=to_augment,\n",
    "                                                                               circle=circle)\n",
    "\n",
    "    for i in range(1, 10):\n",
    "        dataset = Augmentation.augment_trajectories_with_randomly_generated_points(dataset,\n",
    "                                                                                   ids_to_augment=to_augment,\n",
    "                                                                                   circle=circle)\n",
    "\n",
    "    return Statistics.pivot_stats_df(dataframe=Statistics.generate_kinematic_stats(dataset, class_col), target_col_name=class_col)\n"
   ],
   "metadata": {
    "collapsed": false,
    "ExecuteTime": {
     "end_time": "2023-05-22T19:11:58.742452736Z",
     "start_time": "2023-05-22T19:11:58.739285347Z"
    }
   }
  },
  {
   "cell_type": "code",
   "execution_count": 3,
   "outputs": [
    {
     "name": "stdout",
     "output_type": "stream",
     "text": [
      "------------------------ Dataset Facts ------------------------------\n",
      "\n",
      "Number of unique Trajectories in the data: 253\n",
      "Number of points in the data: 287136\n",
      "Dataset time range: 1196 days 22:51:45\n",
      "Datatype of the DataFrame: <class 'ptrail.core.TrajectoryDF.PTRAILDataFrame'>\n",
      "Dataset Bounding Box: (45.18896978643169, -118.61020848239596, 45.314545642992, -118.50455596234036)\n",
      "\n",
      "---------------------------------------------------------------------\n"
     ]
    }
   ],
   "source": [
    "starkey_data = Datasets.load_starkey()\n",
    "ready_dataset = KinematicFeatures.create_distance_column(starkey_data).reset_index()"
   ],
   "metadata": {
    "collapsed": false,
    "ExecuteTime": {
     "end_time": "2023-05-22T19:12:12.204572121Z",
     "start_time": "2023-05-22T19:11:58.745052559Z"
    }
   }
  },
  {
   "cell_type": "code",
   "execution_count": 4,
   "outputs": [],
   "source": [
    "traj_ids = list(ready_dataset['traj_id'].unique())\n",
    "train_size = int(len(traj_ids) * 0.8)\n",
    "\n",
    "random.seed(seed)\n",
    "train_traj_ids = random.sample(traj_ids, train_size)\n",
    "test_traj_ids = []\n",
    "for t in traj_ids:\n",
    "    if t not in train_traj_ids:\n",
    "        test_traj_ids.append(t)\n",
    "\n",
    "training = ready_dataset.loc[ready_dataset.traj_id.isin(train_traj_ids)]\n",
    "testing = ready_dataset.loc[ready_dataset.traj_id.isin(test_traj_ids)]\n",
    "\n",
    "# Get the original train and test data ready.\n",
    "pivoted_train =Statistics.pivot_stats_df(\n",
    "    dataframe=Statistics.generate_kinematic_stats(training, 'Species'),\n",
    "    target_col_name='Species'\n",
    ")\n",
    "\n",
    "pivoted_test = Statistics.pivot_stats_df(\n",
    "    dataframe=Statistics.generate_kinematic_stats(testing, 'Species'),\n",
    "    target_col_name='Species'\n",
    ")\n",
    "\n",
    "x_test = pivoted_test.drop(columns=['Species'])\n",
    "y_test = pivoted_test['Species']"
   ],
   "metadata": {
    "collapsed": false,
    "ExecuteTime": {
     "end_time": "2023-05-22T19:12:52.987541538Z",
     "start_time": "2023-05-22T19:12:12.212129713Z"
    }
   }
  },
  {
   "cell_type": "code",
   "execution_count": 5,
   "outputs": [
    {
     "name": "stdout",
     "output_type": "stream",
     "text": [
      "CPU times: user 3.64 s, sys: 8.11 ms, total: 3.64 s\n",
      "Wall time: 3.64 s\n"
     ]
    },
    {
     "data": {
      "text/plain": "['seed, strategy, model, accuracy, f1_score',\n '1415, Base, XGBoost, 0.9607843137254902, 0.9607843137254902']"
     },
     "execution_count": 5,
     "metadata": {},
     "output_type": "execute_result"
    }
   ],
   "source": [
    "%%time\n",
    "b_trainX = pivoted_train.drop(columns='Species')\n",
    "b_trainY = pivoted_train['Species']\n",
    "\n",
    "model = GradientBoostingClassifier(n_estimators=512)\n",
    "model.fit(b_trainX, b_trainY)\n",
    "\n",
    "predicted = model.predict(x_test)\n",
    "acc = accuracy_score(y_true=y_test, y_pred=predicted)\n",
    "f1 = f1_score(y_true=y_test, y_pred=predicted, average='weighted')\n",
    "final_results.append(f\"{seed}, Base, XGBoost, {acc}, {f1}\")\n",
    "final_results"
   ],
   "metadata": {
    "collapsed": false,
    "ExecuteTime": {
     "end_time": "2023-05-22T19:12:56.683302606Z",
     "start_time": "2023-05-22T19:12:53.030505447Z"
    }
   }
  },
  {
   "cell_type": "code",
   "execution_count": 6,
   "outputs": [
    {
     "name": "stdout",
     "output_type": "stream",
     "text": [
      "CPU times: user 34.8 s, sys: 2.85 s, total: 37.6 s\n",
      "Wall time: 41.5 s\n"
     ]
    }
   ],
   "source": [
    "%%time\n",
    "\n",
    "# Random selection.\n",
    "random_selected = Selection.select_randomly(training, seed=seed, k=0.2)\n",
    "\n",
    "# Proportional selection.\n",
    "proportional_selected = Selection.select_trajectories_proportionally(training, classification_col='Species', seed=seed, k=0.2)\n",
    "\n",
    "# Fewest selection.\n",
    "fewest_selected = Selection.select_with_fewest_points(training, k=0.2)\n",
    "\n",
    "# Representative Selection\n",
    "rep_selected = Selection.select_representative_trajectories(training, 'Species', closeness_cutoff=0.7, tolerance=10)"
   ],
   "metadata": {
    "collapsed": false,
    "ExecuteTime": {
     "end_time": "2023-05-22T19:13:38.194728122Z",
     "start_time": "2023-05-22T19:12:56.682540226Z"
    }
   }
  },
  {
   "cell_type": "code",
   "execution_count": 7,
   "outputs": [
    {
     "name": "stdout",
     "output_type": "stream",
     "text": [
      "1415, random_on, XGBoost, 0.9607843137254902, 0.9606681382230311\n",
      "1415, random_in, XGBoost, 0.9803921568627451, 0.980125383486728\n",
      "1415, proportional_on, XGBoost, 0.9803921568627451, 0.980125383486728\n",
      "1415, proportional_in, XGBoost, 0.9607843137254902, 0.9607855185084787\n",
      "1415, fewest_on, XGBoost, 0.9803921568627451, 0.980125383486728\n",
      "1415, fewest_in, XGBoost, 0.9803921568627451, 0.980125383486728\n",
      "1415, representation_on, XGBoost, 0.9607843137254902, 0.9606681382230311\n",
      "1415, representative_in, XGBoost, 0.9607843137254902, 0.95932069797616\n",
      "CPU times: user 25min 58s, sys: 30 s, total: 26min 28s\n",
      "Wall time: 27min 7s\n"
     ]
    }
   ],
   "source": [
    "%%time\n",
    "\n",
    "select_strategies = [\n",
    "    'random', 'random', 'proportional', 'proportional',\n",
    "    'fewest', 'fewest', 'representation', 'representative'\n",
    "]\n",
    "circle_strategies = [\n",
    "    'on', 'in', 'on', 'in', 'on', 'in', 'on', 'in'\n",
    "]\n",
    "selected_traj = [\n",
    "    random_selected, random_selected, proportional_selected, proportional_selected,\n",
    "    fewest_selected, fewest_selected, rep_selected, rep_selected\n",
    "]\n",
    "\n",
    "\n",
    "for select, circle_strategy, to_augment in zip(select_strategies, circle_strategies, selected_traj):\n",
    "    # Create the model.\n",
    "    model = GradientBoostingClassifier(n_estimators=512)\n",
    "\n",
    "    # Augment the trajectories and create the training set.\n",
    "    train = augment_trajectories(dataset=training, to_augment=to_augment, circle=circle_strategy, class_col='Species')\n",
    "    x_train = train.drop(columns=['Species'])\n",
    "    y_train = train['Species']\n",
    "\n",
    "    # Fit the model and predict.\n",
    "    model.fit(X=x_train, y=y_train)\n",
    "    pred_vals = model.predict(X=x_test)\n",
    "\n",
    "    # Calculate the accuracy and f1 score.\n",
    "    acc = accuracy_score(y_true=y_test, y_pred=pred_vals)\n",
    "    score = f1_score(y_true=y_test, y_pred=pred_vals, average='weighted')\n",
    "    print(f\"{seed}, {select}_{circle_strategy}, XGBoost, {acc}, {score}\")\n",
    "    final_results.append(f\"{seed}, {select}_{circle_strategy}, XGBoost, {acc}, {score}\")\n",
    "\n",
    "# ['1415, Base, XGBoost, 0.9607843137254902, 0.9607843137254902']"
   ],
   "metadata": {
    "collapsed": false,
    "ExecuteTime": {
     "end_time": "2023-05-22T19:40:45.618983098Z",
     "start_time": "2023-05-22T19:13:38.194533455Z"
    }
   }
  },
  {
   "cell_type": "code",
   "execution_count": 8,
   "outputs": [],
   "source": [
    "import csv\n",
    "\n",
    "# Specify the file path to save the CSV file\n",
    "file_path = \"experiment_results.csv\"\n",
    "\n",
    "# Write the list to a CSV file\n",
    "with open(file_path, mode=\"w\", newline=\"\") as file:\n",
    "    writer = csv.writer(file)\n",
    "    for item in final_results:\n",
    "        writer.writerow(item.split(\", \"))"
   ],
   "metadata": {
    "collapsed": false,
    "ExecuteTime": {
     "end_time": "2023-05-22T19:40:45.619209232Z",
     "start_time": "2023-05-22T19:40:45.618758153Z"
    }
   }
  }
 ],
 "metadata": {
  "kernelspec": {
   "display_name": "Python 3",
   "language": "python",
   "name": "python3"
  },
  "language_info": {
   "codemirror_mode": {
    "name": "ipython",
    "version": 2
   },
   "file_extension": ".py",
   "mimetype": "text/x-python",
   "name": "python",
   "nbconvert_exporter": "python",
   "pygments_lexer": "ipython2",
   "version": "2.7.6"
  }
 },
 "nbformat": 4,
 "nbformat_minor": 0
}
