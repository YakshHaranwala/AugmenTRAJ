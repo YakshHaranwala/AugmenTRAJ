{
 "cells": [
  {
   "cell_type": "code",
   "execution_count": 1,
   "id": "bba5a4d8",
   "metadata": {},
   "outputs": [],
   "source": [
    "#import sys\n",
    "#sys.path.append('/home/nicholasjesperson/Documents/School/Comp4780/Data_Augmentation/Data Augmentation/paper/AugmenTRAJ')"
   ]
  },
  {
   "cell_type": "code",
   "execution_count": 2,
   "id": "686bdbad",
   "metadata": {},
   "outputs": [],
   "source": [
    "from src.augmentation.augment import Augmentation\n",
    "from src.selection.select import Selection\n",
    "from src.utils.alter import Alter\n",
    "\n",
    "import math\n",
    "import pandas as pd\n",
    "from random import *\n",
    "import progressbar\n",
    "\n",
    "from sklearn.ensemble import RandomForestClassifier\n",
    "from sklearn.metrics import f1_score\n",
    "from sklearn.model_selection import train_test_split\n",
    "\n",
    "from ptrail.core.TrajectoryDF import PTRAILDataFrame\n",
    "from ptrail.preprocessing.filters import Filters\n",
    "from ptrail.core.Datasets import Datasets\n",
    "from ptrail.preprocessing.statistics import Statistics\n",
    "from ptrail.features.kinematic_features import KinematicFeatures"
   ]
  },
  {
   "cell_type": "code",
   "execution_count": 3,
   "id": "feabcff9",
   "metadata": {},
   "outputs": [],
   "source": [
    "def trajectoryAugumentationProcedure(trajs, seed, class_name, selection, augment):\n",
    "    myRandom = Random(seed)\n",
    "\n",
    "    # Select the trajectories and remove duplicates from original dataset.\n",
    "    if selection == 'random':\n",
    "        splits = Selection.select_randomly(trajs, myRandom, .2)\n",
    "    elif selection == 'proportional':\n",
    "        splits = Selection.select_trajectories_proportionally(trajs, myRandom, .2)\n",
    "    elif selection == 'class':\n",
    "        splits = Selection.select_fewest_class(trajs, class_name, myRandom)\n",
    "    # else:\n",
    "    #     splits = Selection.select_representative_trajectories(trajs, class_name)\n",
    "    paramTestingDataSet = Filters.remove_duplicates(dataframe=trajs)\n",
    "\n",
    "    trainDataParm = paramTestingDataSet.loc[paramTestingDataSet.traj_id.isin(splits[\"train\"]) == True].dropna()\n",
    "    testDataParm = paramTestingDataSet.loc[paramTestingDataSet.traj_id.isin(splits[\"test\"]) == True].dropna()\n",
    "    testData = PTRAILDataFrame(data_set=testDataParm,\n",
    "                               latitude='lat',\n",
    "                               longitude='lon',\n",
    "                               datetime='DateTime',\n",
    "                               traj_id='traj_id')\n",
    "\n",
    "    statsTestParm = Statistics.generate_kinematic_stats(dataframe=testData, target_col_name=class_name)\n",
    "    pivotedStatsTestParm = Statistics.pivot_stats_df(dataframe=statsTestParm, target_col_name=class_name)\n",
    "    pivotedStatsTestParm = pivotedStatsTestParm.loc[:,~pivotedStatsTestParm.columns.duplicated()]\n",
    "    testParmX = pivotedStatsTestParm.drop(columns=class_name)\n",
    "    testParmY = pivotedStatsTestParm[class_name].to_numpy()\n",
    "    noiseTraj = trainDataParm[class_name].unique()\n",
    "\n",
    "    sampledTraj = myRandom.choices(sorted(noiseTraj), k=math.floor(len(noiseTraj)))\n",
    "    for traj in sampledTraj:\n",
    "        trajToChange = trainDataParm.loc[trainDataParm.traj_id == traj]\n",
    "\n",
    "        #Trajectory must be changed\n",
    "        if augment == 'on':\n",
    "            trajChanged = Augmentation.augment_trajectories_with_randomly_generated_points(trajToChange, myRandom, 'on')\n",
    "        elif augment == 'in':\n",
    "            trajChanged = Augmentation.augment_trajectories_with_randomly_generated_points(trajToChange, myRandom, 'in')\n",
    "\n",
    "        trainDataParm = pd.concat([trainDataParm, trajChanged], ignore_index = True)\n",
    "\n",
    "    trainDataNoise = PTRAILDataFrame(data_set=trainDataParm,\n",
    "                                            datetime='DateTime',\n",
    "                                            traj_id='traj_id',\n",
    "                                            latitude='lat',\n",
    "                                            longitude='lon')\n",
    "    \n",
    "    statsTrainNoiseParm = Statistics.generate_kinematic_stats(dataframe=trainDataNoise, target_col_name=class_name)\n",
    "    pivotedStatsTrainNoiseParm = Statistics.pivot_stats_df(dataframe=statsTrainNoiseParm, target_col_name=class_name)\n",
    "    pivotedStatsTrainNoise = pivotedStatsTrainNoiseParm.loc[:, ~pivotedStatsTrainNoiseParm.columns.duplicated()]\n",
    "    pivotedStatsTrainNoise=pivotedStatsTrainNoise.dropna()\n",
    "    \n",
    "    trainParmX = pivotedStatsTrainNoise.drop(columns=class_name)\n",
    "    trainParmY = pivotedStatsTrainNoise[class_name].to_numpy()\n",
    "\n",
    "    testParmX = testParmX.interpolate()\n",
    "    return [trainParmX, trainParmY, testParmX, testParmY]"
   ]
  },
  {
   "cell_type": "code",
   "execution_count": 4,
   "id": "07d854e8",
   "metadata": {},
   "outputs": [
    {
     "name": "stdout",
     "output_type": "stream",
     "text": [
      "------------------------ Dataset Facts ------------------------------\n",
      "\n",
      "Number of unique Trajectories in the data: 253\n",
      "Number of points in the data: 287136\n",
      "Dataset time range: 1196 days 22:51:45\n",
      "Datatype of the DataFrame: <class 'ptrail.core.TrajectoryDF.PTRAILDataFrame'>\n",
      "Dataset Bounding Box: (45.18896978643169, -118.61020848239596, 45.314545642992, -118.50455596234036)\n",
      "\n",
      "---------------------------------------------------------------------\n"
     ]
    }
   ],
   "source": [
    "dataset = Datasets.load_starkey()\n",
    "ready_dataset = dataset.reset_index()"
   ]
  },
  {
   "cell_type": "code",
   "execution_count": 5,
   "id": "46da1e90",
   "metadata": {},
   "outputs": [
    {
     "name": "stderr",
     "output_type": "stream",
     "text": [
      "\\ |                                   #               | 3 Elapsed Time: 0:01:35"
     ]
    },
    {
     "name": "stdout",
     "output_type": "stream",
     "text": [
      "['14159,random,on,0.9346558704453442', '14159,class,on,0.9377645795160169', '14159,proportional,on,0.7392282593275642']\n",
      "CPU times: user 2min 8s, sys: 4.67 s, total: 2min 13s\n",
      "Wall time: 2min 19s\n"
     ]
    }
   ],
   "source": [
    "%%time\n",
    "\n",
    "# seed_vals = [14159, 26535, 89793]\n",
    "# selection_vals = ['random', 'class', 'proportional']\n",
    "# augment_vals = ['on', 'in']\n",
    "\n",
    "seed_vals = [14159]\n",
    "selection_vals = ['random', 'class', 'proportional']\n",
    "augment_vals = ['on']\n",
    "\n",
    "i = 0\n",
    "lst = []\n",
    "bar = progressbar.ProgressBar(max_value=progressbar.UnknownLength)\n",
    "for s in seed_vals:\n",
    "    for sel in selection_vals:\n",
    "        for aug in augment_vals:\n",
    "            i += 1\n",
    "            bar.update(i)\n",
    "            # Create the model.\n",
    "            model = RandomForestClassifier(random_state=s)\n",
    "\n",
    "            # Get the augmented data.\n",
    "            data = trajectoryAugumentationProcedure(ready_dataset, s, 'Species', sel, aug)\n",
    "\n",
    "            # Fit the model and perform testing.\n",
    "            model.fit(data[0], data[1])\n",
    "            test_predict = model.predict(data[2])\n",
    "            performance_val = f1_score(data[3], test_predict, average='weighted')\n",
    "            # Add the value to dict.\n",
    "            lst.append(f\"{s},{sel},{aug},{performance_val}\")\n",
    "\n",
    "print(lst)"
   ]
  }
 ],
 "metadata": {
  "kernelspec": {
   "display_name": "Python 3 (ipykernel)",
   "language": "python",
   "name": "python3"
  },
  "language_info": {
   "codemirror_mode": {
    "name": "ipython",
    "version": 3
   },
   "file_extension": ".py",
   "mimetype": "text/x-python",
   "name": "python",
   "nbconvert_exporter": "python",
   "pygments_lexer": "ipython3",
   "version": "3.9.12"
  }
 },
 "nbformat": 4,
 "nbformat_minor": 5
}
