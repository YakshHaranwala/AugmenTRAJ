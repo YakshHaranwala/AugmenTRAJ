{
 "cells": [
  {
   "cell_type": "code",
   "execution_count": 11,
   "outputs": [
    {
     "data": {
      "text/plain": "               0\ncount  30.000000\nmean    0.914377\nstd     0.060713\nmin     0.821672\n25%     0.862857\n50%     0.910437\n75%     0.960000\nmax     1.000000",
      "text/html": "<div>\n<style scoped>\n    .dataframe tbody tr th:only-of-type {\n        vertical-align: middle;\n    }\n\n    .dataframe tbody tr th {\n        vertical-align: top;\n    }\n\n    .dataframe thead th {\n        text-align: right;\n    }\n</style>\n<table border=\"1\" class=\"dataframe\">\n  <thead>\n    <tr style=\"text-align: right;\">\n      <th></th>\n      <th>0</th>\n    </tr>\n  </thead>\n  <tbody>\n    <tr>\n      <th>count</th>\n      <td>30.000000</td>\n    </tr>\n    <tr>\n      <th>mean</th>\n      <td>0.914377</td>\n    </tr>\n    <tr>\n      <th>std</th>\n      <td>0.060713</td>\n    </tr>\n    <tr>\n      <th>min</th>\n      <td>0.821672</td>\n    </tr>\n    <tr>\n      <th>25%</th>\n      <td>0.862857</td>\n    </tr>\n    <tr>\n      <th>50%</th>\n      <td>0.910437</td>\n    </tr>\n    <tr>\n      <th>75%</th>\n      <td>0.960000</td>\n    </tr>\n    <tr>\n      <th>max</th>\n      <td>1.000000</td>\n    </tr>\n  </tbody>\n</table>\n</div>"
     },
     "execution_count": 11,
     "metadata": {},
     "output_type": "execute_result"
    }
   ],
   "source": [
    "import pandas as pd\n",
    "\n",
    "baseline = pd.read_csv('./Baseline Results/baselineTraffic.txt', header=None)\n",
    "baseline.describe()"
   ],
   "metadata": {
    "collapsed": false,
    "pycharm": {
     "name": "#%%\n"
    }
   }
  },
  {
   "cell_type": "code",
   "execution_count": 12,
   "outputs": [
    {
     "name": "stdout",
     "output_type": "stream",
     "text": [
      "laneResultsRandomSampleInCircle.txt : 0.9268833383784291\n",
      "laneResultsFewestSampleInCircle.txt : 0.7637648586279825\n",
      "laneResultsRepresentativeSampleInCircle.txt : 0.552840413652495\n",
      "laneResultsRepresentativeSampleInterpolation.txt : 0.6365861177006689\n",
      "laneResultsRepresentativeSampleOnCircle.txt : 0.5568530289040645\n",
      "laneResultsFewestSampleOnCircle.txt : 0.7691955657709817\n",
      "laneResultsRandomSampleOnCircle.txt : 0.9262932217470782\n",
      "laneResultsFewestSampleInterpolation.txt : 0.7882570311341105\n",
      "laneResultsRandomSampleInterpolation.txt : 0.9360917222790195\n"
     ]
    }
   ],
   "source": [
    "import os\n",
    "your_path = './Traffic Results/'\n",
    "files = os.listdir(your_path)\n",
    "for file in files:\n",
    "    if os.path.isfile(os.path.join(your_path, file)):\n",
    "        print(f\"{file} : {pd.read_csv(os.path.join(your_path, file), header=None).describe()[3]['mean']}\")"
   ],
   "metadata": {
    "collapsed": false,
    "pycharm": {
     "name": "#%%\n"
    }
   }
  }
 ],
 "metadata": {
  "kernelspec": {
   "display_name": "Python 3",
   "language": "python",
   "name": "python3"
  },
  "language_info": {
   "codemirror_mode": {
    "name": "ipython",
    "version": 2
   },
   "file_extension": ".py",
   "mimetype": "text/x-python",
   "name": "python",
   "nbconvert_exporter": "python",
   "pygments_lexer": "ipython2",
   "version": "2.7.6"
  }
 },
 "nbformat": 4,
 "nbformat_minor": 0
}