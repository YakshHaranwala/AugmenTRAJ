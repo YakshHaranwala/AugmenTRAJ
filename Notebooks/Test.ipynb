{
 "cells": [
  {
   "cell_type": "code",
   "execution_count": 1,
   "outputs": [],
   "source": [
    "import itertools"
   ],
   "metadata": {
    "collapsed": false,
    "ExecuteTime": {
     "end_time": "2023-05-10T22:30:35.306339287Z",
     "start_time": "2023-05-10T22:30:35.305822998Z"
    }
   }
  },
  {
   "cell_type": "code",
   "execution_count": 2,
   "metadata": {
    "collapsed": true,
    "ExecuteTime": {
     "end_time": "2023-05-10T22:30:37.157967763Z",
     "start_time": "2023-05-10T22:30:35.306684927Z"
    }
   },
   "outputs": [],
   "source": [
    "import pandas as pd\n",
    "import random\n",
    "import itertools\n",
    "\n",
    "from ptrail.core.Datasets import Datasets\n",
    "from ptrail.core.TrajectoryDF import PTRAILDataFrame\n",
    "from ptrail.features.kinematic_features import KinematicFeatures\n",
    "from ptrail.preprocessing.statistics import Statistics\n",
    "from src.augmentation.augment import Augmentation\n",
    "from src.selection.select import Selection\n",
    "\n",
    "import matplotlib.pyplot as plt\n",
    "\n",
    "from sklearn.preprocessing import MinMaxScaler\n",
    "from sklearn.decomposition import PCA\n",
    "from sklearn.metrics import f1_score, accuracy_score, average_precision_score\n",
    "from sklearn.model_selection import train_test_split\n",
    "from sklearn.ensemble import RandomForestClassifier\n",
    "from sklearn.inspection import DecisionBoundaryDisplay\n",
    "from sklearn.metrics import f1_score, accuracy_score, average_precision_score\n",
    "from sklearn.model_selection import train_test_split\n",
    "from sklearn.preprocessing import MinMaxScaler"
   ]
  },
  {
   "cell_type": "code",
   "execution_count": 3,
   "outputs": [
    {
     "name": "stdout",
     "output_type": "stream",
     "text": [
      "------------------------ Dataset Facts ------------------------------\n",
      "\n",
      "Number of unique Trajectories in the data: 253\n",
      "Number of points in the data: 287136\n",
      "Dataset time range: 1196 days 22:51:45\n",
      "Datatype of the DataFrame: <class 'ptrail.core.TrajectoryDF.PTRAILDataFrame'>\n",
      "Dataset Bounding Box: (45.18896978643169, -118.61020848239596, 45.314545642992, -118.50455596234036)\n",
      "\n",
      "---------------------------------------------------------------------\n"
     ]
    }
   ],
   "source": [
    "# Load the dataset and create the distance column in it which is necessary for Augmentation.\n",
    "starkey_data = Datasets.load_starkey()\n",
    "ready_dataset = KinematicFeatures.create_distance_column(starkey_data).reset_index()"
   ],
   "metadata": {
    "collapsed": false,
    "ExecuteTime": {
     "end_time": "2023-05-10T22:30:42.510482016Z",
     "start_time": "2023-05-10T22:30:37.161901419Z"
    }
   }
  },
  {
   "cell_type": "code",
   "execution_count": 4,
   "outputs": [],
   "source": [
    "traj_ids = list(ready_dataset['traj_id'].unique())\n",
    "train_size = int(len(traj_ids) * 0.90)\n",
    "\n",
    "train_traj_ids = random.sample(traj_ids, train_size)\n",
    "test_traj_ids = []\n",
    "for t in traj_ids:\n",
    "    if t not in train_traj_ids:\n",
    "        test_traj_ids.append(t)\n",
    "\n",
    "training, testing = ready_dataset.loc[ready_dataset.traj_id.isin(train_traj_ids)], \\\n",
    "    ready_dataset.loc[ready_dataset.traj_id.isin(test_traj_ids)]"
   ],
   "metadata": {
    "collapsed": false,
    "ExecuteTime": {
     "end_time": "2023-05-10T22:30:42.615097667Z",
     "start_time": "2023-05-10T22:30:42.526450682Z"
    }
   }
  },
  {
   "cell_type": "code",
   "execution_count": 5,
   "outputs": [
    {
     "data": {
      "text/plain": "['OSUX91063',\n '940212D01',\n '930406D01',\n 'OSUX93110',\n '950124E01',\n '921216E04',\n '921230E03',\n 'OSUX89146',\n '960313E02',\n 'OSUX89141']"
     },
     "execution_count": 5,
     "metadata": {},
     "output_type": "execute_result"
    }
   ],
   "source": [
    "# # Random selection\n",
    "selected = Selection.select_randomly(training, k=0.046)\n",
    "selected"
   ],
   "metadata": {
    "collapsed": false,
    "ExecuteTime": {
     "end_time": "2023-05-10T22:30:42.638533578Z",
     "start_time": "2023-05-10T22:30:42.627074228Z"
    }
   }
  },
  {
   "cell_type": "code",
   "execution_count": 6,
   "outputs": [
    {
     "name": "stdout",
     "output_type": "stream",
     "text": [
      "Class: 0, Total trajectories in class: 46, trajectories selected: 10.0\n",
      "Class: 1, Total trajectories in class: 114, trajectories selected: 23.0\n",
      "Class: 2, Total trajectories in class: 67, trajectories selected: 14.0\n",
      "47\n"
     ]
    },
    {
     "data": {
      "text/plain": "['940117D02',\n '940217D01',\n '940316D01',\n '940105D02',\n '890130D09',\n '960121D01',\n '930218D01',\n '920303D05',\n '950126D01',\n '930415D02',\n '910315E22',\n '910313E19',\n '950405E12',\n '940219E02',\n '890328E12',\n '930410E01',\n '910319E11',\n '921230E03',\n '890418E13',\n '910319E02',\n '900205E01',\n '930304E13',\n '921215E02',\n '931215E09',\n '910313E11',\n '930202E07',\n '930304E16',\n '940213E01',\n '930203E03',\n '921228E09',\n '930410E04',\n '941220E09',\n '921228E16',\n 'OSUX89065',\n 'OSUX89087',\n 'OSUX91164',\n 'OSUX93039',\n 'OSUX91121',\n 'OSUX88159',\n 'OSUX92107',\n 'OSUX91143',\n 'OSUX89128',\n 'OSUX92061',\n 'OSUX83061',\n 'OSUX87190',\n 'OSUX92013',\n 'OSUX87130']"
     },
     "execution_count": 6,
     "metadata": {},
     "output_type": "execute_result"
    }
   ],
   "source": [
    "# Proportional selection\n",
    "proportionally_selected = Selection.select_trajectories_proportionally(training, classification_col='Species', k=0.2)\n",
    "proportionally_selected"
   ],
   "metadata": {
    "collapsed": false,
    "ExecuteTime": {
     "end_time": "2023-05-10T22:30:42.693039357Z",
     "start_time": "2023-05-10T22:30:42.641260454Z"
    }
   }
  },
  {
   "cell_type": "code",
   "execution_count": 7,
   "outputs": [],
   "source": [
    "# %%time\n",
    "# # Augment each trajectory 20 times, first augment with the new point being in the circle 10 times.\n",
    "# # Then augment under the condition that the new point will be on the circle.\n",
    "#\n",
    "# training = Augmentation.augment_trajectories_with_randomly_generated_points(training,\n",
    "#                                                                            random=myRandom,\n",
    "#                                                                            ids_to_augment=selected,\n",
    "#                                                                            circle='in')\n",
    "#\n",
    "# for i in range(1, 6):\n",
    "#     training = Augmentation.augment_trajectories_with_randomly_generated_points(training,\n",
    "#                                                                                random=myRandom,\n",
    "#                                                                                ids_to_augment=selected,\n",
    "#                                                                                circle='in')\n",
    "#\n",
    "#\n",
    "# for i in range(0, 6):\n",
    "#     training = Augmentation.augment_trajectories_with_randomly_generated_points(training,\n",
    "#                                                                                random=myRandom,\n",
    "#                                                                                ids_to_augment=selected,\n",
    "#                                                                                circle='on')\n",
    "#\n",
    "# training"
   ],
   "metadata": {
    "collapsed": false,
    "ExecuteTime": {
     "end_time": "2023-05-10T22:30:42.753703298Z",
     "start_time": "2023-05-10T22:30:42.687013906Z"
    }
   }
  },
  {
   "cell_type": "code",
   "execution_count": 8,
   "outputs": [],
   "source": [
    "# # Generate kinematic statistics on the dataset and then convert\n",
    "# # the dataset from point-form representation into traj-form representation.\n",
    "# pivoted_train = Statistics.pivot_stats_df(\n",
    "#     dataframe=Statistics.generate_kinematic_stats(training, 'Species'),\n",
    "#     target_col_name='Species')\n",
    "#\n",
    "# # Pivoting the test data\n",
    "# pivoted_test = Statistics.pivot_stats_df(\n",
    "#     dataframe=Statistics.generate_kinematic_stats(testing, 'Species'),\n",
    "#     target_col_name='Species')\n",
    "# pivoted_train"
   ],
   "metadata": {
    "collapsed": false,
    "ExecuteTime": {
     "end_time": "2023-05-10T22:30:42.755832103Z",
     "start_time": "2023-05-10T22:30:42.726315496Z"
    }
   }
  }
 ],
 "metadata": {
  "kernelspec": {
   "display_name": "Python 3",
   "language": "python",
   "name": "python3"
  },
  "language_info": {
   "codemirror_mode": {
    "name": "ipython",
    "version": 2
   },
   "file_extension": ".py",
   "mimetype": "text/x-python",
   "name": "python",
   "nbconvert_exporter": "python",
   "pygments_lexer": "ipython2",
   "version": "2.7.6"
  }
 },
 "nbformat": 4,
 "nbformat_minor": 0
}
