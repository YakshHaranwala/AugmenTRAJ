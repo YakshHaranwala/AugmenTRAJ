{
 "cells": [
  {
   "cell_type": "code",
   "execution_count": 1,
   "outputs": [],
   "source": [
    "import itertools"
   ],
   "metadata": {
    "collapsed": false,
    "ExecuteTime": {
     "end_time": "2023-05-12T19:23:25.051939760Z",
     "start_time": "2023-05-12T19:23:25.008496754Z"
    }
   }
  },
  {
   "cell_type": "code",
   "execution_count": 2,
   "metadata": {
    "collapsed": true,
    "ExecuteTime": {
     "end_time": "2023-05-12T19:23:26.842934576Z",
     "start_time": "2023-05-12T19:23:25.051649373Z"
    }
   },
   "outputs": [],
   "source": [
    "import pandas as pd\n",
    "import random\n",
    "import itertools\n",
    "\n",
    "from ptrail.core.Datasets import Datasets\n",
    "from ptrail.core.TrajectoryDF import PTRAILDataFrame\n",
    "from ptrail.features.kinematic_features import KinematicFeatures\n",
    "from ptrail.preprocessing.statistics import Statistics\n",
    "from src.augmentation.augment import Augmentation\n",
    "from src.selection.select import Selection\n",
    "\n",
    "import matplotlib.pyplot as plt\n",
    "\n",
    "from sklearn.preprocessing import MinMaxScaler\n",
    "from sklearn.decomposition import PCA\n",
    "from sklearn.metrics import f1_score, accuracy_score, average_precision_score\n",
    "from sklearn.model_selection import train_test_split\n",
    "from sklearn.ensemble import RandomForestClassifier\n",
    "from sklearn.inspection import DecisionBoundaryDisplay\n",
    "from sklearn.metrics import f1_score, accuracy_score, average_precision_score\n",
    "from sklearn.model_selection import train_test_split\n",
    "from sklearn.preprocessing import MinMaxScaler"
   ]
  },
  {
   "cell_type": "code",
   "execution_count": 3,
   "outputs": [
    {
     "name": "stdout",
     "output_type": "stream",
     "text": [
      "------------------------ Dataset Facts ------------------------------\n",
      "\n",
      "Number of unique Trajectories in the data: 253\n",
      "Number of points in the data: 287136\n",
      "Dataset time range: 1196 days 22:51:45\n",
      "Datatype of the DataFrame: <class 'ptrail.core.TrajectoryDF.PTRAILDataFrame'>\n",
      "Dataset Bounding Box: (45.18896978643169, -118.61020848239596, 45.314545642992, -118.50455596234036)\n",
      "\n",
      "---------------------------------------------------------------------\n"
     ]
    }
   ],
   "source": [
    "# Load the dataset and create the distance column in it which is necessary for Augmentation.\n",
    "starkey_data = Datasets.load_starkey()\n",
    "ready_dataset = KinematicFeatures.create_distance_column(starkey_data).reset_index()"
   ],
   "metadata": {
    "collapsed": false,
    "ExecuteTime": {
     "end_time": "2023-05-12T19:23:32.028504949Z",
     "start_time": "2023-05-12T19:23:26.846661752Z"
    }
   }
  },
  {
   "cell_type": "code",
   "execution_count": 4,
   "outputs": [],
   "source": [
    "traj_ids = list(ready_dataset['traj_id'].unique())\n",
    "train_size = int(len(traj_ids) * 0.90)\n",
    "\n",
    "train_traj_ids = random.sample(traj_ids, train_size)\n",
    "test_traj_ids = []\n",
    "for t in traj_ids:\n",
    "    if t not in train_traj_ids:\n",
    "        test_traj_ids.append(t)\n",
    "\n",
    "training, testing = ready_dataset.loc[ready_dataset.traj_id.isin(train_traj_ids)], \\\n",
    "    ready_dataset.loc[ready_dataset.traj_id.isin(test_traj_ids)]"
   ],
   "metadata": {
    "collapsed": false,
    "ExecuteTime": {
     "end_time": "2023-05-12T19:23:32.134573829Z",
     "start_time": "2023-05-12T19:23:32.044788032Z"
    }
   }
  },
  {
   "cell_type": "code",
   "execution_count": 5,
   "outputs": [
    {
     "data": {
      "text/plain": "['OSUX93046',\n '950104E04',\n '910313E07',\n '940221E07',\n 'OSUX85159',\n '930409E04',\n 'OSUX91121',\n '890418E13',\n 'OSUX89203',\n '910315E17']"
     },
     "execution_count": 5,
     "metadata": {},
     "output_type": "execute_result"
    }
   ],
   "source": [
    "# # Random selection\n",
    "selected = Selection.select_randomly(training, k=0.046)\n",
    "selected"
   ],
   "metadata": {
    "collapsed": false,
    "ExecuteTime": {
     "end_time": "2023-05-12T19:23:32.158961039Z",
     "start_time": "2023-05-12T19:23:32.146946412Z"
    }
   }
  },
  {
   "cell_type": "code",
   "execution_count": 6,
   "outputs": [
    {
     "data": {
      "text/plain": "['910301D01',\n '940124D01',\n '920309D02',\n '950124D02',\n '920304D03',\n '940105D01',\n '910214D01',\n '920303D05',\n '880120D02',\n '921230E03',\n '930119E02',\n '930209E08',\n '890328E21',\n '930202E03',\n '890224E04',\n '930202E16',\n '910313E19',\n '941220E05',\n '960131E12',\n '930422E04',\n '941220E01',\n '940219E11',\n '910315E22',\n '941220E09',\n '890418E13',\n '940228E01',\n '930203E03',\n '921228E34',\n '930107E09',\n '941222E03',\n '930119E03',\n '931216E09',\n '921216E02',\n 'OSUX89073',\n 'OSUX92071',\n 'OSUX89125',\n 'OSUX92070',\n 'OSUX92115',\n 'OSUX89105',\n 'OSUX92031',\n 'OSUX83061',\n 'OSUX91121',\n 'OSUX83041',\n 'OSUX91164',\n 'OSUX92016',\n 'OSUX89065',\n 'OSUX91038']"
     },
     "execution_count": 6,
     "metadata": {},
     "output_type": "execute_result"
    }
   ],
   "source": [
    "# Proportional selection\n",
    "proportionally_selected = Selection.select_trajectories_proportionally(training, classification_col='Species', k=0.2)\n",
    "proportionally_selected"
   ],
   "metadata": {
    "collapsed": false,
    "ExecuteTime": {
     "end_time": "2023-05-12T19:23:32.216432742Z",
     "start_time": "2023-05-12T19:23:32.161351920Z"
    }
   }
  },
  {
   "cell_type": "code",
   "execution_count": 7,
   "outputs": [
    {
     "data": {
      "text/plain": "['950227D02',\n 'OSUX91121',\n 'OSUX91143',\n 'OSUX92008',\n 'OSUX92071',\n '960313E02',\n 'OSUX91032',\n 'OSUX89128',\n 'OSUX93007',\n '930429E08']"
     },
     "execution_count": 7,
     "metadata": {},
     "output_type": "execute_result"
    }
   ],
   "source": [
    "# Fewest selection\n",
    "fewest_selection = Selection.select_fewest_class(training, k=0.04)\n",
    "fewest_selection"
   ],
   "metadata": {
    "collapsed": false,
    "ExecuteTime": {
     "end_time": "2023-05-12T19:23:32.268361318Z",
     "start_time": "2023-05-12T19:23:32.224344156Z"
    }
   }
  },
  {
   "cell_type": "code",
   "execution_count": 8,
   "outputs": [
    {
     "name": "stdout",
     "output_type": "stream",
     "text": [
      "Closeness: 0.4861111111111111\n",
      "Closeness: 0.4861111111111111\n",
      "Closeness: 0.5138888888888888\n",
      "Closeness: 0.5555555555555556\n",
      "Closeness: 0.4722222222222222\n",
      "Closeness: 0.4861111111111111\n",
      "Closeness: 0.5\n",
      "Closeness: 0.4722222222222222\n",
      "Closeness: 0.5138888888888888\n",
      "Closeness: 0.5138888888888888\n",
      "Closeness: 0.5\n",
      "Closeness: 0.5416666666666666\n",
      "Closeness: 0.5138888888888888\n",
      "Closeness: 0.5\n",
      "Closeness: 0.4861111111111111\n",
      "Closeness: 0.4722222222222222\n",
      "Closeness: 0.5138888888888888\n",
      "Closeness: 0.5138888888888888\n",
      "Closeness: 0.4861111111111111\n",
      "Closeness: 0.4861111111111111\n",
      "Closeness: 0.5138888888888888\n",
      "Closeness: 0.5\n",
      "Closeness: 0.5\n",
      "Closeness: 0.5\n",
      "Closeness: 0.5277777777777778\n",
      "Closeness: 0.4583333333333333\n",
      "Closeness: 0.4861111111111111\n",
      "Closeness: 0.5138888888888888\n",
      "Closeness: 0.4861111111111111\n",
      "Closeness: 0.5277777777777778\n",
      "Closeness: 0.5138888888888888\n",
      "Closeness: 0.4861111111111111\n",
      "Closeness: 0.5138888888888888\n",
      "Closeness: 0.5\n",
      "Closeness: 0.4861111111111111\n",
      "Closeness: 0.4861111111111111\n",
      "Closeness: 0.5\n",
      "Closeness: 0.5138888888888888\n",
      "Closeness: 0.4861111111111111\n",
      "Closeness: 0.4722222222222222\n",
      "Closeness: 0.5138888888888888\n",
      "Closeness: 0.5\n",
      "Closeness: 0.5\n",
      "Closeness: 0.5833333333333334\n",
      "Closeness: 0.4722222222222222\n",
      "Closeness: 0.5\n",
      "Closeness: 0.5\n",
      "Closeness: 0.5\n",
      "Closeness: 0.5138888888888888\n",
      "Closeness: 0.5277777777777778\n",
      "Closeness: 0.5416666666666666\n",
      "Closeness: 0.5138888888888888\n",
      "Closeness: 0.4861111111111111\n",
      "Closeness: 0.4861111111111111\n",
      "Closeness: 0.5277777777777778\n",
      "Closeness: 0.5\n",
      "Closeness: 0.5138888888888888\n",
      "Closeness: 0.4861111111111111\n",
      "Closeness: 0.5\n",
      "Closeness: 0.5416666666666666\n",
      "Closeness: 0.5138888888888888\n",
      "Closeness: 0.5138888888888888\n",
      "Closeness: 0.5\n",
      "Closeness: 0.5138888888888888\n",
      "Closeness: 0.4722222222222222\n",
      "Closeness: 0.5416666666666666\n",
      "Closeness: 0.5\n",
      "Closeness: 0.4722222222222222\n",
      "Closeness: 0.5138888888888888\n",
      "Closeness: 0.4583333333333333\n",
      "Closeness: 0.4722222222222222\n",
      "Closeness: 0.5\n",
      "Closeness: 0.5\n",
      "Closeness: 0.5138888888888888\n",
      "Closeness: 0.5138888888888888\n",
      "Closeness: 0.5\n",
      "Closeness: 0.4861111111111111\n",
      "Closeness: 0.5\n",
      "Closeness: 0.5\n",
      "Closeness: 0.5\n",
      "Closeness: 0.4722222222222222\n",
      "Closeness: 0.4861111111111111\n",
      "Closeness: 0.4861111111111111\n",
      "Closeness: 0.5\n",
      "Closeness: 0.4861111111111111\n",
      "Closeness: 0.5\n",
      "Closeness: 0.4861111111111111\n",
      "Closeness: 0.4583333333333333\n",
      "Closeness: 0.5138888888888888\n",
      "Closeness: 0.5\n",
      "Closeness: 0.4861111111111111\n",
      "Closeness: 0.5\n",
      "Closeness: 0.5277777777777778\n",
      "Closeness: 0.5416666666666666\n",
      "Closeness: 0.5416666666666666\n",
      "Closeness: 0.4861111111111111\n",
      "Closeness: 0.5\n",
      "Closeness: 0.5277777777777778\n",
      "Closeness: 0.5277777777777778\n",
      "Closeness: 0.5\n",
      "Closeness: 0.5833333333333334\n",
      "Closeness: 0.5\n",
      "Closeness: 0.5138888888888888\n",
      "Closeness: 0.5416666666666666\n",
      "Closeness: 0.4583333333333333\n",
      "Closeness: 0.4861111111111111\n",
      "Closeness: 0.4722222222222222\n",
      "Closeness: 0.5416666666666666\n",
      "Closeness: 0.5\n",
      "Closeness: 0.5138888888888888\n",
      "Closeness: 0.5277777777777778\n",
      "Closeness: 0.4861111111111111\n",
      "Closeness: 0.5\n",
      "Closeness: 0.5416666666666666\n",
      "Closeness: 0.5416666666666666\n",
      "Closeness: 0.5\n",
      "Closeness: 0.5138888888888888\n",
      "Closeness: 0.5416666666666666\n",
      "Closeness: 0.5138888888888888\n",
      "Closeness: 0.5\n",
      "Closeness: 0.4722222222222222\n",
      "Closeness: 0.5\n",
      "Closeness: 0.4722222222222222\n",
      "Closeness: 0.5555555555555556\n",
      "Closeness: 0.4583333333333333\n",
      "Closeness: 0.5277777777777778\n",
      "Closeness: 0.5\n",
      "Closeness: 0.4861111111111111\n",
      "Closeness: 0.5138888888888888\n",
      "Closeness: 0.5\n",
      "Closeness: 0.5138888888888888\n",
      "Closeness: 0.5416666666666666\n",
      "Closeness: 0.5\n",
      "Closeness: 0.5555555555555556\n",
      "Closeness: 0.5138888888888888\n",
      "Closeness: 0.5\n",
      "Closeness: 0.5138888888888888\n",
      "Closeness: 0.5\n",
      "Closeness: 0.5\n",
      "Closeness: 0.5\n",
      "Closeness: 0.4861111111111111\n",
      "Closeness: 0.5\n",
      "Closeness: 0.5\n",
      "Closeness: 0.5694444444444444\n",
      "Closeness: 0.4722222222222222\n",
      "Closeness: 0.5277777777777778\n",
      "Closeness: 0.4722222222222222\n",
      "Closeness: 0.4583333333333333\n",
      "Closeness: 0.4861111111111111\n",
      "Closeness: 0.4861111111111111\n",
      "Closeness: 0.5\n",
      "Closeness: 0.5\n",
      "Closeness: 0.5\n",
      "Closeness: 0.5\n",
      "Closeness: 0.5\n",
      "Closeness: 0.5138888888888888\n",
      "Closeness: 0.4861111111111111\n",
      "Closeness: 0.5277777777777778\n",
      "Closeness: 0.5\n",
      "Closeness: 0.4861111111111111\n",
      "Closeness: 0.5\n",
      "Closeness: 0.5138888888888888\n",
      "Closeness: 0.4861111111111111\n",
      "Closeness: 0.5138888888888888\n",
      "Closeness: 0.5138888888888888\n",
      "Closeness: 0.5138888888888888\n",
      "Closeness: 0.5\n",
      "Closeness: 0.4861111111111111\n",
      "Closeness: 0.5\n",
      "Closeness: 0.5555555555555556\n",
      "Closeness: 0.4861111111111111\n",
      "Closeness: 0.5138888888888888\n",
      "Closeness: 0.5\n",
      "Closeness: 0.5\n",
      "Closeness: 0.5138888888888888\n",
      "Closeness: 0.5138888888888888\n",
      "Closeness: 0.5138888888888888\n",
      "Closeness: 0.4861111111111111\n",
      "Closeness: 0.4722222222222222\n",
      "Closeness: 0.5138888888888888\n",
      "Closeness: 0.4583333333333333\n",
      "Closeness: 0.4861111111111111\n",
      "Closeness: 0.5416666666666666\n",
      "Closeness: 0.4722222222222222\n",
      "Closeness: 0.5\n",
      "Closeness: 0.5138888888888888\n",
      "Closeness: 0.4722222222222222\n",
      "Closeness: 0.5\n",
      "Closeness: 0.5\n",
      "Closeness: 0.4722222222222222\n",
      "Closeness: 0.5\n",
      "Closeness: 0.5138888888888888\n",
      "Closeness: 0.4861111111111111\n",
      "Closeness: 0.4861111111111111\n",
      "Closeness: 0.5277777777777778\n",
      "Closeness: 0.5\n",
      "Closeness: 0.4722222222222222\n",
      "Closeness: 0.5138888888888888\n",
      "Closeness: 0.5\n",
      "Closeness: 0.5\n",
      "Closeness: 0.5\n",
      "Closeness: 0.4305555555555556\n",
      "Closeness: 0.4444444444444444\n",
      "Closeness: 0.4861111111111111\n",
      "Closeness: 0.4861111111111111\n",
      "Closeness: 0.4722222222222222\n",
      "Closeness: 0.5138888888888888\n",
      "Closeness: 0.5138888888888888\n",
      "Closeness: 0.5277777777777778\n",
      "Closeness: 0.4861111111111111\n",
      "Closeness: 0.5\n",
      "Closeness: 0.4861111111111111\n",
      "Closeness: 0.5138888888888888\n",
      "Closeness: 0.5\n",
      "Closeness: 0.4861111111111111\n",
      "Closeness: 0.5277777777777778\n",
      "Closeness: 0.5\n",
      "Closeness: 0.4861111111111111\n",
      "Closeness: 0.4861111111111111\n",
      "Closeness: 0.4722222222222222\n",
      "Closeness: 0.5\n",
      "Closeness: 0.4722222222222222\n",
      "Closeness: 0.4861111111111111\n",
      "Closeness: 0.4861111111111111\n",
      "Closeness: 0.5138888888888888\n",
      "Closeness: 0.5\n",
      "Closeness: 0.5\n"
     ]
    },
    {
     "data": {
      "text/plain": "['880120D02',\n '890130D09',\n '890324E17',\n '890328E21',\n '890413E05',\n '890418E01',\n '890424E06',\n '890424E08',\n '900205E11',\n '910130D01',\n '910312E05',\n '910312E13',\n '910313E07',\n '910313E18',\n '910315E14',\n '910315E20',\n '910319E11',\n '920304D03',\n '920309D02',\n '920318D02',\n '921123E22',\n '921216E02',\n '921216E08',\n '921228E06',\n '921228E09',\n '921228E12',\n '921228E19',\n '921230E03',\n '930107E08',\n '930127D01',\n '930202D01',\n '930318D01',\n '930409D01',\n '930409E04',\n '930410E01',\n '930415E04',\n '930416D01',\n '930421E03',\n '930429E08',\n '931215E09',\n '940110D01',\n '940124D01',\n '940131D01',\n '940213E01',\n '940215D01',\n '940217D01',\n '940219E02',\n '940219E06',\n '940221E07',\n '940303D01',\n '940329E01',\n '941128E01',\n '941129E04',\n '941220E05',\n '941220E09',\n '941221E14',\n '950124E01',\n '950125E10',\n '960227E09',\n '960313E04',\n 'OSUX85135',\n 'OSUX86137',\n 'OSUX87130',\n 'OSUX87175',\n 'OSUX88129',\n 'OSUX88159',\n 'OSUX89065',\n 'OSUX89073',\n 'OSUX89078',\n 'OSUX89105',\n 'OSUX89127',\n 'OSUX89146',\n 'OSUX89208',\n 'OSUX91057',\n 'OSUX91073',\n 'OSUX92013',\n 'OSUX92014',\n 'OSUX92016',\n 'OSUX92061',\n 'OSUX92083',\n 'OSUX93123']"
     },
     "execution_count": 8,
     "metadata": {},
     "output_type": "execute_result"
    }
   ],
   "source": [
    "# Representative selection\n",
    "rep_selection = Selection.select_representative_trajectories(training, 'Species')\n",
    "rep_selection"
   ],
   "metadata": {
    "collapsed": false,
    "ExecuteTime": {
     "end_time": "2023-05-12T19:24:15.173861735Z",
     "start_time": "2023-05-12T19:23:32.267598813Z"
    }
   }
  },
  {
   "cell_type": "code",
   "execution_count": 9,
   "outputs": [
    {
     "data": {
      "text/plain": "81"
     },
     "execution_count": 9,
     "metadata": {},
     "output_type": "execute_result"
    }
   ],
   "source": [
    "len(rep_selection)"
   ],
   "metadata": {
    "collapsed": false,
    "ExecuteTime": {
     "end_time": "2023-05-12T19:24:15.222762731Z",
     "start_time": "2023-05-12T19:24:15.178264949Z"
    }
   }
  },
  {
   "cell_type": "code",
   "execution_count": 10,
   "outputs": [],
   "source": [
    "# %%time\n",
    "# # Augment each trajectory 20 times, first augment with the new point being in the circle 10 times.\n",
    "# # Then augment under the condition that the new point will be on the circle.\n",
    "#\n",
    "# training = Augmentation.augment_trajectories_with_randomly_generated_points(training,\n",
    "#                                                                            random=myRandom,\n",
    "#                                                                            ids_to_augment=selected,\n",
    "#                                                                            circle='in')\n",
    "#\n",
    "# for i in range(1, 6):\n",
    "#     training = Augmentation.augment_trajectories_with_randomly_generated_points(training,\n",
    "#                                                                                random=myRandom,\n",
    "#                                                                                ids_to_augment=selected,\n",
    "#                                                                                circle='in')\n",
    "#\n",
    "#\n",
    "# for i in range(0, 6):\n",
    "#     training = Augmentation.augment_trajectories_with_randomly_generated_points(training,\n",
    "#                                                                                random=myRandom,\n",
    "#                                                                                ids_to_augment=selected,\n",
    "#                                                                                circle='on')\n",
    "#\n",
    "# training"
   ],
   "metadata": {
    "collapsed": false,
    "ExecuteTime": {
     "end_time": "2023-05-12T19:24:15.222992444Z",
     "start_time": "2023-05-12T19:24:15.219589205Z"
    }
   }
  },
  {
   "cell_type": "code",
   "execution_count": 11,
   "outputs": [],
   "source": [
    "# # Generate kinematic statistics on the dataset and then convert\n",
    "# # the dataset from point-form representation into traj-form representation.\n",
    "# pivoted_train = Statistics.pivot_stats_df(\n",
    "#     dataframe=Statistics.generate_kinematic_stats(training, 'Species'),\n",
    "#     target_col_name='Species')\n",
    "#\n",
    "# # Pivoting the test data\n",
    "# pivoted_test = Statistics.pivot_stats_df(\n",
    "#     dataframe=Statistics.generate_kinematic_stats(testing, 'Species'),\n",
    "#     target_col_name='Species')\n",
    "# pivoted_train"
   ],
   "metadata": {
    "collapsed": false,
    "ExecuteTime": {
     "end_time": "2023-05-12T19:24:15.223132486Z",
     "start_time": "2023-05-12T19:24:15.219723090Z"
    }
   }
  }
 ],
 "metadata": {
  "kernelspec": {
   "display_name": "Python 3",
   "language": "python",
   "name": "python3"
  },
  "language_info": {
   "codemirror_mode": {
    "name": "ipython",
    "version": 2
   },
   "file_extension": ".py",
   "mimetype": "text/x-python",
   "name": "python",
   "nbconvert_exporter": "python",
   "pygments_lexer": "ipython2",
   "version": "2.7.6"
  }
 },
 "nbformat": 4,
 "nbformat_minor": 0
}
