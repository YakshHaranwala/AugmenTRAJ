{
 "cells": [
  {
   "cell_type": "code",
   "execution_count": 1,
   "outputs": [],
   "source": [
    "import itertools\n",
    "import sys\n",
    "\n",
    "sys.path.append(\"../\")"
   ],
   "metadata": {
    "collapsed": false
   }
  },
  {
   "cell_type": "code",
   "execution_count": 2,
   "metadata": {
    "collapsed": true
   },
   "outputs": [],
   "source": [
    "import pandas as pd\n",
    "import random\n",
    "import itertools\n",
    "\n",
    "from ptrail.core.Datasets import Datasets\n",
    "from ptrail.core.TrajectoryDF import PTRAILDataFrame\n",
    "from ptrail.features.kinematic_features import KinematicFeatures\n",
    "from ptrail.preprocessing.statistics import Statistics\n",
    "from src.augmentation.augment import Augmentation\n",
    "from src.selection.select import Selection\n",
    "\n",
    "import matplotlib.pyplot as plt\n",
    "\n",
    "from sklearn.preprocessing import MinMaxScaler\n",
    "from sklearn.decomposition import PCA\n",
    "from sklearn.metrics import f1_score, accuracy_score, average_precision_score\n",
    "from sklearn.model_selection import train_test_split\n",
    "from sklearn.ensemble import RandomForestClassifier\n",
    "from sklearn.inspection import DecisionBoundaryDisplay\n",
    "from sklearn.metrics import f1_score, accuracy_score, average_precision_score\n",
    "from sklearn.model_selection import train_test_split\n",
    "from sklearn.preprocessing import MinMaxScaler"
   ]
  },
  {
   "cell_type": "code",
   "execution_count": 3,
   "outputs": [
    {
     "name": "stdout",
     "output_type": "stream",
     "text": [
      "------------------------ Dataset Facts ------------------------------\n",
      "\n",
      "Number of unique Trajectories in the data: 253\n",
      "Number of points in the data: 287136\n",
      "Dataset time range: 1196 days 22:51:45\n",
      "Datatype of the DataFrame: <class 'ptrail.core.TrajectoryDF.PTRAILDataFrame'>\n",
      "Dataset Bounding Box: (45.18896978643169, -118.61020848239596, 45.314545642992, -118.50455596234036)\n",
      "\n",
      "---------------------------------------------------------------------\n"
     ]
    }
   ],
   "source": [
    "# Load the dataset and create the distance column in it which is necessary for Augmentation.\n",
    "starkey_data = Datasets.load_starkey()\n",
    "ready_dataset = KinematicFeatures.create_distance_column(starkey_data).reset_index()"
   ],
   "metadata": {
    "collapsed": false
   }
  },
  {
   "cell_type": "code",
   "execution_count": 4,
   "outputs": [],
   "source": [
    "traj_ids = list(ready_dataset['traj_id'].unique())\n",
    "train_size = int(len(traj_ids) * 0.90)\n",
    "\n",
    "train_traj_ids = random.sample(traj_ids, train_size)\n",
    "test_traj_ids = []\n",
    "for t in traj_ids:\n",
    "    if t not in train_traj_ids:\n",
    "        test_traj_ids.append(t)\n",
    "\n",
    "training, testing = ready_dataset.loc[ready_dataset.traj_id.isin(train_traj_ids)], \\\n",
    "    ready_dataset.loc[ready_dataset.traj_id.isin(test_traj_ids)]"
   ],
   "metadata": {
    "collapsed": false
   }
  },
  {
   "cell_type": "code",
   "execution_count": 5,
   "outputs": [
    {
     "data": {
      "text/plain": "['910313E11',\n '950125E13',\n 'OSUX92115',\n 'OSUX92014',\n 'OSUX91073',\n '890418E15',\n '930107E06',\n '910312E12',\n '940329E01',\n 'OSUX91116']"
     },
     "execution_count": 5,
     "metadata": {},
     "output_type": "execute_result"
    }
   ],
   "source": [
    "myRandom = random.Random(1)\n",
    "selected = Selection.select_randomly(training, myRandom, k=0.046)\n",
    "selected"
   ],
   "metadata": {
    "collapsed": false
   }
  },
  {
   "cell_type": "code",
   "execution_count": 6,
   "outputs": [
    {
     "name": "stdout",
     "output_type": "stream",
     "text": [
      "CPU times: user 16.4 s, sys: 179 ms, total: 16.6 s\n",
      "Wall time: 16.6 s\n"
     ]
    },
    {
     "data": {
      "text/plain": "                    traj_id            DateTime        lat         lon  \\\n0                 880109D01 1995-04-13 13:40:06  45.239682 -118.533204   \n1                 880109D01 1995-04-15 12:16:15  45.250521 -118.530438   \n2                 880109D01 1995-04-15 21:39:38  45.247943 -118.541455   \n3                 880109D01 1995-04-16 03:32:14  45.247429 -118.539530   \n4                 880109D01 1995-04-16 04:08:28  45.247117 -118.542579   \n...                     ...                 ...        ...         ...   \n284146  OSUX92115aug8852153 1996-08-15 06:33:46  45.211255 -118.543115   \n284147  OSUX92115aug8852153 1996-08-15 08:28:01  45.217721 -118.529554   \n284148  OSUX92115aug8852153 1996-08-15 10:19:38  45.218635 -118.527090   \n284149  OSUX92115aug8852153 1996-08-15 12:13:42  45.196785 -118.601242   \n284150  OSUX92115aug8852153 1996-08-15 14:09:25  45.216861 -118.568505   \n\n        StarkeyTime    GMDate    GMTime   LocDate   LocTime  RadNum  Species  \\\n0         229902006  21:40:06  19950413  19950413  13:40:06     409        0   \n1         230069775  20:16:15  19950415  19950415  12:16:15     409        0   \n2         230103578  05:39:38  19950416  19950415  21:39:38     409        0   \n3         230124734  11:32:14  19950416  19950416  03:32:14     409        0   \n4         230126908  12:08:28  19950416  19950416  04:08:28     409        0   \n...             ...       ...       ...       ...       ...     ...      ...   \n284146    272212426  14:33:46  19960815  19960815  06:33:46     179        2   \n284147    272219281  16:28:01  19960815  19960815  08:28:01     179        2   \n284148    272225978  18:19:38  19960815  19960815  10:19:38     179        2   \n284149    272232822  20:13:42  19960815  19960815  12:13:42     179        2   \n284150    272239765  22:09:25  19960815  19960815  14:09:25     179        2   \n\n          UTME     UTMN  Year  Grensunr  Grensuns  Obswt     Distance  \n0       379662  5010734    95  13:13:00  02:39:00   1.47          NaN  \n1       379895  5011927    95  13:09:00  02:41:00   1.59  1224.551334  \n2       379039  5011656    95  13:07:00  02:43:00   1.34   908.878736  \n3       379188  5011581    95  13:07:00  02:43:00   1.50   161.204428  \n4       378938  5011567    95  13:07:00  02:43:00   1.34   241.258531  \n...        ...      ...   ...       ...       ...    ...          ...  \n284146  380238  5008415    96  12:56:00  03:04:00   1.65   256.418398  \n284147  380246  5008468    96  12:56:00  03:04:00   1.56    60.045136  \n284148  380269  5008470    96  12:56:00  03:04:00   1.56    29.922581  \n284149  380075  5009532    96  12:56:00  03:04:00   1.38  1065.993620  \n284150  379882  5010026    96  12:56:00  03:04:00   1.55   551.666124  \n\n[407802 rows x 18 columns]",
      "text/html": "<div>\n<style scoped>\n    .dataframe tbody tr th:only-of-type {\n        vertical-align: middle;\n    }\n\n    .dataframe tbody tr th {\n        vertical-align: top;\n    }\n\n    .dataframe thead th {\n        text-align: right;\n    }\n</style>\n<table border=\"1\" class=\"dataframe\">\n  <thead>\n    <tr style=\"text-align: right;\">\n      <th></th>\n      <th>traj_id</th>\n      <th>DateTime</th>\n      <th>lat</th>\n      <th>lon</th>\n      <th>StarkeyTime</th>\n      <th>GMDate</th>\n      <th>GMTime</th>\n      <th>LocDate</th>\n      <th>LocTime</th>\n      <th>RadNum</th>\n      <th>Species</th>\n      <th>UTME</th>\n      <th>UTMN</th>\n      <th>Year</th>\n      <th>Grensunr</th>\n      <th>Grensuns</th>\n      <th>Obswt</th>\n      <th>Distance</th>\n    </tr>\n  </thead>\n  <tbody>\n    <tr>\n      <th>0</th>\n      <td>880109D01</td>\n      <td>1995-04-13 13:40:06</td>\n      <td>45.239682</td>\n      <td>-118.533204</td>\n      <td>229902006</td>\n      <td>21:40:06</td>\n      <td>19950413</td>\n      <td>19950413</td>\n      <td>13:40:06</td>\n      <td>409</td>\n      <td>0</td>\n      <td>379662</td>\n      <td>5010734</td>\n      <td>95</td>\n      <td>13:13:00</td>\n      <td>02:39:00</td>\n      <td>1.47</td>\n      <td>NaN</td>\n    </tr>\n    <tr>\n      <th>1</th>\n      <td>880109D01</td>\n      <td>1995-04-15 12:16:15</td>\n      <td>45.250521</td>\n      <td>-118.530438</td>\n      <td>230069775</td>\n      <td>20:16:15</td>\n      <td>19950415</td>\n      <td>19950415</td>\n      <td>12:16:15</td>\n      <td>409</td>\n      <td>0</td>\n      <td>379895</td>\n      <td>5011927</td>\n      <td>95</td>\n      <td>13:09:00</td>\n      <td>02:41:00</td>\n      <td>1.59</td>\n      <td>1224.551334</td>\n    </tr>\n    <tr>\n      <th>2</th>\n      <td>880109D01</td>\n      <td>1995-04-15 21:39:38</td>\n      <td>45.247943</td>\n      <td>-118.541455</td>\n      <td>230103578</td>\n      <td>05:39:38</td>\n      <td>19950416</td>\n      <td>19950415</td>\n      <td>21:39:38</td>\n      <td>409</td>\n      <td>0</td>\n      <td>379039</td>\n      <td>5011656</td>\n      <td>95</td>\n      <td>13:07:00</td>\n      <td>02:43:00</td>\n      <td>1.34</td>\n      <td>908.878736</td>\n    </tr>\n    <tr>\n      <th>3</th>\n      <td>880109D01</td>\n      <td>1995-04-16 03:32:14</td>\n      <td>45.247429</td>\n      <td>-118.539530</td>\n      <td>230124734</td>\n      <td>11:32:14</td>\n      <td>19950416</td>\n      <td>19950416</td>\n      <td>03:32:14</td>\n      <td>409</td>\n      <td>0</td>\n      <td>379188</td>\n      <td>5011581</td>\n      <td>95</td>\n      <td>13:07:00</td>\n      <td>02:43:00</td>\n      <td>1.50</td>\n      <td>161.204428</td>\n    </tr>\n    <tr>\n      <th>4</th>\n      <td>880109D01</td>\n      <td>1995-04-16 04:08:28</td>\n      <td>45.247117</td>\n      <td>-118.542579</td>\n      <td>230126908</td>\n      <td>12:08:28</td>\n      <td>19950416</td>\n      <td>19950416</td>\n      <td>04:08:28</td>\n      <td>409</td>\n      <td>0</td>\n      <td>378938</td>\n      <td>5011567</td>\n      <td>95</td>\n      <td>13:07:00</td>\n      <td>02:43:00</td>\n      <td>1.34</td>\n      <td>241.258531</td>\n    </tr>\n    <tr>\n      <th>...</th>\n      <td>...</td>\n      <td>...</td>\n      <td>...</td>\n      <td>...</td>\n      <td>...</td>\n      <td>...</td>\n      <td>...</td>\n      <td>...</td>\n      <td>...</td>\n      <td>...</td>\n      <td>...</td>\n      <td>...</td>\n      <td>...</td>\n      <td>...</td>\n      <td>...</td>\n      <td>...</td>\n      <td>...</td>\n      <td>...</td>\n    </tr>\n    <tr>\n      <th>284146</th>\n      <td>OSUX92115aug8852153</td>\n      <td>1996-08-15 06:33:46</td>\n      <td>45.211255</td>\n      <td>-118.543115</td>\n      <td>272212426</td>\n      <td>14:33:46</td>\n      <td>19960815</td>\n      <td>19960815</td>\n      <td>06:33:46</td>\n      <td>179</td>\n      <td>2</td>\n      <td>380238</td>\n      <td>5008415</td>\n      <td>96</td>\n      <td>12:56:00</td>\n      <td>03:04:00</td>\n      <td>1.65</td>\n      <td>256.418398</td>\n    </tr>\n    <tr>\n      <th>284147</th>\n      <td>OSUX92115aug8852153</td>\n      <td>1996-08-15 08:28:01</td>\n      <td>45.217721</td>\n      <td>-118.529554</td>\n      <td>272219281</td>\n      <td>16:28:01</td>\n      <td>19960815</td>\n      <td>19960815</td>\n      <td>08:28:01</td>\n      <td>179</td>\n      <td>2</td>\n      <td>380246</td>\n      <td>5008468</td>\n      <td>96</td>\n      <td>12:56:00</td>\n      <td>03:04:00</td>\n      <td>1.56</td>\n      <td>60.045136</td>\n    </tr>\n    <tr>\n      <th>284148</th>\n      <td>OSUX92115aug8852153</td>\n      <td>1996-08-15 10:19:38</td>\n      <td>45.218635</td>\n      <td>-118.527090</td>\n      <td>272225978</td>\n      <td>18:19:38</td>\n      <td>19960815</td>\n      <td>19960815</td>\n      <td>10:19:38</td>\n      <td>179</td>\n      <td>2</td>\n      <td>380269</td>\n      <td>5008470</td>\n      <td>96</td>\n      <td>12:56:00</td>\n      <td>03:04:00</td>\n      <td>1.56</td>\n      <td>29.922581</td>\n    </tr>\n    <tr>\n      <th>284149</th>\n      <td>OSUX92115aug8852153</td>\n      <td>1996-08-15 12:13:42</td>\n      <td>45.196785</td>\n      <td>-118.601242</td>\n      <td>272232822</td>\n      <td>20:13:42</td>\n      <td>19960815</td>\n      <td>19960815</td>\n      <td>12:13:42</td>\n      <td>179</td>\n      <td>2</td>\n      <td>380075</td>\n      <td>5009532</td>\n      <td>96</td>\n      <td>12:56:00</td>\n      <td>03:04:00</td>\n      <td>1.38</td>\n      <td>1065.993620</td>\n    </tr>\n    <tr>\n      <th>284150</th>\n      <td>OSUX92115aug8852153</td>\n      <td>1996-08-15 14:09:25</td>\n      <td>45.216861</td>\n      <td>-118.568505</td>\n      <td>272239765</td>\n      <td>22:09:25</td>\n      <td>19960815</td>\n      <td>19960815</td>\n      <td>14:09:25</td>\n      <td>179</td>\n      <td>2</td>\n      <td>379882</td>\n      <td>5010026</td>\n      <td>96</td>\n      <td>12:56:00</td>\n      <td>03:04:00</td>\n      <td>1.55</td>\n      <td>551.666124</td>\n    </tr>\n  </tbody>\n</table>\n<p>407802 rows × 18 columns</p>\n</div>"
     },
     "execution_count": 6,
     "metadata": {},
     "output_type": "execute_result"
    }
   ],
   "source": [
    "%%time\n",
    "# Augment each trajectory 20 times, first augment with the new point being in the circle 10 times.\n",
    "# Then augment under the condition that the new point will be on the circle.\n",
    "\n",
    "training = Augmentation.augment_trajectories_with_randomly_generated_points(training,\n",
    "                                                                           random=myRandom,\n",
    "                                                                           ids_to_augment=selected,\n",
    "                                                                           circle='in')\n",
    "\n",
    "for i in range(1, 6):\n",
    "    training = Augmentation.augment_trajectories_with_randomly_generated_points(training,\n",
    "                                                                               random=myRandom,\n",
    "                                                                               ids_to_augment=selected,\n",
    "                                                                               circle='in')\n",
    "\n",
    "\n",
    "for i in range(0, 6):\n",
    "    training = Augmentation.augment_trajectories_with_randomly_generated_points(training,\n",
    "                                                                               random=myRandom,\n",
    "                                                                               ids_to_augment=selected,\n",
    "                                                                               circle='on')\n",
    "\n",
    "training"
   ],
   "metadata": {
    "collapsed": false
   }
  },
  {
   "cell_type": "code",
   "execution_count": 7,
   "outputs": [
    {
     "data": {
      "text/plain": "           10%_Distance  25%_Distance  50%_Distance  75%_Distance  \\\ntraj_id                                                             \n910313E37     30.022359     66.956787    149.611989    300.726867   \n890424E08     42.384642     84.780370    177.223376    379.614004   \n921228E06     42.390114     90.066813    200.849995    429.158672   \n940110D01     30.022192     66.956668    149.612107    284.710015   \n890130D09     42.384166     67.089952    149.800390    300.728973   \n...                 ...           ...           ...           ...   \nOSUX92071     42.384783     98.213522    275.921086    509.415791   \nOSUX92008     60.044073    113.846901    323.971240    582.606358   \nOSUX91121     66.956676    138.476526    334.746006    596.234364   \nOSUX91143     90.066320    141.983451    323.214222    635.102619   \n950227D02     60.555710    123.400641    248.821498    467.775872   \n\n           90%_Distance  min_Distance  max_Distance  mean_Distance  \\\ntraj_id                                                              \n910313E37    632.269559      0.000000   6034.207873     268.728974   \n890424E08    759.311144      0.000000   6043.490157     323.956468   \n921228E06    890.194719      0.000000   4623.347553     377.677630   \n940110D01    510.276991      0.000000   1975.611748     221.420080   \n890130D09    557.198936      0.000000   3647.436664     243.836142   \n...                 ...           ...           ...            ...   \nOSUX92071   1734.539050      0.000000   4968.850596     552.252200   \nOSUX92008   1036.441333      0.000000   3252.044721     469.226709   \nOSUX91121   1365.947767     42.390056   5886.617958     652.055638   \nOSUX91143   1447.090670     42.384352   6230.843732     652.128273   \n950227D02    607.061122      0.000000   1014.759424     309.864157   \n\n           std_Distance  10%_Distance_from_start  ...  \\\ntraj_id                                           ...   \n910313E37    398.901980              1121.185006  ...   \n890424E08    446.249248               674.170024  ...   \n921228E06    517.650637               807.693739  ...   \n940110D01    235.093739               492.522877  ...   \n890130D09    288.048277               805.405461  ...   \n...                 ...                      ...  ...   \nOSUX92071    797.302786              2019.896767  ...   \nOSUX92008    565.038959              2330.556507  ...   \nOSUX91121   1119.869470              2660.409775  ...   \nOSUX91143   1043.556535              2741.029578  ...   \n950227D02    257.519475              2111.735728  ...   \n\n           10%_Rate_of_bearing_rate  25%_Rate_of_bearing_rate  \\\ntraj_id                                                         \n910313E37                 -0.063322                 -0.026677   \n890424E08                 -0.064023                 -0.023545   \n921228E06                 -0.058033                 -0.020736   \n940110D01                 -0.041207                 -0.018263   \n890130D09                 -0.043139                 -0.018251   \n...                             ...                       ...   \nOSUX92071                 -0.013195                 -0.006290   \nOSUX92008                 -0.033016                 -0.006065   \nOSUX91121                 -0.010799                 -0.003606   \nOSUX91143                 -0.011116                 -0.002726   \n950227D02                 -0.027101                 -0.014470   \n\n           50%_Rate_of_bearing_rate  75%_Rate_of_bearing_rate  \\\ntraj_id                                                         \n910313E37              5.306679e-08                  0.025072   \n890424E08              0.000000e+00                  0.022320   \n921228E06             -9.056581e-07                  0.020104   \n940110D01              0.000000e+00                  0.018564   \n890130D09              2.372532e-09                  0.017504   \n...                             ...                       ...   \nOSUX92071             -1.456657e-04                  0.006863   \nOSUX92008              4.739615e-05                  0.008182   \nOSUX91121              1.840711e-04                  0.006951   \nOSUX91143              8.818090e-05                  0.004994   \n950227D02             -4.449623e-04                  0.009539   \n\n           90%_Rate_of_bearing_rate  min_Rate_of_bearing_rate  \\\ntraj_id                                                         \n910313E37                  0.065316                 -6.036678   \n890424E08                  0.063820                -11.536372   \n921228E06                  0.056057                -56.020652   \n940110D01                  0.042032                 -5.547235   \n890130D09                  0.043053                -39.481716   \n...                             ...                       ...   \nOSUX92071                  0.019363                 -0.180602   \nOSUX92008                  0.023711                 -0.119311   \nOSUX91121                  0.023679                 -0.018316   \nOSUX91143                  0.011873                 -0.029209   \n950227D02                  0.029714                 -0.041115   \n\n           max_Rate_of_bearing_rate  mean_Rate_of_bearing_rate  \\\ntraj_id                                                          \n910313E37                  2.449554                  -0.001945   \n890424E08                  2.494857                  -0.006703   \n921228E06                  4.466711                  -0.016681   \n940110D01                200.192244                   0.073830   \n890130D09                  3.244600                  -0.016979   \n...                             ...                        ...   \nOSUX92071                  0.032870                  -0.001012   \nOSUX92008                  0.119162                  -0.001884   \nOSUX91121                  0.027926                   0.001982   \nOSUX91143                  0.034114                   0.000903   \n950227D02                  0.047308                  -0.000006   \n\n           std_Rate_of_bearing_rate  Species  \ntraj_id                                       \n910313E37                  0.154034        1  \n890424E08                  0.241358        1  \n921228E06                  1.008263        1  \n940110D01                  3.677063        0  \n890130D09                  0.761028        0  \n...                             ...      ...  \nOSUX92071                  0.022347        2  \nOSUX92008                  0.033022        2  \nOSUX91121                  0.011728        2  \nOSUX91143                  0.011857        2  \n950227D02                  0.020923        0  \n\n[347 rows x 73 columns]",
      "text/html": "<div>\n<style scoped>\n    .dataframe tbody tr th:only-of-type {\n        vertical-align: middle;\n    }\n\n    .dataframe tbody tr th {\n        vertical-align: top;\n    }\n\n    .dataframe thead th {\n        text-align: right;\n    }\n</style>\n<table border=\"1\" class=\"dataframe\">\n  <thead>\n    <tr style=\"text-align: right;\">\n      <th></th>\n      <th>10%_Distance</th>\n      <th>25%_Distance</th>\n      <th>50%_Distance</th>\n      <th>75%_Distance</th>\n      <th>90%_Distance</th>\n      <th>min_Distance</th>\n      <th>max_Distance</th>\n      <th>mean_Distance</th>\n      <th>std_Distance</th>\n      <th>10%_Distance_from_start</th>\n      <th>...</th>\n      <th>10%_Rate_of_bearing_rate</th>\n      <th>25%_Rate_of_bearing_rate</th>\n      <th>50%_Rate_of_bearing_rate</th>\n      <th>75%_Rate_of_bearing_rate</th>\n      <th>90%_Rate_of_bearing_rate</th>\n      <th>min_Rate_of_bearing_rate</th>\n      <th>max_Rate_of_bearing_rate</th>\n      <th>mean_Rate_of_bearing_rate</th>\n      <th>std_Rate_of_bearing_rate</th>\n      <th>Species</th>\n    </tr>\n    <tr>\n      <th>traj_id</th>\n      <th></th>\n      <th></th>\n      <th></th>\n      <th></th>\n      <th></th>\n      <th></th>\n      <th></th>\n      <th></th>\n      <th></th>\n      <th></th>\n      <th></th>\n      <th></th>\n      <th></th>\n      <th></th>\n      <th></th>\n      <th></th>\n      <th></th>\n      <th></th>\n      <th></th>\n      <th></th>\n      <th></th>\n    </tr>\n  </thead>\n  <tbody>\n    <tr>\n      <th>910313E37</th>\n      <td>30.022359</td>\n      <td>66.956787</td>\n      <td>149.611989</td>\n      <td>300.726867</td>\n      <td>632.269559</td>\n      <td>0.000000</td>\n      <td>6034.207873</td>\n      <td>268.728974</td>\n      <td>398.901980</td>\n      <td>1121.185006</td>\n      <td>...</td>\n      <td>-0.063322</td>\n      <td>-0.026677</td>\n      <td>5.306679e-08</td>\n      <td>0.025072</td>\n      <td>0.065316</td>\n      <td>-6.036678</td>\n      <td>2.449554</td>\n      <td>-0.001945</td>\n      <td>0.154034</td>\n      <td>1</td>\n    </tr>\n    <tr>\n      <th>890424E08</th>\n      <td>42.384642</td>\n      <td>84.780370</td>\n      <td>177.223376</td>\n      <td>379.614004</td>\n      <td>759.311144</td>\n      <td>0.000000</td>\n      <td>6043.490157</td>\n      <td>323.956468</td>\n      <td>446.249248</td>\n      <td>674.170024</td>\n      <td>...</td>\n      <td>-0.064023</td>\n      <td>-0.023545</td>\n      <td>0.000000e+00</td>\n      <td>0.022320</td>\n      <td>0.063820</td>\n      <td>-11.536372</td>\n      <td>2.494857</td>\n      <td>-0.006703</td>\n      <td>0.241358</td>\n      <td>1</td>\n    </tr>\n    <tr>\n      <th>921228E06</th>\n      <td>42.390114</td>\n      <td>90.066813</td>\n      <td>200.849995</td>\n      <td>429.158672</td>\n      <td>890.194719</td>\n      <td>0.000000</td>\n      <td>4623.347553</td>\n      <td>377.677630</td>\n      <td>517.650637</td>\n      <td>807.693739</td>\n      <td>...</td>\n      <td>-0.058033</td>\n      <td>-0.020736</td>\n      <td>-9.056581e-07</td>\n      <td>0.020104</td>\n      <td>0.056057</td>\n      <td>-56.020652</td>\n      <td>4.466711</td>\n      <td>-0.016681</td>\n      <td>1.008263</td>\n      <td>1</td>\n    </tr>\n    <tr>\n      <th>940110D01</th>\n      <td>30.022192</td>\n      <td>66.956668</td>\n      <td>149.612107</td>\n      <td>284.710015</td>\n      <td>510.276991</td>\n      <td>0.000000</td>\n      <td>1975.611748</td>\n      <td>221.420080</td>\n      <td>235.093739</td>\n      <td>492.522877</td>\n      <td>...</td>\n      <td>-0.041207</td>\n      <td>-0.018263</td>\n      <td>0.000000e+00</td>\n      <td>0.018564</td>\n      <td>0.042032</td>\n      <td>-5.547235</td>\n      <td>200.192244</td>\n      <td>0.073830</td>\n      <td>3.677063</td>\n      <td>0</td>\n    </tr>\n    <tr>\n      <th>890130D09</th>\n      <td>42.384166</td>\n      <td>67.089952</td>\n      <td>149.800390</td>\n      <td>300.728973</td>\n      <td>557.198936</td>\n      <td>0.000000</td>\n      <td>3647.436664</td>\n      <td>243.836142</td>\n      <td>288.048277</td>\n      <td>805.405461</td>\n      <td>...</td>\n      <td>-0.043139</td>\n      <td>-0.018251</td>\n      <td>2.372532e-09</td>\n      <td>0.017504</td>\n      <td>0.043053</td>\n      <td>-39.481716</td>\n      <td>3.244600</td>\n      <td>-0.016979</td>\n      <td>0.761028</td>\n      <td>0</td>\n    </tr>\n    <tr>\n      <th>...</th>\n      <td>...</td>\n      <td>...</td>\n      <td>...</td>\n      <td>...</td>\n      <td>...</td>\n      <td>...</td>\n      <td>...</td>\n      <td>...</td>\n      <td>...</td>\n      <td>...</td>\n      <td>...</td>\n      <td>...</td>\n      <td>...</td>\n      <td>...</td>\n      <td>...</td>\n      <td>...</td>\n      <td>...</td>\n      <td>...</td>\n      <td>...</td>\n      <td>...</td>\n      <td>...</td>\n    </tr>\n    <tr>\n      <th>OSUX92071</th>\n      <td>42.384783</td>\n      <td>98.213522</td>\n      <td>275.921086</td>\n      <td>509.415791</td>\n      <td>1734.539050</td>\n      <td>0.000000</td>\n      <td>4968.850596</td>\n      <td>552.252200</td>\n      <td>797.302786</td>\n      <td>2019.896767</td>\n      <td>...</td>\n      <td>-0.013195</td>\n      <td>-0.006290</td>\n      <td>-1.456657e-04</td>\n      <td>0.006863</td>\n      <td>0.019363</td>\n      <td>-0.180602</td>\n      <td>0.032870</td>\n      <td>-0.001012</td>\n      <td>0.022347</td>\n      <td>2</td>\n    </tr>\n    <tr>\n      <th>OSUX92008</th>\n      <td>60.044073</td>\n      <td>113.846901</td>\n      <td>323.971240</td>\n      <td>582.606358</td>\n      <td>1036.441333</td>\n      <td>0.000000</td>\n      <td>3252.044721</td>\n      <td>469.226709</td>\n      <td>565.038959</td>\n      <td>2330.556507</td>\n      <td>...</td>\n      <td>-0.033016</td>\n      <td>-0.006065</td>\n      <td>4.739615e-05</td>\n      <td>0.008182</td>\n      <td>0.023711</td>\n      <td>-0.119311</td>\n      <td>0.119162</td>\n      <td>-0.001884</td>\n      <td>0.033022</td>\n      <td>2</td>\n    </tr>\n    <tr>\n      <th>OSUX91121</th>\n      <td>66.956676</td>\n      <td>138.476526</td>\n      <td>334.746006</td>\n      <td>596.234364</td>\n      <td>1365.947767</td>\n      <td>42.390056</td>\n      <td>5886.617958</td>\n      <td>652.055638</td>\n      <td>1119.869470</td>\n      <td>2660.409775</td>\n      <td>...</td>\n      <td>-0.010799</td>\n      <td>-0.003606</td>\n      <td>1.840711e-04</td>\n      <td>0.006951</td>\n      <td>0.023679</td>\n      <td>-0.018316</td>\n      <td>0.027926</td>\n      <td>0.001982</td>\n      <td>0.011728</td>\n      <td>2</td>\n    </tr>\n    <tr>\n      <th>OSUX91143</th>\n      <td>90.066320</td>\n      <td>141.983451</td>\n      <td>323.214222</td>\n      <td>635.102619</td>\n      <td>1447.090670</td>\n      <td>42.384352</td>\n      <td>6230.843732</td>\n      <td>652.128273</td>\n      <td>1043.556535</td>\n      <td>2741.029578</td>\n      <td>...</td>\n      <td>-0.011116</td>\n      <td>-0.002726</td>\n      <td>8.818090e-05</td>\n      <td>0.004994</td>\n      <td>0.011873</td>\n      <td>-0.029209</td>\n      <td>0.034114</td>\n      <td>0.000903</td>\n      <td>0.011857</td>\n      <td>2</td>\n    </tr>\n    <tr>\n      <th>950227D02</th>\n      <td>60.555710</td>\n      <td>123.400641</td>\n      <td>248.821498</td>\n      <td>467.775872</td>\n      <td>607.061122</td>\n      <td>0.000000</td>\n      <td>1014.759424</td>\n      <td>309.864157</td>\n      <td>257.519475</td>\n      <td>2111.735728</td>\n      <td>...</td>\n      <td>-0.027101</td>\n      <td>-0.014470</td>\n      <td>-4.449623e-04</td>\n      <td>0.009539</td>\n      <td>0.029714</td>\n      <td>-0.041115</td>\n      <td>0.047308</td>\n      <td>-0.000006</td>\n      <td>0.020923</td>\n      <td>0</td>\n    </tr>\n  </tbody>\n</table>\n<p>347 rows × 73 columns</p>\n</div>"
     },
     "execution_count": 7,
     "metadata": {},
     "output_type": "execute_result"
    }
   ],
   "source": [
    "# Generate kinematic statistics on the dataset and then convert\n",
    "# the dataset from point-form representation into traj-form representation.\n",
    "pivoted_train = Statistics.pivot_stats_df(\n",
    "    dataframe=Statistics.generate_kinematic_stats(training, 'Species'),\n",
    "    target_col_name='Species')\n",
    "\n",
    "# Pivoting the test data\n",
    "pivoted_test = Statistics.pivot_stats_df(\n",
    "    dataframe=Statistics.generate_kinematic_stats(testing, 'Species'),\n",
    "    target_col_name='Species')\n",
    "pivoted_train"
   ],
   "metadata": {
    "collapsed": false
   }
  },
  {
   "cell_type": "code",
   "execution_count": 8,
   "outputs": [
    {
     "name": "stdout",
     "output_type": "stream",
     "text": [
      "0.9607223015711079\n"
     ]
    },
    {
     "data": {
      "text/plain": "<Figure size 1152x648 with 1 Axes>",
      "image/png": "[encoded data removed]"
     },
     "metadata": {
      "needs_background": "light"
     },
     "output_type": "display_data"
    }
   ],
   "source": [
    "# Predicting the results for the original dataset.\n",
    "fig, ax = plt.subplots(1, 1, figsize=(16, 9))\n",
    "model = RandomForestClassifier()\n",
    "scaler = MinMaxScaler(feature_range=(0, 1))\n",
    "pca = PCA(n_components=2)\n",
    "\n",
    "\n",
    "X_train, Y_train = pivoted_train.drop(columns=['Species']), pivoted_train['Species']\n",
    "X_test, Y_test = pivoted_test.drop(columns=['Species']), pivoted_test['Species']\n",
    "\n",
    "scaled_trainX = scaler.fit_transform(X_train)\n",
    "scaled_testX = scaler.fit_transform(X_test)\n",
    "pcaXTrain = pca.fit_transform(scaled_trainX)\n",
    "pcaXTest = pca.fit_transform(scaled_testX)\n",
    "# for i in range(len(pcaXTrain)):\n",
    "#     if 'aug' in X_train.reset_index().iloc[i].traj_id:\n",
    "#         ax.scatter(pcaXTrain[:, 0], pcaXTrain[:, 1], c='green', s=225)\n",
    "#     else:\n",
    "#         ax.scatter(pcaXTrain[:, 0], pcaXTrain[:, 1], c='red', s=150)\n",
    "\n",
    "\n",
    "\n",
    "\n",
    "model.fit(X_train, Y_train)\n",
    "\n",
    "predicted = model.predict(X_test)\n",
    "prediction_score = f1_score(list(Y_test), list(predicted), average='weighted')\n",
    "print(prediction_score)\n",
    "# fig.tight_layout()"
   ],
   "metadata": {
    "collapsed": false
   }
  },
  {
   "cell_type": "code",
   "execution_count": 11,
   "outputs": [],
   "source": [
    "pivoted_train.to_csv('./train.csv')"
   ],
   "metadata": {
    "collapsed": false
   }
  },
  {
   "cell_type": "code",
   "execution_count": null,
   "outputs": [],
   "source": [],
   "metadata": {
    "collapsed": false
   }
  }
 ],
 "metadata": {
  "kernelspec": {
   "display_name": "Python 3",
   "language": "python",
   "name": "python3"
  },
  "language_info": {
   "codemirror_mode": {
    "name": "ipython",
    "version": 2
   },
   "file_extension": ".py",
   "mimetype": "text/x-python",
   "name": "python",
   "nbconvert_exporter": "python",
   "pygments_lexer": "ipython2",
   "version": "2.7.6"
  }
 },
 "nbformat": 4,
 "nbformat_minor": 0
}
