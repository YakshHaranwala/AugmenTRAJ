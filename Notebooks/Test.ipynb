{
 "cells": [
  {
   "cell_type": "code",
   "execution_count": 1,
   "metadata": {
    "collapsed": true,
    "ExecuteTime": {
     "end_time": "2023-05-13T16:23:21.847276863Z",
     "start_time": "2023-05-13T16:23:20.475173528Z"
    }
   },
   "outputs": [],
   "source": [
    "import random\n",
    "\n",
    "from ptrail.core.Datasets import Datasets\n",
    "from ptrail.features.kinematic_features import KinematicFeatures\n",
    "from ptrail.preprocessing.statistics import Statistics\n",
    "from sklearn.ensemble import RandomForestClassifier\n",
    "from sklearn.metrics import f1_score\n",
    "\n",
    "from src.augmentation.augment import Augmentation\n",
    "from src.selection.select import Selection"
   ]
  },
  {
   "cell_type": "code",
   "execution_count": 2,
   "outputs": [
    {
     "name": "stdout",
     "output_type": "stream",
     "text": [
      "------------------------ Dataset Facts ------------------------------\n",
      "\n",
      "Number of unique Trajectories in the data: 253\n",
      "Number of points in the data: 287136\n",
      "Dataset time range: 1196 days 22:51:45\n",
      "Datatype of the DataFrame: <class 'ptrail.core.TrajectoryDF.PTRAILDataFrame'>\n",
      "Dataset Bounding Box: (45.18896978643169, -118.61020848239596, 45.314545642992, -118.50455596234036)\n",
      "\n",
      "---------------------------------------------------------------------\n"
     ]
    }
   ],
   "source": [
    "# Load the dataset and create the distance column in it which is necessary for Augmentation.\n",
    "starkey_data = Datasets.load_starkey()\n",
    "ready_dataset = KinematicFeatures.create_distance_column(starkey_data).reset_index()"
   ],
   "metadata": {
    "collapsed": false,
    "ExecuteTime": {
     "end_time": "2023-05-13T16:23:26.367343125Z",
     "start_time": "2023-05-13T16:23:21.846886733Z"
    }
   }
  },
  {
   "cell_type": "code",
   "execution_count": 3,
   "outputs": [],
   "source": [
    "traj_ids = list(ready_dataset['traj_id'].unique())\n",
    "train_size = int(len(traj_ids) * 0.75)\n",
    "\n",
    "train_traj_ids = random.sample(traj_ids, train_size)\n",
    "test_traj_ids = []\n",
    "for t in traj_ids:\n",
    "    if t not in train_traj_ids:\n",
    "        test_traj_ids.append(t)\n",
    "\n",
    "training, testing = ready_dataset.loc[ready_dataset.traj_id.isin(train_traj_ids)], \\\n",
    "    ready_dataset.loc[ready_dataset.traj_id.isin(test_traj_ids)]\n",
    "\n",
    "# Get the original train and test data ready.\n",
    "pivoted_train =Statistics.pivot_stats_df(\n",
    "    dataframe=Statistics.generate_kinematic_stats(training, 'Species'),\n",
    "    target_col_name='Species'\n",
    ")\n",
    "\n",
    "pivoted_test = Statistics.pivot_stats_df(\n",
    "    dataframe=Statistics.generate_kinematic_stats(testing, 'Species'),\n",
    "    target_col_name='Species'\n",
    ")"
   ],
   "metadata": {
    "collapsed": false,
    "ExecuteTime": {
     "end_time": "2023-05-13T16:23:55.389412041Z",
     "start_time": "2023-05-13T16:23:26.378111723Z"
    }
   }
  },
  {
   "cell_type": "code",
   "execution_count": 4,
   "outputs": [],
   "source": [
    "def augment_trajectories(dataset, to_augment):\n",
    "    print(f\"Trajectories before augmentation: {len(dataset.traj_id.unique())}\")\n",
    "    dataset = Augmentation.augment_trajectories_with_randomly_generated_points(dataset,\n",
    "                                                                           ids_to_augment=to_augment,\n",
    "                                                                           circle='in')\n",
    "\n",
    "    for i in range(1, 5):\n",
    "        dataset = Augmentation.augment_trajectories_with_randomly_generated_points(dataset,\n",
    "                                                                                   ids_to_augment=to_augment,\n",
    "                                                                                   circle='in')\n",
    "\n",
    "\n",
    "    for i in range(0, 5):\n",
    "        dataset = Augmentation.augment_trajectories_with_randomly_generated_points(dataset,\n",
    "                                                                                   ids_to_augment=to_augment,\n",
    "                                                                                   circle='on')\n",
    "\n",
    "    print(f\"Trajectories after augmentation: {len(dataset.traj_id.unique())}\")\n",
    "    return Statistics.pivot_stats_df(dataframe=Statistics.generate_kinematic_stats(dataset, 'Species'), target_col_name='Species')\n"
   ],
   "metadata": {
    "collapsed": false,
    "ExecuteTime": {
     "end_time": "2023-05-13T16:23:55.429845024Z",
     "start_time": "2023-05-13T16:23:55.429607258Z"
    }
   }
  },
  {
   "cell_type": "code",
   "execution_count": 5,
   "outputs": [
    {
     "name": "stdout",
     "output_type": "stream",
     "text": [
      "Trajectories before augmentation: 189\n",
      "Trajectories after augmentation: 559\n",
      "CPU times: user 2min 18s, sys: 2.52 s, total: 2min 21s\n",
      "Wall time: 2min 25s\n"
     ]
    }
   ],
   "source": [
    "%%time\n",
    "\n",
    "# Random selection\n",
    "selected = Selection.select_randomly(training, k=0.2)\n",
    "random_augmented = augment_trajectories(dataset=training, to_augment=selected)"
   ],
   "metadata": {
    "collapsed": false,
    "ExecuteTime": {
     "end_time": "2023-05-13T16:26:20.501821737Z",
     "start_time": "2023-05-13T16:23:55.429752619Z"
    }
   }
  },
  {
   "cell_type": "code",
   "execution_count": 6,
   "outputs": [
    {
     "name": "stdout",
     "output_type": "stream",
     "text": [
      "Trajectories before augmentation: 189\n",
      "Trajectories after augmentation: 579\n",
      "CPU times: user 2min 20s, sys: 2.75 s, total: 2min 23s\n",
      "Wall time: 2min 27s\n"
     ]
    }
   ],
   "source": [
    "%%time\n",
    "\n",
    "# Proportional selection\n",
    "proportionally_selected = Selection.select_trajectories_proportionally(training, classification_col='Species', k=0.2)\n",
    "prop_augmented = augment_trajectories(dataset=training, to_augment=proportionally_selected)"
   ],
   "metadata": {
    "collapsed": false,
    "ExecuteTime": {
     "end_time": "2023-05-13T16:28:47.762364878Z",
     "start_time": "2023-05-13T16:26:20.501597809Z"
    }
   }
  },
  {
   "cell_type": "code",
   "execution_count": 7,
   "outputs": [
    {
     "name": "stdout",
     "output_type": "stream",
     "text": [
      "Trajectories before augmentation: 189\n",
      "Trajectories after augmentation: 569\n",
      "CPU times: user 1min 10s, sys: 1.48 s, total: 1min 12s\n",
      "Wall time: 1min 14s\n"
     ]
    }
   ],
   "source": [
    "%%time\n",
    "\n",
    "# Fewest selection\n",
    "fewest_selection = Selection.select_with_fewest_points(training, k=0.2)\n",
    "fewest_augmented = augment_trajectories(dataset=training, to_augment=fewest_selection)"
   ],
   "metadata": {
    "collapsed": false,
    "ExecuteTime": {
     "end_time": "2023-05-13T16:30:02.310505186Z",
     "start_time": "2023-05-13T16:28:47.774792562Z"
    }
   }
  },
  {
   "cell_type": "code",
   "execution_count": 8,
   "outputs": [
    {
     "name": "stdout",
     "output_type": "stream",
     "text": [
      "Trajectories before augmentation: 189\n",
      "Trajectories after augmentation: 549\n",
      "CPU times: user 2min 38s, sys: 4.4 s, total: 2min 43s\n",
      "Wall time: 2min 49s\n"
     ]
    }
   ],
   "source": [
    "%%time\n",
    "\n",
    "# Representative selection\n",
    "rep_selection = Selection.select_representative_trajectories(training, 'Species', closeness_cutoff=0.7, tolerance=10)\n",
    "rep_augmented = augment_trajectories(dataset=training, to_augment=rep_selection)"
   ],
   "metadata": {
    "collapsed": false,
    "ExecuteTime": {
     "end_time": "2023-05-13T16:32:52.158124626Z",
     "start_time": "2023-05-13T16:30:02.309979175Z"
    }
   }
  },
  {
   "cell_type": "code",
   "execution_count": 9,
   "outputs": [
    {
     "name": "stdout",
     "output_type": "stream",
     "text": [
      "(Original) F1 Score: 0.9369\n",
      "(Random Augmented) F1 Score: 0.9519\n",
      "(Proportionally Augmented) F1 Score: 0.9221\n",
      "(Fewest Augmented) F1 Score: 0.9517\n",
      "(Representative Augmented) F1 Score: 0.9221\n"
     ]
    }
   ],
   "source": [
    "training_names = [\"Original\", \"Random Augmented\", \"Proportionally Augmented\", \"Fewest Augmented\", \"Representative Augmented\"]\n",
    "train_sets = [pivoted_train, random_augmented, prop_augmented, fewest_augmented, rep_augmented]\n",
    "\n",
    "for name, train in zip(training_names, train_sets):\n",
    "    model = RandomForestClassifier(n_estimators=256)\n",
    "    x_train = train.drop(columns=['Species'])\n",
    "    y_train = train['Species']\n",
    "    model.fit(X=x_train, y=y_train)\n",
    "\n",
    "    x_test = pivoted_test.drop(columns=['Species'])\n",
    "    y_test = pivoted_test['Species']\n",
    "    pred_vals = model.predict(X=x_test)\n",
    "    score = f1_score(y_true=y_test, y_pred=pred_vals, average='weighted')\n",
    "    print(f\"({name}) F1 Score: {score:.4f}\")"
   ],
   "metadata": {
    "collapsed": false,
    "ExecuteTime": {
     "end_time": "2023-05-13T16:32:54.387752609Z",
     "start_time": "2023-05-13T16:32:52.149551534Z"
    }
   }
  }
 ],
 "metadata": {
  "kernelspec": {
   "display_name": "Python 3",
   "language": "python",
   "name": "python3"
  },
  "language_info": {
   "codemirror_mode": {
    "name": "ipython",
    "version": 2
   },
   "file_extension": ".py",
   "mimetype": "text/x-python",
   "name": "python",
   "nbconvert_exporter": "python",
   "pygments_lexer": "ipython2",
   "version": "2.7.6"
  }
 },
 "nbformat": 4,
 "nbformat_minor": 0
}
