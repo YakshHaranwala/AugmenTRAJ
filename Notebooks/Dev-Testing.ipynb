{
 "cells": [
  {
   "cell_type": "code",
   "execution_count": 1,
   "outputs": [],
   "source": [
    "import random\n",
    "\n",
    "from ptrail.core.Datasets import Datasets\n",
    "from ptrail.features.kinematic_features import KinematicFeatures\n",
    "from ptrail.preprocessing.statistics import Statistics\n",
    "from sklearn.ensemble import RandomForestClassifier, GradientBoostingClassifier\n",
    "from sklearn.metrics import f1_score, accuracy_score\n",
    "\n",
    "from src.augmentation.augment import Augmentation\n",
    "from src.selection.select import Selection\n",
    "from src.utils.general_utils import Utilities"
   ],
   "metadata": {
    "collapsed": false,
    "ExecuteTime": {
     "end_time": "2023-05-22T20:40:03.664335692Z",
     "start_time": "2023-05-22T20:40:01.417517342Z"
    }
   }
  },
  {
   "cell_type": "code",
   "execution_count": 2,
   "metadata": {
    "collapsed": true,
    "ExecuteTime": {
     "end_time": "2023-05-22T20:40:16.261033060Z",
     "start_time": "2023-05-22T20:40:03.667987791Z"
    }
   },
   "outputs": [
    {
     "name": "stdout",
     "output_type": "stream",
     "text": [
      "------------------------ Dataset Facts ------------------------------\n",
      "\n",
      "Number of unique Trajectories in the data: 253\n",
      "Number of points in the data: 287136\n",
      "Dataset time range: 1196 days 22:51:45\n",
      "Datatype of the DataFrame: <class 'ptrail.core.TrajectoryDF.PTRAILDataFrame'>\n",
      "Dataset Bounding Box: (45.18896978643169, -118.61020848239596, 45.314545642992, -118.50455596234036)\n",
      "\n",
      "---------------------------------------------------------------------\n"
     ]
    }
   ],
   "source": [
    "starkey_data = Datasets.load_starkey()\n",
    "ready_dataset = KinematicFeatures.create_distance_column(starkey_data).reset_index()"
   ]
  },
  {
   "cell_type": "code",
   "execution_count": 3,
   "outputs": [],
   "source": [
    "traj_ids = list(ready_dataset['traj_id'].unique())\n",
    "train_size = int(len(traj_ids) * 0.8)\n",
    "\n",
    "seed = Utilities.generate_pi_seed(1)\n",
    "seed = next(seed)\n",
    "\n",
    "random.seed(seed)\n",
    "train_traj_ids = random.sample(traj_ids, train_size)\n",
    "test_traj_ids = []\n",
    "for t in traj_ids:\n",
    "    if t not in train_traj_ids:\n",
    "        test_traj_ids.append(t)\n",
    "\n",
    "training = ready_dataset.loc[ready_dataset.traj_id.isin(train_traj_ids)]\n",
    "testing = ready_dataset.loc[ready_dataset.traj_id.isin(test_traj_ids)]\n",
    "\n",
    "# Get the original train and test data ready.\n",
    "pivoted_train = Statistics.pivot_stats_df(\n",
    "    dataframe=Statistics.generate_kinematic_stats(training, 'Species'),\n",
    "    target_col_name='Species'\n",
    ")\n",
    "\n",
    "pivoted_test = Statistics.pivot_stats_df(\n",
    "    dataframe=Statistics.generate_kinematic_stats(testing, 'Species'),\n",
    "    target_col_name='Species'\n",
    ")\n",
    "\n",
    "x_test = pivoted_test.drop(columns=['Species'])\n",
    "y_test = pivoted_test['Species']"
   ],
   "metadata": {
    "collapsed": false,
    "ExecuteTime": {
     "end_time": "2023-05-22T20:41:03.734830668Z",
     "start_time": "2023-05-22T20:40:16.279899351Z"
    }
   }
  },
  {
   "cell_type": "code",
   "execution_count": 4,
   "outputs": [
    {
     "name": "stdout",
     "output_type": "stream",
     "text": [
      "CPU times: user 3.22 s, sys: 3.99 ms, total: 3.23 s\n",
      "Wall time: 3.22 s\n"
     ]
    },
    {
     "data": {
      "text/plain": "'1415, Base, XGBoost, 0.9607843137254902, 0.9607843137254902'"
     },
     "execution_count": 4,
     "metadata": {},
     "output_type": "execute_result"
    }
   ],
   "source": [
    "%%time\n",
    "b_trainX = pivoted_train.drop(columns='Species')\n",
    "b_trainY = pivoted_train['Species']\n",
    "\n",
    "model = GradientBoostingClassifier(n_estimators=512)\n",
    "model.fit(b_trainX, b_trainY)\n",
    "\n",
    "predicted = model.predict(x_test)\n",
    "acc = accuracy_score(y_true=y_test, y_pred=predicted)\n",
    "f1 = f1_score(y_true=y_test, y_pred=predicted, average='weighted')\n",
    "f\"{seed}, Base, XGBoost, {acc}, {f1}\""
   ],
   "metadata": {
    "collapsed": false,
    "ExecuteTime": {
     "end_time": "2023-05-22T20:41:06.926337217Z",
     "start_time": "2023-05-22T20:41:03.734592610Z"
    }
   }
  },
  {
   "cell_type": "code",
   "execution_count": 5,
   "outputs": [
    {
     "data": {
      "text/plain": "'1415, Balanced, XGBoost, 0.9803921568627451, 0.980125383486728'"
     },
     "execution_count": 5,
     "metadata": {},
     "output_type": "execute_result"
    }
   ],
   "source": [
    "balanced = Augmentation.balance_dataset_with_augmentation(dataset=training, classification_col='Species')\n",
    "balanced = Statistics.pivot_stats_df(\n",
    "    dataframe=Statistics.generate_kinematic_stats(balanced, 'Species'),\n",
    "    target_col_name='Species'\n",
    ")\n",
    "\n",
    "model = GradientBoostingClassifier(n_estimators=512)\n",
    "\n",
    "# Augment the trajectories and create the training set.\n",
    "x_train = balanced.drop(columns=['Species'])\n",
    "y_train = balanced['Species']\n",
    "\n",
    "# Fit the model and predict.\n",
    "model.fit(X=x_train, y=y_train)\n",
    "pred_vals = model.predict(X=x_test)\n",
    "\n",
    "# Calculate the accuracy and f1 score.\n",
    "acc = accuracy_score(y_true=y_test, y_pred=pred_vals)\n",
    "score = f1_score(y_true=y_test, y_pred=pred_vals, average='weighted')\n",
    "f\"{seed}, Balanced, XGBoost, {acc}, {score}\""
   ],
   "metadata": {
    "collapsed": false,
    "ExecuteTime": {
     "end_time": "2023-05-22T20:43:10.265500975Z",
     "start_time": "2023-05-22T20:41:06.929524132Z"
    }
   }
  }
 ],
 "metadata": {
  "kernelspec": {
   "display_name": "Python 3",
   "language": "python",
   "name": "python3"
  },
  "language_info": {
   "codemirror_mode": {
    "name": "ipython",
    "version": 2
   },
   "file_extension": ".py",
   "mimetype": "text/x-python",
   "name": "python",
   "nbconvert_exporter": "python",
   "pygments_lexer": "ipython2",
   "version": "2.7.6"
  }
 },
 "nbformat": 4,
 "nbformat_minor": 0
}
