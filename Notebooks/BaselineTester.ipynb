{
 "cells": [
  {
   "cell_type": "code",
   "execution_count": 1,
   "id": "199bab7a",
   "metadata": {
    "pycharm": {
     "name": "#%%\n"
    }
   },
   "outputs": [],
   "source": [
    "import sys\n",
    "sys.path.append('/home/nicholasjesperson/Documents/School/Comp4780/Data_Augmentation/Data Augmentation/paper/AugmenTRAJ')"
   ]
  },
  {
   "cell_type": "code",
   "execution_count": 2,
   "id": "20fc4838",
   "metadata": {
    "scrolled": true,
    "pycharm": {
     "name": "#%%\n"
    }
   },
   "outputs": [
    {
     "name": "stdout",
     "output_type": "stream",
     "text": [
      "------------------------ Dataset Facts ------------------------------\n",
      "\n",
      "Number of unique Trajectories in the data: 1814\n",
      "Number of points in the data: 49105\n",
      "Dataset time range: 60041 days 12:00:00\n",
      "Datatype of the DataFrame: <class 'ptrail.core.TrajectoryDF.PTRAILDataFrame'>\n",
      "Dataset Bounding Box: (7.2, -109.5, 81.0, 63.0)\n",
      "\n",
      "---------------------------------------------------------------------\n"
     ]
    },
    {
     "data": {
      "text/plain": "(49105, 21)"
     },
     "execution_count": 2,
     "metadata": {},
     "output_type": "execute_result"
    }
   ],
   "source": [
    "import pandas as pd\n",
    "from ptrail.core.TrajectoryDF import PTRAILDataFrame\n",
    "from ptrail.core.Datasets import Datasets\n",
    "from ptrail.preprocessing.statistics import Statistics\n",
    "\n",
    "from sklearn.model_selection import train_test_split\n",
    "from sklearn.ensemble import RandomForestClassifier\n",
    "from sklearn.metrics import f1_score, average_precision_score\n",
    "\n",
    "pd.set_option('use_inf_as_na', True)\n",
    "\n",
    "# Load the Starkey dataset.\n",
    "hurricane = Datasets.load_hurricanes()\n",
    "hurricane.shape"
   ]
  },
  {
   "cell_type": "code",
   "execution_count": 3,
   "id": "ec0f0f0c",
   "metadata": {
    "pycharm": {
     "name": "#%%\n"
    }
   },
   "outputs": [],
   "source": [
    "stats_df = Statistics.generate_kinematic_stats(dataframe=hurricane,\n",
    "                                               target_col_name='Status')\n",
    "pivoted = Statistics.pivot_stats_df(dataframe=stats_df,\n",
    "                                    target_col_name='Status').dropna()"
   ]
  },
  {
   "cell_type": "code",
   "execution_count": 4,
   "id": "bcc539db",
   "metadata": {
    "pycharm": {
     "name": "#%%\n"
    }
   },
   "outputs": [
    {
     "name": "stdout",
     "output_type": "stream",
     "text": [
      "0.562921212121212\n",
      "0.5432676056338029\n",
      "0.5069529308202154\n",
      "0.5579241683869451\n",
      "0.5350866241626466\n",
      "0.46302425675118225\n",
      "0.5208054776390812\n",
      "0.5453972153336484\n",
      "0.5274198573706648\n",
      "0.49738447698418053\n",
      "0.5634949700932246\n",
      "0.5270645152621468\n",
      "0.5129519021389933\n",
      "0.5468521484910317\n",
      "0.5059671829225763\n",
      "0.46953737135545726\n",
      "0.5419909402081365\n",
      "0.5353497570790597\n",
      "0.5082506011679835\n",
      "0.5191947003659383\n",
      "0.5429285701198824\n",
      "0.525700476128409\n",
      "0.5016749676443224\n",
      "0.5426232376927594\n",
      "0.5468441957179359\n",
      "0.47755663469822107\n",
      "0.5168831341626003\n",
      "0.542237190679145\n",
      "0.482574430321768\n",
      "0.5048799347669971\n"
     ]
    }
   ],
   "source": [
    "seeds = [14159,26535,89793] #Model states\n",
    "split_states = [526, 14855, 62586, 324578, 74125, 32155, 7, 4852, 94652, 33333]\n",
    "text_file = open(\"baselineHurricane.txt\", \"w\")\n",
    "for s in seeds:\n",
    "    model = RandomForestClassifier(random_state=s)\n",
    "    for state in split_states:\n",
    "        X_train, X_test, y_train, y_test = train_test_split(\n",
    "        pivoted.drop(columns=['Status']), pivoted['Status'], test_size=0.2, random_state=state)\n",
    "\n",
    "        model.fit(X_train, y_train)\n",
    "        test_predict = model.predict(X_test)\n",
    "        performance_val = f1_score(y_test, test_predict, average='weighted')\n",
    "        print(performance_val)\n",
    "\n",
    "        text_file.writelines(str(performance_val) + '\\n')\n",
    "    \n",
    "text_file.close()"
   ]
  }
 ],
 "metadata": {
  "kernelspec": {
   "display_name": "Python 3 (ipykernel)",
   "language": "python",
   "name": "python3"
  },
  "language_info": {
   "codemirror_mode": {
    "name": "ipython",
    "version": 3
   },
   "file_extension": ".py",
   "mimetype": "text/x-python",
   "name": "python",
   "nbconvert_exporter": "python",
   "pygments_lexer": "ipython3",
   "version": "3.9.7"
  }
 },
 "nbformat": 4,
 "nbformat_minor": 5
}