{
 "cells": [
  {
   "cell_type": "code",
   "execution_count": 1,
   "outputs": [],
   "source": [
    "import random\n",
    "\n",
    "import pandas as pd\n",
    "from ptrail.core.Datasets import Datasets\n",
    "from ptrail.features.kinematic_features import KinematicFeatures\n",
    "from ptrail.preprocessing.statistics import Statistics\n",
    "from sklearn.ensemble import GradientBoostingClassifier, RandomForestClassifier, ExtraTreesClassifier\n",
    "from sklearn.tree import DecisionTreeClassifier\n",
    "from sklearn.svm import SVC\n",
    "from sklearn.metrics import f1_score, accuracy_score\n",
    "\n",
    "from src.augmentation.augment import Augmentation\n",
    "from src.selection.select import Selection\n",
    "from src.utils.general_utils import Utilities"
   ],
   "metadata": {
    "collapsed": false,
    "ExecuteTime": {
     "end_time": "2023-06-08T01:55:55.688398777Z",
     "start_time": "2023-06-08T01:55:53.351577680Z"
    }
   }
  },
  {
   "cell_type": "code",
   "execution_count": 2,
   "metadata": {
    "collapsed": true,
    "ExecuteTime": {
     "end_time": "2023-06-08T01:55:55.699421386Z",
     "start_time": "2023-06-08T01:55:55.688826510Z"
    }
   },
   "outputs": [],
   "source": [
    "def augment_trajectories(dataset, ids_to_augment, circle, class_col, random_):\n",
    "    if random_:\n",
    "        print(\"Performing Random Augmentation\")\n",
    "        dataset = Augmentation.augment_trajectories_with_randomly_generated_points(dataset,\n",
    "                                                                                   ids_to_augment=ids_to_augment,\n",
    "                                                                                   circle=circle)\n",
    "\n",
    "        for i in range(1, 3):\n",
    "            dataset = Augmentation.augment_trajectories_with_randomly_generated_points(dataset,\n",
    "                                                                                       ids_to_augment=ids_to_augment,\n",
    "                                                                                       circle=circle)\n",
    "\n",
    "    else:\n",
    "        print(\"Performing Drop-Augmentation\")\n",
    "        dataset = Augmentation.augment_trajectories_by_dropping_points(dataset, ids_to_augment)\n",
    "\n",
    "        for i in range(1, 3):\n",
    "            dataset = Augmentation.augment_trajectories_by_dropping_points(dataset, ids_to_augment)\n",
    "\n",
    "    pivoted = Statistics.pivot_stats_df(dataframe=Statistics.generate_kinematic_stats(dataset, class_col), target_col_name=class_col)\n",
    "    return pivoted.drop(columns=[class_col]), pivoted[class_col]\n"
   ]
  },
  {
   "cell_type": "code",
   "execution_count": 3,
   "outputs": [
    {
     "name": "stdout",
     "output_type": "stream",
     "text": [
      "------------------------ Dataset Facts ------------------------------\n",
      "\n",
      "Number of unique Trajectories in the data: 253\n",
      "Number of points in the data: 287136\n",
      "Dataset time range: 1196 days 22:51:45\n",
      "Datatype of the DataFrame: <class 'ptrail.core.TrajectoryDF.PTRAILDataFrame'>\n",
      "Dataset Bounding Box: (45.18896978643169, -118.61020848239596, 45.314545642992, -118.50455596234036)\n",
      "\n",
      "---------------------------------------------------------------------\n"
     ]
    }
   ],
   "source": [
    "starkey_data = Datasets.load_starkey()\n",
    "ready_dataset = KinematicFeatures.create_distance_column(starkey_data).reset_index()"
   ],
   "metadata": {
    "collapsed": false,
    "ExecuteTime": {
     "end_time": "2023-06-08T01:56:01.514570345Z",
     "start_time": "2023-06-08T01:55:55.689072096Z"
    }
   }
  },
  {
   "cell_type": "code",
   "execution_count": 4,
   "outputs": [],
   "source": [
    "def get_test_train_data(seed_val, k=0.8):\n",
    "    \"\"\"\n",
    "        Given the seed value and a proportion, split the\n",
    "        data into training and testing set and return it.\n",
    "\n",
    "        Parameters\n",
    "        ----------\n",
    "        seed_val: int\n",
    "            The seed value to use to control the randomness\n",
    "            while selecting the train-test split.\n",
    "        k: float\n",
    "            The percent of data to be used as training data.\n",
    "\n",
    "        Returns\n",
    "        -------\n",
    "            tuple:\n",
    "                training, testing_x and testing_y\n",
    "    \"\"\"\n",
    "    # Get all the Trajectory Ids and set the random state.\n",
    "    traj_ids = list(ready_dataset['traj_id'].unique())\n",
    "    random.seed(seed_val)\n",
    "\n",
    "    # Select the ids to be used as training set and the calculate subsequent testing ids.\n",
    "    train_size = int(len(traj_ids) * k)\n",
    "    train_traj_ids = random.sample(traj_ids, train_size)\n",
    "    test_traj_ids = [id_ for id_ in traj_ids if id_ not in train_traj_ids]\n",
    "\n",
    "    # Split the data into training and testing sets.\n",
    "    training = ready_dataset.loc[ready_dataset.traj_id.isin(train_traj_ids)]\n",
    "    testing = ready_dataset.loc[ready_dataset.traj_id.isin(test_traj_ids)]\n",
    "\n",
    "    pivoted_test = Statistics.pivot_stats_df(Statistics.generate_kinematic_stats(testing, 'Species', False), 'Species')\n",
    "\n",
    "    return training, pivoted_test.drop(columns=['Species']), pivoted_test['Species']"
   ],
   "metadata": {
    "collapsed": false,
    "ExecuteTime": {
     "end_time": "2023-06-08T01:56:01.521265207Z",
     "start_time": "2023-06-08T01:56:01.519678155Z"
    }
   }
  },
  {
   "cell_type": "code",
   "execution_count": 5,
   "outputs": [
    {
     "name": "stdout",
     "output_type": "stream",
     "text": [
      "Performing Random Augmentation\n",
      "F1 Score: 0.9011800849372007, Accuracy: 0.9019607843137255\n"
     ]
    }
   ],
   "source": [
    "seed_generator = Utilities.generate_pi_seed(20)\n",
    "seed_vals = [next(seed_generator) for i in range(20)]\n",
    "\n",
    "training, test_x, test_y = get_test_train_data(seed_vals[0], 0.8)\n",
    "model = DecisionTreeClassifier()\n",
    "\n",
    "selected = Selection.select_randomly(training, seed_vals[0])\n",
    "train_x, train_y = augment_trajectories(dataset=training, ids_to_augment=selected, circle='in', class_col='Species', random_=True)\n",
    "\n",
    "model.fit(X=train_x, y=train_y)\n",
    "predicted = model.predict(X=test_x)\n",
    "\n",
    "f1 = f1_score(y_true=test_y, y_pred=predicted, average='weighted')\n",
    "accuracy = accuracy_score(y_true=test_y, y_pred=predicted)\n",
    "\n",
    "print(f\"F1 Score: {f1}, Accuracy: {accuracy}\")"
   ],
   "metadata": {
    "collapsed": false,
    "ExecuteTime": {
     "end_time": "2023-06-08T01:57:40.960412277Z",
     "start_time": "2023-06-08T01:56:01.526203451Z"
    }
   }
  },
  {
   "cell_type": "code",
   "execution_count": 6,
   "outputs": [
    {
     "name": "stdout",
     "output_type": "stream",
     "text": [
      "Performing Drop-Augmentation\n",
      "F1 Score: 0.8573583279465632, Accuracy: 0.8627450980392157\n"
     ]
    }
   ],
   "source": [
    "seed_generator = Utilities.generate_pi_seed(20)\n",
    "seed_vals = [next(seed_generator) for i in range(20)]\n",
    "\n",
    "training, test_x, test_y = get_test_train_data(seed_vals[0], 0.8)\n",
    "model = DecisionTreeClassifier()\n",
    "\n",
    "selected = Selection.select_randomly(training, seed_vals[0])\n",
    "train_x, train_y = augment_trajectories(dataset=training, ids_to_augment=selected, circle='in', class_col='Species', random_=False)\n",
    "\n",
    "model.fit(X=train_x, y=train_y)\n",
    "predicted = model.predict(X=test_x)\n",
    "\n",
    "f1 = f1_score(y_true=test_y, y_pred=predicted, average='weighted')\n",
    "accuracy = accuracy_score(y_true=test_y, y_pred=predicted)\n",
    "\n",
    "print(f\"F1 Score: {f1}, Accuracy: {accuracy}\")"
   ],
   "metadata": {
    "collapsed": false,
    "ExecuteTime": {
     "end_time": "2023-06-08T01:59:09.610361160Z",
     "start_time": "2023-06-08T01:57:40.949139846Z"
    }
   }
  }
 ],
 "metadata": {
  "kernelspec": {
   "display_name": "Python 3",
   "language": "python",
   "name": "python3"
  },
  "language_info": {
   "codemirror_mode": {
    "name": "ipython",
    "version": 2
   },
   "file_extension": ".py",
   "mimetype": "text/x-python",
   "name": "python",
   "nbconvert_exporter": "python",
   "pygments_lexer": "ipython2",
   "version": "2.7.6"
  }
 },
 "nbformat": 4,
 "nbformat_minor": 0
}
