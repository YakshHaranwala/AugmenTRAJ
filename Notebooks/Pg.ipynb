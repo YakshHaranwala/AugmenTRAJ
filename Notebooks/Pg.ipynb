{
 "cells": [
  {
   "cell_type": "code",
   "execution_count": 1,
   "metadata": {
    "collapsed": true,
    "ExecuteTime": {
     "end_time": "2023-06-20T22:08:04.442666388Z",
     "start_time": "2023-06-20T22:08:04.055656753Z"
    }
   },
   "outputs": [],
   "source": [
    "import pandas as pd"
   ]
  },
  {
   "cell_type": "code",
   "execution_count": 2,
   "outputs": [
    {
     "data": {
      "text/plain": "          Latitude   Longitude  Altitude            Date_Time  Id_user  \\\n0        41.741415   86.186028    -777.0  2008-03-31 16:00:08       10   \n1        41.737063   86.179470    -777.0  2008-03-31 16:01:07       10   \n2        41.734105   86.172823    -777.0  2008-03-31 16:02:07       10   \n3        41.739110   86.166563    -777.0  2008-03-31 16:03:06       10   \n4        41.744368   86.159987    -777.0  2008-03-31 16:04:05       10   \n...            ...         ...       ...                  ...      ...   \n3387298  40.070186  116.314153     -45.0  2008-11-29 02:01:31      179   \n3387299  40.070193  116.314041     -48.0  2008-11-29 02:01:33      179   \n3387300  40.070224  116.313923     -51.0  2008-11-29 02:01:35      179   \n3387301  40.070227  116.313843     -56.0  2008-11-29 02:01:37      179   \n3387302  40.070242  116.313808     -58.0  2008-11-29 02:01:39      179   \n\n                    Id_perc Label  \n0        20080331160008.plt  taxi  \n1        20080331160008.plt  taxi  \n2        20080331160008.plt  taxi  \n3        20080331160008.plt  taxi  \n4        20080331160008.plt  taxi  \n...                     ...   ...  \n3387298  20081129015805.plt   bus  \n3387299  20081129015805.plt   bus  \n3387300  20081129015805.plt   bus  \n3387301  20081129015805.plt   bus  \n3387302  20081129015805.plt   bus  \n\n[3387303 rows x 7 columns]",
      "text/html": "<div>\n<style scoped>\n    .dataframe tbody tr th:only-of-type {\n        vertical-align: middle;\n    }\n\n    .dataframe tbody tr th {\n        vertical-align: top;\n    }\n\n    .dataframe thead th {\n        text-align: right;\n    }\n</style>\n<table border=\"1\" class=\"dataframe\">\n  <thead>\n    <tr style=\"text-align: right;\">\n      <th></th>\n      <th>Latitude</th>\n      <th>Longitude</th>\n      <th>Altitude</th>\n      <th>Date_Time</th>\n      <th>Id_user</th>\n      <th>Id_perc</th>\n      <th>Label</th>\n    </tr>\n  </thead>\n  <tbody>\n    <tr>\n      <th>0</th>\n      <td>41.741415</td>\n      <td>86.186028</td>\n      <td>-777.0</td>\n      <td>2008-03-31 16:00:08</td>\n      <td>10</td>\n      <td>20080331160008.plt</td>\n      <td>taxi</td>\n    </tr>\n    <tr>\n      <th>1</th>\n      <td>41.737063</td>\n      <td>86.179470</td>\n      <td>-777.0</td>\n      <td>2008-03-31 16:01:07</td>\n      <td>10</td>\n      <td>20080331160008.plt</td>\n      <td>taxi</td>\n    </tr>\n    <tr>\n      <th>2</th>\n      <td>41.734105</td>\n      <td>86.172823</td>\n      <td>-777.0</td>\n      <td>2008-03-31 16:02:07</td>\n      <td>10</td>\n      <td>20080331160008.plt</td>\n      <td>taxi</td>\n    </tr>\n    <tr>\n      <th>3</th>\n      <td>41.739110</td>\n      <td>86.166563</td>\n      <td>-777.0</td>\n      <td>2008-03-31 16:03:06</td>\n      <td>10</td>\n      <td>20080331160008.plt</td>\n      <td>taxi</td>\n    </tr>\n    <tr>\n      <th>4</th>\n      <td>41.744368</td>\n      <td>86.159987</td>\n      <td>-777.0</td>\n      <td>2008-03-31 16:04:05</td>\n      <td>10</td>\n      <td>20080331160008.plt</td>\n      <td>taxi</td>\n    </tr>\n    <tr>\n      <th>...</th>\n      <td>...</td>\n      <td>...</td>\n      <td>...</td>\n      <td>...</td>\n      <td>...</td>\n      <td>...</td>\n      <td>...</td>\n    </tr>\n    <tr>\n      <th>3387298</th>\n      <td>40.070186</td>\n      <td>116.314153</td>\n      <td>-45.0</td>\n      <td>2008-11-29 02:01:31</td>\n      <td>179</td>\n      <td>20081129015805.plt</td>\n      <td>bus</td>\n    </tr>\n    <tr>\n      <th>3387299</th>\n      <td>40.070193</td>\n      <td>116.314041</td>\n      <td>-48.0</td>\n      <td>2008-11-29 02:01:33</td>\n      <td>179</td>\n      <td>20081129015805.plt</td>\n      <td>bus</td>\n    </tr>\n    <tr>\n      <th>3387300</th>\n      <td>40.070224</td>\n      <td>116.313923</td>\n      <td>-51.0</td>\n      <td>2008-11-29 02:01:35</td>\n      <td>179</td>\n      <td>20081129015805.plt</td>\n      <td>bus</td>\n    </tr>\n    <tr>\n      <th>3387301</th>\n      <td>40.070227</td>\n      <td>116.313843</td>\n      <td>-56.0</td>\n      <td>2008-11-29 02:01:37</td>\n      <td>179</td>\n      <td>20081129015805.plt</td>\n      <td>bus</td>\n    </tr>\n    <tr>\n      <th>3387302</th>\n      <td>40.070242</td>\n      <td>116.313808</td>\n      <td>-58.0</td>\n      <td>2008-11-29 02:01:39</td>\n      <td>179</td>\n      <td>20081129015805.plt</td>\n      <td>bus</td>\n    </tr>\n  </tbody>\n</table>\n<p>3387303 rows × 7 columns</p>\n</div>"
     },
     "execution_count": 2,
     "metadata": {},
     "output_type": "execute_result"
    }
   ],
   "source": [
    "gl = pd.read_csv('./dataset_raw_full.csv')\n",
    "gl"
   ],
   "metadata": {
    "collapsed": false,
    "ExecuteTime": {
     "end_time": "2023-06-20T22:08:08.189316030Z",
     "start_time": "2023-06-20T22:08:04.446067170Z"
    }
   }
  },
  {
   "cell_type": "code",
   "execution_count": 3,
   "outputs": [
    {
     "data": {
      "text/plain": "               lat         lon  altitude             DateTime  traj_id  \\\n0        41.741415   86.186028    -777.0  2008-03-31 16:00:08       10   \n1        41.737063   86.179470    -777.0  2008-03-31 16:01:07       10   \n2        41.734105   86.172823    -777.0  2008-03-31 16:02:07       10   \n3        41.739110   86.166563    -777.0  2008-03-31 16:03:06       10   \n4        41.744368   86.159987    -777.0  2008-03-31 16:04:05       10   \n...            ...         ...       ...                  ...      ...   \n3387298  40.070186  116.314153     -45.0  2008-11-29 02:01:31      179   \n3387299  40.070193  116.314041     -48.0  2008-11-29 02:01:33      179   \n3387300  40.070224  116.313923     -51.0  2008-11-29 02:01:35      179   \n3387301  40.070227  116.313843     -56.0  2008-11-29 02:01:37      179   \n3387302  40.070242  116.313808     -58.0  2008-11-29 02:01:39      179   \n\n                    Id_perc mode_of_transport  \n0        20080331160008.plt              taxi  \n1        20080331160008.plt              taxi  \n2        20080331160008.plt              taxi  \n3        20080331160008.plt              taxi  \n4        20080331160008.plt              taxi  \n...                     ...               ...  \n3387298  20081129015805.plt               bus  \n3387299  20081129015805.plt               bus  \n3387300  20081129015805.plt               bus  \n3387301  20081129015805.plt               bus  \n3387302  20081129015805.plt               bus  \n\n[3387303 rows x 7 columns]",
      "text/html": "<div>\n<style scoped>\n    .dataframe tbody tr th:only-of-type {\n        vertical-align: middle;\n    }\n\n    .dataframe tbody tr th {\n        vertical-align: top;\n    }\n\n    .dataframe thead th {\n        text-align: right;\n    }\n</style>\n<table border=\"1\" class=\"dataframe\">\n  <thead>\n    <tr style=\"text-align: right;\">\n      <th></th>\n      <th>lat</th>\n      <th>lon</th>\n      <th>altitude</th>\n      <th>DateTime</th>\n      <th>traj_id</th>\n      <th>Id_perc</th>\n      <th>mode_of_transport</th>\n    </tr>\n  </thead>\n  <tbody>\n    <tr>\n      <th>0</th>\n      <td>41.741415</td>\n      <td>86.186028</td>\n      <td>-777.0</td>\n      <td>2008-03-31 16:00:08</td>\n      <td>10</td>\n      <td>20080331160008.plt</td>\n      <td>taxi</td>\n    </tr>\n    <tr>\n      <th>1</th>\n      <td>41.737063</td>\n      <td>86.179470</td>\n      <td>-777.0</td>\n      <td>2008-03-31 16:01:07</td>\n      <td>10</td>\n      <td>20080331160008.plt</td>\n      <td>taxi</td>\n    </tr>\n    <tr>\n      <th>2</th>\n      <td>41.734105</td>\n      <td>86.172823</td>\n      <td>-777.0</td>\n      <td>2008-03-31 16:02:07</td>\n      <td>10</td>\n      <td>20080331160008.plt</td>\n      <td>taxi</td>\n    </tr>\n    <tr>\n      <th>3</th>\n      <td>41.739110</td>\n      <td>86.166563</td>\n      <td>-777.0</td>\n      <td>2008-03-31 16:03:06</td>\n      <td>10</td>\n      <td>20080331160008.plt</td>\n      <td>taxi</td>\n    </tr>\n    <tr>\n      <th>4</th>\n      <td>41.744368</td>\n      <td>86.159987</td>\n      <td>-777.0</td>\n      <td>2008-03-31 16:04:05</td>\n      <td>10</td>\n      <td>20080331160008.plt</td>\n      <td>taxi</td>\n    </tr>\n    <tr>\n      <th>...</th>\n      <td>...</td>\n      <td>...</td>\n      <td>...</td>\n      <td>...</td>\n      <td>...</td>\n      <td>...</td>\n      <td>...</td>\n    </tr>\n    <tr>\n      <th>3387298</th>\n      <td>40.070186</td>\n      <td>116.314153</td>\n      <td>-45.0</td>\n      <td>2008-11-29 02:01:31</td>\n      <td>179</td>\n      <td>20081129015805.plt</td>\n      <td>bus</td>\n    </tr>\n    <tr>\n      <th>3387299</th>\n      <td>40.070193</td>\n      <td>116.314041</td>\n      <td>-48.0</td>\n      <td>2008-11-29 02:01:33</td>\n      <td>179</td>\n      <td>20081129015805.plt</td>\n      <td>bus</td>\n    </tr>\n    <tr>\n      <th>3387300</th>\n      <td>40.070224</td>\n      <td>116.313923</td>\n      <td>-51.0</td>\n      <td>2008-11-29 02:01:35</td>\n      <td>179</td>\n      <td>20081129015805.plt</td>\n      <td>bus</td>\n    </tr>\n    <tr>\n      <th>3387301</th>\n      <td>40.070227</td>\n      <td>116.313843</td>\n      <td>-56.0</td>\n      <td>2008-11-29 02:01:37</td>\n      <td>179</td>\n      <td>20081129015805.plt</td>\n      <td>bus</td>\n    </tr>\n    <tr>\n      <th>3387302</th>\n      <td>40.070242</td>\n      <td>116.313808</td>\n      <td>-58.0</td>\n      <td>2008-11-29 02:01:39</td>\n      <td>179</td>\n      <td>20081129015805.plt</td>\n      <td>bus</td>\n    </tr>\n  </tbody>\n</table>\n<p>3387303 rows × 7 columns</p>\n</div>"
     },
     "execution_count": 3,
     "metadata": {},
     "output_type": "execute_result"
    }
   ],
   "source": [
    "gl = gl.rename(mapper={\n",
    "    'Latitude': 'lat',\n",
    "    'Longitude': 'lon',\n",
    "    'Altitude': 'altitude',\n",
    "    'Date_Time': 'DateTime',\n",
    "    'Id_user': 'traj_id',\n",
    "    'Label': 'mode_of_transport'\n",
    "}, axis=1)\n",
    "gl"
   ],
   "metadata": {
    "collapsed": false,
    "ExecuteTime": {
     "end_time": "2023-06-20T22:08:08.362672319Z",
     "start_time": "2023-06-20T22:08:08.190711389Z"
    }
   }
  },
  {
   "cell_type": "code",
   "execution_count": 4,
   "outputs": [
    {
     "data": {
      "text/plain": "               lat         lon             DateTime  traj_id mode_of_transport\n0        41.741415   86.186028  2008-03-31 16:00:08       10              taxi\n1        41.737063   86.179470  2008-03-31 16:01:07       10              taxi\n2        41.734105   86.172823  2008-03-31 16:02:07       10              taxi\n3        41.739110   86.166563  2008-03-31 16:03:06       10              taxi\n4        41.744368   86.159987  2008-03-31 16:04:05       10              taxi\n...            ...         ...                  ...      ...               ...\n3387298  40.070186  116.314153  2008-11-29 02:01:31      179               bus\n3387299  40.070193  116.314041  2008-11-29 02:01:33      179               bus\n3387300  40.070224  116.313923  2008-11-29 02:01:35      179               bus\n3387301  40.070227  116.313843  2008-11-29 02:01:37      179               bus\n3387302  40.070242  116.313808  2008-11-29 02:01:39      179               bus\n\n[3387303 rows x 5 columns]",
      "text/html": "<div>\n<style scoped>\n    .dataframe tbody tr th:only-of-type {\n        vertical-align: middle;\n    }\n\n    .dataframe tbody tr th {\n        vertical-align: top;\n    }\n\n    .dataframe thead th {\n        text-align: right;\n    }\n</style>\n<table border=\"1\" class=\"dataframe\">\n  <thead>\n    <tr style=\"text-align: right;\">\n      <th></th>\n      <th>lat</th>\n      <th>lon</th>\n      <th>DateTime</th>\n      <th>traj_id</th>\n      <th>mode_of_transport</th>\n    </tr>\n  </thead>\n  <tbody>\n    <tr>\n      <th>0</th>\n      <td>41.741415</td>\n      <td>86.186028</td>\n      <td>2008-03-31 16:00:08</td>\n      <td>10</td>\n      <td>taxi</td>\n    </tr>\n    <tr>\n      <th>1</th>\n      <td>41.737063</td>\n      <td>86.179470</td>\n      <td>2008-03-31 16:01:07</td>\n      <td>10</td>\n      <td>taxi</td>\n    </tr>\n    <tr>\n      <th>2</th>\n      <td>41.734105</td>\n      <td>86.172823</td>\n      <td>2008-03-31 16:02:07</td>\n      <td>10</td>\n      <td>taxi</td>\n    </tr>\n    <tr>\n      <th>3</th>\n      <td>41.739110</td>\n      <td>86.166563</td>\n      <td>2008-03-31 16:03:06</td>\n      <td>10</td>\n      <td>taxi</td>\n    </tr>\n    <tr>\n      <th>4</th>\n      <td>41.744368</td>\n      <td>86.159987</td>\n      <td>2008-03-31 16:04:05</td>\n      <td>10</td>\n      <td>taxi</td>\n    </tr>\n    <tr>\n      <th>...</th>\n      <td>...</td>\n      <td>...</td>\n      <td>...</td>\n      <td>...</td>\n      <td>...</td>\n    </tr>\n    <tr>\n      <th>3387298</th>\n      <td>40.070186</td>\n      <td>116.314153</td>\n      <td>2008-11-29 02:01:31</td>\n      <td>179</td>\n      <td>bus</td>\n    </tr>\n    <tr>\n      <th>3387299</th>\n      <td>40.070193</td>\n      <td>116.314041</td>\n      <td>2008-11-29 02:01:33</td>\n      <td>179</td>\n      <td>bus</td>\n    </tr>\n    <tr>\n      <th>3387300</th>\n      <td>40.070224</td>\n      <td>116.313923</td>\n      <td>2008-11-29 02:01:35</td>\n      <td>179</td>\n      <td>bus</td>\n    </tr>\n    <tr>\n      <th>3387301</th>\n      <td>40.070227</td>\n      <td>116.313843</td>\n      <td>2008-11-29 02:01:37</td>\n      <td>179</td>\n      <td>bus</td>\n    </tr>\n    <tr>\n      <th>3387302</th>\n      <td>40.070242</td>\n      <td>116.313808</td>\n      <td>2008-11-29 02:01:39</td>\n      <td>179</td>\n      <td>bus</td>\n    </tr>\n  </tbody>\n</table>\n<p>3387303 rows × 5 columns</p>\n</div>"
     },
     "execution_count": 4,
     "metadata": {},
     "output_type": "execute_result"
    }
   ],
   "source": [
    "gl = gl.drop(columns=['altitude', 'Id_perc'])\n",
    "gl"
   ],
   "metadata": {
    "collapsed": false,
    "ExecuteTime": {
     "end_time": "2023-06-20T22:08:08.501646701Z",
     "start_time": "2023-06-20T22:08:08.479974620Z"
    }
   }
  },
  {
   "cell_type": "code",
   "execution_count": 5,
   "outputs": [
    {
     "data": {
      "text/plain": "walk        972671\nbus         756878\nbike        702384\ncar         388238\ntrain       210267\nsubway      188648\ntaxi        157175\nairplane      5915\nboat          3443\nrun           1684\nName: mode_of_transport, dtype: int64"
     },
     "execution_count": 5,
     "metadata": {},
     "output_type": "execute_result"
    }
   ],
   "source": [
    "gl.mode_of_transport.value_counts()"
   ],
   "metadata": {
    "collapsed": false,
    "ExecuteTime": {
     "end_time": "2023-06-20T22:08:08.723920718Z",
     "start_time": "2023-06-20T22:08:08.716736382Z"
    }
   }
  },
  {
   "cell_type": "code",
   "execution_count": 6,
   "outputs": [
    {
     "data": {
      "text/plain": "               lat         lon             DateTime  traj_id mode_of_transport\n0        41.741415   86.186028  2008-03-31 16:00:08       10              taxi\n1        41.737063   86.179470  2008-03-31 16:01:07       10              taxi\n2        41.734105   86.172823  2008-03-31 16:02:07       10              taxi\n3        41.739110   86.166563  2008-03-31 16:03:06       10              taxi\n4        41.744368   86.159987  2008-03-31 16:04:05       10              taxi\n...            ...         ...                  ...      ...               ...\n3386631  40.069492  116.313471  2008-11-17 06:52:12      179            subway\n3386632  40.069507  116.313674  2008-11-17 06:52:14      179            subway\n3386633  40.069525  116.313867  2008-11-17 06:52:16      179            subway\n3386634  40.069563  116.314057  2008-11-17 06:52:18      179            subway\n3386635  40.069595  116.314256  2008-11-17 06:52:20      179            subway\n\n[355181 rows x 5 columns]",
      "text/html": "<div>\n<style scoped>\n    .dataframe tbody tr th:only-of-type {\n        vertical-align: middle;\n    }\n\n    .dataframe tbody tr th {\n        vertical-align: top;\n    }\n\n    .dataframe thead th {\n        text-align: right;\n    }\n</style>\n<table border=\"1\" class=\"dataframe\">\n  <thead>\n    <tr style=\"text-align: right;\">\n      <th></th>\n      <th>lat</th>\n      <th>lon</th>\n      <th>DateTime</th>\n      <th>traj_id</th>\n      <th>mode_of_transport</th>\n    </tr>\n  </thead>\n  <tbody>\n    <tr>\n      <th>0</th>\n      <td>41.741415</td>\n      <td>86.186028</td>\n      <td>2008-03-31 16:00:08</td>\n      <td>10</td>\n      <td>taxi</td>\n    </tr>\n    <tr>\n      <th>1</th>\n      <td>41.737063</td>\n      <td>86.179470</td>\n      <td>2008-03-31 16:01:07</td>\n      <td>10</td>\n      <td>taxi</td>\n    </tr>\n    <tr>\n      <th>2</th>\n      <td>41.734105</td>\n      <td>86.172823</td>\n      <td>2008-03-31 16:02:07</td>\n      <td>10</td>\n      <td>taxi</td>\n    </tr>\n    <tr>\n      <th>3</th>\n      <td>41.739110</td>\n      <td>86.166563</td>\n      <td>2008-03-31 16:03:06</td>\n      <td>10</td>\n      <td>taxi</td>\n    </tr>\n    <tr>\n      <th>4</th>\n      <td>41.744368</td>\n      <td>86.159987</td>\n      <td>2008-03-31 16:04:05</td>\n      <td>10</td>\n      <td>taxi</td>\n    </tr>\n    <tr>\n      <th>...</th>\n      <td>...</td>\n      <td>...</td>\n      <td>...</td>\n      <td>...</td>\n      <td>...</td>\n    </tr>\n    <tr>\n      <th>3386631</th>\n      <td>40.069492</td>\n      <td>116.313471</td>\n      <td>2008-11-17 06:52:12</td>\n      <td>179</td>\n      <td>subway</td>\n    </tr>\n    <tr>\n      <th>3386632</th>\n      <td>40.069507</td>\n      <td>116.313674</td>\n      <td>2008-11-17 06:52:14</td>\n      <td>179</td>\n      <td>subway</td>\n    </tr>\n    <tr>\n      <th>3386633</th>\n      <td>40.069525</td>\n      <td>116.313867</td>\n      <td>2008-11-17 06:52:16</td>\n      <td>179</td>\n      <td>subway</td>\n    </tr>\n    <tr>\n      <th>3386634</th>\n      <td>40.069563</td>\n      <td>116.314057</td>\n      <td>2008-11-17 06:52:18</td>\n      <td>179</td>\n      <td>subway</td>\n    </tr>\n    <tr>\n      <th>3386635</th>\n      <td>40.069595</td>\n      <td>116.314256</td>\n      <td>2008-11-17 06:52:20</td>\n      <td>179</td>\n      <td>subway</td>\n    </tr>\n  </tbody>\n</table>\n<p>355181 rows × 5 columns</p>\n</div>"
     },
     "execution_count": 6,
     "metadata": {},
     "output_type": "execute_result"
    }
   ],
   "source": [
    "small = gl.loc[gl.mode_of_transport.isin(['subway', 'taxi', 'airplane', 'boat'])]\n",
    "small"
   ],
   "metadata": {
    "collapsed": false,
    "ExecuteTime": {
     "end_time": "2023-06-20T22:08:08.902222412Z",
     "start_time": "2023-06-20T22:08:08.724633452Z"
    }
   }
  },
  {
   "cell_type": "code",
   "execution_count": 7,
   "outputs": [
    {
     "name": "stderr",
     "output_type": "stream",
     "text": [
      "/home/yjharanwala/anaconda3/envs/ptrail_dev/lib/python3.7/site-packages/pandas/core/generic.py:5516: SettingWithCopyWarning: \n",
      "A value is trying to be set on a copy of a slice from a DataFrame.\n",
      "Try using .loc[row_indexer,col_indexer] = value instead\n",
      "\n",
      "See the caveats in the documentation: https://pandas.pydata.org/pandas-docs/stable/user_guide/indexing.html#returning-a-view-versus-a-copy\n",
      "  self[name] = value\n"
     ]
    },
    {
     "data": {
      "text/plain": "               lat         lon             DateTime  traj_id  \\\n0        41.741415   86.186028  2008-03-31 16:00:08       10   \n1        41.737063   86.179470  2008-03-31 16:01:07       10   \n2        41.734105   86.172823  2008-03-31 16:02:07       10   \n3        41.739110   86.166563  2008-03-31 16:03:06       10   \n4        41.744368   86.159987  2008-03-31 16:04:05       10   \n...            ...         ...                  ...      ...   \n3386631  40.069492  116.313471  2008-11-17 06:52:12      179   \n3386632  40.069507  116.313674  2008-11-17 06:52:14      179   \n3386633  40.069525  116.313867  2008-11-17 06:52:16      179   \n3386634  40.069563  116.314057  2008-11-17 06:52:18      179   \n3386635  40.069595  116.314256  2008-11-17 06:52:20      179   \n\n         mode_of_transport  \n0                        1  \n1                        1  \n2                        1  \n3                        1  \n4                        1  \n...                    ...  \n3386631                  0  \n3386632                  0  \n3386633                  0  \n3386634                  0  \n3386635                  0  \n\n[355181 rows x 5 columns]",
      "text/html": "<div>\n<style scoped>\n    .dataframe tbody tr th:only-of-type {\n        vertical-align: middle;\n    }\n\n    .dataframe tbody tr th {\n        vertical-align: top;\n    }\n\n    .dataframe thead th {\n        text-align: right;\n    }\n</style>\n<table border=\"1\" class=\"dataframe\">\n  <thead>\n    <tr style=\"text-align: right;\">\n      <th></th>\n      <th>lat</th>\n      <th>lon</th>\n      <th>DateTime</th>\n      <th>traj_id</th>\n      <th>mode_of_transport</th>\n    </tr>\n  </thead>\n  <tbody>\n    <tr>\n      <th>0</th>\n      <td>41.741415</td>\n      <td>86.186028</td>\n      <td>2008-03-31 16:00:08</td>\n      <td>10</td>\n      <td>1</td>\n    </tr>\n    <tr>\n      <th>1</th>\n      <td>41.737063</td>\n      <td>86.179470</td>\n      <td>2008-03-31 16:01:07</td>\n      <td>10</td>\n      <td>1</td>\n    </tr>\n    <tr>\n      <th>2</th>\n      <td>41.734105</td>\n      <td>86.172823</td>\n      <td>2008-03-31 16:02:07</td>\n      <td>10</td>\n      <td>1</td>\n    </tr>\n    <tr>\n      <th>3</th>\n      <td>41.739110</td>\n      <td>86.166563</td>\n      <td>2008-03-31 16:03:06</td>\n      <td>10</td>\n      <td>1</td>\n    </tr>\n    <tr>\n      <th>4</th>\n      <td>41.744368</td>\n      <td>86.159987</td>\n      <td>2008-03-31 16:04:05</td>\n      <td>10</td>\n      <td>1</td>\n    </tr>\n    <tr>\n      <th>...</th>\n      <td>...</td>\n      <td>...</td>\n      <td>...</td>\n      <td>...</td>\n      <td>...</td>\n    </tr>\n    <tr>\n      <th>3386631</th>\n      <td>40.069492</td>\n      <td>116.313471</td>\n      <td>2008-11-17 06:52:12</td>\n      <td>179</td>\n      <td>0</td>\n    </tr>\n    <tr>\n      <th>3386632</th>\n      <td>40.069507</td>\n      <td>116.313674</td>\n      <td>2008-11-17 06:52:14</td>\n      <td>179</td>\n      <td>0</td>\n    </tr>\n    <tr>\n      <th>3386633</th>\n      <td>40.069525</td>\n      <td>116.313867</td>\n      <td>2008-11-17 06:52:16</td>\n      <td>179</td>\n      <td>0</td>\n    </tr>\n    <tr>\n      <th>3386634</th>\n      <td>40.069563</td>\n      <td>116.314057</td>\n      <td>2008-11-17 06:52:18</td>\n      <td>179</td>\n      <td>0</td>\n    </tr>\n    <tr>\n      <th>3386635</th>\n      <td>40.069595</td>\n      <td>116.314256</td>\n      <td>2008-11-17 06:52:20</td>\n      <td>179</td>\n      <td>0</td>\n    </tr>\n  </tbody>\n</table>\n<p>355181 rows × 5 columns</p>\n</div>"
     },
     "execution_count": 7,
     "metadata": {},
     "output_type": "execute_result"
    }
   ],
   "source": [
    "small.mode_of_transport = small.mode_of_transport.map({\n",
    "    'subway': 0,\n",
    "    'taxi': 1,\n",
    "    'airplane': 2,\n",
    "    'boat': 3,\n",
    "})\n",
    "small"
   ],
   "metadata": {
    "collapsed": false,
    "ExecuteTime": {
     "end_time": "2023-06-20T22:08:08.998951283Z",
     "start_time": "2023-06-20T22:08:08.927037825Z"
    }
   }
  },
  {
   "cell_type": "code",
   "execution_count": 8,
   "outputs": [
    {
     "data": {
      "text/plain": "0    188648\n1    157175\n2      5915\n3      3443\nName: mode_of_transport, dtype: int64"
     },
     "execution_count": 8,
     "metadata": {},
     "output_type": "execute_result"
    }
   ],
   "source": [
    "small.mode_of_transport.value_counts()"
   ],
   "metadata": {
    "collapsed": false,
    "ExecuteTime": {
     "end_time": "2023-06-20T22:08:08.999498313Z",
     "start_time": "2023-06-20T22:08:08.960652934Z"
    }
   }
  },
  {
   "cell_type": "code",
   "execution_count": 9,
   "outputs": [],
   "source": [
    "small.to_csv('./geolife.csv', index=False)"
   ],
   "metadata": {
    "collapsed": false,
    "ExecuteTime": {
     "end_time": "2023-06-20T22:08:10.158524481Z",
     "start_time": "2023-06-20T22:08:08.969622126Z"
    }
   }
  }
 ],
 "metadata": {
  "kernelspec": {
   "display_name": "Python 3",
   "language": "python",
   "name": "python3"
  },
  "language_info": {
   "codemirror_mode": {
    "name": "ipython",
    "version": 2
   },
   "file_extension": ".py",
   "mimetype": "text/x-python",
   "name": "python",
   "nbconvert_exporter": "python",
   "pygments_lexer": "ipython2",
   "version": "2.7.6"
  }
 },
 "nbformat": 4,
 "nbformat_minor": 0
}
