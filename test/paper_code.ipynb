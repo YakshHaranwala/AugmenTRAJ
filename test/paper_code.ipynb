{
 "cells": [
  {
   "cell_type": "code",
   "execution_count": 1,
   "metadata": {
    "ExecuteTime": {
     "end_time": "2023-07-23T18:49:51.099252031Z",
     "start_time": "2023-07-23T18:49:49.725148780Z"
    }
   },
   "outputs": [],
   "source": [
    "import pandas as pd\n",
    "from ptrail.core.Datasets import Datasets\n",
    "from ptrail.preprocessing.statistics import Statistics\n",
    "\n",
    "from src.utils.test_utils import TestUtils"
   ]
  },
  {
   "cell_type": "code",
   "execution_count": 2,
   "metadata": {
    "ExecuteTime": {
     "end_time": "2023-07-23T18:50:15.852827144Z",
     "start_time": "2023-07-23T18:50:10.237797105Z"
    }
   },
   "outputs": [
    {
     "name": "stdout",
     "output_type": "stream",
     "text": [
      "------------------------ Dataset Facts ------------------------------\n",
      "\n",
      "Number of unique Trajectories in the data: 253\n",
      "Number of points in the data: 287136\n",
      "Dataset time range: 1196 days 22:51:45\n",
      "Datatype of the DataFrame: <class 'ptrail.core.TrajectoryDF.PTRAILDataFrame'>\n",
      "Dataset Bounding Box: (45.18896978643169, -118.61020848239596, 45.314545642992, -118.50455596234036)\n",
      "\n",
      "---------------------------------------------------------------------\n"
     ]
    },
    {
     "data": {
      "text/plain": "                                     lat         lon  StarkeyTime    GMDate  \\\ntraj_id   DateTime                                                            \n880109D01 1995-04-13 13:40:06  45.239682 -118.533204    229902006  21:40:06   \n          1995-04-15 12:16:15  45.250521 -118.530438    230069775  20:16:15   \n          1995-04-15 21:39:38  45.247943 -118.541455    230103578  05:39:38   \n          1995-04-16 03:32:14  45.247429 -118.539530    230124734  11:32:14   \n          1995-04-16 04:08:28  45.247117 -118.542579    230126908  12:08:28   \n\n                                 GMTime   LocDate   LocTime  RadNum  Species  \\\ntraj_id   DateTime                                                             \n880109D01 1995-04-13 13:40:06  19950413  19950413  13:40:06     409        0   \n          1995-04-15 12:16:15  19950415  19950415  12:16:15     409        0   \n          1995-04-15 21:39:38  19950416  19950415  21:39:38     409        0   \n          1995-04-16 03:32:14  19950416  19950416  03:32:14     409        0   \n          1995-04-16 04:08:28  19950416  19950416  04:08:28     409        0   \n\n                                 UTME     UTMN  Year  Grensunr  Grensuns  \\\ntraj_id   DateTime                                                         \n880109D01 1995-04-13 13:40:06  379662  5010734    95  13:13:00  02:39:00   \n          1995-04-15 12:16:15  379895  5011927    95  13:09:00  02:41:00   \n          1995-04-15 21:39:38  379039  5011656    95  13:07:00  02:43:00   \n          1995-04-16 03:32:14  379188  5011581    95  13:07:00  02:43:00   \n          1995-04-16 04:08:28  378938  5011567    95  13:07:00  02:43:00   \n\n                               Obswt  \ntraj_id   DateTime                    \n880109D01 1995-04-13 13:40:06   1.47  \n          1995-04-15 12:16:15   1.59  \n          1995-04-15 21:39:38   1.34  \n          1995-04-16 03:32:14   1.50  \n          1995-04-16 04:08:28   1.34  ",
      "text/html": "<div>\n<style scoped>\n    .dataframe tbody tr th:only-of-type {\n        vertical-align: middle;\n    }\n\n    .dataframe tbody tr th {\n        vertical-align: top;\n    }\n\n    .dataframe thead th {\n        text-align: right;\n    }\n</style>\n<table border=\"1\" class=\"dataframe\">\n  <thead>\n    <tr style=\"text-align: right;\">\n      <th></th>\n      <th></th>\n      <th>lat</th>\n      <th>lon</th>\n      <th>StarkeyTime</th>\n      <th>GMDate</th>\n      <th>GMTime</th>\n      <th>LocDate</th>\n      <th>LocTime</th>\n      <th>RadNum</th>\n      <th>Species</th>\n      <th>UTME</th>\n      <th>UTMN</th>\n      <th>Year</th>\n      <th>Grensunr</th>\n      <th>Grensuns</th>\n      <th>Obswt</th>\n    </tr>\n    <tr>\n      <th>traj_id</th>\n      <th>DateTime</th>\n      <th></th>\n      <th></th>\n      <th></th>\n      <th></th>\n      <th></th>\n      <th></th>\n      <th></th>\n      <th></th>\n      <th></th>\n      <th></th>\n      <th></th>\n      <th></th>\n      <th></th>\n      <th></th>\n      <th></th>\n    </tr>\n  </thead>\n  <tbody>\n    <tr>\n      <th rowspan=\"5\" valign=\"top\">880109D01</th>\n      <th>1995-04-13 13:40:06</th>\n      <td>45.239682</td>\n      <td>-118.533204</td>\n      <td>229902006</td>\n      <td>21:40:06</td>\n      <td>19950413</td>\n      <td>19950413</td>\n      <td>13:40:06</td>\n      <td>409</td>\n      <td>0</td>\n      <td>379662</td>\n      <td>5010734</td>\n      <td>95</td>\n      <td>13:13:00</td>\n      <td>02:39:00</td>\n      <td>1.47</td>\n    </tr>\n    <tr>\n      <th>1995-04-15 12:16:15</th>\n      <td>45.250521</td>\n      <td>-118.530438</td>\n      <td>230069775</td>\n      <td>20:16:15</td>\n      <td>19950415</td>\n      <td>19950415</td>\n      <td>12:16:15</td>\n      <td>409</td>\n      <td>0</td>\n      <td>379895</td>\n      <td>5011927</td>\n      <td>95</td>\n      <td>13:09:00</td>\n      <td>02:41:00</td>\n      <td>1.59</td>\n    </tr>\n    <tr>\n      <th>1995-04-15 21:39:38</th>\n      <td>45.247943</td>\n      <td>-118.541455</td>\n      <td>230103578</td>\n      <td>05:39:38</td>\n      <td>19950416</td>\n      <td>19950415</td>\n      <td>21:39:38</td>\n      <td>409</td>\n      <td>0</td>\n      <td>379039</td>\n      <td>5011656</td>\n      <td>95</td>\n      <td>13:07:00</td>\n      <td>02:43:00</td>\n      <td>1.34</td>\n    </tr>\n    <tr>\n      <th>1995-04-16 03:32:14</th>\n      <td>45.247429</td>\n      <td>-118.539530</td>\n      <td>230124734</td>\n      <td>11:32:14</td>\n      <td>19950416</td>\n      <td>19950416</td>\n      <td>03:32:14</td>\n      <td>409</td>\n      <td>0</td>\n      <td>379188</td>\n      <td>5011581</td>\n      <td>95</td>\n      <td>13:07:00</td>\n      <td>02:43:00</td>\n      <td>1.50</td>\n    </tr>\n    <tr>\n      <th>1995-04-16 04:08:28</th>\n      <td>45.247117</td>\n      <td>-118.542579</td>\n      <td>230126908</td>\n      <td>12:08:28</td>\n      <td>19950416</td>\n      <td>19950416</td>\n      <td>04:08:28</td>\n      <td>409</td>\n      <td>0</td>\n      <td>378938</td>\n      <td>5011567</td>\n      <td>95</td>\n      <td>13:07:00</td>\n      <td>02:43:00</td>\n      <td>1.34</td>\n    </tr>\n  </tbody>\n</table>\n</div>"
     },
     "execution_count": 2,
     "metadata": {},
     "output_type": "execute_result"
    }
   ],
   "source": [
    "pf_starkey = Datasets.load_starkey()\n",
    "pf_starkey.head()"
   ]
  },
  {
   "cell_type": "code",
   "execution_count": 3,
   "metadata": {
    "ExecuteTime": {
     "end_time": "2023-07-23T18:51:09.028255636Z",
     "start_time": "2023-07-23T18:50:15.855137841Z"
    }
   },
   "outputs": [
    {
     "data": {
      "text/plain": "           10%_Distance  25%_Distance  50%_Distance  75%_Distance  \\\ntraj_id                                                             \n910313E37     30.022359     66.956787    149.611989    300.726867   \n890424E08     42.384642     84.780370    177.223376    379.614004   \n921228E06     42.390114     90.066813    200.849995    429.158672   \n930304E16     42.384012     67.090258    153.068542    341.254645   \n940110D01     30.022192     66.956668    149.612107    284.710015   \n\n           90%_Distance  min_Distance  max_Distance  mean_Distance  \\\ntraj_id                                                              \n910313E37    632.269559           0.0   6034.207873     268.728974   \n890424E08    759.311144           0.0   6043.490157     323.956468   \n921228E06    890.194719           0.0   4623.347553     377.677630   \n930304E16    690.640774           0.0   5864.020183     291.351804   \n940110D01    510.276991           0.0   1975.611748     221.420080   \n\n           std_Distance  10%_Distance_from_start  ...  \\\ntraj_id                                           ...   \n910313E37    398.901980              1121.185006  ...   \n890424E08    446.249248               674.170024  ...   \n921228E06    517.650637               807.693739  ...   \n930304E16    396.220730              1156.455188  ...   \n940110D01    235.093739               492.522877  ...   \n\n           10%_Rate_of_bearing_rate  25%_Rate_of_bearing_rate  \\\ntraj_id                                                         \n910313E37                 -0.063322                 -0.026677   \n890424E08                 -0.064023                 -0.023545   \n921228E06                 -0.058033                 -0.020736   \n930304E16                 -0.068092                 -0.026542   \n940110D01                 -0.041207                 -0.018263   \n\n           50%_Rate_of_bearing_rate  75%_Rate_of_bearing_rate  \\\ntraj_id                                                         \n910313E37              5.306679e-08                  0.025072   \n890424E08              0.000000e+00                  0.022320   \n921228E06             -9.056581e-07                  0.020104   \n930304E16              2.094546e-07                  0.027375   \n940110D01              0.000000e+00                  0.018564   \n\n           90%_Rate_of_bearing_rate  min_Rate_of_bearing_rate  \\\ntraj_id                                                         \n910313E37                  0.065316                 -6.036678   \n890424E08                  0.063820                -11.536372   \n921228E06                  0.056057                -56.020652   \n930304E16                  0.066328                 -7.865121   \n940110D01                  0.042032                 -5.547235   \n\n           max_Rate_of_bearing_rate  mean_Rate_of_bearing_rate  \\\ntraj_id                                                          \n910313E37                  2.449554                  -0.001945   \n890424E08                  2.494857                  -0.006703   \n921228E06                  4.466711                  -0.016681   \n930304E16                 30.406105                   0.001768   \n940110D01                200.192244                   0.073830   \n\n           std_Rate_of_bearing_rate  Species  \ntraj_id                                       \n910313E37                  0.154034        1  \n890424E08                  0.241358        1  \n921228E06                  1.008263        1  \n930304E16                  0.600187        1  \n940110D01                  3.677063        0  \n\n[5 rows x 73 columns]",
      "text/html": "<div>\n<style scoped>\n    .dataframe tbody tr th:only-of-type {\n        vertical-align: middle;\n    }\n\n    .dataframe tbody tr th {\n        vertical-align: top;\n    }\n\n    .dataframe thead th {\n        text-align: right;\n    }\n</style>\n<table border=\"1\" class=\"dataframe\">\n  <thead>\n    <tr style=\"text-align: right;\">\n      <th></th>\n      <th>10%_Distance</th>\n      <th>25%_Distance</th>\n      <th>50%_Distance</th>\n      <th>75%_Distance</th>\n      <th>90%_Distance</th>\n      <th>min_Distance</th>\n      <th>max_Distance</th>\n      <th>mean_Distance</th>\n      <th>std_Distance</th>\n      <th>10%_Distance_from_start</th>\n      <th>...</th>\n      <th>10%_Rate_of_bearing_rate</th>\n      <th>25%_Rate_of_bearing_rate</th>\n      <th>50%_Rate_of_bearing_rate</th>\n      <th>75%_Rate_of_bearing_rate</th>\n      <th>90%_Rate_of_bearing_rate</th>\n      <th>min_Rate_of_bearing_rate</th>\n      <th>max_Rate_of_bearing_rate</th>\n      <th>mean_Rate_of_bearing_rate</th>\n      <th>std_Rate_of_bearing_rate</th>\n      <th>Species</th>\n    </tr>\n    <tr>\n      <th>traj_id</th>\n      <th></th>\n      <th></th>\n      <th></th>\n      <th></th>\n      <th></th>\n      <th></th>\n      <th></th>\n      <th></th>\n      <th></th>\n      <th></th>\n      <th></th>\n      <th></th>\n      <th></th>\n      <th></th>\n      <th></th>\n      <th></th>\n      <th></th>\n      <th></th>\n      <th></th>\n      <th></th>\n      <th></th>\n    </tr>\n  </thead>\n  <tbody>\n    <tr>\n      <th>910313E37</th>\n      <td>30.022359</td>\n      <td>66.956787</td>\n      <td>149.611989</td>\n      <td>300.726867</td>\n      <td>632.269559</td>\n      <td>0.0</td>\n      <td>6034.207873</td>\n      <td>268.728974</td>\n      <td>398.901980</td>\n      <td>1121.185006</td>\n      <td>...</td>\n      <td>-0.063322</td>\n      <td>-0.026677</td>\n      <td>5.306679e-08</td>\n      <td>0.025072</td>\n      <td>0.065316</td>\n      <td>-6.036678</td>\n      <td>2.449554</td>\n      <td>-0.001945</td>\n      <td>0.154034</td>\n      <td>1</td>\n    </tr>\n    <tr>\n      <th>890424E08</th>\n      <td>42.384642</td>\n      <td>84.780370</td>\n      <td>177.223376</td>\n      <td>379.614004</td>\n      <td>759.311144</td>\n      <td>0.0</td>\n      <td>6043.490157</td>\n      <td>323.956468</td>\n      <td>446.249248</td>\n      <td>674.170024</td>\n      <td>...</td>\n      <td>-0.064023</td>\n      <td>-0.023545</td>\n      <td>0.000000e+00</td>\n      <td>0.022320</td>\n      <td>0.063820</td>\n      <td>-11.536372</td>\n      <td>2.494857</td>\n      <td>-0.006703</td>\n      <td>0.241358</td>\n      <td>1</td>\n    </tr>\n    <tr>\n      <th>921228E06</th>\n      <td>42.390114</td>\n      <td>90.066813</td>\n      <td>200.849995</td>\n      <td>429.158672</td>\n      <td>890.194719</td>\n      <td>0.0</td>\n      <td>4623.347553</td>\n      <td>377.677630</td>\n      <td>517.650637</td>\n      <td>807.693739</td>\n      <td>...</td>\n      <td>-0.058033</td>\n      <td>-0.020736</td>\n      <td>-9.056581e-07</td>\n      <td>0.020104</td>\n      <td>0.056057</td>\n      <td>-56.020652</td>\n      <td>4.466711</td>\n      <td>-0.016681</td>\n      <td>1.008263</td>\n      <td>1</td>\n    </tr>\n    <tr>\n      <th>930304E16</th>\n      <td>42.384012</td>\n      <td>67.090258</td>\n      <td>153.068542</td>\n      <td>341.254645</td>\n      <td>690.640774</td>\n      <td>0.0</td>\n      <td>5864.020183</td>\n      <td>291.351804</td>\n      <td>396.220730</td>\n      <td>1156.455188</td>\n      <td>...</td>\n      <td>-0.068092</td>\n      <td>-0.026542</td>\n      <td>2.094546e-07</td>\n      <td>0.027375</td>\n      <td>0.066328</td>\n      <td>-7.865121</td>\n      <td>30.406105</td>\n      <td>0.001768</td>\n      <td>0.600187</td>\n      <td>1</td>\n    </tr>\n    <tr>\n      <th>940110D01</th>\n      <td>30.022192</td>\n      <td>66.956668</td>\n      <td>149.612107</td>\n      <td>284.710015</td>\n      <td>510.276991</td>\n      <td>0.0</td>\n      <td>1975.611748</td>\n      <td>221.420080</td>\n      <td>235.093739</td>\n      <td>492.522877</td>\n      <td>...</td>\n      <td>-0.041207</td>\n      <td>-0.018263</td>\n      <td>0.000000e+00</td>\n      <td>0.018564</td>\n      <td>0.042032</td>\n      <td>-5.547235</td>\n      <td>200.192244</td>\n      <td>0.073830</td>\n      <td>3.677063</td>\n      <td>0</td>\n    </tr>\n  </tbody>\n</table>\n<p>5 rows × 73 columns</p>\n</div>"
     },
     "execution_count": 3,
     "metadata": {},
     "output_type": "execute_result"
    }
   ],
   "source": [
    "sf_starkey = Statistics.pivot_stats_df(Statistics.generate_kinematic_stats(pf_starkey, 'Species'), 'Species')\n",
    "sf_starkey.head()"
   ]
  },
  {
   "cell_type": "code",
   "execution_count": 4,
   "outputs": [
    {
     "data": {
      "text/plain": "{'950227D02': 43,\n 'OSUX91121': 52,\n 'OSUX91143': 52,\n 'OSUX92008': 92,\n 'OSUX92071': 99,\n '960313E02': 118,\n 'OSUX91092': 129,\n 'OSUX91032': 138,\n 'OSUX89128': 141,\n 'OSUX93007': 161,\n '930429E08': 171,\n 'OSUX92107': 172,\n 'OSUX93110': 196,\n '940213D01': 206,\n '880109D01': 214,\n '940117D02': 222,\n 'OSUX91066': 225,\n 'OSUX87130': 236,\n 'OSUX93091': 238,\n '930119E02': 284,\n 'OSUX93046': 289,\n 'OSUX93041': 299,\n '890504E01': 311,\n 'OSUX93066': 322,\n 'OSUX93151': 324,\n 'OSUX89078': 337,\n 'OSUX92083': 347,\n 'OSUX93039': 349,\n 'OSUX91095': 375,\n 'OSUX92061': 376,\n '921215E02': 377,\n 'OSUX93123': 382,\n '910315E04': 384,\n '921228E02': 386,\n '960131D02': 393,\n '910315E17': 395,\n '950126D01': 406,\n 'OSUX92115': 424,\n 'OSUX93191': 425,\n 'OSUX92002': 449,\n 'OSUX91038': 471,\n '940219E07': 473,\n '930304E05': 479,\n 'OSUX89087': 486,\n 'OSUX89203': 500,\n 'OSUX91164': 503,\n '950308D03': 512,\n 'OSUX92070': 516,\n '950124D01': 522,\n '950104E07': 525,\n '930216E05': 527,\n 'OSUX89116': 532,\n 'OSUX87188': 536,\n '910319E02': 541,\n 'OSUX88169': 543,\n '920122D01': 548,\n 'OSUX89199': 552,\n '921130E09': 555,\n 'OSUX83061': 569,\n 'OSUX89065': 574,\n 'OSUX87190': 576,\n 'OSUX92069': 590,\n 'OSUX89141': 594,\n 'OSUX85159': 594,\n 'OSUX88176': 597,\n '920303D05': 615,\n '941227E01': 628,\n '931216E09': 628,\n 'OSUX89105': 635,\n '890418E15': 642,\n '950104E02': 653,\n '890418E04': 669,\n 'OSUX92031': 673,\n 'OSUX88134': 673,\n '930422E04': 691,\n 'OSUX89132': 694,\n '920304D03': 696,\n '900205E01': 696,\n '950104E04': 705,\n '930107E09': 732,\n '910315E08': 737,\n '930216E01': 741,\n '921228E04': 749,\n 'OSUX89208': 749,\n '940212D01': 751,\n '950125E01': 756,\n '930104E05': 762,\n '950124E01': 770,\n '910312E13': 776,\n 'OSUX83041': 778,\n '921228E19': 780,\n '930202E16': 784,\n '940413E01': 786,\n '950313D01': 787,\n 'OSUX92016': 788,\n '930406D01': 794,\n '930202E07': 801,\n 'OSUX92035': 807,\n '930203E01': 829,\n '890317E01': 834,\n '960127D01': 845,\n '950418E01': 860,\n '930415E02': 863,\n 'OSUX88159': 867,\n 'OSUX92014': 876,\n 'OSUX89125': 882,\n '950125E13': 900,\n '940215E02': 923,\n 'OSUX91063': 930,\n '930408E03': 930,\n 'OSUX92020': 938,\n '921130E30': 951,\n 'OSUX91057': 957,\n 'OSUX92013': 957,\n '921228E12': 962,\n '950124D02': 964,\n '920125E01': 967,\n '950415E01': 978,\n '950405E12': 980,\n 'OSUX89127': 987,\n '940105D01': 990,\n '910312E05': 1002,\n '940219E10': 1009,\n 'OSUX89189': 1017,\n '940205D01': 1018,\n 'OSUX91073': 1019,\n '940219E12': 1020,\n '930410E04': 1020,\n '921123E22': 1031,\n '930209E08': 1033,\n '941128E01': 1040,\n '930107E06': 1048,\n 'OSUX91075': 1049,\n '930120D04': 1058,\n 'OSUX89136': 1059,\n '890328E12': 1062,\n '921228E34': 1070,\n '930304E06': 1070,\n 'OSUX89177': 1070,\n '910315E22': 1081,\n '880120D02': 1090,\n '940105D02': 1118,\n '940219E06': 1119,\n '890328E21': 1122,\n '930409E04': 1122,\n '900205E14': 1129,\n '930408E08': 1130,\n '910301D01': 1150,\n '930417E01': 1151,\n '930203E03': 1151,\n '910315E20': 1160,\n '930107E08': 1165,\n '921228E16': 1175,\n '941221E14': 1176,\n '940215D01': 1178,\n '941222E03': 1187,\n '940316D01': 1199,\n '960131E12': 1207,\n '960121D01': 1212,\n 'OSUX88123': 1249,\n '941220E09': 1257,\n '950125E10': 1261,\n '941220E05': 1268,\n 'OSUX85078': 1270,\n '960227E09': 1286,\n '930203E06': 1293,\n '900219E15': 1325,\n '941221E06': 1329,\n '940221E07': 1339,\n '960313E04': 1373,\n '910214D01': 1374,\n 'OSUX89073': 1386,\n 'OSUX89086': 1399,\n '941129E04': 1407,\n '900626E01': 1416,\n '930119E03': 1422,\n 'OSUX89153': 1423,\n '910313E26': 1439,\n '930415E04': 1442,\n 'OSUX91116': 1444,\n '930209E06': 1450,\n '920318D02': 1451,\n '890424E06': 1454,\n '930416D01': 1466,\n '931215E09': 1468,\n '930318D03': 1469,\n 'OSUX89146': 1497,\n '930429E01': 1505,\n 'OSUX85135': 1508,\n '910315E14': 1531,\n 'OSUX86137': 1555,\n 'OSUX87175': 1566,\n '910313E07': 1589,\n '890317E25': 1593,\n '941220E01': 1601,\n 'OSUX88129': 1605,\n '890317E23': 1625,\n '921228E09': 1648,\n '910313E11': 1654,\n '940318D01': 1655,\n '890418E01': 1669,\n '930409D01': 1671,\n '940222D01': 1681,\n '890418E13': 1685,\n '940217D01': 1689,\n '930304E13': 1696,\n '940119D01': 1714,\n '940228E01': 1718,\n '910315E15': 1725,\n '890324E17': 1738,\n '921216E04': 1752,\n '921230E03': 1758,\n '930127D01': 1766,\n '890221E02': 1776,\n '930202D01': 1782,\n '921216E08': 1787,\n '930318D04': 1788,\n '900313D02': 1828,\n '900205E11': 1846,\n '910313E18': 1871,\n '940131D01': 1927,\n '910130D01': 1933,\n '890413E05': 1953,\n '910312E09': 1975,\n '940219E02': 1990,\n '940213E01': 2035,\n '940219E11': 2038,\n '920226D01': 2055,\n '890222E01': 2086,\n '940329E01': 2090,\n '930218D01': 2095,\n '930318D01': 2116,\n '890328E34': 2192,\n '940303D01': 2246,\n '930415D02': 2266,\n '940124D01': 2304,\n '880119D02': 2500,\n '930202E03': 2536,\n '910312E12': 2560,\n '920309D02': 2566,\n '930410E01': 2579,\n '890224E04': 2581,\n '910313E19': 2741,\n '921216E02': 2748,\n '920225D01': 2791,\n '930421E03': 2805,\n '910319E11': 2881,\n '890130D09': 2922,\n '940110D01': 2996,\n '930304E16': 3136,\n '921228E06': 3172,\n '890424E08': 3315,\n '910313E37': 4007}"
     },
     "execution_count": 4,
     "metadata": {},
     "output_type": "execute_result"
    }
   ],
   "source": [
    "traj_id_and_class = pf_starkey.reset_index()['traj_id'].value_counts(ascending=True).to_dict()\n",
    "traj_id_and_class"
   ],
   "metadata": {
    "collapsed": false,
    "ExecuteTime": {
     "end_time": "2023-07-23T18:51:09.209799826Z",
     "start_time": "2023-07-23T18:51:09.009383186Z"
    }
   }
  },
  {
   "cell_type": "code",
   "execution_count": 5,
   "outputs": [
    {
     "name": "stdout",
     "output_type": "stream",
     "text": [
      "\\begin{tabular}{rlrrrrll}\n",
      "\\toprule\n",
      " seed &                      model &  base\\_accuracy &  base\\_f1\\_score &  max\\_accuracy &  max\\_f1\\_score &     max\\_acc\\_strategy &      max\\_f1\\_strategy \\\\\n",
      "\\midrule\n",
      "  781 & GradientBoostingClassifier &           0.50 &           0.43 &          0.75 &          0.75 &          balanced-in &          balanced-in \\\\\n",
      "  899 &     DecisionTreeClassifier &           0.50 &           0.50 &          0.88 &          0.88 &        balanced-drop &        balanced-drop \\\\\n",
      " 1058 & GradientBoostingClassifier &           0.62 &           0.48 &          1.00 &          1.00 &        balanced-drop &        balanced-drop \\\\\n",
      " 1415 &     DecisionTreeClassifier &           0.75 &           0.77 &          1.00 &          1.00 &   random-selected-on &   random-selected-on \\\\\n",
      " 1971 &     RandomForestClassifier &           0.50 &           0.50 &          0.75 &          0.71 &          balanced-in &          balanced-in \\\\\n",
      " 2097 &     RandomForestClassifier &           0.38 &           0.38 &          0.62 &          0.63 &        balanced-drop &        balanced-drop \\\\\n",
      " 2643 &     DecisionTreeClassifier &           0.62 &           0.56 &          1.00 &          1.00 &   fewest-selected-on &   fewest-selected-on \\\\\n",
      " 2862 &     RandomForestClassifier &           0.75 &           0.79 &          1.00 &          1.00 &        balanced-drop &        balanced-drop \\\\\n",
      " 2884 &     DecisionTreeClassifier &           0.75 &           0.75 &          0.88 &          0.87 &        balanced-drop &        balanced-drop \\\\\n",
      " 3589 &     DecisionTreeClassifier &           0.62 &           0.61 &          0.88 &          0.88 &          balanced-in &          balanced-in \\\\\n",
      " 3832 &     DecisionTreeClassifier &           0.50 &           0.53 &          0.88 &          0.88 & fewest-selected-drop & fewest-selected-drop \\\\\n",
      " 3846 &     DecisionTreeClassifier &           0.62 &           0.60 &          0.62 &          0.60 &        balanced-drop &        balanced-drop \\\\\n",
      " 4944 &     DecisionTreeClassifier &           0.62 &           0.56 &          1.00 &          1.00 & fewest-selected-drop & fewest-selected-drop \\\\\n",
      " 5923 & GradientBoostingClassifier &           0.62 &           0.56 &          0.88 &          0.87 &          balanced-on &          balanced-on \\\\\n",
      " 6406 & GradientBoostingClassifier &           0.62 &           0.58 &          0.88 &          0.88 &        balanced-drop &        balanced-drop \\\\\n",
      " 6939 & GradientBoostingClassifier &           0.75 &           0.75 &          0.88 &          0.88 &     balanced-stretch &     balanced-stretch \\\\\n",
      " 7932 & GradientBoostingClassifier &           0.75 &           0.77 &          1.00 &          1.00 &     balanced-stretch &     balanced-stretch \\\\\n",
      " 7950 &     RandomForestClassifier &           0.38 &           0.20 &          0.75 &          0.75 &        balanced-drop &        balanced-drop \\\\\n",
      " 9265 & GradientBoostingClassifier &           0.50 &           0.57 &          0.75 &          0.79 &     balanced-stretch &     balanced-stretch \\\\\n",
      " 9375 & GradientBoostingClassifier &           0.50 &           0.57 &          1.00 &          1.00 &   random-selected-on &   random-selected-on \\\\\n",
      "\\bottomrule\n",
      "\\end{tabular}\n",
      "\n"
     ]
    },
    {
     "name": "stderr",
     "output_type": "stream",
     "text": [
      "/tmp/ipykernel_82794/2542898649.py:10: FutureWarning: In future versions `DataFrame.to_latex` is expected to utilise the base implementation of `Styler.to_latex` for formatting and rendering. The arguments signature may therefore change. It is recommended instead to use `DataFrame.style.to_latex` which also contains additional functionality.\n",
      "  print(geolife.to_latex(index=False, float_format=\"%.2f\"))\n"
     ]
    }
   ],
   "source": [
    "gl_summary = TestUtils.summarize_results(pd.read_csv('results/geolife_results.csv'), 'Geolife Result Summary')\n",
    "\n",
    "# Get the max value for each seed.\n",
    "idx_max = gl_summary.groupby('seed')['f1_score_delta'].idxmax()\n",
    "gl_summary = gl_summary.loc[idx_max]\n",
    "gl_summary['max_acc_strategy'] = gl_summary['max_acc_strategy'].str.replace(\"_\", \"-\")\n",
    "gl_summary['max_f1_strategy'] = gl_summary['max_f1_strategy'].str.replace(\"_\", \"-\")\n",
    "\n",
    "# Write to latex table.\n",
    "gl_summary = gl_summary.reindex(columns=['seed', 'model', 'base_accuracy', 'base_f1_score', 'max_accuracy',\n",
    "                                   'max_f1_score', 'max_acc_strategy', 'max_f1_strategy'])\n",
    "print(gl_summary.to_latex(index=False, float_format=\"%.2f\"))\n"
   ],
   "metadata": {
    "collapsed": false,
    "ExecuteTime": {
     "end_time": "2023-07-23T18:51:19.717584891Z",
     "start_time": "2023-07-23T18:51:19.672825805Z"
    }
   }
  },
  {
   "cell_type": "code",
   "execution_count": 8,
   "outputs": [
    {
     "name": "stdout",
     "output_type": "stream",
     "text": [
      "\\begin{tabular}{rlrrrrll}\n",
      "\\toprule\n",
      " seed &                      model &  base\\_accuracy &  base\\_f1\\_score &  max\\_accuracy &  max\\_f1\\_score &                max\\_acc\\_strategy &                 max\\_f1\\_strategy \\\\\n",
      "\\midrule\n",
      "  781 &                        SVC &           0.59 &           0.58 &          0.65 &          0.64 &            fewest-selected-drop &            fewest-selected-drop \\\\\n",
      "  899 &                        SVC &           0.67 &           0.64 &          0.73 &          0.73 &                   balanced-drop &                   balanced-drop \\\\\n",
      " 1058 &                        SVC &           0.67 &           0.62 &          0.75 &          0.75 &         fewest-selected-stretch &         fewest-selected-stretch \\\\\n",
      " 1415 &                        SVC &           0.75 &           0.73 &          0.82 &          0.82 &            fewest-selected-drop &            fewest-selected-drop \\\\\n",
      " 1971 & GradientBoostingClassifier &           0.92 &           0.92 &          0.94 &          0.94 &      representative-selected-in &      representative-selected-in \\\\\n",
      " 2097 &     DecisionTreeClassifier &           0.92 &           0.93 &          1.00 &          1.00 &      proportional-selected-drop &      proportional-selected-drop \\\\\n",
      " 2643 &                        SVC &           0.73 &           0.71 &          0.76 &          0.76 &              fewest-selected-in &              fewest-selected-in \\\\\n",
      " 2862 &                        SVC &           0.73 &           0.70 &          0.80 &          0.80 &              fewest-selected-in &              fewest-selected-in \\\\\n",
      " 2884 &     DecisionTreeClassifier &           0.86 &           0.86 &          0.94 &          0.94 &         random-selected-stretch &         random-selected-stretch \\\\\n",
      " 3589 &                        SVC &           0.69 &           0.66 &          0.75 &          0.74 &            fewest-selected-drop &            fewest-selected-drop \\\\\n",
      " 3832 &     DecisionTreeClassifier &           0.86 &           0.86 &          0.92 &          0.92 &              fewest-selected-on &   proportional-selected-stretch \\\\\n",
      " 3846 & GradientBoostingClassifier &           0.90 &           0.89 &          0.92 &          0.92 &            fewest-selected-drop &            fewest-selected-drop \\\\\n",
      " 4944 & GradientBoostingClassifier &           0.88 &           0.88 &          0.94 &          0.94 &              fewest-selected-on &              fewest-selected-on \\\\\n",
      " 5923 &                        SVC &           0.67 &           0.63 &          0.73 &          0.73 &                     balanced-in &                     balanced-in \\\\\n",
      " 6406 &     DecisionTreeClassifier &           0.80 &           0.80 &          0.90 &          0.90 & representative-selected-stretch & representative-selected-stretch \\\\\n",
      " 6939 &     DecisionTreeClassifier &           0.86 &           0.87 &          0.96 &          0.96 &              fewest-selected-on &              fewest-selected-on \\\\\n",
      " 7932 &                        SVC &           0.63 &           0.61 &          0.69 &          0.70 &                   balanced-drop &         fewest-selected-stretch \\\\\n",
      " 7950 &     DecisionTreeClassifier &           0.84 &           0.84 &          0.88 &          0.88 &              random-selected-in &              random-selected-in \\\\\n",
      " 9265 &                        SVC &           0.67 &           0.65 &          0.80 &          0.80 &                   balanced-drop &                   balanced-drop \\\\\n",
      " 9375 &                        SVC &           0.65 &           0.62 &          0.73 &          0.73 &            fewest-selected-drop &            fewest-selected-drop \\\\\n",
      "\\bottomrule\n",
      "\\end{tabular}\n",
      "\n"
     ]
    },
    {
     "name": "stderr",
     "output_type": "stream",
     "text": [
      "/tmp/ipykernel_82794/216277739.py:12: FutureWarning: In future versions `DataFrame.to_latex` is expected to utilise the base implementation of `Styler.to_latex` for formatting and rendering. The arguments signature may therefore change. It is recommended instead to use `DataFrame.style.to_latex` which also contains additional functionality.\n",
      "  print(starkey_summary.to_latex(index=False, float_format=\"%.2f\"))\n"
     ]
    }
   ],
   "source": [
    "starkey_summary = TestUtils.summarize_results(pd.read_csv('results/starkey_results.csv'), 'Starkey Result Summary')\n",
    "\n",
    "# Get the max value for each seed.\n",
    "idx_max = starkey_summary.groupby('seed')['f1_score_delta'].idxmax()\n",
    "starkey_summary = starkey_summary.loc[idx_max]\n",
    "starkey_summary['max_acc_strategy'] = starkey_summary['max_acc_strategy'].str.replace(\"_\", \"-\")\n",
    "starkey_summary['max_f1_strategy'] = starkey_summary['max_f1_strategy'].str.replace(\"_\", \"-\")\n",
    "\n",
    "# Write to latex table.\n",
    "starkey_summary = starkey_summary.reindex(columns=['seed', 'model', 'base_accuracy', 'base_f1_score', 'max_accuracy',\n",
    "                                   'max_f1_score', 'max_acc_strategy', 'max_f1_strategy'])\n",
    "print(starkey_summary.to_latex(index=False, float_format=\"%.2f\"))\n"
   ],
   "metadata": {
    "collapsed": false,
    "ExecuteTime": {
     "end_time": "2023-07-23T20:56:34.725878302Z",
     "start_time": "2023-07-23T20:56:34.681136330Z"
    }
   }
  },
  {
   "cell_type": "code",
   "execution_count": 9,
   "outputs": [
    {
     "name": "stdout",
     "output_type": "stream",
     "text": [
      "\\begin{tabular}{rlrrrrll}\n",
      "\\toprule\n",
      " seed &                      model &  base\\_accuracy &  base\\_f1\\_score &  max\\_accuracy &  max\\_f1\\_score &                max\\_acc\\_strategy &                 max\\_f1\\_strategy \\\\\n",
      "\\midrule\n",
      "  781 &     DecisionTreeClassifier &           0.75 &           0.78 &          0.92 &          0.90 &                   balanced-drop &                   balanced-drop \\\\\n",
      "  899 & GradientBoostingClassifier &           0.88 &           0.82 &          0.92 &          0.90 &      proportional-selected-drop &      proportional-selected-drop \\\\\n",
      " 1058 & GradientBoostingClassifier &           0.88 &           0.90 &          0.96 &          0.94 &                     balanced-in &                     balanced-in \\\\\n",
      " 1415 &     DecisionTreeClassifier &           0.88 &           0.89 &          0.96 &          0.96 &            fewest-selected-drop &            fewest-selected-drop \\\\\n",
      " 1971 &     DecisionTreeClassifier &           0.76 &           0.76 &          0.92 &          0.90 &              random-selected-in &              random-selected-in \\\\\n",
      " 2097 &     DecisionTreeClassifier &           0.79 &           0.77 &          0.92 &          0.90 &         random-selected-stretch &         random-selected-stretch \\\\\n",
      " 2643 &     DecisionTreeClassifier &           0.92 &           0.90 &          0.96 &          0.96 &              fewest-selected-on &              fewest-selected-on \\\\\n",
      " 2862 &     DecisionTreeClassifier &           0.75 &           0.80 &          0.92 &          0.92 &        proportional-selected-in &        proportional-selected-in \\\\\n",
      " 2884 &                        SVC &           0.92 &           0.88 &          0.96 &          0.95 &                     balanced-on &                     balanced-on \\\\\n",
      " 3589 &     DecisionTreeClassifier &           0.84 &           0.88 &          0.92 &          0.94 &            fewest-selected-drop &      proportional-selected-drop \\\\\n",
      " 3832 &     DecisionTreeClassifier &           0.83 &           0.81 &          0.88 &          0.88 &   proportional-selected-stretch &   proportional-selected-stretch \\\\\n",
      " 3846 &     DecisionTreeClassifier &           0.80 &           0.81 &          0.92 &          0.91 &            fewest-selected-drop &            fewest-selected-drop \\\\\n",
      " 4944 & GradientBoostingClassifier &           0.84 &           0.84 &          0.96 &          0.96 &      representative-selected-on &      representative-selected-on \\\\\n",
      " 5923 &                        SVC &           0.92 &           0.88 &          0.96 &          0.95 &                     balanced-on &                     balanced-on \\\\\n",
      " 6406 &     DecisionTreeClassifier &           0.80 &           0.77 &          0.84 &          0.83 &                balanced-stretch &                balanced-stretch \\\\\n",
      " 6939 & GradientBoostingClassifier &           0.88 &           0.89 &          0.96 &          0.95 &      proportional-selected-drop &      proportional-selected-drop \\\\\n",
      " 7932 & GradientBoostingClassifier &           0.76 &           0.73 &          0.88 &          0.85 &            random-selected-drop &            random-selected-drop \\\\\n",
      " 7950 &     DecisionTreeClassifier &           0.76 &           0.73 &          0.84 &          0.84 & representative-selected-stretch & representative-selected-stretch \\\\\n",
      " 9265 & GradientBoostingClassifier &           0.92 &           0.92 &          1.00 &          1.00 &                     balanced-in &                     balanced-in \\\\\n",
      " 9375 &     DecisionTreeClassifier &           0.84 &           0.86 &          0.96 &          0.95 &      proportional-selected-drop &      proportional-selected-drop \\\\\n",
      "\\bottomrule\n",
      "\\end{tabular}\n",
      "\n"
     ]
    },
    {
     "name": "stderr",
     "output_type": "stream",
     "text": [
      "/tmp/ipykernel_82794/2140178135.py:12: FutureWarning: In future versions `DataFrame.to_latex` is expected to utilise the base implementation of `Styler.to_latex` for formatting and rendering. The arguments signature may therefore change. It is recommended instead to use `DataFrame.style.to_latex` which also contains additional functionality.\n",
      "  print(traffic_summary.to_latex(index=False, float_format=\"%.2f\"))\n"
     ]
    }
   ],
   "source": [
    "traffic_summary = TestUtils.summarize_results(pd.read_csv('results/traffic_results.csv'), 'Traffic Result Summary')\n",
    "\n",
    "# Get the max value for each seed.\n",
    "idx_max = traffic_summary.groupby('seed')['f1_score_delta'].idxmax()\n",
    "traffic_summary = traffic_summary.loc[idx_max]\n",
    "traffic_summary['max_acc_strategy'] = traffic_summary['max_acc_strategy'].str.replace(\"_\", \"-\")\n",
    "traffic_summary['max_f1_strategy'] = traffic_summary['max_f1_strategy'].str.replace(\"_\", \"-\")\n",
    "\n",
    "# Write to latex table.\n",
    "traffic_summary = traffic_summary.reindex(columns=['seed', 'model', 'base_accuracy', 'base_f1_score', 'max_accuracy',\n",
    "                                   'max_f1_score', 'max_acc_strategy', 'max_f1_strategy'])\n",
    "print(traffic_summary.to_latex(index=False, float_format=\"%.2f\"))\n"
   ],
   "metadata": {
    "collapsed": false,
    "ExecuteTime": {
     "end_time": "2023-07-23T21:29:03.815996691Z",
     "start_time": "2023-07-23T21:29:03.772925621Z"
    }
   }
  }
 ],
 "metadata": {
  "kernelspec": {
   "display_name": "Python 3 (ipykernel)",
   "language": "python",
   "name": "python3"
  },
  "language_info": {
   "codemirror_mode": {
    "name": "ipython",
    "version": 3
   },
   "file_extension": ".py",
   "mimetype": "text/x-python",
   "name": "python",
   "nbconvert_exporter": "python",
   "pygments_lexer": "ipython3",
   "version": "3.8.10"
  }
 },
 "nbformat": 4,
 "nbformat_minor": 1
}
