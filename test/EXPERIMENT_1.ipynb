{
 "cells": [
  {
   "cell_type": "code",
   "execution_count": 1,
   "metadata": {
    "collapsed": true,
    "ExecuteTime": {
     "end_time": "2023-08-22T19:43:47.759222930Z",
     "start_time": "2023-08-22T19:43:46.396618272Z"
    }
   },
   "outputs": [],
   "source": [
    "import re\n",
    "import pandas as pd\n",
    "from ptrail.core.TrajectoryDF import PTRAILDataFrame\n",
    "from ptrail.features.kinematic_features import KinematicFeatures\n",
    "from ptrail.preprocessing.statistics import Statistics\n",
    "\n",
    "from TestUtils.test_utils import TestUtils\n",
    "from src.selection.select import Selection\n",
    "from src.augmentation.augment import Augmentation\n",
    "from src.utils.general_utils import Utilities"
   ]
  },
  {
   "cell_type": "code",
   "execution_count": 2,
   "outputs": [
    {
     "data": {
      "text/plain": "                                   lat         lon  mode_of_transport  \\\ntraj_id DateTime                                                        \n10      2008-03-31 16:00:08  41.741415   86.186028                  1   \n        2008-03-31 16:01:07  41.737063   86.179470                  1   \n        2008-03-31 16:02:07  41.734105   86.172823                  1   \n        2008-03-31 16:03:06  41.739110   86.166563                  1   \n        2008-03-31 16:04:05  41.744368   86.159987                  1   \n...                                ...         ...                ...   \n98      2007-06-02 12:07:19  39.935300  116.468267                  1   \n        2007-06-02 12:07:58  39.935450  116.468333                  1   \n        2007-06-02 12:08:20  39.935400  116.468517                  1   \n        2007-06-02 12:09:40  39.934633  116.468983                  1   \n        2007-06-02 12:09:50  39.934717  116.468900                  1   \n\n                               Distance  \ntraj_id DateTime                         \n10      2008-03-31 16:00:08         NaN  \n        2008-03-31 16:01:07  728.185829  \n        2008-03-31 16:02:07  642.172796  \n        2008-03-31 16:03:06  761.267192  \n        2008-03-31 16:04:05  799.694199  \n...                                 ...  \n98      2007-06-02 12:07:19   14.666196  \n        2007-06-02 12:07:58   17.621166  \n        2007-06-02 12:08:20   16.590457  \n        2007-06-02 12:09:40   94.077625  \n        2007-06-02 12:09:50   11.676742  \n\n[355181 rows x 4 columns]",
      "text/html": "<div>\n<style scoped>\n    .dataframe tbody tr th:only-of-type {\n        vertical-align: middle;\n    }\n\n    .dataframe tbody tr th {\n        vertical-align: top;\n    }\n\n    .dataframe thead th {\n        text-align: right;\n    }\n</style>\n<table border=\"1\" class=\"dataframe\">\n  <thead>\n    <tr style=\"text-align: right;\">\n      <th></th>\n      <th></th>\n      <th>lat</th>\n      <th>lon</th>\n      <th>mode_of_transport</th>\n      <th>Distance</th>\n    </tr>\n    <tr>\n      <th>traj_id</th>\n      <th>DateTime</th>\n      <th></th>\n      <th></th>\n      <th></th>\n      <th></th>\n    </tr>\n  </thead>\n  <tbody>\n    <tr>\n      <th rowspan=\"5\" valign=\"top\">10</th>\n      <th>2008-03-31 16:00:08</th>\n      <td>41.741415</td>\n      <td>86.186028</td>\n      <td>1</td>\n      <td>NaN</td>\n    </tr>\n    <tr>\n      <th>2008-03-31 16:01:07</th>\n      <td>41.737063</td>\n      <td>86.179470</td>\n      <td>1</td>\n      <td>728.185829</td>\n    </tr>\n    <tr>\n      <th>2008-03-31 16:02:07</th>\n      <td>41.734105</td>\n      <td>86.172823</td>\n      <td>1</td>\n      <td>642.172796</td>\n    </tr>\n    <tr>\n      <th>2008-03-31 16:03:06</th>\n      <td>41.739110</td>\n      <td>86.166563</td>\n      <td>1</td>\n      <td>761.267192</td>\n    </tr>\n    <tr>\n      <th>2008-03-31 16:04:05</th>\n      <td>41.744368</td>\n      <td>86.159987</td>\n      <td>1</td>\n      <td>799.694199</td>\n    </tr>\n    <tr>\n      <th>...</th>\n      <th>...</th>\n      <td>...</td>\n      <td>...</td>\n      <td>...</td>\n      <td>...</td>\n    </tr>\n    <tr>\n      <th rowspan=\"5\" valign=\"top\">98</th>\n      <th>2007-06-02 12:07:19</th>\n      <td>39.935300</td>\n      <td>116.468267</td>\n      <td>1</td>\n      <td>14.666196</td>\n    </tr>\n    <tr>\n      <th>2007-06-02 12:07:58</th>\n      <td>39.935450</td>\n      <td>116.468333</td>\n      <td>1</td>\n      <td>17.621166</td>\n    </tr>\n    <tr>\n      <th>2007-06-02 12:08:20</th>\n      <td>39.935400</td>\n      <td>116.468517</td>\n      <td>1</td>\n      <td>16.590457</td>\n    </tr>\n    <tr>\n      <th>2007-06-02 12:09:40</th>\n      <td>39.934633</td>\n      <td>116.468983</td>\n      <td>1</td>\n      <td>94.077625</td>\n    </tr>\n    <tr>\n      <th>2007-06-02 12:09:50</th>\n      <td>39.934717</td>\n      <td>116.468900</td>\n      <td>1</td>\n      <td>11.676742</td>\n    </tr>\n  </tbody>\n</table>\n<p>355181 rows × 4 columns</p>\n</div>"
     },
     "execution_count": 2,
     "metadata": {},
     "output_type": "execute_result"
    }
   ],
   "source": [
    "gl_dataset = PTRAILDataFrame(data_set=pd.read_csv('./TestUtils/geolife.csv'),\n",
    "                             traj_id='traj_id',\n",
    "                             datetime='DateTime',\n",
    "                             latitude='lat',\n",
    "                             longitude='lon')\n",
    "ready_dataset = KinematicFeatures.create_distance_column(gl_dataset)\n",
    "ready_dataset"
   ],
   "metadata": {
    "collapsed": false,
    "ExecuteTime": {
     "end_time": "2023-08-22T19:43:48.483677015Z",
     "start_time": "2023-08-22T19:43:47.763508005Z"
    }
   }
  },
  {
   "cell_type": "code",
   "execution_count": 3,
   "outputs": [],
   "source": [
    "def find_original_and_augmentation_pairs(augmented_dataset, selected):\n",
    "    augmented_dataset = augmented_dataset.reset_index()\n",
    "    select_to_augment_map = {}\n",
    "    for traj_id in selected:\n",
    "        pattern = r'\\b{}aug'.format(traj_id)\n",
    "        conditions = augmented_dataset['traj_id'].str.match(pattern)\n",
    "        select_to_augment_map[traj_id] = augmented_dataset.loc[conditions]['traj_id'].unique()\n",
    "\n",
    "    print(select_to_augment_map)"
   ],
   "metadata": {
    "collapsed": false,
    "ExecuteTime": {
     "end_time": "2023-08-22T19:43:48.488331327Z",
     "start_time": "2023-08-22T19:43:48.486107548Z"
    }
   }
  },
  {
   "cell_type": "code",
   "execution_count": 4,
   "outputs": [
    {
     "name": "stdout",
     "output_type": "stream",
     "text": [
      "{'167': array(['167aug708447', '167aug9783601', '167aug6455757', '167aug3825378',\n",
      "       '167aug7354080', '167aug4479242', '167aug6013867', '167aug5382742',\n",
      "       '167aug854881', '167aug1959424', '167aug2920668', '167aug3236511',\n",
      "       '167aug9976282', '167aug5285447', '167aug9223050', '167aug5805360',\n",
      "       '167aug4688038', '167aug6359446', '167aug9462912', '167aug1616123'],\n",
      "      dtype=object), '67': array(['67aug4479242', '67aug6455757', '67aug3236511', '67aug7354080',\n",
      "       '67aug9462912', '67aug9976282', '67aug5805360', '67aug4688038',\n",
      "       '67aug1616123', '67aug9783601', '67aug3825378', '67aug5285447',\n",
      "       '67aug5382742', '67aug1959424', '67aug708447', '67aug9223050',\n",
      "       '67aug854881', '67aug2920668', '67aug6013867', '67aug6359446'],\n",
      "      dtype=object), '75': array(['75aug6359446', '75aug7354080', '75aug9223050', '75aug1959424',\n",
      "       '75aug6013867', '75aug2920668', '75aug3236511', '75aug5285447',\n",
      "       '75aug854881', '75aug9976282', '75aug9783601', '75aug3825378',\n",
      "       '75aug4479242', '75aug708447', '75aug6455757', '75aug1616123',\n",
      "       '75aug5382742', '75aug5805360', '75aug9462912', '75aug4688038'],\n",
      "      dtype=object), '179': array(['179aug6013867', '179aug9976282', '179aug1616123', '179aug5382742',\n",
      "       '179aug1959424', '179aug9783601', '179aug4688038', '179aug3236511',\n",
      "       '179aug2920668', '179aug9223050', '179aug5805360', '179aug708447',\n",
      "       '179aug5285447', '179aug6359446', '179aug854881', '179aug7354080',\n",
      "       '179aug3825378', '179aug4479242', '179aug9462912', '179aug6455757'],\n",
      "      dtype=object), '82': array(['82aug6013867', '82aug5805360', '82aug5285447', '82aug5382742',\n",
      "       '82aug9223050', '82aug708447', '82aug4688038', '82aug4479242',\n",
      "       '82aug2920668', '82aug7354080', '82aug6359446', '82aug3825378',\n",
      "       '82aug9783601', '82aug3236511', '82aug9976282', '82aug1616123',\n",
      "       '82aug6455757', '82aug9462912', '82aug854881', '82aug1959424'],\n",
      "      dtype=object), '78': array(['78aug1959424', '78aug5805360', '78aug6359446', '78aug7354080',\n",
      "       '78aug9462912', '78aug2920668', '78aug854881', '78aug4688038',\n",
      "       '78aug1616123', '78aug5382742', '78aug5285447', '78aug3236511',\n",
      "       '78aug6013867', '78aug708447', '78aug6455757', '78aug4479242',\n",
      "       '78aug9783601', '78aug3825378', '78aug9223050', '78aug9976282'],\n",
      "      dtype=object), '62': array(['62aug854881', '62aug7354080', '62aug6359446', '62aug4479242',\n",
      "       '62aug3825378', '62aug9462912', '62aug5285447', '62aug1616123',\n",
      "       '62aug3236511', '62aug4688038', '62aug5805360', '62aug1959424',\n",
      "       '62aug2920668', '62aug5382742', '62aug6455757', '62aug6013867',\n",
      "       '62aug708447', '62aug9223050', '62aug9783601', '62aug9976282'],\n",
      "      dtype=object), '98': array(['98aug3236511', '98aug854881', '98aug4688038', '98aug9462912',\n",
      "       '98aug6359446', '98aug5382742', '98aug5285447', '98aug4479242',\n",
      "       '98aug7354080', '98aug6455757', '98aug9976282', '98aug9783601',\n",
      "       '98aug708447', '98aug3825378', '98aug5805360', '98aug1616123',\n",
      "       '98aug1959424', '98aug9223050', '98aug6013867', '98aug2920668'],\n",
      "      dtype=object)}\n"
     ]
    }
   ],
   "source": [
    "seed_generator = Utilities.generate_pi_seed(1)\n",
    "seed_vals = [next(seed_generator) for i in range(1)]\n",
    "shake_percentages = [0.2, 0.4, 0.6]\n",
    "circle_methods = ['on', 'in']\n",
    "\n",
    "# for seed in seed_vals:\n",
    "#     for shake in shake_percentages:\n",
    "#         for method in circle_methods:\n",
    "#             train, test_x, test_y = TestUtils.get_test_train_data(dataset=ready_dataset, seed_val=seed,\n",
    "#                                                                   class_col='mode_of_transport', k=0.8)\n",
    "#\n",
    "#             selected = Selection.select_randomly(train, seed, k=0.3)\n",
    "#             augmented_training_data = TestUtils.augment_trajectories_using_random_strategy(dataset=train,\n",
    "#                                                                                            percent_to_shake=shake,\n",
    "#                                                                                            ids_to_augment=selected,\n",
    "#                                                                                            circle=method,\n",
    "#                                                                                            n_augmentations=20,\n",
    "#                                                                                            class_col=\"mode_of_transport\")\n",
    "\n",
    "\n",
    "for seed in seed_vals:\n",
    "    train, test_x, test_y = TestUtils.get_test_train_data(ready_dataset, seed_val=seed,\n",
    "                                                          class_col='mode_of_transport', k=0.8)\n",
    "\n",
    "    trajectories_to_augment = Selection.select_randomly(train, seed, k=0.3)\n",
    "    train_x, train_y = TestUtils.augment_trajectories_using_random_strategy(dataset=train,\n",
    "                                                                                   percent_to_shake=0.2,\n",
    "                                                                                   ids_to_augment=trajectories_to_augment,\n",
    "                                                                                   circle='in',\n",
    "                                                                                   n_augmentations=20,\n",
    "                                                                                   class_col=\"mode_of_transport\")\n",
    "\n",
    "    find_original_and_augmentation_pairs(train_x, trajectories_to_augment)\n"
   ],
   "metadata": {
    "collapsed": false,
    "ExecuteTime": {
     "end_time": "2023-08-22T19:49:00.380750378Z",
     "start_time": "2023-08-22T19:43:48.488648933Z"
    }
   }
  }
 ],
 "metadata": {
  "kernelspec": {
   "display_name": "Python 3",
   "language": "python",
   "name": "python3"
  },
  "language_info": {
   "codemirror_mode": {
    "name": "ipython",
    "version": 2
   },
   "file_extension": ".py",
   "mimetype": "text/x-python",
   "name": "python",
   "nbconvert_exporter": "python",
   "pygments_lexer": "ipython2",
   "version": "2.7.6"
  }
 },
 "nbformat": 4,
 "nbformat_minor": 0
}
