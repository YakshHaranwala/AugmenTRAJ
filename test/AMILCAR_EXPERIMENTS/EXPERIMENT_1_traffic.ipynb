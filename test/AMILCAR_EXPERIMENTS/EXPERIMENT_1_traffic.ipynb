{
 "cells": [
  {
   "cell_type": "code",
   "execution_count": 1,
   "metadata": {
    "collapsed": true,
    "ExecuteTime": {
     "end_time": "2023-08-23T22:46:38.378848325Z",
     "start_time": "2023-08-23T22:46:36.218367388Z"
    }
   },
   "outputs": [],
   "source": [
    "import numpy as np\n",
    "import pandas as pd\n",
    "from ptrail.core.TrajectoryDF import PTRAILDataFrame\n",
    "from ptrail.features.kinematic_features import KinematicFeatures\n",
    "from ptrail.core.Datasets import Datasets\n",
    "from ptrail.preprocessing.statistics import Statistics\n",
    "\n",
    "from sklearn.ensemble import RandomForestClassifier, ExtraTreesClassifier, GradientBoostingClassifier\n",
    "from sklearn.preprocessing import MinMaxScaler\n",
    "from TestUtils.test_utils import TestUtils\n",
    "from src.selection.select import Selection\n",
    "from src.utils.general_utils import Utilities"
   ]
  },
  {
   "cell_type": "code",
   "execution_count": 2,
   "outputs": [
    {
     "name": "stdout",
     "output_type": "stream",
     "text": [
      "------------------------ Dataset Facts ------------------------------\n",
      "\n",
      "Number of unique Trajectories in the data: 125\n",
      "Number of points in the data: 44905\n",
      "Dataset time range: 0 days 00:00:59.900000\n",
      "Datatype of the DataFrame: <class 'ptrail.core.TrajectoryDF.PTRAILDataFrame'>\n",
      "Dataset Bounding Box: (34.7107417, 135.4640652, 34.7156517, 135.4702002)\n",
      "\n",
      "---------------------------------------------------------------------\n"
     ]
    },
    {
     "data": {
      "text/plain": "                                 vehicle_type  velocity  traffic_lane  \\\ntraj_id DateTime                                                        \n1371    1900-01-01 07:30:00.000             1      48.0             2   \n        1900-01-01 07:30:00.100             1      47.9             2   \n        1900-01-01 07:30:00.200             1      47.9             2   \n        1900-01-01 07:30:00.300             1      47.9             2   \n        1900-01-01 07:30:00.400             1      47.9             2   \n...                                       ...       ...           ...   \n3357    1900-01-01 07:30:59.500             1      27.7             1   \n        1900-01-01 07:30:59.600             1      27.7             1   \n        1900-01-01 07:30:59.700             1      29.0             1   \n        1900-01-01 07:30:59.800             1      30.3             1   \n        1900-01-01 07:30:59.900             1      31.0             1   \n\n                                        lon        lat  kilopost  \\\ntraj_id DateTime                                                   \n1371    1900-01-01 07:30:00.000  135.469950  34.710999    3539.5   \n        1900-01-01 07:30:00.100  135.469957  34.710991    3532.5   \n        1900-01-01 07:30:00.200  135.469963  34.710984    3532.5   \n        1900-01-01 07:30:00.300  135.469968  34.710979    3531.5   \n        1900-01-01 07:30:00.400  135.469972  34.710974    3530.8   \n...                                     ...        ...       ...   \n3357    1900-01-01 07:30:59.500  135.468970  34.712177    3697.6   \n        1900-01-01 07:30:59.600  135.468975  34.712172    3696.6   \n        1900-01-01 07:30:59.700  135.468981  34.712166    3695.6   \n        1900-01-01 07:30:59.800  135.468986  34.712160    3694.7   \n        1900-01-01 07:30:59.900  135.468992  34.712154    3693.7   \n\n                                 vehicle_length  detected_flag  Distance  \ntraj_id DateTime                                                          \n1371    1900-01-01 07:30:00.000             3.0              0       NaN  \n        1900-01-01 07:30:00.100             3.0              0  1.115504  \n        1900-01-01 07:30:00.200             3.0              0  0.939478  \n        1900-01-01 07:30:00.300             3.0              0  0.763477  \n        1900-01-01 07:30:00.400             3.0              0  0.596403  \n...                                         ...            ...       ...  \n3357    1900-01-01 07:30:59.500             3.5              0  0.737022  \n        1900-01-01 07:30:59.600             3.5              1  0.760166  \n        1900-01-01 07:30:59.700             3.5              1  0.788944  \n        1900-01-01 07:30:59.800             3.5              1  0.835374  \n        1900-01-01 07:30:59.900             3.5              1  0.873034  \n\n[44905 rows x 9 columns]",
      "text/html": "<div>\n<style scoped>\n    .dataframe tbody tr th:only-of-type {\n        vertical-align: middle;\n    }\n\n    .dataframe tbody tr th {\n        vertical-align: top;\n    }\n\n    .dataframe thead th {\n        text-align: right;\n    }\n</style>\n<table border=\"1\" class=\"dataframe\">\n  <thead>\n    <tr style=\"text-align: right;\">\n      <th></th>\n      <th></th>\n      <th>vehicle_type</th>\n      <th>velocity</th>\n      <th>traffic_lane</th>\n      <th>lon</th>\n      <th>lat</th>\n      <th>kilopost</th>\n      <th>vehicle_length</th>\n      <th>detected_flag</th>\n      <th>Distance</th>\n    </tr>\n    <tr>\n      <th>traj_id</th>\n      <th>DateTime</th>\n      <th></th>\n      <th></th>\n      <th></th>\n      <th></th>\n      <th></th>\n      <th></th>\n      <th></th>\n      <th></th>\n      <th></th>\n    </tr>\n  </thead>\n  <tbody>\n    <tr>\n      <th rowspan=\"5\" valign=\"top\">1371</th>\n      <th>1900-01-01 07:30:00.000</th>\n      <td>1</td>\n      <td>48.0</td>\n      <td>2</td>\n      <td>135.469950</td>\n      <td>34.710999</td>\n      <td>3539.5</td>\n      <td>3.0</td>\n      <td>0</td>\n      <td>NaN</td>\n    </tr>\n    <tr>\n      <th>1900-01-01 07:30:00.100</th>\n      <td>1</td>\n      <td>47.9</td>\n      <td>2</td>\n      <td>135.469957</td>\n      <td>34.710991</td>\n      <td>3532.5</td>\n      <td>3.0</td>\n      <td>0</td>\n      <td>1.115504</td>\n    </tr>\n    <tr>\n      <th>1900-01-01 07:30:00.200</th>\n      <td>1</td>\n      <td>47.9</td>\n      <td>2</td>\n      <td>135.469963</td>\n      <td>34.710984</td>\n      <td>3532.5</td>\n      <td>3.0</td>\n      <td>0</td>\n      <td>0.939478</td>\n    </tr>\n    <tr>\n      <th>1900-01-01 07:30:00.300</th>\n      <td>1</td>\n      <td>47.9</td>\n      <td>2</td>\n      <td>135.469968</td>\n      <td>34.710979</td>\n      <td>3531.5</td>\n      <td>3.0</td>\n      <td>0</td>\n      <td>0.763477</td>\n    </tr>\n    <tr>\n      <th>1900-01-01 07:30:00.400</th>\n      <td>1</td>\n      <td>47.9</td>\n      <td>2</td>\n      <td>135.469972</td>\n      <td>34.710974</td>\n      <td>3530.8</td>\n      <td>3.0</td>\n      <td>0</td>\n      <td>0.596403</td>\n    </tr>\n    <tr>\n      <th>...</th>\n      <th>...</th>\n      <td>...</td>\n      <td>...</td>\n      <td>...</td>\n      <td>...</td>\n      <td>...</td>\n      <td>...</td>\n      <td>...</td>\n      <td>...</td>\n      <td>...</td>\n    </tr>\n    <tr>\n      <th rowspan=\"5\" valign=\"top\">3357</th>\n      <th>1900-01-01 07:30:59.500</th>\n      <td>1</td>\n      <td>27.7</td>\n      <td>1</td>\n      <td>135.468970</td>\n      <td>34.712177</td>\n      <td>3697.6</td>\n      <td>3.5</td>\n      <td>0</td>\n      <td>0.737022</td>\n    </tr>\n    <tr>\n      <th>1900-01-01 07:30:59.600</th>\n      <td>1</td>\n      <td>27.7</td>\n      <td>1</td>\n      <td>135.468975</td>\n      <td>34.712172</td>\n      <td>3696.6</td>\n      <td>3.5</td>\n      <td>1</td>\n      <td>0.760166</td>\n    </tr>\n    <tr>\n      <th>1900-01-01 07:30:59.700</th>\n      <td>1</td>\n      <td>29.0</td>\n      <td>1</td>\n      <td>135.468981</td>\n      <td>34.712166</td>\n      <td>3695.6</td>\n      <td>3.5</td>\n      <td>1</td>\n      <td>0.788944</td>\n    </tr>\n    <tr>\n      <th>1900-01-01 07:30:59.800</th>\n      <td>1</td>\n      <td>30.3</td>\n      <td>1</td>\n      <td>135.468986</td>\n      <td>34.712160</td>\n      <td>3694.7</td>\n      <td>3.5</td>\n      <td>1</td>\n      <td>0.835374</td>\n    </tr>\n    <tr>\n      <th>1900-01-01 07:30:59.900</th>\n      <td>1</td>\n      <td>31.0</td>\n      <td>1</td>\n      <td>135.468992</td>\n      <td>34.712154</td>\n      <td>3693.7</td>\n      <td>3.5</td>\n      <td>1</td>\n      <td>0.873034</td>\n    </tr>\n  </tbody>\n</table>\n<p>44905 rows × 9 columns</p>\n</div>"
     },
     "execution_count": 2,
     "metadata": {},
     "output_type": "execute_result"
    }
   ],
   "source": [
    "traffic_dataset = Datasets.load_traffic_data()\n",
    "ready_dataset = KinematicFeatures.create_distance_column(traffic_dataset)\n",
    "ready_dataset"
   ],
   "metadata": {
    "collapsed": false,
    "ExecuteTime": {
     "end_time": "2023-08-23T22:46:39.543659115Z",
     "start_time": "2023-08-23T22:46:38.383237563Z"
    }
   }
  },
  {
   "cell_type": "code",
   "execution_count": 3,
   "outputs": [
    {
     "name": "stdout",
     "output_type": "stream",
     "text": [
      "[0.9443616181943876, 0.32965016246073975, 0.928559493270435, 0.320896044065396, 1.0358324988228884, 0.2950693916640335, 1.0353873685693762, 0.2860265013301262, 1.0889518115426413, 0.3254844668835524, 1.064298454006115, 0.2756382043848174, 0.9474367214748377, 0.36430468577879993, 0.9264210845765497, 0.31752134421546535, 1.053533368699006, 0.29314819962160993, 1.039501667733, 0.3035474161033057, 1.0993681831913957, 0.30898772339992625, 1.0722790734752161, 0.29636202335275097, 0.9490198818945649, 0.35199251325132214, 0.9278798344611868, 0.32187702300515786, 1.0359797751856124, 0.29549712264770966, 1.0374041396457379, 0.2979213184886795, 1.0620506856324876, 0.309335846958307, 1.071092432713375, 0.2880309503762299]\n",
      "\n",
      "['ExtraTreesClassifier', 0.9167, 0.9379, 0.9167, 0.9167, 0.9379, 0.9167, 0.9379, 'GradientBoostingClassifier', 0.5864, 0.7649, 0.7061, 0.7328, 0.7649, 0.7328, 0.7328, 'RandomForestClassifier', 0.9356, 0.8214, 0.8214, 0.8944, 0.7947, 0.7667, 0.7667]\n",
      "----------------------------------------\n"
     ]
    }
   ],
   "source": [
    "seed_generator = Utilities.generate_pi_seed(1)\n",
    "seed_vals = [next(seed_generator) for i in range(1)]\n",
    "shake_percentages = [0.2, 0.4, 0.6]\n",
    "circle_methods = ['on', 'in']\n",
    "ml_models = [ExtraTreesClassifier(), GradientBoostingClassifier(), RandomForestClassifier()]\n",
    "scaler = MinMaxScaler((0, 1))\n",
    "\n",
    "distance_results = [\"on_20%_dist\", \"on_20%_std\", \"on_40%_dist\", \"on_40%_std\", \"on_60%_dist\", \"on_60%_std\",\n",
    "                    \"in_20%_dist\",\"in_20%_std\",\"in_40%_dist\",\"in_40%_std\",\"in_60%_dist\",\"in_60%_std\"]\n",
    "\n",
    "model_results = [\"model\", \"baseline\", \"in_20%_f1\", \"in_40%_f1\", \"in_60%_f1\", \"on_20%_f1\", \"on_40%_f1\", \"on_60%_f1\"]\n",
    "\n",
    "for seed in seed_vals:\n",
    "    # Intermediate lists for storing distance and model score values.\n",
    "    distance_row = []\n",
    "    model_row = []\n",
    "\n",
    "    # Set apart 20% data for testing that augmentation process will never see.\n",
    "    train, test_x, test_y = TestUtils.get_test_train_data(dataset=ready_dataset, seed_val=seed,\n",
    "                                                          class_col='vehicle_type', k=0.8)\n",
    "    for model in ml_models:\n",
    "        base_train_x, base_train_y = TestUtils.get_base_train_x_and_train_y(train, \"vehicle_type\")\n",
    "        model_row.append(model.__class__.__name__)\n",
    "        model_row.append(TestUtils.train_model_and_evaluate(model, scaler.fit_transform(base_train_x), base_train_y,\n",
    "                                                            scaler.fit_transform(test_x), test_y, seed))\n",
    "        for shake in shake_percentages:\n",
    "            for method in circle_methods:\n",
    "                # Randomly select 30% of trajectories to be augmented.\n",
    "                selected = Selection.select_randomly(train, seed, k=0.3)\n",
    "\n",
    "                # Augment the trajectories.\n",
    "                train_x, train_y = TestUtils.augment_trajectories_using_random_strategy(dataset=train,\n",
    "                                                                                        percent_to_shake=shake,\n",
    "                                                                                        ids_to_augment=selected,\n",
    "                                                                                        circle=method,\n",
    "                                                                                        n_augmentations=1,\n",
    "                                                                                        class_col=\"vehicle_type\")\n",
    "\n",
    "                # Calculate the distances.\n",
    "                mean, std = TestUtils.find_original_and_augmentation_pairs_and_calculate_differences(train_x, selected)\n",
    "                f1_score = TestUtils.train_model_and_evaluate(model, scaler.fit_transform(train_x), train_y,\n",
    "                                                              scaler.fit_transform(test_x), test_y, seed)\n",
    "                distance_row.append(mean)\n",
    "                distance_row.append(std)\n",
    "                model_row.append(f1_score)\n",
    "\n",
    "    print(distance_row)\n",
    "    print()\n",
    "    print(model_row)\n",
    "    print(\"----------------------------------------\")\n",
    "    # Append the intermediate lists to the final list.\n",
    "    distance_results.append(distance_row)\n",
    "    model_results.append(model_row)\n"
   ],
   "metadata": {
    "collapsed": false,
    "ExecuteTime": {
     "end_time": "2023-08-23T22:50:01.937646932Z",
     "start_time": "2023-08-23T22:46:39.554983062Z"
    }
   }
  }
 ],
 "metadata": {
  "kernelspec": {
   "display_name": "Python 3",
   "language": "python",
   "name": "python3"
  },
  "language_info": {
   "codemirror_mode": {
    "name": "ipython",
    "version": 2
   },
   "file_extension": ".py",
   "mimetype": "text/x-python",
   "name": "python",
   "nbconvert_exporter": "python",
   "pygments_lexer": "ipython2",
   "version": "2.7.6"
  }
 },
 "nbformat": 4,
 "nbformat_minor": 0
}
