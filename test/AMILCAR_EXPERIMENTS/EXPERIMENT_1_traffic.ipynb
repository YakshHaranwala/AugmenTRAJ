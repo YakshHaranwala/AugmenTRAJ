{
 "cells": [
  {
   "cell_type": "code",
   "execution_count": 1,
   "metadata": {
    "collapsed": true,
    "ExecuteTime": {
     "end_time": "2023-08-23T00:44:31.618597986Z",
     "start_time": "2023-08-23T00:44:29.420678145Z"
    }
   },
   "outputs": [],
   "source": [
    "import numpy as np\n",
    "import pandas as pd\n",
    "from ptrail.core.TrajectoryDF import PTRAILDataFrame\n",
    "from ptrail.features.kinematic_features import KinematicFeatures\n",
    "from ptrail.core.Datasets import Datasets\n",
    "\n",
    "from TestUtils.test_utils import TestUtils\n",
    "from src.selection.select import Selection\n",
    "from src.utils.general_utils import Utilities"
   ]
  },
  {
   "cell_type": "code",
   "execution_count": 2,
   "outputs": [
    {
     "name": "stdout",
     "output_type": "stream",
     "text": [
      "------------------------ Dataset Facts ------------------------------\n",
      "\n",
      "Number of unique Trajectories in the data: 125\n",
      "Number of points in the data: 44905\n",
      "Dataset time range: 0 days 00:00:59.900000\n",
      "Datatype of the DataFrame: <class 'ptrail.core.TrajectoryDF.PTRAILDataFrame'>\n",
      "Dataset Bounding Box: (34.7107417, 135.4640652, 34.7156517, 135.4702002)\n",
      "\n",
      "---------------------------------------------------------------------\n"
     ]
    },
    {
     "data": {
      "text/plain": "                                 vehicle_type  velocity  traffic_lane  \\\ntraj_id DateTime                                                        \n1371    1900-01-01 07:30:00.000             1      48.0             2   \n        1900-01-01 07:30:00.100             1      47.9             2   \n        1900-01-01 07:30:00.200             1      47.9             2   \n        1900-01-01 07:30:00.300             1      47.9             2   \n        1900-01-01 07:30:00.400             1      47.9             2   \n...                                       ...       ...           ...   \n3357    1900-01-01 07:30:59.500             1      27.7             1   \n        1900-01-01 07:30:59.600             1      27.7             1   \n        1900-01-01 07:30:59.700             1      29.0             1   \n        1900-01-01 07:30:59.800             1      30.3             1   \n        1900-01-01 07:30:59.900             1      31.0             1   \n\n                                        lon        lat  kilopost  \\\ntraj_id DateTime                                                   \n1371    1900-01-01 07:30:00.000  135.469950  34.710999    3539.5   \n        1900-01-01 07:30:00.100  135.469957  34.710991    3532.5   \n        1900-01-01 07:30:00.200  135.469963  34.710984    3532.5   \n        1900-01-01 07:30:00.300  135.469968  34.710979    3531.5   \n        1900-01-01 07:30:00.400  135.469972  34.710974    3530.8   \n...                                     ...        ...       ...   \n3357    1900-01-01 07:30:59.500  135.468970  34.712177    3697.6   \n        1900-01-01 07:30:59.600  135.468975  34.712172    3696.6   \n        1900-01-01 07:30:59.700  135.468981  34.712166    3695.6   \n        1900-01-01 07:30:59.800  135.468986  34.712160    3694.7   \n        1900-01-01 07:30:59.900  135.468992  34.712154    3693.7   \n\n                                 vehicle_length  detected_flag  Distance  \ntraj_id DateTime                                                          \n1371    1900-01-01 07:30:00.000             3.0              0       NaN  \n        1900-01-01 07:30:00.100             3.0              0  1.115504  \n        1900-01-01 07:30:00.200             3.0              0  0.939478  \n        1900-01-01 07:30:00.300             3.0              0  0.763477  \n        1900-01-01 07:30:00.400             3.0              0  0.596403  \n...                                         ...            ...       ...  \n3357    1900-01-01 07:30:59.500             3.5              0  0.737022  \n        1900-01-01 07:30:59.600             3.5              1  0.760166  \n        1900-01-01 07:30:59.700             3.5              1  0.788944  \n        1900-01-01 07:30:59.800             3.5              1  0.835374  \n        1900-01-01 07:30:59.900             3.5              1  0.873034  \n\n[44905 rows x 9 columns]",
      "text/html": "<div>\n<style scoped>\n    .dataframe tbody tr th:only-of-type {\n        vertical-align: middle;\n    }\n\n    .dataframe tbody tr th {\n        vertical-align: top;\n    }\n\n    .dataframe thead th {\n        text-align: right;\n    }\n</style>\n<table border=\"1\" class=\"dataframe\">\n  <thead>\n    <tr style=\"text-align: right;\">\n      <th></th>\n      <th></th>\n      <th>vehicle_type</th>\n      <th>velocity</th>\n      <th>traffic_lane</th>\n      <th>lon</th>\n      <th>lat</th>\n      <th>kilopost</th>\n      <th>vehicle_length</th>\n      <th>detected_flag</th>\n      <th>Distance</th>\n    </tr>\n    <tr>\n      <th>traj_id</th>\n      <th>DateTime</th>\n      <th></th>\n      <th></th>\n      <th></th>\n      <th></th>\n      <th></th>\n      <th></th>\n      <th></th>\n      <th></th>\n      <th></th>\n    </tr>\n  </thead>\n  <tbody>\n    <tr>\n      <th rowspan=\"5\" valign=\"top\">1371</th>\n      <th>1900-01-01 07:30:00.000</th>\n      <td>1</td>\n      <td>48.0</td>\n      <td>2</td>\n      <td>135.469950</td>\n      <td>34.710999</td>\n      <td>3539.5</td>\n      <td>3.0</td>\n      <td>0</td>\n      <td>NaN</td>\n    </tr>\n    <tr>\n      <th>1900-01-01 07:30:00.100</th>\n      <td>1</td>\n      <td>47.9</td>\n      <td>2</td>\n      <td>135.469957</td>\n      <td>34.710991</td>\n      <td>3532.5</td>\n      <td>3.0</td>\n      <td>0</td>\n      <td>1.115504</td>\n    </tr>\n    <tr>\n      <th>1900-01-01 07:30:00.200</th>\n      <td>1</td>\n      <td>47.9</td>\n      <td>2</td>\n      <td>135.469963</td>\n      <td>34.710984</td>\n      <td>3532.5</td>\n      <td>3.0</td>\n      <td>0</td>\n      <td>0.939478</td>\n    </tr>\n    <tr>\n      <th>1900-01-01 07:30:00.300</th>\n      <td>1</td>\n      <td>47.9</td>\n      <td>2</td>\n      <td>135.469968</td>\n      <td>34.710979</td>\n      <td>3531.5</td>\n      <td>3.0</td>\n      <td>0</td>\n      <td>0.763477</td>\n    </tr>\n    <tr>\n      <th>1900-01-01 07:30:00.400</th>\n      <td>1</td>\n      <td>47.9</td>\n      <td>2</td>\n      <td>135.469972</td>\n      <td>34.710974</td>\n      <td>3530.8</td>\n      <td>3.0</td>\n      <td>0</td>\n      <td>0.596403</td>\n    </tr>\n    <tr>\n      <th>...</th>\n      <th>...</th>\n      <td>...</td>\n      <td>...</td>\n      <td>...</td>\n      <td>...</td>\n      <td>...</td>\n      <td>...</td>\n      <td>...</td>\n      <td>...</td>\n      <td>...</td>\n    </tr>\n    <tr>\n      <th rowspan=\"5\" valign=\"top\">3357</th>\n      <th>1900-01-01 07:30:59.500</th>\n      <td>1</td>\n      <td>27.7</td>\n      <td>1</td>\n      <td>135.468970</td>\n      <td>34.712177</td>\n      <td>3697.6</td>\n      <td>3.5</td>\n      <td>0</td>\n      <td>0.737022</td>\n    </tr>\n    <tr>\n      <th>1900-01-01 07:30:59.600</th>\n      <td>1</td>\n      <td>27.7</td>\n      <td>1</td>\n      <td>135.468975</td>\n      <td>34.712172</td>\n      <td>3696.6</td>\n      <td>3.5</td>\n      <td>1</td>\n      <td>0.760166</td>\n    </tr>\n    <tr>\n      <th>1900-01-01 07:30:59.700</th>\n      <td>1</td>\n      <td>29.0</td>\n      <td>1</td>\n      <td>135.468981</td>\n      <td>34.712166</td>\n      <td>3695.6</td>\n      <td>3.5</td>\n      <td>1</td>\n      <td>0.788944</td>\n    </tr>\n    <tr>\n      <th>1900-01-01 07:30:59.800</th>\n      <td>1</td>\n      <td>30.3</td>\n      <td>1</td>\n      <td>135.468986</td>\n      <td>34.712160</td>\n      <td>3694.7</td>\n      <td>3.5</td>\n      <td>1</td>\n      <td>0.835374</td>\n    </tr>\n    <tr>\n      <th>1900-01-01 07:30:59.900</th>\n      <td>1</td>\n      <td>31.0</td>\n      <td>1</td>\n      <td>135.468992</td>\n      <td>34.712154</td>\n      <td>3693.7</td>\n      <td>3.5</td>\n      <td>1</td>\n      <td>0.873034</td>\n    </tr>\n  </tbody>\n</table>\n<p>44905 rows × 9 columns</p>\n</div>"
     },
     "execution_count": 2,
     "metadata": {},
     "output_type": "execute_result"
    }
   ],
   "source": [
    "traffic_dataset = Datasets.load_traffic_data()\n",
    "ready_dataset = KinematicFeatures.create_distance_column(traffic_dataset)\n",
    "ready_dataset"
   ],
   "metadata": {
    "collapsed": false,
    "ExecuteTime": {
     "end_time": "2023-08-23T00:44:33.240740738Z",
     "start_time": "2023-08-23T00:44:31.624843388Z"
    }
   }
  },
  {
   "cell_type": "code",
   "execution_count": 3,
   "outputs": [],
   "source": [
    "def find_original_and_augmentation_pairs_and_calculate_differences(augmented_dataset, selected):\n",
    "    # Find augmented trajectories associated with each original trajectory.\n",
    "    select_to_augment_map = {}\n",
    "    for traj_id in selected:\n",
    "        pattern = r'\\b{}aug'.format(traj_id)\n",
    "        conditions = augmented_dataset.index.str.match(pattern)\n",
    "        select_to_augment_map[traj_id] = augmented_dataset.loc[conditions].index.unique()\n",
    "\n",
    "    # Now, for each original trajectory, calculate the features for all of them\n",
    "    # and then find the vector difference between the vectors.\n",
    "    distances = []\n",
    "    for traj_id in selected:\n",
    "        # Get the features of the original traj.\n",
    "        original_features = augmented_dataset.loc[augmented_dataset.index == traj_id].to_numpy()\n",
    "\n",
    "        # Get the features of the augmented trajectories.\n",
    "        aug_features = augmented_dataset.loc[augmented_dataset.index.isin(select_to_augment_map[traj_id])].to_numpy()\n",
    "\n",
    "        # # Now, for each augmented trajectory, find the euclidean distance between the\n",
    "        # # features of original trajectory and augmented trajectory and store it in a list.\n",
    "        for aug in aug_features:\n",
    "            distance = np.linalg.norm(original_features - aug)\n",
    "            distances.append(distance)\n",
    "\n",
    "    return round(np.mean(distances), 4), round(np.std(distances), 4)"
   ],
   "metadata": {
    "collapsed": false,
    "ExecuteTime": {
     "end_time": "2023-08-23T00:44:33.246253104Z",
     "start_time": "2023-08-23T00:44:33.244216014Z"
    }
   }
  },
  {
   "cell_type": "code",
   "execution_count": 4,
   "outputs": [
    {
     "name": "stdout",
     "output_type": "stream",
     "text": [
      "[402.0198, 89.4421, 400.5518, 90.021, 470.1159, 88.8643, 468.2348, 89.5241, 492.1202, 94.0044, 489.5759, 95.1361]\n",
      "[366.3004, 102.9543, 363.9885, 104.311, 432.5685, 102.8769, 429.2732, 105.3153, 451.7252, 109.3011, 447.7552, 112.2534]\n",
      "[1510.0634, 6881.3791, 1478.8344, 6747.6129, 1816.8597, 7742.0634, 1909.1544, 8206.9552, 1971.4802, 8419.795, 1912.75, 8187.3087]\n",
      "[346.2697, 104.2434, 345.0728, 103.917, 413.0751, 107.2435, 410.5327, 107.8918, 431.6275, 114.3232, 428.2596, 115.6832]\n",
      "[334.8573, 113.4041, 333.9082, 113.2989, 400.2205, 112.5993, 398.2247, 113.2202, 418.4968, 119.3534, 415.7228, 120.4902]\n",
      "[354.7808, 106.5235, 353.241, 106.6429, 422.279, 107.0981, 420.4864, 107.305, 441.3431, 113.5965, 438.8419, 114.0173]\n",
      "[1809.7139, 8511.9423, 1705.3569, 7845.8702, 2199.9065, 10060.9647, 2022.0066, 9016.2494, 2261.9097, 10208.8785, 2145.8694, 9544.0884]\n",
      "[1616.5961, 7553.8227, 1621.4338, 7243.0228, 2024.1581, 8801.1448, 1874.0218, 7909.2805, 2177.5911, 9440.7603, 2109.5361, 9075.4403]\n",
      "[340.8416, 94.4962, 338.1023, 96.3852, 405.3051, 94.9438, 401.5183, 97.2826, 423.7545, 100.9896, 419.3113, 103.9595]\n",
      "[308.8811, 111.7526, 308.5375, 109.343, 374.1248, 113.8768, 372.6926, 111.6329, 391.1577, 119.463, 388.5251, 118.7775]\n",
      "[327.1539, 111.6349, 327.213, 108.2056, 393.1091, 110.2815, 391.6807, 108.625, 411.0004, 115.0506, 408.3743, 114.686]\n",
      "[340.3073, 104.3446, 337.4971, 105.249, 405.5607, 106.8415, 402.3072, 107.4466, 424.1418, 112.2493, 419.8183, 113.6582]\n",
      "[332.7924, 93.2852, 332.0106, 90.8281, 400.5213, 91.5322, 398.3701, 90.34, 419.7969, 95.7213, 416.8568, 95.0797]\n",
      "[1687.665, 7399.1925, 1776.1754, 7943.4858, 2055.543, 8900.7813, 2011.0044, 8754.219, 2203.9471, 9572.0947, 2166.6227, 9537.2945]\n",
      "[375.8733, 105.9202, 373.1666, 108.087, 443.7653, 106.0148, 440.8445, 108.1692, 464.3769, 112.3482, 460.5282, 115.3442]\n",
      "[348.6482, 116.2689, 349.3508, 111.7898, 416.2877, 115.5522, 415.4575, 112.2504, 436.0602, 120.3928, 433.3603, 119.4053]\n",
      "[350.868, 115.0238, 348.6742, 115.9184, 416.1935, 115.9031, 413.6922, 116.9763, 434.9957, 122.3373, 431.4673, 124.2125]\n",
      "[1755.4411, 7735.1015, 1637.5792, 7432.6635, 1890.4683, 7966.0492, 1916.5084, 8005.1137, 2251.7446, 9733.4729, 2054.9234, 8691.6001]\n",
      "[1554.7763, 6903.3167, 1480.2747, 6306.3914, 1828.3453, 7829.8262, 1778.5559, 7428.4291, 2050.0285, 8936.8307, 1940.3629, 8240.1237]\n",
      "[347.438, 103.2696, 344.487, 105.1522, 414.3896, 101.6512, 411.2976, 103.4467, 432.1696, 107.9818, 428.0965, 110.5481]\n"
     ]
    }
   ],
   "source": [
    "seed_generator = Utilities.generate_pi_seed(20)\n",
    "seed_vals = [next(seed_generator) for i in range(20)]\n",
    "shake_percentages = [0.2, 0.4, 0.6]\n",
    "circle_methods = ['on', 'in']\n",
    "\n",
    "results = [\"on_20%_dist,on_20%_std,on_40%_std,on_40%_std,on_60%_std,on_60%_std,\"\n",
    "           \"in_20%_dist,in_20%_std,in_40%_std,in_40%_std,in_60%_std,in_60%_std\"]\n",
    "\n",
    "for seed in seed_vals:\n",
    "    row = []\n",
    "    for shake in shake_percentages:\n",
    "        for method in circle_methods:\n",
    "            train, test_x, test_y = TestUtils.get_test_train_data(dataset=ready_dataset, seed_val=seed,\n",
    "                                                                  class_col='vehicle_type', k=0.8)\n",
    "\n",
    "            selected = Selection.select_randomly(train, seed, k=0.3)\n",
    "            train_x, train_y = TestUtils.augment_trajectories_using_random_strategy(dataset=train,\n",
    "                                                                                    percent_to_shake=shake,\n",
    "                                                                                    ids_to_augment=selected,\n",
    "                                                                                    circle=method,\n",
    "                                                                                    n_augmentations=20,\n",
    "                                                                                    class_col=\"vehicle_type\")\n",
    "            mean, std = find_original_and_augmentation_pairs_and_calculate_differences(train_x, selected)\n",
    "            row.append(mean)\n",
    "            row.append(std)\n",
    "    print(row)\n",
    "    results.append(row)\n"
   ],
   "metadata": {
    "collapsed": false,
    "ExecuteTime": {
     "end_time": "2023-08-23T05:13:24.932991235Z",
     "start_time": "2023-08-23T00:44:33.250878462Z"
    }
   }
  },
  {
   "cell_type": "code",
   "execution_count": 18,
   "outputs": [
    {
     "name": "stdout",
     "output_type": "stream",
     "text": [
      "[['on_20%_dist', 'on_20%_std', 'on_40%_dist', 'on_40%_std', 'on_60%_dist', 'on_60%_std', 'in_20%_dist', 'in_20%_std', 'in_40%_dist', 'in_40%_std', 'in_60%_dist', 'in_60%_std'], [402.0198, 89.4421, 400.5518, 90.021, 470.1159, 88.8643, 468.2348, 89.5241, 492.1202, 94.0044, 489.5759, 95.1361], [366.3004, 102.9543, 363.9885, 104.311, 432.5685, 102.8769, 429.2732, 105.3153, 451.7252, 109.3011, 447.7552, 112.2534], [1510.0634, 6881.3791, 1478.8344, 6747.6129, 1816.8597, 7742.0634, 1909.1544, 8206.9552, 1971.4802, 8419.795, 1912.75, 8187.3087], [346.2697, 104.2434, 345.0728, 103.917, 413.0751, 107.2435, 410.5327, 107.8918, 431.6275, 114.3232, 428.2596, 115.6832], [334.8573, 113.4041, 333.9082, 113.2989, 400.2205, 112.5993, 398.2247, 113.2202, 418.4968, 119.3534, 415.7228, 120.4902], [354.7808, 106.5235, 353.241, 106.6429, 422.279, 107.0981, 420.4864, 107.305, 441.3431, 113.5965, 438.8419, 114.0173], [1809.7139, 8511.9423, 1705.3569, 7845.8702, 2199.9065, 10060.9647, 2022.0066, 9016.2494, 2261.9097, 10208.8785, 2145.8694, 9544.0884], [1616.5961, 7553.8227, 1621.4338, 7243.0228, 2024.1581, 8801.1448, 1874.0218, 7909.2805, 2177.5911, 9440.7603, 2109.5361, 9075.4403], [340.8416, 94.4962, 338.1023, 96.3852, 405.3051, 94.9438, 401.5183, 97.2826, 423.7545, 100.9896, 419.3113, 103.9595], [308.8811, 111.7526, 308.5375, 109.343, 374.1248, 113.8768, 372.6926, 111.6329, 391.1577, 119.463, 388.5251, 118.7775], [327.1539, 111.6349, 327.213, 108.2056, 393.1091, 110.2815, 391.6807, 108.625, 411.0004, 115.0506, 408.3743, 114.686], [340.3073, 104.3446, 337.4971, 105.249, 405.5607, 106.8415, 402.3072, 107.4466, 424.1418, 112.2493, 419.8183, 113.6582], [332.7924, 93.2852, 332.0106, 90.8281, 400.5213, 91.5322, 398.3701, 90.34, 419.7969, 95.7213, 416.8568, 95.0797], [1687.665, 7399.1925, 1776.1754, 7943.4858, 2055.543, 8900.7813, 2011.0044, 8754.219, 2203.9471, 9572.0947, 2166.6227, 9537.2945], [375.8733, 105.9202, 373.1666, 108.087, 443.7653, 106.0148, 440.8445, 108.1692, 464.3769, 112.3482, 460.5282, 115.3442], [348.6482, 116.2689, 349.3508, 111.7898, 416.2877, 115.5522, 415.4575, 112.2504, 436.0602, 120.3928, 433.3603, 119.4053], [350.868, 115.0238, 348.6742, 115.9184, 416.1935, 115.9031, 413.6922, 116.9763, 434.9957, 122.3373, 431.4673, 124.2125], [1755.4411, 7735.1015, 1637.5792, 7432.6635, 1890.4683, 7966.0492, 1916.5084, 8005.1137, 2251.7446, 9733.4729, 2054.9234, 8691.6001], [1554.7763, 6903.3167, 1480.2747, 6306.3914, 1828.3453, 7829.8262, 1778.5559, 7428.4291, 2050.0285, 8936.8307, 1940.3629, 8240.1237], [347.438, 103.2696, 344.487, 105.1522, 414.3896, 101.6512, 411.2976, 103.4467, 432.1696, 107.9818, 428.0965, 110.5481]]\n"
     ]
    }
   ],
   "source": [
    "results[0] = [\"on_20%_dist\", \"on_20%_std\", \"on_40%_dist\", \"on_40%_std\", \"on_60%_dist\", \"on_60%_std\",\n",
    "              \"in_20%_dist\",\"in_20%_std\",\"in_40%_dist\",\"in_40%_std\",\"in_60%_dist\",\"in_60%_std\"]"
   ],
   "metadata": {
    "collapsed": false,
    "ExecuteTime": {
     "end_time": "2023-08-23T11:41:17.118561486Z",
     "start_time": "2023-08-23T11:41:17.105784105Z"
    }
   }
  },
  {
   "cell_type": "code",
   "execution_count": 22,
   "outputs": [
    {
     "name": "stdout",
     "output_type": "stream",
     "text": [
      "[1415, 9265, 3589, 7932, 3846, 2643, 3832, 7950, 2884, 1971, 6939, 9375, 1058, 2097, 4944, 5923, 781, 6406, 2862, 899]\n"
     ]
    }
   ],
   "source": [
    "import csv\n",
    "\n",
    "with open(\"../results/experiment_1/traffic.csv\", \"w\") as f:\n",
    "    writer = csv.writer(f)\n",
    "    writer.writerows(results)\n"
   ],
   "metadata": {
    "collapsed": false,
    "ExecuteTime": {
     "end_time": "2023-08-23T11:43:37.077826156Z",
     "start_time": "2023-08-23T11:43:37.075263193Z"
    }
   }
  }
 ],
 "metadata": {
  "kernelspec": {
   "display_name": "Python 3",
   "language": "python",
   "name": "python3"
  },
  "language_info": {
   "codemirror_mode": {
    "name": "ipython",
    "version": 2
   },
   "file_extension": ".py",
   "mimetype": "text/x-python",
   "name": "python",
   "nbconvert_exporter": "python",
   "pygments_lexer": "ipython2",
   "version": "2.7.6"
  }
 },
 "nbformat": 4,
 "nbformat_minor": 0
}
