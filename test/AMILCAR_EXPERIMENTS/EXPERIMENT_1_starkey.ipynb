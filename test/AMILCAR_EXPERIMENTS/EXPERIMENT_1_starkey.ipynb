{
 "cells": [
  {
   "cell_type": "code",
   "execution_count": 1,
   "metadata": {
    "collapsed": true,
    "ExecuteTime": {
     "end_time": "2023-08-23T00:44:35.782055170Z",
     "start_time": "2023-08-23T00:44:33.708754052Z"
    }
   },
   "outputs": [],
   "source": [
    "import numpy as np\n",
    "import pandas as pd\n",
    "from ptrail.core.TrajectoryDF import PTRAILDataFrame\n",
    "from ptrail.features.kinematic_features import KinematicFeatures\n",
    "from ptrail.core.Datasets import Datasets\n",
    "\n",
    "from TestUtils.test_utils import TestUtils\n",
    "from src.selection.select import Selection\n",
    "from src.utils.general_utils import Utilities"
   ]
  },
  {
   "cell_type": "code",
   "execution_count": 2,
   "outputs": [
    {
     "name": "stdout",
     "output_type": "stream",
     "text": [
      "------------------------ Dataset Facts ------------------------------\n",
      "\n",
      "Number of unique Trajectories in the data: 253\n",
      "Number of points in the data: 287136\n",
      "Dataset time range: 1196 days 22:51:45\n",
      "Datatype of the DataFrame: <class 'ptrail.core.TrajectoryDF.PTRAILDataFrame'>\n",
      "Dataset Bounding Box: (45.18896978643169, -118.61020848239596, 45.314545642992, -118.50455596234036)\n",
      "\n",
      "---------------------------------------------------------------------\n"
     ]
    },
    {
     "data": {
      "text/plain": "                                     lat         lon  StarkeyTime    GMDate  \\\ntraj_id   DateTime                                                            \n880109D01 1995-04-13 13:40:06  45.239682 -118.533204    229902006  21:40:06   \n          1995-04-15 12:16:15  45.250521 -118.530438    230069775  20:16:15   \n          1995-04-15 21:39:38  45.247943 -118.541455    230103578  05:39:38   \n          1995-04-16 03:32:14  45.247429 -118.539530    230124734  11:32:14   \n          1995-04-16 04:08:28  45.247117 -118.542579    230126908  12:08:28   \n...                                  ...         ...          ...       ...   \nOSUX93191 1996-08-15 06:51:06  45.220642 -118.543392    272213466  14:51:06   \n          1996-08-15 08:45:15  45.219785 -118.546807    272220315  16:45:15   \n          1996-08-15 10:36:54  45.219801 -118.545661    272227014  18:36:54   \n          1996-08-15 12:31:22  45.220268 -118.551024    272233882  20:31:22   \n          1996-08-15 14:25:58  45.222562 -118.541151    272240758  22:25:58   \n\n                                 GMTime   LocDate   LocTime  RadNum  Species  \\\ntraj_id   DateTime                                                             \n880109D01 1995-04-13 13:40:06  19950413  19950413  13:40:06     409        0   \n          1995-04-15 12:16:15  19950415  19950415  12:16:15     409        0   \n          1995-04-15 21:39:38  19950416  19950415  21:39:38     409        0   \n          1995-04-16 03:32:14  19950416  19950416  03:32:14     409        0   \n          1995-04-16 04:08:28  19950416  19950416  04:08:28     409        0   \n...                                 ...       ...       ...     ...      ...   \nOSUX93191 1996-08-15 06:51:06  19960815  19960815  06:51:06     390        2   \n          1996-08-15 08:45:15  19960815  19960815  08:45:15     390        2   \n          1996-08-15 10:36:54  19960815  19960815  10:36:54     390        2   \n          1996-08-15 12:31:22  19960815  19960815  12:31:22     390        2   \n          1996-08-15 14:25:58  19960815  19960815  14:25:58     390        2   \n\n                                 UTME     UTMN  Year  Grensunr  Grensuns  \\\ntraj_id   DateTime                                                         \n880109D01 1995-04-13 13:40:06  379662  5010734    95  13:13:00  02:39:00   \n          1995-04-15 12:16:15  379895  5011927    95  13:09:00  02:41:00   \n          1995-04-15 21:39:38  379039  5011656    95  13:07:00  02:43:00   \n          1995-04-16 03:32:14  379188  5011581    95  13:07:00  02:43:00   \n          1995-04-16 04:08:28  378938  5011567    95  13:07:00  02:43:00   \n...                               ...      ...   ...       ...       ...   \nOSUX93191 1996-08-15 06:51:06  378821  5008634    96  12:56:00  03:04:00   \n          1996-08-15 08:45:15  378568  5008518    96  12:56:00  03:04:00   \n          1996-08-15 10:36:54  378645  5008543    96  12:56:00  03:04:00   \n          1996-08-15 12:31:22  378232  5008600    96  12:56:00  03:04:00   \n          1996-08-15 14:25:58  378995  5008820    96  12:56:00  03:04:00   \n\n                               Obswt     Distance  \ntraj_id   DateTime                                 \n880109D01 1995-04-13 13:40:06   1.47          NaN  \n          1995-04-15 12:16:15   1.59  1224.551334  \n          1995-04-15 21:39:38   1.34   908.878736  \n          1995-04-16 03:32:14   1.50   161.204428  \n          1995-04-16 04:08:28   1.34   241.258531  \n...                              ...          ...  \nOSUX93191 1996-08-15 06:51:06   1.60   892.331554  \n          1996-08-15 08:45:15   1.39   283.975120  \n          1996-08-15 10:36:54   1.43    89.767305  \n          1996-08-15 12:31:22   1.53   423.187635  \n          1996-08-15 14:25:58   1.66   814.243109  \n\n[287136 rows x 16 columns]",
      "text/html": "<div>\n<style scoped>\n    .dataframe tbody tr th:only-of-type {\n        vertical-align: middle;\n    }\n\n    .dataframe tbody tr th {\n        vertical-align: top;\n    }\n\n    .dataframe thead th {\n        text-align: right;\n    }\n</style>\n<table border=\"1\" class=\"dataframe\">\n  <thead>\n    <tr style=\"text-align: right;\">\n      <th></th>\n      <th></th>\n      <th>lat</th>\n      <th>lon</th>\n      <th>StarkeyTime</th>\n      <th>GMDate</th>\n      <th>GMTime</th>\n      <th>LocDate</th>\n      <th>LocTime</th>\n      <th>RadNum</th>\n      <th>Species</th>\n      <th>UTME</th>\n      <th>UTMN</th>\n      <th>Year</th>\n      <th>Grensunr</th>\n      <th>Grensuns</th>\n      <th>Obswt</th>\n      <th>Distance</th>\n    </tr>\n    <tr>\n      <th>traj_id</th>\n      <th>DateTime</th>\n      <th></th>\n      <th></th>\n      <th></th>\n      <th></th>\n      <th></th>\n      <th></th>\n      <th></th>\n      <th></th>\n      <th></th>\n      <th></th>\n      <th></th>\n      <th></th>\n      <th></th>\n      <th></th>\n      <th></th>\n      <th></th>\n    </tr>\n  </thead>\n  <tbody>\n    <tr>\n      <th rowspan=\"5\" valign=\"top\">880109D01</th>\n      <th>1995-04-13 13:40:06</th>\n      <td>45.239682</td>\n      <td>-118.533204</td>\n      <td>229902006</td>\n      <td>21:40:06</td>\n      <td>19950413</td>\n      <td>19950413</td>\n      <td>13:40:06</td>\n      <td>409</td>\n      <td>0</td>\n      <td>379662</td>\n      <td>5010734</td>\n      <td>95</td>\n      <td>13:13:00</td>\n      <td>02:39:00</td>\n      <td>1.47</td>\n      <td>NaN</td>\n    </tr>\n    <tr>\n      <th>1995-04-15 12:16:15</th>\n      <td>45.250521</td>\n      <td>-118.530438</td>\n      <td>230069775</td>\n      <td>20:16:15</td>\n      <td>19950415</td>\n      <td>19950415</td>\n      <td>12:16:15</td>\n      <td>409</td>\n      <td>0</td>\n      <td>379895</td>\n      <td>5011927</td>\n      <td>95</td>\n      <td>13:09:00</td>\n      <td>02:41:00</td>\n      <td>1.59</td>\n      <td>1224.551334</td>\n    </tr>\n    <tr>\n      <th>1995-04-15 21:39:38</th>\n      <td>45.247943</td>\n      <td>-118.541455</td>\n      <td>230103578</td>\n      <td>05:39:38</td>\n      <td>19950416</td>\n      <td>19950415</td>\n      <td>21:39:38</td>\n      <td>409</td>\n      <td>0</td>\n      <td>379039</td>\n      <td>5011656</td>\n      <td>95</td>\n      <td>13:07:00</td>\n      <td>02:43:00</td>\n      <td>1.34</td>\n      <td>908.878736</td>\n    </tr>\n    <tr>\n      <th>1995-04-16 03:32:14</th>\n      <td>45.247429</td>\n      <td>-118.539530</td>\n      <td>230124734</td>\n      <td>11:32:14</td>\n      <td>19950416</td>\n      <td>19950416</td>\n      <td>03:32:14</td>\n      <td>409</td>\n      <td>0</td>\n      <td>379188</td>\n      <td>5011581</td>\n      <td>95</td>\n      <td>13:07:00</td>\n      <td>02:43:00</td>\n      <td>1.50</td>\n      <td>161.204428</td>\n    </tr>\n    <tr>\n      <th>1995-04-16 04:08:28</th>\n      <td>45.247117</td>\n      <td>-118.542579</td>\n      <td>230126908</td>\n      <td>12:08:28</td>\n      <td>19950416</td>\n      <td>19950416</td>\n      <td>04:08:28</td>\n      <td>409</td>\n      <td>0</td>\n      <td>378938</td>\n      <td>5011567</td>\n      <td>95</td>\n      <td>13:07:00</td>\n      <td>02:43:00</td>\n      <td>1.34</td>\n      <td>241.258531</td>\n    </tr>\n    <tr>\n      <th>...</th>\n      <th>...</th>\n      <td>...</td>\n      <td>...</td>\n      <td>...</td>\n      <td>...</td>\n      <td>...</td>\n      <td>...</td>\n      <td>...</td>\n      <td>...</td>\n      <td>...</td>\n      <td>...</td>\n      <td>...</td>\n      <td>...</td>\n      <td>...</td>\n      <td>...</td>\n      <td>...</td>\n      <td>...</td>\n    </tr>\n    <tr>\n      <th rowspan=\"5\" valign=\"top\">OSUX93191</th>\n      <th>1996-08-15 06:51:06</th>\n      <td>45.220642</td>\n      <td>-118.543392</td>\n      <td>272213466</td>\n      <td>14:51:06</td>\n      <td>19960815</td>\n      <td>19960815</td>\n      <td>06:51:06</td>\n      <td>390</td>\n      <td>2</td>\n      <td>378821</td>\n      <td>5008634</td>\n      <td>96</td>\n      <td>12:56:00</td>\n      <td>03:04:00</td>\n      <td>1.60</td>\n      <td>892.331554</td>\n    </tr>\n    <tr>\n      <th>1996-08-15 08:45:15</th>\n      <td>45.219785</td>\n      <td>-118.546807</td>\n      <td>272220315</td>\n      <td>16:45:15</td>\n      <td>19960815</td>\n      <td>19960815</td>\n      <td>08:45:15</td>\n      <td>390</td>\n      <td>2</td>\n      <td>378568</td>\n      <td>5008518</td>\n      <td>96</td>\n      <td>12:56:00</td>\n      <td>03:04:00</td>\n      <td>1.39</td>\n      <td>283.975120</td>\n    </tr>\n    <tr>\n      <th>1996-08-15 10:36:54</th>\n      <td>45.219801</td>\n      <td>-118.545661</td>\n      <td>272227014</td>\n      <td>18:36:54</td>\n      <td>19960815</td>\n      <td>19960815</td>\n      <td>10:36:54</td>\n      <td>390</td>\n      <td>2</td>\n      <td>378645</td>\n      <td>5008543</td>\n      <td>96</td>\n      <td>12:56:00</td>\n      <td>03:04:00</td>\n      <td>1.43</td>\n      <td>89.767305</td>\n    </tr>\n    <tr>\n      <th>1996-08-15 12:31:22</th>\n      <td>45.220268</td>\n      <td>-118.551024</td>\n      <td>272233882</td>\n      <td>20:31:22</td>\n      <td>19960815</td>\n      <td>19960815</td>\n      <td>12:31:22</td>\n      <td>390</td>\n      <td>2</td>\n      <td>378232</td>\n      <td>5008600</td>\n      <td>96</td>\n      <td>12:56:00</td>\n      <td>03:04:00</td>\n      <td>1.53</td>\n      <td>423.187635</td>\n    </tr>\n    <tr>\n      <th>1996-08-15 14:25:58</th>\n      <td>45.222562</td>\n      <td>-118.541151</td>\n      <td>272240758</td>\n      <td>22:25:58</td>\n      <td>19960815</td>\n      <td>19960815</td>\n      <td>14:25:58</td>\n      <td>390</td>\n      <td>2</td>\n      <td>378995</td>\n      <td>5008820</td>\n      <td>96</td>\n      <td>12:56:00</td>\n      <td>03:04:00</td>\n      <td>1.66</td>\n      <td>814.243109</td>\n    </tr>\n  </tbody>\n</table>\n<p>287136 rows × 16 columns</p>\n</div>"
     },
     "execution_count": 2,
     "metadata": {},
     "output_type": "execute_result"
    }
   ],
   "source": [
    "starkey_dataset = Datasets.load_starkey()\n",
    "ready_dataset = KinematicFeatures.create_distance_column(starkey_dataset)\n",
    "ready_dataset"
   ],
   "metadata": {
    "collapsed": false,
    "ExecuteTime": {
     "end_time": "2023-08-23T00:44:53.225250053Z",
     "start_time": "2023-08-23T00:44:35.788201892Z"
    }
   }
  },
  {
   "cell_type": "code",
   "execution_count": 3,
   "outputs": [],
   "source": [
    "def find_original_and_augmentation_pairs_and_calculate_differences(augmented_dataset, selected):\n",
    "    # Find augmented trajectories associated with each original trajectory.\n",
    "    select_to_augment_map = {}\n",
    "    for traj_id in selected:\n",
    "        pattern = r'\\b{}aug'.format(traj_id)\n",
    "        conditions = augmented_dataset.index.str.match(pattern)\n",
    "        select_to_augment_map[traj_id] = augmented_dataset.loc[conditions].index.unique()\n",
    "\n",
    "    # Now, for each original trajectory, calculate the features for all of them\n",
    "    # and then find the vector difference between the vectors.\n",
    "    distances = []\n",
    "    for traj_id in selected:\n",
    "        # Get the features of the original traj.\n",
    "        original_features = augmented_dataset.loc[augmented_dataset.index == traj_id].to_numpy()\n",
    "\n",
    "        # Get the features of the augmented trajectories.\n",
    "        aug_features = augmented_dataset.loc[augmented_dataset.index.isin(select_to_augment_map[traj_id])].to_numpy()\n",
    "\n",
    "        # # Now, for each augmented trajectory, find the euclidean distance between the\n",
    "        # # features of original trajectory and augmented trajectory and store it in a list.\n",
    "        for aug in aug_features:\n",
    "            distance = np.linalg.norm(original_features - aug)\n",
    "            distances.append(distance)\n",
    "\n",
    "    return round(np.mean(distances), 4), round(np.std(distances), 4)"
   ],
   "metadata": {
    "collapsed": false,
    "ExecuteTime": {
     "end_time": "2023-08-23T00:44:53.234169380Z",
     "start_time": "2023-08-23T00:44:53.233052550Z"
    }
   }
  },
  {
   "cell_type": "code",
   "execution_count": 4,
   "outputs": [
    {
     "name": "stdout",
     "output_type": "stream",
     "text": [
      "[19888.0202, 12885.1702, 2962.3119, 1804.8729, 25287.2707, 13660.7476, 3995.0658, 2307.7126, 29202.1452, 14376.7183, 4617.7559, 2492.8163]\n",
      "[20334.2163, 12285.2713, 3361.982, 1797.526, 26644.1466, 13647.3283, 4393.2158, 2201.3673, 29905.7768, 14107.1622, 4967.9293, 2386.488]\n"
     ]
    },
    {
     "ename": "KeyboardInterrupt",
     "evalue": "",
     "output_type": "error",
     "traceback": [
      "\u001B[0;31m---------------------------------------------------------------------------\u001B[0m",
      "\u001B[0;31mKeyboardInterrupt\u001B[0m                         Traceback (most recent call last)",
      "Cell \u001B[0;32mIn[4], line 17\u001B[0m\n\u001B[1;32m     13\u001B[0m train, test_x, test_y \u001B[38;5;241m=\u001B[39m TestUtils\u001B[38;5;241m.\u001B[39mget_test_train_data(dataset\u001B[38;5;241m=\u001B[39mready_dataset, seed_val\u001B[38;5;241m=\u001B[39mseed,\n\u001B[1;32m     14\u001B[0m                                                       class_col\u001B[38;5;241m=\u001B[39m\u001B[38;5;124m'\u001B[39m\u001B[38;5;124mSpecies\u001B[39m\u001B[38;5;124m'\u001B[39m, k\u001B[38;5;241m=\u001B[39m\u001B[38;5;241m0.8\u001B[39m)\n\u001B[1;32m     16\u001B[0m selected \u001B[38;5;241m=\u001B[39m Selection\u001B[38;5;241m.\u001B[39mselect_randomly(train, seed, k\u001B[38;5;241m=\u001B[39m\u001B[38;5;241m0.3\u001B[39m)\n\u001B[0;32m---> 17\u001B[0m train_x, train_y \u001B[38;5;241m=\u001B[39m \u001B[43mTestUtils\u001B[49m\u001B[38;5;241;43m.\u001B[39;49m\u001B[43maugment_trajectories_using_random_strategy\u001B[49m\u001B[43m(\u001B[49m\u001B[43mdataset\u001B[49m\u001B[38;5;241;43m=\u001B[39;49m\u001B[43mtrain\u001B[49m\u001B[43m,\u001B[49m\n\u001B[1;32m     18\u001B[0m \u001B[43m                                                                        \u001B[49m\u001B[43mpercent_to_shake\u001B[49m\u001B[38;5;241;43m=\u001B[39;49m\u001B[43mshake\u001B[49m\u001B[43m,\u001B[49m\n\u001B[1;32m     19\u001B[0m \u001B[43m                                                                        \u001B[49m\u001B[43mids_to_augment\u001B[49m\u001B[38;5;241;43m=\u001B[39;49m\u001B[43mselected\u001B[49m\u001B[43m,\u001B[49m\n\u001B[1;32m     20\u001B[0m \u001B[43m                                                                        \u001B[49m\u001B[43mcircle\u001B[49m\u001B[38;5;241;43m=\u001B[39;49m\u001B[43mmethod\u001B[49m\u001B[43m,\u001B[49m\n\u001B[1;32m     21\u001B[0m \u001B[43m                                                                        \u001B[49m\u001B[43mn_augmentations\u001B[49m\u001B[38;5;241;43m=\u001B[39;49m\u001B[38;5;241;43m20\u001B[39;49m\u001B[43m,\u001B[49m\n\u001B[1;32m     22\u001B[0m \u001B[43m                                                                        \u001B[49m\u001B[43mclass_col\u001B[49m\u001B[38;5;241;43m=\u001B[39;49m\u001B[38;5;124;43m\"\u001B[39;49m\u001B[38;5;124;43mSpecies\u001B[39;49m\u001B[38;5;124;43m\"\u001B[39;49m\u001B[43m)\u001B[49m\n\u001B[1;32m     23\u001B[0m mean, std \u001B[38;5;241m=\u001B[39m find_original_and_augmentation_pairs_and_calculate_differences(train_x, selected)\n\u001B[1;32m     24\u001B[0m row\u001B[38;5;241m.\u001B[39mappend(mean)\n",
      "File \u001B[0;32m~/Desktop/AugmenTRAJ/test/TestUtils/test_utils.py:237\u001B[0m, in \u001B[0;36mTestUtils.augment_trajectories_using_random_strategy\u001B[0;34m(dataset, ids_to_augment, circle, class_col, n_augmentations, percent_to_shake)\u001B[0m\n\u001B[1;32m    230\u001B[0m     dataset \u001B[38;5;241m=\u001B[39m Augmentation\u001B[38;5;241m.\u001B[39maugment_trajectories_with_randomly_generated_points(dataset,\n\u001B[1;32m    231\u001B[0m                                                                                ids_to_augment\u001B[38;5;241m=\u001B[39mids_to_augment,\n\u001B[1;32m    232\u001B[0m                                                                                circle\u001B[38;5;241m=\u001B[39mcircle,\n\u001B[1;32m    233\u001B[0m                                                                                percent_to_shake\u001B[38;5;241m=\u001B[39mpercent_to_shake)\n\u001B[1;32m    235\u001B[0m \u001B[38;5;66;03m# convert to segment based format and return.\u001B[39;00m\n\u001B[1;32m    236\u001B[0m pivoted \u001B[38;5;241m=\u001B[39m Statistics\u001B[38;5;241m.\u001B[39mpivot_stats_df(\n\u001B[0;32m--> 237\u001B[0m     dataframe\u001B[38;5;241m=\u001B[39m\u001B[43mStatistics\u001B[49m\u001B[38;5;241;43m.\u001B[39;49m\u001B[43mgenerate_kinematic_stats\u001B[49m\u001B[43m(\u001B[49m\u001B[43mdataset\u001B[49m\u001B[43m,\u001B[49m\u001B[43m \u001B[49m\u001B[43mclass_col\u001B[49m\u001B[43m)\u001B[49m, target_col_name\u001B[38;5;241m=\u001B[39mclass_col)\u001B[38;5;241m.\u001B[39mdropna()\n\u001B[1;32m    239\u001B[0m \u001B[38;5;28;01mreturn\u001B[39;00m pivoted\u001B[38;5;241m.\u001B[39mdrop(columns\u001B[38;5;241m=\u001B[39m[class_col]), pivoted[class_col]\n",
      "File \u001B[0;32m~/anaconda3/envs/PreprocessingLibrary/lib/python3.8/site-packages/ptrail/preprocessing/statistics.py:106\u001B[0m, in \u001B[0;36mStatistics.generate_kinematic_stats\u001B[0;34m(dataframe, target_col_name, segmented)\u001B[0m\n\u001B[1;32m    104\u001B[0m \u001B[38;5;28;01melse\u001B[39;00m:\n\u001B[1;32m    105\u001B[0m     \u001B[38;5;28;01mfor\u001B[39;00m i \u001B[38;5;129;01min\u001B[39;00m \u001B[38;5;28mrange\u001B[39m(\u001B[38;5;28mlen\u001B[39m(ids_)):\n\u001B[0;32m--> 106\u001B[0m         small_df \u001B[38;5;241m=\u001B[39m ptdf\u001B[38;5;241m.\u001B[39mreset_index()\u001B[38;5;241m.\u001B[39mloc[\u001B[43mptdf\u001B[49m\u001B[38;5;241;43m.\u001B[39;49m\u001B[43mreset_index\u001B[49m\u001B[43m(\u001B[49m\u001B[43m)\u001B[49m[const\u001B[38;5;241m.\u001B[39mTRAJECTORY_ID] \u001B[38;5;241m==\u001B[39m ids_[i]]\n\u001B[1;32m    107\u001B[0m         df_chunks\u001B[38;5;241m.\u001B[39mappend(small_df)\n\u001B[1;32m    109\u001B[0m \u001B[38;5;66;03m# Here, create 2/3rds number of processes as there are in the system. Some CPUs are\u001B[39;00m\n\u001B[1;32m    110\u001B[0m \u001B[38;5;66;03m# kept free at all times in order to not block up the system.\u001B[39;00m\n\u001B[1;32m    111\u001B[0m \u001B[38;5;66;03m# (Note: The blocking of system is mostly prevalent in Windows and does not happen very often\u001B[39;00m\n\u001B[1;32m    112\u001B[0m \u001B[38;5;66;03m# in Linux. However, out of caution some CPUs are kept free regardless of the system.)\u001B[39;00m\n",
      "File \u001B[0;32m~/anaconda3/envs/PreprocessingLibrary/lib/python3.8/site-packages/pandas/util/_decorators.py:331\u001B[0m, in \u001B[0;36mdeprecate_nonkeyword_arguments.<locals>.decorate.<locals>.wrapper\u001B[0;34m(*args, **kwargs)\u001B[0m\n\u001B[1;32m    325\u001B[0m \u001B[38;5;28;01mif\u001B[39;00m \u001B[38;5;28mlen\u001B[39m(args) \u001B[38;5;241m>\u001B[39m num_allow_args:\n\u001B[1;32m    326\u001B[0m     warnings\u001B[38;5;241m.\u001B[39mwarn(\n\u001B[1;32m    327\u001B[0m         msg\u001B[38;5;241m.\u001B[39mformat(arguments\u001B[38;5;241m=\u001B[39m_format_argument_list(allow_args)),\n\u001B[1;32m    328\u001B[0m         \u001B[38;5;167;01mFutureWarning\u001B[39;00m,\n\u001B[1;32m    329\u001B[0m         stacklevel\u001B[38;5;241m=\u001B[39mfind_stack_level(),\n\u001B[1;32m    330\u001B[0m     )\n\u001B[0;32m--> 331\u001B[0m \u001B[38;5;28;01mreturn\u001B[39;00m \u001B[43mfunc\u001B[49m\u001B[43m(\u001B[49m\u001B[38;5;241;43m*\u001B[39;49m\u001B[43margs\u001B[49m\u001B[43m,\u001B[49m\u001B[43m \u001B[49m\u001B[38;5;241;43m*\u001B[39;49m\u001B[38;5;241;43m*\u001B[39;49m\u001B[43mkwargs\u001B[49m\u001B[43m)\u001B[49m\n",
      "File \u001B[0;32m~/anaconda3/envs/PreprocessingLibrary/lib/python3.8/site-packages/pandas/core/frame.py:6361\u001B[0m, in \u001B[0;36mDataFrame.reset_index\u001B[0;34m(self, level, drop, inplace, col_level, col_fill, allow_duplicates, names)\u001B[0m\n\u001B[1;32m   6355\u001B[0m         \u001B[38;5;28;01mif\u001B[39;00m lab \u001B[38;5;129;01mis\u001B[39;00m \u001B[38;5;129;01mnot\u001B[39;00m \u001B[38;5;28;01mNone\u001B[39;00m:\n\u001B[1;32m   6356\u001B[0m             \u001B[38;5;66;03m# if we have the codes, extract the values with a mask\u001B[39;00m\n\u001B[1;32m   6357\u001B[0m             level_values \u001B[38;5;241m=\u001B[39m algorithms\u001B[38;5;241m.\u001B[39mtake(\n\u001B[1;32m   6358\u001B[0m                 level_values, lab, allow_fill\u001B[38;5;241m=\u001B[39m\u001B[38;5;28;01mTrue\u001B[39;00m, fill_value\u001B[38;5;241m=\u001B[39mlev\u001B[38;5;241m.\u001B[39m_na_value\n\u001B[1;32m   6359\u001B[0m             )\n\u001B[0;32m-> 6361\u001B[0m         \u001B[43mnew_obj\u001B[49m\u001B[38;5;241;43m.\u001B[39;49m\u001B[43minsert\u001B[49m\u001B[43m(\u001B[49m\n\u001B[1;32m   6362\u001B[0m \u001B[43m            \u001B[49m\u001B[38;5;241;43m0\u001B[39;49m\u001B[43m,\u001B[49m\n\u001B[1;32m   6363\u001B[0m \u001B[43m            \u001B[49m\u001B[43mname\u001B[49m\u001B[43m,\u001B[49m\n\u001B[1;32m   6364\u001B[0m \u001B[43m            \u001B[49m\u001B[43mlevel_values\u001B[49m\u001B[43m,\u001B[49m\n\u001B[1;32m   6365\u001B[0m \u001B[43m            \u001B[49m\u001B[43mallow_duplicates\u001B[49m\u001B[38;5;241;43m=\u001B[39;49m\u001B[43mallow_duplicates\u001B[49m\u001B[43m,\u001B[49m\n\u001B[1;32m   6366\u001B[0m \u001B[43m        \u001B[49m\u001B[43m)\u001B[49m\n\u001B[1;32m   6368\u001B[0m new_obj\u001B[38;5;241m.\u001B[39mindex \u001B[38;5;241m=\u001B[39m new_index\n\u001B[1;32m   6369\u001B[0m \u001B[38;5;28;01mif\u001B[39;00m \u001B[38;5;129;01mnot\u001B[39;00m inplace:\n",
      "File \u001B[0;32m~/anaconda3/envs/PreprocessingLibrary/lib/python3.8/site-packages/pandas/core/frame.py:4821\u001B[0m, in \u001B[0;36mDataFrame.insert\u001B[0;34m(self, loc, column, value, allow_duplicates)\u001B[0m\n\u001B[1;32m   4818\u001B[0m \u001B[38;5;28;01mif\u001B[39;00m \u001B[38;5;129;01mnot\u001B[39;00m \u001B[38;5;28misinstance\u001B[39m(loc, \u001B[38;5;28mint\u001B[39m):\n\u001B[1;32m   4819\u001B[0m     \u001B[38;5;28;01mraise\u001B[39;00m \u001B[38;5;167;01mTypeError\u001B[39;00m(\u001B[38;5;124m\"\u001B[39m\u001B[38;5;124mloc must be int\u001B[39m\u001B[38;5;124m\"\u001B[39m)\n\u001B[0;32m-> 4821\u001B[0m value \u001B[38;5;241m=\u001B[39m \u001B[38;5;28;43mself\u001B[39;49m\u001B[38;5;241;43m.\u001B[39;49m\u001B[43m_sanitize_column\u001B[49m\u001B[43m(\u001B[49m\u001B[43mvalue\u001B[49m\u001B[43m)\u001B[49m\n\u001B[1;32m   4822\u001B[0m \u001B[38;5;28mself\u001B[39m\u001B[38;5;241m.\u001B[39m_mgr\u001B[38;5;241m.\u001B[39minsert(loc, column, value)\n",
      "File \u001B[0;32m~/anaconda3/envs/PreprocessingLibrary/lib/python3.8/site-packages/pandas/core/frame.py:4916\u001B[0m, in \u001B[0;36mDataFrame._sanitize_column\u001B[0;34m(self, value)\u001B[0m\n\u001B[1;32m   4914\u001B[0m \u001B[38;5;28;01mif\u001B[39;00m is_list_like(value):\n\u001B[1;32m   4915\u001B[0m     com\u001B[38;5;241m.\u001B[39mrequire_length_match(value, \u001B[38;5;28mself\u001B[39m\u001B[38;5;241m.\u001B[39mindex)\n\u001B[0;32m-> 4916\u001B[0m \u001B[38;5;28;01mreturn\u001B[39;00m \u001B[43msanitize_array\u001B[49m\u001B[43m(\u001B[49m\u001B[43mvalue\u001B[49m\u001B[43m,\u001B[49m\u001B[43m \u001B[49m\u001B[38;5;28;43mself\u001B[39;49m\u001B[38;5;241;43m.\u001B[39;49m\u001B[43mindex\u001B[49m\u001B[43m,\u001B[49m\u001B[43m \u001B[49m\u001B[43mcopy\u001B[49m\u001B[38;5;241;43m=\u001B[39;49m\u001B[38;5;28;43;01mTrue\u001B[39;49;00m\u001B[43m,\u001B[49m\u001B[43m \u001B[49m\u001B[43mallow_2d\u001B[49m\u001B[38;5;241;43m=\u001B[39;49m\u001B[38;5;28;43;01mTrue\u001B[39;49;00m\u001B[43m)\u001B[49m\n",
      "File \u001B[0;32m~/anaconda3/envs/PreprocessingLibrary/lib/python3.8/site-packages/pandas/core/construction.py:597\u001B[0m, in \u001B[0;36msanitize_array\u001B[0;34m(data, index, dtype, copy, raise_cast_failure, allow_2d)\u001B[0m\n\u001B[1;32m    594\u001B[0m             subarr \u001B[38;5;241m=\u001B[39m np\u001B[38;5;241m.\u001B[39marray(data, copy\u001B[38;5;241m=\u001B[39mcopy)\n\u001B[1;32m    595\u001B[0m     \u001B[38;5;28;01melse\u001B[39;00m:\n\u001B[1;32m    596\u001B[0m         \u001B[38;5;66;03m# we will try to copy by-definition here\u001B[39;00m\n\u001B[0;32m--> 597\u001B[0m         subarr \u001B[38;5;241m=\u001B[39m \u001B[43m_try_cast\u001B[49m\u001B[43m(\u001B[49m\u001B[43mdata\u001B[49m\u001B[43m,\u001B[49m\u001B[43m \u001B[49m\u001B[43mdtype\u001B[49m\u001B[43m,\u001B[49m\u001B[43m \u001B[49m\u001B[43mcopy\u001B[49m\u001B[43m,\u001B[49m\u001B[43m \u001B[49m\u001B[43mraise_cast_failure\u001B[49m\u001B[43m)\u001B[49m\n\u001B[1;32m    599\u001B[0m \u001B[38;5;28;01melif\u001B[39;00m \u001B[38;5;28misinstance\u001B[39m(data, ABCExtensionArray):\n\u001B[1;32m    600\u001B[0m     \u001B[38;5;66;03m# it is already ensured above this is not a PandasArray\u001B[39;00m\n\u001B[1;32m    601\u001B[0m     subarr \u001B[38;5;241m=\u001B[39m data\n",
      "File \u001B[0;32m~/anaconda3/envs/PreprocessingLibrary/lib/python3.8/site-packages/pandas/core/construction.py:779\u001B[0m, in \u001B[0;36m_try_cast\u001B[0;34m(arr, dtype, copy, raise_cast_failure)\u001B[0m\n\u001B[1;32m    777\u001B[0m     out \u001B[38;5;241m=\u001B[39m maybe_infer_to_datetimelike(arr)\n\u001B[1;32m    778\u001B[0m     \u001B[38;5;28;01mif\u001B[39;00m out \u001B[38;5;129;01mis\u001B[39;00m arr \u001B[38;5;129;01mand\u001B[39;00m copy:\n\u001B[0;32m--> 779\u001B[0m         out \u001B[38;5;241m=\u001B[39m \u001B[43mout\u001B[49m\u001B[38;5;241;43m.\u001B[39;49m\u001B[43mcopy\u001B[49m\u001B[43m(\u001B[49m\u001B[43m)\u001B[49m\n\u001B[1;32m    780\u001B[0m     \u001B[38;5;28;01mreturn\u001B[39;00m out\n\u001B[1;32m    782\u001B[0m \u001B[38;5;28;01melse\u001B[39;00m:\n\u001B[1;32m    783\u001B[0m     \u001B[38;5;66;03m# i.e. list\u001B[39;00m\n",
      "\u001B[0;31mKeyboardInterrupt\u001B[0m: "
     ]
    }
   ],
   "source": [
    "seed_generator = Utilities.generate_pi_seed(20)\n",
    "seed_vals = [next(seed_generator) for i in range(20)]\n",
    "shake_percentages = [0.2, 0.4, 0.6]\n",
    "circle_methods = ['on', 'in']\n",
    "\n",
    "results = [\"on_20%_dist,on_20%_std,on_40%_std,on_40%_std,on_60%_std,on_60%_std,\"\n",
    "           \"in_20%_dist,in_20%_std,in_40%_std,in_40%_std,in_60%_std,in_60%_std\"]\n",
    "\n",
    "for seed in seed_vals:\n",
    "    row = []\n",
    "    for shake in shake_percentages:\n",
    "        for method in circle_methods:\n",
    "            train, test_x, test_y = TestUtils.get_test_train_data(dataset=ready_dataset, seed_val=seed,\n",
    "                                                                  class_col='Species', k=0.8)\n",
    "\n",
    "            selected = Selection.select_randomly(train, seed, k=0.3)\n",
    "            train_x, train_y = TestUtils.augment_trajectories_using_random_strategy(dataset=train,\n",
    "                                                                                    percent_to_shake=shake,\n",
    "                                                                                    ids_to_augment=selected,\n",
    "                                                                                    circle=method,\n",
    "                                                                                    n_augmentations=20,\n",
    "                                                                                    class_col=\"Species\")\n",
    "            mean, std = find_original_and_augmentation_pairs_and_calculate_differences(train_x, selected)\n",
    "            row.append(mean)\n",
    "            row.append(std)\n",
    "    print(row)\n",
    "    results.append(row)\n"
   ],
   "metadata": {
    "collapsed": false,
    "ExecuteTime": {
     "end_time": "2023-08-23T11:33:54.276545508Z",
     "start_time": "2023-08-23T00:44:53.237941809Z"
    }
   }
  }
 ],
 "metadata": {
  "kernelspec": {
   "display_name": "Python 3",
   "language": "python",
   "name": "python3"
  },
  "language_info": {
   "codemirror_mode": {
    "name": "ipython",
    "version": 2
   },
   "file_extension": ".py",
   "mimetype": "text/x-python",
   "name": "python",
   "nbconvert_exporter": "python",
   "pygments_lexer": "ipython2",
   "version": "2.7.6"
  }
 },
 "nbformat": 4,
 "nbformat_minor": 0
}
