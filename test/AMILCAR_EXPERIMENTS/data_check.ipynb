{
 "cells": [
  {
   "cell_type": "code",
   "execution_count": 1,
   "id": "initial_id",
   "metadata": {
    "collapsed": true,
    "ExecuteTime": {
     "end_time": "2023-09-12T19:13:49.171989Z",
     "start_time": "2023-09-12T19:13:48.972296Z"
    }
   },
   "outputs": [],
   "source": [
    "import pandas as pd\n",
    "import warnings\n",
    "\n",
    "from datetime import timedelta\n",
    "\n",
    "warnings.simplefilter(\"ignore\", pd.errors.SettingWithCopyWarning)"
   ]
  },
  {
   "cell_type": "code",
   "execution_count": 2,
   "outputs": [
    {
     "data": {
      "text/plain": "         traj_id             DateTime        lat        lon  Species\n0           3552  08/01/2014 00:00:23  27.616280  90.226698        0\n1           3552  08/01/2014 00:10:07  27.616251  90.226671        0\n2           3552  08/01/2014 00:20:07  27.616210  90.226711        0\n3           3552  08/01/2014 00:30:07  27.616251  90.226741        0\n4           3552  08/01/2014 00:40:07  27.616348  90.226555        0\n...          ...                  ...        ...        ...      ...\n2650310     3920  05/10/2015 13:31:02  63.959604  43.918388        1\n2650311     3920  05/10/2015 13:31:03  63.959761  43.918589        1\n2650312     3920  05/10/2015 13:31:04  63.959915  43.918804        1\n2650313     3920  05/10/2015 13:31:05  63.960074  43.919022        1\n2650314     3920  05/10/2015 13:31:06  63.960240  43.919220        1\n\n[2650315 rows x 5 columns]",
      "text/html": "<div>\n<style scoped>\n    .dataframe tbody tr th:only-of-type {\n        vertical-align: middle;\n    }\n\n    .dataframe tbody tr th {\n        vertical-align: top;\n    }\n\n    .dataframe thead th {\n        text-align: right;\n    }\n</style>\n<table border=\"1\" class=\"dataframe\">\n  <thead>\n    <tr style=\"text-align: right;\">\n      <th></th>\n      <th>traj_id</th>\n      <th>DateTime</th>\n      <th>lat</th>\n      <th>lon</th>\n      <th>Species</th>\n    </tr>\n  </thead>\n  <tbody>\n    <tr>\n      <th>0</th>\n      <td>3552</td>\n      <td>08/01/2014 00:00:23</td>\n      <td>27.616280</td>\n      <td>90.226698</td>\n      <td>0</td>\n    </tr>\n    <tr>\n      <th>1</th>\n      <td>3552</td>\n      <td>08/01/2014 00:10:07</td>\n      <td>27.616251</td>\n      <td>90.226671</td>\n      <td>0</td>\n    </tr>\n    <tr>\n      <th>2</th>\n      <td>3552</td>\n      <td>08/01/2014 00:20:07</td>\n      <td>27.616210</td>\n      <td>90.226711</td>\n      <td>0</td>\n    </tr>\n    <tr>\n      <th>3</th>\n      <td>3552</td>\n      <td>08/01/2014 00:30:07</td>\n      <td>27.616251</td>\n      <td>90.226741</td>\n      <td>0</td>\n    </tr>\n    <tr>\n      <th>4</th>\n      <td>3552</td>\n      <td>08/01/2014 00:40:07</td>\n      <td>27.616348</td>\n      <td>90.226555</td>\n      <td>0</td>\n    </tr>\n    <tr>\n      <th>...</th>\n      <td>...</td>\n      <td>...</td>\n      <td>...</td>\n      <td>...</td>\n      <td>...</td>\n    </tr>\n    <tr>\n      <th>2650310</th>\n      <td>3920</td>\n      <td>05/10/2015 13:31:02</td>\n      <td>63.959604</td>\n      <td>43.918388</td>\n      <td>1</td>\n    </tr>\n    <tr>\n      <th>2650311</th>\n      <td>3920</td>\n      <td>05/10/2015 13:31:03</td>\n      <td>63.959761</td>\n      <td>43.918589</td>\n      <td>1</td>\n    </tr>\n    <tr>\n      <th>2650312</th>\n      <td>3920</td>\n      <td>05/10/2015 13:31:04</td>\n      <td>63.959915</td>\n      <td>43.918804</td>\n      <td>1</td>\n    </tr>\n    <tr>\n      <th>2650313</th>\n      <td>3920</td>\n      <td>05/10/2015 13:31:05</td>\n      <td>63.960074</td>\n      <td>43.919022</td>\n      <td>1</td>\n    </tr>\n    <tr>\n      <th>2650314</th>\n      <td>3920</td>\n      <td>05/10/2015 13:31:06</td>\n      <td>63.960240</td>\n      <td>43.919220</td>\n      <td>1</td>\n    </tr>\n  </tbody>\n</table>\n<p>2650315 rows × 5 columns</p>\n</div>"
     },
     "execution_count": 2,
     "metadata": {},
     "output_type": "execute_result"
    }
   ],
   "source": [
    "birds = pd.read_csv(\"../datasets/birds.csv\")\n",
    "birds"
   ],
   "metadata": {
    "collapsed": false,
    "ExecuteTime": {
     "end_time": "2023-09-12T19:13:50.196933Z",
     "start_time": "2023-09-12T19:13:49.175389Z"
    }
   },
   "id": "75e2192d656c9e00"
  },
  {
   "cell_type": "code",
   "execution_count": 3,
   "outputs": [],
   "source": [
    "def shrink_dataset(dataset):\n",
    "    final_dataset = []\n",
    "    for id_ in dataset.traj_id.unique():\n",
    "        # Get the smaller dataset.\n",
    "        small = dataset.loc[dataset.traj_id == id_]\n",
    "        small['DateTime'] = pd.to_datetime(small['DateTime'])\n",
    "        days = small['DateTime'].dt.date.max() - small['DateTime'].dt.date.min()\n",
    "        \n",
    "        if days.days < 15:\n",
    "            final_dataset.append(small)\n",
    "        else:\n",
    "            minimum = small['DateTime'].dt.date.min()\n",
    "            maximum = minimum + timedelta(days=15)\n",
    "            mask = (small['DateTime'].dt.date >= minimum) & (small['DateTime'].dt.date <= maximum)\n",
    "            final_dataset.append(small.loc[mask])\n",
    "    \n",
    "    return pd.concat(final_dataset)"
   ],
   "metadata": {
    "collapsed": false,
    "ExecuteTime": {
     "end_time": "2023-09-12T19:13:50.201069Z",
     "start_time": "2023-09-12T19:13:50.199201Z"
    }
   },
   "id": "7bba6b8e58bcb008"
  },
  {
   "cell_type": "code",
   "execution_count": 4,
   "outputs": [
    {
     "data": {
      "text/plain": "         traj_id            DateTime        lat        lon  Species\n0           3552 2014-08-01 00:00:23  27.616280  90.226698        0\n1           3552 2014-08-01 00:10:07  27.616251  90.226671        0\n2           3552 2014-08-01 00:20:07  27.616210  90.226711        0\n3           3552 2014-08-01 00:30:07  27.616251  90.226741        0\n4           3552 2014-08-01 00:40:07  27.616348  90.226555        0\n...          ...                 ...        ...        ...      ...\n2636092     3920 2015-04-04 21:30:07  53.515127  27.749420        1\n2636093     3920 2015-04-04 22:00:07  53.515127  27.749427        1\n2636094     3920 2015-04-04 22:30:07  53.515094  27.749412        1\n2636095     3920 2015-04-04 23:00:10  53.515087  27.749418        1\n2636096     3920 2015-04-04 23:30:23  53.515113  27.749445        1\n\n[374250 rows x 5 columns]",
      "text/html": "<div>\n<style scoped>\n    .dataframe tbody tr th:only-of-type {\n        vertical-align: middle;\n    }\n\n    .dataframe tbody tr th {\n        vertical-align: top;\n    }\n\n    .dataframe thead th {\n        text-align: right;\n    }\n</style>\n<table border=\"1\" class=\"dataframe\">\n  <thead>\n    <tr style=\"text-align: right;\">\n      <th></th>\n      <th>traj_id</th>\n      <th>DateTime</th>\n      <th>lat</th>\n      <th>lon</th>\n      <th>Species</th>\n    </tr>\n  </thead>\n  <tbody>\n    <tr>\n      <th>0</th>\n      <td>3552</td>\n      <td>2014-08-01 00:00:23</td>\n      <td>27.616280</td>\n      <td>90.226698</td>\n      <td>0</td>\n    </tr>\n    <tr>\n      <th>1</th>\n      <td>3552</td>\n      <td>2014-08-01 00:10:07</td>\n      <td>27.616251</td>\n      <td>90.226671</td>\n      <td>0</td>\n    </tr>\n    <tr>\n      <th>2</th>\n      <td>3552</td>\n      <td>2014-08-01 00:20:07</td>\n      <td>27.616210</td>\n      <td>90.226711</td>\n      <td>0</td>\n    </tr>\n    <tr>\n      <th>3</th>\n      <td>3552</td>\n      <td>2014-08-01 00:30:07</td>\n      <td>27.616251</td>\n      <td>90.226741</td>\n      <td>0</td>\n    </tr>\n    <tr>\n      <th>4</th>\n      <td>3552</td>\n      <td>2014-08-01 00:40:07</td>\n      <td>27.616348</td>\n      <td>90.226555</td>\n      <td>0</td>\n    </tr>\n    <tr>\n      <th>...</th>\n      <td>...</td>\n      <td>...</td>\n      <td>...</td>\n      <td>...</td>\n      <td>...</td>\n    </tr>\n    <tr>\n      <th>2636092</th>\n      <td>3920</td>\n      <td>2015-04-04 21:30:07</td>\n      <td>53.515127</td>\n      <td>27.749420</td>\n      <td>1</td>\n    </tr>\n    <tr>\n      <th>2636093</th>\n      <td>3920</td>\n      <td>2015-04-04 22:00:07</td>\n      <td>53.515127</td>\n      <td>27.749427</td>\n      <td>1</td>\n    </tr>\n    <tr>\n      <th>2636094</th>\n      <td>3920</td>\n      <td>2015-04-04 22:30:07</td>\n      <td>53.515094</td>\n      <td>27.749412</td>\n      <td>1</td>\n    </tr>\n    <tr>\n      <th>2636095</th>\n      <td>3920</td>\n      <td>2015-04-04 23:00:10</td>\n      <td>53.515087</td>\n      <td>27.749418</td>\n      <td>1</td>\n    </tr>\n    <tr>\n      <th>2636096</th>\n      <td>3920</td>\n      <td>2015-04-04 23:30:23</td>\n      <td>53.515113</td>\n      <td>27.749445</td>\n      <td>1</td>\n    </tr>\n  </tbody>\n</table>\n<p>374250 rows × 5 columns</p>\n</div>"
     },
     "execution_count": 4,
     "metadata": {},
     "output_type": "execute_result"
    }
   ],
   "source": [
    "birds_small = shrink_dataset(birds)\n",
    "birds_small"
   ],
   "metadata": {
    "collapsed": false,
    "ExecuteTime": {
     "end_time": "2023-09-12T19:13:54.545604Z",
     "start_time": "2023-09-12T19:13:50.202724Z"
    }
   },
   "id": "9d6125e147ae996c"
  },
  {
   "cell_type": "code",
   "execution_count": 5,
   "outputs": [
    {
     "name": "stdout",
     "output_type": "stream",
     "text": [
      "13\n",
      "15\n",
      "15\n",
      "15\n",
      "15\n",
      "15\n",
      "15\n",
      "10\n",
      "15\n",
      "15\n",
      "15\n",
      "15\n",
      "15\n",
      "15\n",
      "15\n",
      "15\n",
      "15\n",
      "15\n",
      "15\n",
      "15\n",
      "15\n",
      "15\n",
      "15\n",
      "15\n",
      "15\n",
      "11\n",
      "15\n",
      "15\n",
      "15\n",
      "8\n",
      "15\n",
      "15\n",
      "15\n",
      "15\n",
      "15\n"
     ]
    }
   ],
   "source": [
    "for id_ in birds_small.traj_id.unique():\n",
    "    df = birds_small.loc[birds.traj_id == id_]\n",
    "    df['DateTime'] = pd.to_datetime(df['DateTime']) # If your Date column is of the type object otherwise skip this\n",
    "    date_range = df['DateTime'].dt.date.max() - df['DateTime'].dt.date.min()\n",
    "    print(date_range.days)"
   ],
   "metadata": {
    "collapsed": false,
    "ExecuteTime": {
     "end_time": "2023-09-12T19:13:54.939404Z",
     "start_time": "2023-09-12T19:13:54.545295Z"
    }
   },
   "id": "9dab02efc5b54d8e"
  },
  {
   "cell_type": "code",
   "execution_count": null,
   "outputs": [],
   "source": [
    "vultures = pd.read_csv(\"../datasets/vultures.csv\")\n",
    "vultures = vultures[['tag-local-identifier', 'timestamp', 'location-lat', 'location-long']]\n",
    "\n",
    "vultures = vultures.rename(columns={\n",
    "    \"tag-local-identifier\": 'traj_id', \"timestamp\": \"DateTime\", \"location-lat\": \"lat\", \"location-long\": \"lon\"\n",
    "})\n",
    "vultures['DateTime'] = pd.to_datetime(vultures.DateTime)\n",
    "vultures.DateTime = vultures.DateTime.dt.strftime('%m/%d/%Y %H:%M:%S')\n",
    "vultures['Species'] = 2\n",
    "vultures = shrink_dataset(vultures)\n",
    "vultures"
   ],
   "metadata": {
    "collapsed": false
   },
   "id": "980ef4982fd4b42e"
  },
  {
   "cell_type": "code",
   "execution_count": null,
   "outputs": [],
   "source": [
    "# goose = pd.read_csv(\"../datasets/goose.csv\")\n",
    "# goose = goose[['tag-local-identifier', 'timestamp', 'location-lat', 'location-long']]\n",
    "# goose = goose.rename(columns={\n",
    "#     \"tag-local-identifier\": 'traj_id', \"timestamp\": \"DateTime\", \"location-lat\": \"lat\", \"location-long\": \"lon\"\n",
    "# })\n",
    "# goose['DateTime'] = pd.to_datetime(goose.DateTime)\n",
    "# goose.DateTime = goose.DateTime.dt.strftime('%m/%d/%Y %H:%M:%S')\n",
    "# goose['Species'] = 1\n",
    "# goose"
   ],
   "metadata": {
    "collapsed": false
   },
   "id": "c3f8e24bb5192666"
  },
  {
   "cell_type": "code",
   "execution_count": null,
   "outputs": [],
   "source": [
    "mixed = pd.concat([birds, vultures])\n",
    "mixed"
   ],
   "metadata": {
    "collapsed": false
   },
   "id": "2e1e3d7085ffe371"
  },
  {
   "cell_type": "code",
   "execution_count": 7,
   "outputs": [],
   "source": [
    "birds_small.to_csv(\"../datasets/birds_small.csv\", index=False)"
   ],
   "metadata": {
    "collapsed": false,
    "ExecuteTime": {
     "end_time": "2023-09-12T19:23:14.238886Z",
     "start_time": "2023-09-12T19:23:13.542363Z"
    }
   },
   "id": "26db599a808a306e"
  },
  {
   "cell_type": "code",
   "execution_count": null,
   "outputs": [],
   "source": [],
   "metadata": {
    "collapsed": false
   },
   "id": "2241d636d6228419"
  }
 ],
 "metadata": {
  "kernelspec": {
   "display_name": "Python 3",
   "language": "python",
   "name": "python3"
  },
  "language_info": {
   "codemirror_mode": {
    "name": "ipython",
    "version": 2
   },
   "file_extension": ".py",
   "mimetype": "text/x-python",
   "name": "python",
   "nbconvert_exporter": "python",
   "pygments_lexer": "ipython2",
   "version": "2.7.6"
  }
 },
 "nbformat": 4,
 "nbformat_minor": 5
}
