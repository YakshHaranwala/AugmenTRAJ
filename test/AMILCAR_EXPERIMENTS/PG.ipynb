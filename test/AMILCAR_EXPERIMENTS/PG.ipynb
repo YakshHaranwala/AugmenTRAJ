{
 "cells": [
  {
   "cell_type": "code",
   "execution_count": 1,
   "outputs": [],
   "source": [
    "import pandas as pd\n",
    "from ptrail.core.TrajectoryDF import PTRAILDataFrame\n",
    "from ptrail.features.kinematic_features import KinematicFeatures\n",
    "from sklearn.ensemble import RandomForestClassifier, ExtraTreesClassifier, GradientBoostingClassifier\n",
    "from sklearn.preprocessing import MinMaxScaler\n",
    "\n",
    "from src.selection.select import Selection\n",
    "from src.utils.general_utils import Utilities\n",
    "from src.utils.test_utils import TestUtils"
   ],
   "metadata": {
    "collapsed": false,
    "ExecuteTime": {
     "end_time": "2023-09-13T00:55:28.684561Z",
     "start_time": "2023-09-13T00:55:27.423991Z"
    }
   }
  },
  {
   "cell_type": "code",
   "execution_count": 2,
   "outputs": [
    {
     "data": {
      "text/plain": "                                   lat        lon  Species  Distance\ntraj_id DateTime                                                    \n3552    2014-08-01 00:00:23  27.616280  90.226698        0       NaN\n        2014-08-01 00:00:23  27.616280  90.226698        2  0.000000\n        2014-08-01 00:10:07  27.616251  90.226671        0  4.167818\n        2014-08-01 00:10:07  27.616251  90.226671        2  0.000000\n        2014-08-01 00:20:07  27.616210  90.226711        0  6.047616\n...                                ...        ...      ...       ...\n4192    2015-04-04 21:30:25  53.515125  27.749393        1  3.342458\n        2015-04-04 22:00:27  53.515152  27.749441        1  4.286500\n        2015-04-04 22:30:14  53.515174  27.749447        1  2.518906\n        2015-04-04 23:00:25  53.515133  27.749446        1  4.560071\n        2015-04-04 23:30:14  53.515122  27.749444        1  1.186816\n\n[528488 rows x 4 columns]",
      "text/html": "<div>\n<style scoped>\n    .dataframe tbody tr th:only-of-type {\n        vertical-align: middle;\n    }\n\n    .dataframe tbody tr th {\n        vertical-align: top;\n    }\n\n    .dataframe thead th {\n        text-align: right;\n    }\n</style>\n<table border=\"1\" class=\"dataframe\">\n  <thead>\n    <tr style=\"text-align: right;\">\n      <th></th>\n      <th></th>\n      <th>lat</th>\n      <th>lon</th>\n      <th>Species</th>\n      <th>Distance</th>\n    </tr>\n    <tr>\n      <th>traj_id</th>\n      <th>DateTime</th>\n      <th></th>\n      <th></th>\n      <th></th>\n      <th></th>\n    </tr>\n  </thead>\n  <tbody>\n    <tr>\n      <th rowspan=\"5\" valign=\"top\">3552</th>\n      <th>2014-08-01 00:00:23</th>\n      <td>27.616280</td>\n      <td>90.226698</td>\n      <td>0</td>\n      <td>NaN</td>\n    </tr>\n    <tr>\n      <th>2014-08-01 00:00:23</th>\n      <td>27.616280</td>\n      <td>90.226698</td>\n      <td>2</td>\n      <td>0.000000</td>\n    </tr>\n    <tr>\n      <th>2014-08-01 00:10:07</th>\n      <td>27.616251</td>\n      <td>90.226671</td>\n      <td>0</td>\n      <td>4.167818</td>\n    </tr>\n    <tr>\n      <th>2014-08-01 00:10:07</th>\n      <td>27.616251</td>\n      <td>90.226671</td>\n      <td>2</td>\n      <td>0.000000</td>\n    </tr>\n    <tr>\n      <th>2014-08-01 00:20:07</th>\n      <td>27.616210</td>\n      <td>90.226711</td>\n      <td>0</td>\n      <td>6.047616</td>\n    </tr>\n    <tr>\n      <th>...</th>\n      <th>...</th>\n      <td>...</td>\n      <td>...</td>\n      <td>...</td>\n      <td>...</td>\n    </tr>\n    <tr>\n      <th rowspan=\"5\" valign=\"top\">4192</th>\n      <th>2015-04-04 21:30:25</th>\n      <td>53.515125</td>\n      <td>27.749393</td>\n      <td>1</td>\n      <td>3.342458</td>\n    </tr>\n    <tr>\n      <th>2015-04-04 22:00:27</th>\n      <td>53.515152</td>\n      <td>27.749441</td>\n      <td>1</td>\n      <td>4.286500</td>\n    </tr>\n    <tr>\n      <th>2015-04-04 22:30:14</th>\n      <td>53.515174</td>\n      <td>27.749447</td>\n      <td>1</td>\n      <td>2.518906</td>\n    </tr>\n    <tr>\n      <th>2015-04-04 23:00:25</th>\n      <td>53.515133</td>\n      <td>27.749446</td>\n      <td>1</td>\n      <td>4.560071</td>\n    </tr>\n    <tr>\n      <th>2015-04-04 23:30:14</th>\n      <td>53.515122</td>\n      <td>27.749444</td>\n      <td>1</td>\n      <td>1.186816</td>\n    </tr>\n  </tbody>\n</table>\n<p>528488 rows × 4 columns</p>\n</div>"
     },
     "execution_count": 2,
     "metadata": {},
     "output_type": "execute_result"
    }
   ],
   "source": [
    "birds = PTRAILDataFrame(data_set=pd.read_csv('../datasets/birds.csv'),\n",
    "                        traj_id='traj_id',\n",
    "                        datetime='DateTime',\n",
    "                        latitude='lat',\n",
    "                        longitude='lon')\n",
    "ready_dataset = KinematicFeatures.create_distance_column(birds)\n",
    "ready_dataset"
   ],
   "metadata": {
    "collapsed": false,
    "ExecuteTime": {
     "end_time": "2023-09-13T00:55:29.435438Z",
     "start_time": "2023-09-13T00:55:28.685457Z"
    }
   }
  },
  {
   "cell_type": "code",
   "execution_count": 3,
   "outputs": [
    {
     "name": "stdout",
     "output_type": "stream",
     "text": [
      "[[1415, 'ExtraTreesClassifier', 0.8, 0.8, 0.8, 0.8, 0.8, 0.8, 0.8], [1415, 'GradientBoostingClassifier', 0.8, 0.8, 0.8, 0.8, 0.8, 0.8, 0.8], [1415, 'RandomForestClassifier', 0.8, 0.8, 0.8, 0.8, 0.8, 0.8, 0.8]]\n",
      "[[9265, 'ExtraTreesClassifier', 0.8, 0.8, 0.8, 0.8, 0.8, 0.8, 0.8], [9265, 'GradientBoostingClassifier', 0.8, 0.5, 0.5, 0.8, 0.5, 0.5, 0.8], [9265, 'RandomForestClassifier', 0.8, 0.5, 0.5, 0.5, 0.5, 0.5, 0.5]]\n",
      "[[3589, 'ExtraTreesClassifier', 1.0, 1.0, 1.0, 1.0, 1.0, 1.0, 1.0], [3589, 'GradientBoostingClassifier', 0.6667, 0.6667, 0.6667, 0.4, 0.4, 0.8571, 0.8571], [3589, 'RandomForestClassifier', 0.6667, 0.4, 0.4, 0.4, 0.4, 0.6667, 0.6667]]\n"
     ]
    },
    {
     "ename": "KeyboardInterrupt",
     "evalue": "",
     "output_type": "error",
     "traceback": [
      "\u001B[0;31m---------------------------------------------------------------------------\u001B[0m",
      "\u001B[0;31mKeyboardInterrupt\u001B[0m                         Traceback (most recent call last)",
      "Cell \u001B[0;32mIn[3], line 28\u001B[0m\n\u001B[1;32m     25\u001B[0m selected \u001B[38;5;241m=\u001B[39m Selection\u001B[38;5;241m.\u001B[39mselect_randomly(train, seed, k\u001B[38;5;241m=\u001B[39m\u001B[38;5;241m0.3\u001B[39m)\n\u001B[1;32m     27\u001B[0m \u001B[38;5;66;03m# Augment the trajectories.\u001B[39;00m\n\u001B[0;32m---> 28\u001B[0m train_x, train_y \u001B[38;5;241m=\u001B[39m \u001B[43mTestUtils\u001B[49m\u001B[38;5;241;43m.\u001B[39;49m\u001B[43maugment_trajectories_using_random_strategy\u001B[49m\u001B[43m(\u001B[49m\u001B[43mdataset\u001B[49m\u001B[38;5;241;43m=\u001B[39;49m\u001B[43mtrain\u001B[49m\u001B[43m,\u001B[49m\n\u001B[1;32m     29\u001B[0m \u001B[43m                                                                        \u001B[49m\u001B[43mpercent_to_shake\u001B[49m\u001B[38;5;241;43m=\u001B[39;49m\u001B[43mshake\u001B[49m\u001B[43m,\u001B[49m\n\u001B[1;32m     30\u001B[0m \u001B[43m                                                                        \u001B[49m\u001B[43mids_to_augment\u001B[49m\u001B[38;5;241;43m=\u001B[39;49m\u001B[43mselected\u001B[49m\u001B[43m,\u001B[49m\n\u001B[1;32m     31\u001B[0m \u001B[43m                                                                        \u001B[49m\u001B[43mcircle\u001B[49m\u001B[38;5;241;43m=\u001B[39;49m\u001B[43mmethod\u001B[49m\u001B[43m,\u001B[49m\n\u001B[1;32m     32\u001B[0m \u001B[43m                                                                        \u001B[49m\u001B[43mn_augmentations\u001B[49m\u001B[38;5;241;43m=\u001B[39;49m\u001B[38;5;241;43m20\u001B[39;49m\u001B[43m,\u001B[49m\n\u001B[1;32m     33\u001B[0m \u001B[43m                                                                        \u001B[49m\u001B[43mclass_col\u001B[49m\u001B[38;5;241;43m=\u001B[39;49m\u001B[38;5;124;43m\"\u001B[39;49m\u001B[38;5;124;43mSpecies\u001B[39;49m\u001B[38;5;124;43m\"\u001B[39;49m\u001B[43m)\u001B[49m\n\u001B[1;32m     34\u001B[0m mean, std \u001B[38;5;241m=\u001B[39m TestUtils\u001B[38;5;241m.\u001B[39mfind_original_and_augmentation_pairs_and_calculate_differences(train_x, selected)\n\u001B[1;32m     35\u001B[0m distance_row\u001B[38;5;241m.\u001B[39mappend(mean)\n",
      "File \u001B[0;32m~/PycharmProjects/AugmenTRAJ/src/utils/test_utils.py:233\u001B[0m, in \u001B[0;36mTestUtils.augment_trajectories_using_random_strategy\u001B[0;34m(dataset, ids_to_augment, circle, class_col, n_augmentations, percent_to_shake)\u001B[0m\n\u001B[1;32m    231\u001B[0m \u001B[38;5;66;03m# subsequent augmentations.\u001B[39;00m\n\u001B[1;32m    232\u001B[0m \u001B[38;5;28;01mfor\u001B[39;00m i \u001B[38;5;129;01min\u001B[39;00m \u001B[38;5;28mrange\u001B[39m(\u001B[38;5;241m1\u001B[39m, n_augmentations):\n\u001B[0;32m--> 233\u001B[0m     dataset \u001B[38;5;241m=\u001B[39m \u001B[43mAugmentation\u001B[49m\u001B[38;5;241;43m.\u001B[39;49m\u001B[43maugment_trajectories_with_randomly_generated_points\u001B[49m\u001B[43m(\u001B[49m\u001B[43mdataset\u001B[49m\u001B[43m,\u001B[49m\n\u001B[1;32m    234\u001B[0m \u001B[43m                                                                               \u001B[49m\u001B[43mids_to_augment\u001B[49m\u001B[38;5;241;43m=\u001B[39;49m\u001B[43mids_to_augment\u001B[49m\u001B[43m,\u001B[49m\n\u001B[1;32m    235\u001B[0m \u001B[43m                                                                               \u001B[49m\u001B[43mcircle\u001B[49m\u001B[38;5;241;43m=\u001B[39;49m\u001B[43mcircle\u001B[49m\u001B[43m,\u001B[49m\n\u001B[1;32m    236\u001B[0m \u001B[43m                                                                               \u001B[49m\u001B[43mpercent_to_shake\u001B[49m\u001B[38;5;241;43m=\u001B[39;49m\u001B[43mpercent_to_shake\u001B[49m\u001B[43m)\u001B[49m\n\u001B[1;32m    238\u001B[0m \u001B[38;5;66;03m# convert to segment based format and return.\u001B[39;00m\n\u001B[1;32m    239\u001B[0m pivoted \u001B[38;5;241m=\u001B[39m Statistics\u001B[38;5;241m.\u001B[39mpivot_stats_df(\n\u001B[1;32m    240\u001B[0m     dataframe\u001B[38;5;241m=\u001B[39mStatistics\u001B[38;5;241m.\u001B[39mgenerate_kinematic_stats(dataset, class_col), target_col_name\u001B[38;5;241m=\u001B[39mclass_col)\u001B[38;5;241m.\u001B[39mdropna()\n",
      "File \u001B[0;32m~/PycharmProjects/AugmenTRAJ/src/augmentation/augment.py:66\u001B[0m, in \u001B[0;36mAugmentation.augment_trajectories_with_randomly_generated_points\u001B[0;34m(dataset, percent_to_shake, ids_to_augment, circle)\u001B[0m\n\u001B[1;32m     64\u001B[0m         small\u001B[38;5;241m.\u001B[39mloc[i, \u001B[38;5;124m'\u001B[39m\u001B[38;5;124mlon\u001B[39m\u001B[38;5;124m'\u001B[39m] \u001B[38;5;241m=\u001B[39m Alter\u001B[38;5;241m.\u001B[39malter_point_on_circle(row, angle, \u001B[38;5;124m'\u001B[39m\u001B[38;5;124mlongitude\u001B[39m\u001B[38;5;124m'\u001B[39m)\n\u001B[1;32m     65\u001B[0m     \u001B[38;5;28;01melif\u001B[39;00m circle \u001B[38;5;241m==\u001B[39m \u001B[38;5;124m'\u001B[39m\u001B[38;5;124min\u001B[39m\u001B[38;5;124m'\u001B[39m:\n\u001B[0;32m---> 66\u001B[0m         \u001B[43msmall\u001B[49m\u001B[38;5;241;43m.\u001B[39;49m\u001B[43mloc\u001B[49m\u001B[43m[\u001B[49m\u001B[43mi\u001B[49m\u001B[43m,\u001B[49m\u001B[43m \u001B[49m\u001B[38;5;124;43m'\u001B[39;49m\u001B[38;5;124;43mlat\u001B[39;49m\u001B[38;5;124;43m'\u001B[39;49m\u001B[43m]\u001B[49m \u001B[38;5;241m=\u001B[39m Alter\u001B[38;5;241m.\u001B[39malter_point_in_circle(row, \u001B[38;5;124m'\u001B[39m\u001B[38;5;124mlatitude\u001B[39m\u001B[38;5;124m'\u001B[39m)\n\u001B[1;32m     67\u001B[0m         small\u001B[38;5;241m.\u001B[39mloc[i, \u001B[38;5;124m'\u001B[39m\u001B[38;5;124mlon\u001B[39m\u001B[38;5;124m'\u001B[39m] \u001B[38;5;241m=\u001B[39m Alter\u001B[38;5;241m.\u001B[39malter_point_in_circle(row, \u001B[38;5;124m'\u001B[39m\u001B[38;5;124mlongitude\u001B[39m\u001B[38;5;124m'\u001B[39m)\n\u001B[1;32m     69\u001B[0m \u001B[38;5;66;03m# Create and use the new trajectory id for the augmented trajectory.\u001B[39;00m\n",
      "File \u001B[0;32m~/anaconda3/envs/AugmenTRAJ/lib/python3.8/site-packages/pandas/core/indexing.py:849\u001B[0m, in \u001B[0;36m_LocationIndexer.__setitem__\u001B[0;34m(self, key, value)\u001B[0m\n\u001B[1;32m    846\u001B[0m \u001B[38;5;28mself\u001B[39m\u001B[38;5;241m.\u001B[39m_has_valid_setitem_indexer(key)\n\u001B[1;32m    848\u001B[0m iloc \u001B[38;5;241m=\u001B[39m \u001B[38;5;28mself\u001B[39m \u001B[38;5;28;01mif\u001B[39;00m \u001B[38;5;28mself\u001B[39m\u001B[38;5;241m.\u001B[39mname \u001B[38;5;241m==\u001B[39m \u001B[38;5;124m\"\u001B[39m\u001B[38;5;124miloc\u001B[39m\u001B[38;5;124m\"\u001B[39m \u001B[38;5;28;01melse\u001B[39;00m \u001B[38;5;28mself\u001B[39m\u001B[38;5;241m.\u001B[39mobj\u001B[38;5;241m.\u001B[39miloc\n\u001B[0;32m--> 849\u001B[0m \u001B[43miloc\u001B[49m\u001B[38;5;241;43m.\u001B[39;49m\u001B[43m_setitem_with_indexer\u001B[49m\u001B[43m(\u001B[49m\u001B[43mindexer\u001B[49m\u001B[43m,\u001B[49m\u001B[43m \u001B[49m\u001B[43mvalue\u001B[49m\u001B[43m,\u001B[49m\u001B[43m \u001B[49m\u001B[38;5;28;43mself\u001B[39;49m\u001B[38;5;241;43m.\u001B[39;49m\u001B[43mname\u001B[49m\u001B[43m)\u001B[49m\n",
      "File \u001B[0;32m~/anaconda3/envs/AugmenTRAJ/lib/python3.8/site-packages/pandas/core/indexing.py:1808\u001B[0m, in \u001B[0;36m_iLocIndexer._setitem_with_indexer\u001B[0;34m(self, indexer, value, name)\u001B[0m\n\u001B[1;32m   1806\u001B[0m taker[\u001B[38;5;241m-\u001B[39m\u001B[38;5;241m1\u001B[39m] \u001B[38;5;241m=\u001B[39m \u001B[38;5;241m-\u001B[39m\u001B[38;5;241m1\u001B[39m\n\u001B[1;32m   1807\u001B[0m reindexers \u001B[38;5;241m=\u001B[39m {i: (labels, taker)}\n\u001B[0;32m-> 1808\u001B[0m new_obj \u001B[38;5;241m=\u001B[39m \u001B[38;5;28;43mself\u001B[39;49m\u001B[38;5;241;43m.\u001B[39;49m\u001B[43mobj\u001B[49m\u001B[38;5;241;43m.\u001B[39;49m\u001B[43m_reindex_with_indexers\u001B[49m\u001B[43m(\u001B[49m\n\u001B[1;32m   1809\u001B[0m \u001B[43m    \u001B[49m\u001B[43mreindexers\u001B[49m\u001B[43m,\u001B[49m\u001B[43m \u001B[49m\u001B[43mallow_dups\u001B[49m\u001B[38;5;241;43m=\u001B[39;49m\u001B[38;5;28;43;01mTrue\u001B[39;49;00m\n\u001B[1;32m   1810\u001B[0m \u001B[43m\u001B[49m\u001B[43m)\u001B[49m\n\u001B[1;32m   1811\u001B[0m \u001B[38;5;28mself\u001B[39m\u001B[38;5;241m.\u001B[39mobj\u001B[38;5;241m.\u001B[39m_mgr \u001B[38;5;241m=\u001B[39m new_obj\u001B[38;5;241m.\u001B[39m_mgr\n\u001B[1;32m   1812\u001B[0m \u001B[38;5;28mself\u001B[39m\u001B[38;5;241m.\u001B[39mobj\u001B[38;5;241m.\u001B[39m_maybe_update_cacher(clear\u001B[38;5;241m=\u001B[39m\u001B[38;5;28;01mTrue\u001B[39;00m)\n",
      "File \u001B[0;32m~/anaconda3/envs/AugmenTRAJ/lib/python3.8/site-packages/pandas/core/generic.py:5431\u001B[0m, in \u001B[0;36mNDFrame._reindex_with_indexers\u001B[0;34m(self, reindexers, fill_value, copy, allow_dups)\u001B[0m\n\u001B[1;32m   5428\u001B[0m     indexer \u001B[38;5;241m=\u001B[39m ensure_platform_int(indexer)\n\u001B[1;32m   5430\u001B[0m \u001B[38;5;66;03m# TODO: speed up on homogeneous DataFrame objects (see _reindex_multi)\u001B[39;00m\n\u001B[0;32m-> 5431\u001B[0m new_data \u001B[38;5;241m=\u001B[39m \u001B[43mnew_data\u001B[49m\u001B[38;5;241;43m.\u001B[39;49m\u001B[43mreindex_indexer\u001B[49m\u001B[43m(\u001B[49m\n\u001B[1;32m   5432\u001B[0m \u001B[43m    \u001B[49m\u001B[43mindex\u001B[49m\u001B[43m,\u001B[49m\n\u001B[1;32m   5433\u001B[0m \u001B[43m    \u001B[49m\u001B[43mindexer\u001B[49m\u001B[43m,\u001B[49m\n\u001B[1;32m   5434\u001B[0m \u001B[43m    \u001B[49m\u001B[43maxis\u001B[49m\u001B[38;5;241;43m=\u001B[39;49m\u001B[43mbaxis\u001B[49m\u001B[43m,\u001B[49m\n\u001B[1;32m   5435\u001B[0m \u001B[43m    \u001B[49m\u001B[43mfill_value\u001B[49m\u001B[38;5;241;43m=\u001B[39;49m\u001B[43mfill_value\u001B[49m\u001B[43m,\u001B[49m\n\u001B[1;32m   5436\u001B[0m \u001B[43m    \u001B[49m\u001B[43mallow_dups\u001B[49m\u001B[38;5;241;43m=\u001B[39;49m\u001B[43mallow_dups\u001B[49m\u001B[43m,\u001B[49m\n\u001B[1;32m   5437\u001B[0m \u001B[43m    \u001B[49m\u001B[43mcopy\u001B[49m\u001B[38;5;241;43m=\u001B[39;49m\u001B[43mcopy\u001B[49m\u001B[43m,\u001B[49m\n\u001B[1;32m   5438\u001B[0m \u001B[43m\u001B[49m\u001B[43m)\u001B[49m\n\u001B[1;32m   5439\u001B[0m \u001B[38;5;66;03m# If we've made a copy once, no need to make another one\u001B[39;00m\n\u001B[1;32m   5440\u001B[0m copy \u001B[38;5;241m=\u001B[39m \u001B[38;5;28;01mFalse\u001B[39;00m\n",
      "File \u001B[0;32m~/anaconda3/envs/AugmenTRAJ/lib/python3.8/site-packages/pandas/core/internals/managers.py:747\u001B[0m, in \u001B[0;36mBaseBlockManager.reindex_indexer\u001B[0;34m(self, new_axis, indexer, axis, fill_value, allow_dups, copy, only_slice, use_na_proxy)\u001B[0m\n\u001B[1;32m    740\u001B[0m     new_blocks \u001B[38;5;241m=\u001B[39m \u001B[38;5;28mself\u001B[39m\u001B[38;5;241m.\u001B[39m_slice_take_blocks_ax0(\n\u001B[1;32m    741\u001B[0m         indexer,\n\u001B[1;32m    742\u001B[0m         fill_value\u001B[38;5;241m=\u001B[39mfill_value,\n\u001B[1;32m    743\u001B[0m         only_slice\u001B[38;5;241m=\u001B[39monly_slice,\n\u001B[1;32m    744\u001B[0m         use_na_proxy\u001B[38;5;241m=\u001B[39muse_na_proxy,\n\u001B[1;32m    745\u001B[0m     )\n\u001B[1;32m    746\u001B[0m \u001B[38;5;28;01melse\u001B[39;00m:\n\u001B[0;32m--> 747\u001B[0m     new_blocks \u001B[38;5;241m=\u001B[39m [\n\u001B[1;32m    748\u001B[0m         blk\u001B[38;5;241m.\u001B[39mtake_nd(\n\u001B[1;32m    749\u001B[0m             indexer,\n\u001B[1;32m    750\u001B[0m             axis\u001B[38;5;241m=\u001B[39m\u001B[38;5;241m1\u001B[39m,\n\u001B[1;32m    751\u001B[0m             fill_value\u001B[38;5;241m=\u001B[39m(\n\u001B[1;32m    752\u001B[0m                 fill_value \u001B[38;5;28;01mif\u001B[39;00m fill_value \u001B[38;5;129;01mis\u001B[39;00m \u001B[38;5;129;01mnot\u001B[39;00m \u001B[38;5;28;01mNone\u001B[39;00m \u001B[38;5;28;01melse\u001B[39;00m blk\u001B[38;5;241m.\u001B[39mfill_value\n\u001B[1;32m    753\u001B[0m             ),\n\u001B[1;32m    754\u001B[0m         )\n\u001B[1;32m    755\u001B[0m         \u001B[38;5;28;01mfor\u001B[39;00m blk \u001B[38;5;129;01min\u001B[39;00m \u001B[38;5;28mself\u001B[39m\u001B[38;5;241m.\u001B[39mblocks\n\u001B[1;32m    756\u001B[0m     ]\n\u001B[1;32m    758\u001B[0m new_axes \u001B[38;5;241m=\u001B[39m \u001B[38;5;28mlist\u001B[39m(\u001B[38;5;28mself\u001B[39m\u001B[38;5;241m.\u001B[39maxes)\n\u001B[1;32m    759\u001B[0m new_axes[axis] \u001B[38;5;241m=\u001B[39m new_axis\n",
      "File \u001B[0;32m~/anaconda3/envs/AugmenTRAJ/lib/python3.8/site-packages/pandas/core/internals/managers.py:748\u001B[0m, in \u001B[0;36m<listcomp>\u001B[0;34m(.0)\u001B[0m\n\u001B[1;32m    740\u001B[0m     new_blocks \u001B[38;5;241m=\u001B[39m \u001B[38;5;28mself\u001B[39m\u001B[38;5;241m.\u001B[39m_slice_take_blocks_ax0(\n\u001B[1;32m    741\u001B[0m         indexer,\n\u001B[1;32m    742\u001B[0m         fill_value\u001B[38;5;241m=\u001B[39mfill_value,\n\u001B[1;32m    743\u001B[0m         only_slice\u001B[38;5;241m=\u001B[39monly_slice,\n\u001B[1;32m    744\u001B[0m         use_na_proxy\u001B[38;5;241m=\u001B[39muse_na_proxy,\n\u001B[1;32m    745\u001B[0m     )\n\u001B[1;32m    746\u001B[0m \u001B[38;5;28;01melse\u001B[39;00m:\n\u001B[1;32m    747\u001B[0m     new_blocks \u001B[38;5;241m=\u001B[39m [\n\u001B[0;32m--> 748\u001B[0m         \u001B[43mblk\u001B[49m\u001B[38;5;241;43m.\u001B[39;49m\u001B[43mtake_nd\u001B[49m\u001B[43m(\u001B[49m\n\u001B[1;32m    749\u001B[0m \u001B[43m            \u001B[49m\u001B[43mindexer\u001B[49m\u001B[43m,\u001B[49m\n\u001B[1;32m    750\u001B[0m \u001B[43m            \u001B[49m\u001B[43maxis\u001B[49m\u001B[38;5;241;43m=\u001B[39;49m\u001B[38;5;241;43m1\u001B[39;49m\u001B[43m,\u001B[49m\n\u001B[1;32m    751\u001B[0m \u001B[43m            \u001B[49m\u001B[43mfill_value\u001B[49m\u001B[38;5;241;43m=\u001B[39;49m\u001B[43m(\u001B[49m\n\u001B[1;32m    752\u001B[0m \u001B[43m                \u001B[49m\u001B[43mfill_value\u001B[49m\u001B[43m \u001B[49m\u001B[38;5;28;43;01mif\u001B[39;49;00m\u001B[43m \u001B[49m\u001B[43mfill_value\u001B[49m\u001B[43m \u001B[49m\u001B[38;5;129;43;01mis\u001B[39;49;00m\u001B[43m \u001B[49m\u001B[38;5;129;43;01mnot\u001B[39;49;00m\u001B[43m \u001B[49m\u001B[38;5;28;43;01mNone\u001B[39;49;00m\u001B[43m \u001B[49m\u001B[38;5;28;43;01melse\u001B[39;49;00m\u001B[43m \u001B[49m\u001B[43mblk\u001B[49m\u001B[38;5;241;43m.\u001B[39;49m\u001B[43mfill_value\u001B[49m\n\u001B[1;32m    753\u001B[0m \u001B[43m            \u001B[49m\u001B[43m)\u001B[49m\u001B[43m,\u001B[49m\n\u001B[1;32m    754\u001B[0m \u001B[43m        \u001B[49m\u001B[43m)\u001B[49m\n\u001B[1;32m    755\u001B[0m         \u001B[38;5;28;01mfor\u001B[39;00m blk \u001B[38;5;129;01min\u001B[39;00m \u001B[38;5;28mself\u001B[39m\u001B[38;5;241m.\u001B[39mblocks\n\u001B[1;32m    756\u001B[0m     ]\n\u001B[1;32m    758\u001B[0m new_axes \u001B[38;5;241m=\u001B[39m \u001B[38;5;28mlist\u001B[39m(\u001B[38;5;28mself\u001B[39m\u001B[38;5;241m.\u001B[39maxes)\n\u001B[1;32m    759\u001B[0m new_axes[axis] \u001B[38;5;241m=\u001B[39m new_axis\n",
      "File \u001B[0;32m~/anaconda3/envs/AugmenTRAJ/lib/python3.8/site-packages/pandas/core/internals/blocks.py:945\u001B[0m, in \u001B[0;36mBlock.take_nd\u001B[0;34m(self, indexer, axis, new_mgr_locs, fill_value)\u001B[0m\n\u001B[1;32m    942\u001B[0m     allow_fill \u001B[38;5;241m=\u001B[39m \u001B[38;5;28;01mTrue\u001B[39;00m\n\u001B[1;32m    944\u001B[0m \u001B[38;5;66;03m# Note: algos.take_nd has upcast logic similar to coerce_to_target_dtype\u001B[39;00m\n\u001B[0;32m--> 945\u001B[0m new_values \u001B[38;5;241m=\u001B[39m \u001B[43malgos\u001B[49m\u001B[38;5;241;43m.\u001B[39;49m\u001B[43mtake_nd\u001B[49m\u001B[43m(\u001B[49m\n\u001B[1;32m    946\u001B[0m \u001B[43m    \u001B[49m\u001B[43mvalues\u001B[49m\u001B[43m,\u001B[49m\u001B[43m \u001B[49m\u001B[43mindexer\u001B[49m\u001B[43m,\u001B[49m\u001B[43m \u001B[49m\u001B[43maxis\u001B[49m\u001B[38;5;241;43m=\u001B[39;49m\u001B[43maxis\u001B[49m\u001B[43m,\u001B[49m\u001B[43m \u001B[49m\u001B[43mallow_fill\u001B[49m\u001B[38;5;241;43m=\u001B[39;49m\u001B[43mallow_fill\u001B[49m\u001B[43m,\u001B[49m\u001B[43m \u001B[49m\u001B[43mfill_value\u001B[49m\u001B[38;5;241;43m=\u001B[39;49m\u001B[43mfill_value\u001B[49m\n\u001B[1;32m    947\u001B[0m \u001B[43m\u001B[49m\u001B[43m)\u001B[49m\n\u001B[1;32m    949\u001B[0m \u001B[38;5;66;03m# Called from three places in managers, all of which satisfy\u001B[39;00m\n\u001B[1;32m    950\u001B[0m \u001B[38;5;66;03m#  these assertions\u001B[39;00m\n\u001B[1;32m    951\u001B[0m \u001B[38;5;28;01mif\u001B[39;00m \u001B[38;5;28misinstance\u001B[39m(\u001B[38;5;28mself\u001B[39m, ExtensionBlock):\n\u001B[1;32m    952\u001B[0m     \u001B[38;5;66;03m# NB: in this case, the 'axis' kwarg will be ignored in the\u001B[39;00m\n\u001B[1;32m    953\u001B[0m     \u001B[38;5;66;03m#  algos.take_nd call above.\u001B[39;00m\n",
      "File \u001B[0;32m~/anaconda3/envs/AugmenTRAJ/lib/python3.8/site-packages/pandas/core/array_algos/take.py:110\u001B[0m, in \u001B[0;36mtake_nd\u001B[0;34m(arr, indexer, axis, fill_value, allow_fill)\u001B[0m\n\u001B[1;32m    107\u001B[0m     \u001B[38;5;28;01mif\u001B[39;00m \u001B[38;5;129;01mnot\u001B[39;00m is_1d_only_ea_obj(arr):\n\u001B[1;32m    108\u001B[0m         \u001B[38;5;66;03m# i.e. DatetimeArray, TimedeltaArray\u001B[39;00m\n\u001B[1;32m    109\u001B[0m         arr \u001B[38;5;241m=\u001B[39m cast(\u001B[38;5;124m\"\u001B[39m\u001B[38;5;124mNDArrayBackedExtensionArray\u001B[39m\u001B[38;5;124m\"\u001B[39m, arr)\n\u001B[0;32m--> 110\u001B[0m         \u001B[38;5;28;01mreturn\u001B[39;00m \u001B[43marr\u001B[49m\u001B[38;5;241;43m.\u001B[39;49m\u001B[43mtake\u001B[49m\u001B[43m(\u001B[49m\n\u001B[1;32m    111\u001B[0m \u001B[43m            \u001B[49m\u001B[43mindexer\u001B[49m\u001B[43m,\u001B[49m\u001B[43m \u001B[49m\u001B[43mfill_value\u001B[49m\u001B[38;5;241;43m=\u001B[39;49m\u001B[43mfill_value\u001B[49m\u001B[43m,\u001B[49m\u001B[43m \u001B[49m\u001B[43mallow_fill\u001B[49m\u001B[38;5;241;43m=\u001B[39;49m\u001B[43mallow_fill\u001B[49m\u001B[43m,\u001B[49m\u001B[43m \u001B[49m\u001B[43maxis\u001B[49m\u001B[38;5;241;43m=\u001B[39;49m\u001B[43maxis\u001B[49m\n\u001B[1;32m    112\u001B[0m \u001B[43m        \u001B[49m\u001B[43m)\u001B[49m\n\u001B[1;32m    114\u001B[0m     \u001B[38;5;28;01mreturn\u001B[39;00m arr\u001B[38;5;241m.\u001B[39mtake(indexer, fill_value\u001B[38;5;241m=\u001B[39mfill_value, allow_fill\u001B[38;5;241m=\u001B[39mallow_fill)\n\u001B[1;32m    116\u001B[0m arr \u001B[38;5;241m=\u001B[39m np\u001B[38;5;241m.\u001B[39masarray(arr)\n",
      "File \u001B[0;32m~/anaconda3/envs/AugmenTRAJ/lib/python3.8/site-packages/pandas/core/arrays/_mixins.py:166\u001B[0m, in \u001B[0;36mNDArrayBackedExtensionArray.take\u001B[0;34m(self, indices, allow_fill, fill_value, axis)\u001B[0m\n\u001B[1;32m    163\u001B[0m \u001B[38;5;28;01mif\u001B[39;00m allow_fill:\n\u001B[1;32m    164\u001B[0m     fill_value \u001B[38;5;241m=\u001B[39m \u001B[38;5;28mself\u001B[39m\u001B[38;5;241m.\u001B[39m_validate_scalar(fill_value)\n\u001B[0;32m--> 166\u001B[0m new_data \u001B[38;5;241m=\u001B[39m \u001B[43mtake\u001B[49m\u001B[43m(\u001B[49m\n\u001B[1;32m    167\u001B[0m \u001B[43m    \u001B[49m\u001B[38;5;28;43mself\u001B[39;49m\u001B[38;5;241;43m.\u001B[39;49m\u001B[43m_ndarray\u001B[49m\u001B[43m,\u001B[49m\n\u001B[1;32m    168\u001B[0m \u001B[43m    \u001B[49m\u001B[43mindices\u001B[49m\u001B[43m,\u001B[49m\n\u001B[1;32m    169\u001B[0m \u001B[43m    \u001B[49m\u001B[43mallow_fill\u001B[49m\u001B[38;5;241;43m=\u001B[39;49m\u001B[43mallow_fill\u001B[49m\u001B[43m,\u001B[49m\n\u001B[1;32m    170\u001B[0m \u001B[43m    \u001B[49m\u001B[43mfill_value\u001B[49m\u001B[38;5;241;43m=\u001B[39;49m\u001B[43mfill_value\u001B[49m\u001B[43m,\u001B[49m\n\u001B[1;32m    171\u001B[0m \u001B[43m    \u001B[49m\u001B[43maxis\u001B[49m\u001B[38;5;241;43m=\u001B[39;49m\u001B[43maxis\u001B[49m\u001B[43m,\u001B[49m\n\u001B[1;32m    172\u001B[0m \u001B[43m\u001B[49m\u001B[43m)\u001B[49m\n\u001B[1;32m    173\u001B[0m \u001B[38;5;28;01mreturn\u001B[39;00m \u001B[38;5;28mself\u001B[39m\u001B[38;5;241m.\u001B[39m_from_backing_data(new_data)\n",
      "File \u001B[0;32m~/anaconda3/envs/AugmenTRAJ/lib/python3.8/site-packages/pandas/core/algorithms.py:1252\u001B[0m, in \u001B[0;36mtake\u001B[0;34m(arr, indices, axis, allow_fill, fill_value)\u001B[0m\n\u001B[1;32m   1248\u001B[0m indices \u001B[38;5;241m=\u001B[39m np\u001B[38;5;241m.\u001B[39masarray(indices, dtype\u001B[38;5;241m=\u001B[39mnp\u001B[38;5;241m.\u001B[39mintp)\n\u001B[1;32m   1250\u001B[0m \u001B[38;5;28;01mif\u001B[39;00m allow_fill:\n\u001B[1;32m   1251\u001B[0m     \u001B[38;5;66;03m# Pandas style, -1 means NA\u001B[39;00m\n\u001B[0;32m-> 1252\u001B[0m     \u001B[43mvalidate_indices\u001B[49m\u001B[43m(\u001B[49m\u001B[43mindices\u001B[49m\u001B[43m,\u001B[49m\u001B[43m \u001B[49m\u001B[43marr\u001B[49m\u001B[38;5;241;43m.\u001B[39;49m\u001B[43mshape\u001B[49m\u001B[43m[\u001B[49m\u001B[43maxis\u001B[49m\u001B[43m]\u001B[49m\u001B[43m)\u001B[49m\n\u001B[1;32m   1253\u001B[0m     result \u001B[38;5;241m=\u001B[39m take_nd(\n\u001B[1;32m   1254\u001B[0m         arr, indices, axis\u001B[38;5;241m=\u001B[39maxis, allow_fill\u001B[38;5;241m=\u001B[39m\u001B[38;5;28;01mTrue\u001B[39;00m, fill_value\u001B[38;5;241m=\u001B[39mfill_value\n\u001B[1;32m   1255\u001B[0m     )\n\u001B[1;32m   1256\u001B[0m \u001B[38;5;28;01melse\u001B[39;00m:\n\u001B[1;32m   1257\u001B[0m     \u001B[38;5;66;03m# NumPy style\u001B[39;00m\n",
      "File \u001B[0;32m~/anaconda3/envs/AugmenTRAJ/lib/python3.8/site-packages/pandas/core/indexers/utils.py:227\u001B[0m, in \u001B[0;36mvalidate_indices\u001B[0;34m(indices, n)\u001B[0m\n\u001B[1;32m    190\u001B[0m \u001B[38;5;250m\u001B[39m\u001B[38;5;124;03m\"\"\"\u001B[39;00m\n\u001B[1;32m    191\u001B[0m \u001B[38;5;124;03mPerform bounds-checking for an indexer.\u001B[39;00m\n\u001B[1;32m    192\u001B[0m \n\u001B[0;32m   (...)\u001B[0m\n\u001B[1;32m    224\u001B[0m \u001B[38;5;124;03mIndexError: indices are out-of-bounds\u001B[39;00m\n\u001B[1;32m    225\u001B[0m \u001B[38;5;124;03m\"\"\"\u001B[39;00m\n\u001B[1;32m    226\u001B[0m \u001B[38;5;28;01mif\u001B[39;00m \u001B[38;5;28mlen\u001B[39m(indices):\n\u001B[0;32m--> 227\u001B[0m     min_idx \u001B[38;5;241m=\u001B[39m \u001B[43mindices\u001B[49m\u001B[38;5;241;43m.\u001B[39;49m\u001B[43mmin\u001B[49m\u001B[43m(\u001B[49m\u001B[43m)\u001B[49m\n\u001B[1;32m    228\u001B[0m     \u001B[38;5;28;01mif\u001B[39;00m min_idx \u001B[38;5;241m<\u001B[39m \u001B[38;5;241m-\u001B[39m\u001B[38;5;241m1\u001B[39m:\n\u001B[1;32m    229\u001B[0m         msg \u001B[38;5;241m=\u001B[39m \u001B[38;5;124mf\u001B[39m\u001B[38;5;124m\"\u001B[39m\u001B[38;5;124m'\u001B[39m\u001B[38;5;124mindices\u001B[39m\u001B[38;5;124m'\u001B[39m\u001B[38;5;124m contains values less than allowed (\u001B[39m\u001B[38;5;132;01m{\u001B[39;00mmin_idx\u001B[38;5;132;01m}\u001B[39;00m\u001B[38;5;124m < -1)\u001B[39m\u001B[38;5;124m\"\u001B[39m\n",
      "File \u001B[0;32m~/anaconda3/envs/AugmenTRAJ/lib/python3.8/site-packages/numpy/core/_methods.py:45\u001B[0m, in \u001B[0;36m_amin\u001B[0;34m(a, axis, out, keepdims, initial, where)\u001B[0m\n\u001B[1;32m     43\u001B[0m \u001B[38;5;28;01mdef\u001B[39;00m \u001B[38;5;21m_amin\u001B[39m(a, axis\u001B[38;5;241m=\u001B[39m\u001B[38;5;28;01mNone\u001B[39;00m, out\u001B[38;5;241m=\u001B[39m\u001B[38;5;28;01mNone\u001B[39;00m, keepdims\u001B[38;5;241m=\u001B[39m\u001B[38;5;28;01mFalse\u001B[39;00m,\n\u001B[1;32m     44\u001B[0m           initial\u001B[38;5;241m=\u001B[39m_NoValue, where\u001B[38;5;241m=\u001B[39m\u001B[38;5;28;01mTrue\u001B[39;00m):\n\u001B[0;32m---> 45\u001B[0m     \u001B[38;5;28;01mreturn\u001B[39;00m \u001B[43mumr_minimum\u001B[49m\u001B[43m(\u001B[49m\u001B[43ma\u001B[49m\u001B[43m,\u001B[49m\u001B[43m \u001B[49m\u001B[43maxis\u001B[49m\u001B[43m,\u001B[49m\u001B[43m \u001B[49m\u001B[38;5;28;43;01mNone\u001B[39;49;00m\u001B[43m,\u001B[49m\u001B[43m \u001B[49m\u001B[43mout\u001B[49m\u001B[43m,\u001B[49m\u001B[43m \u001B[49m\u001B[43mkeepdims\u001B[49m\u001B[43m,\u001B[49m\u001B[43m \u001B[49m\u001B[43minitial\u001B[49m\u001B[43m,\u001B[49m\u001B[43m \u001B[49m\u001B[43mwhere\u001B[49m\u001B[43m)\u001B[49m\n",
      "\u001B[0;31mKeyboardInterrupt\u001B[0m: "
     ]
    }
   ],
   "source": [
    "seed_generator = Utilities.generate_pi_seed(20)\n",
    "seed_vals = [next(seed_generator) for i in range(20)]\n",
    "shake_percentages = [0.2, 0.4, 0.6]\n",
    "circle_methods = ['on', 'in']\n",
    "ml_models = [ExtraTreesClassifier(), GradientBoostingClassifier(), RandomForestClassifier()]\n",
    "scaler = MinMaxScaler((0, 1))\n",
    "\n",
    "distance_results = [[\"seed\", \"on_20%_dist\", \"on_20%_std\", \"on_40%_dist\", \"on_40%_std\", \"on_60%_dist\", \"on_60%_std\",\n",
    "                    \"in_20%_dist\",\"in_20%_std\",\"in_40%_dist\",\"in_40%_std\",\"in_60%_dist\",\"in_60%_std\"]]\n",
    "\n",
    "model_results = [[\"seed\", \"model\", \"baseline\", \"in_20%_f1\", \"in_40%_f1\", \"in_60%_f1\", \"on_20%_f1\", \"on_40%_f1\", \"on_60%_f1\"]]\n",
    "\n",
    "for seed in seed_vals:\n",
    "    # Intermediate lists for storing distance and model score values.\n",
    "    distance_row = [seed]\n",
    "\n",
    "    # Set apart 20% data for testing that augmentation process will never see.\n",
    "    train, test_x, test_y = TestUtils.get_test_train_data(dataset=ready_dataset, seed_val=seed,\n",
    "                                                          class_col='Species', k=0.8)\n",
    "\n",
    "    model_row = TestUtils.create_model_row(seed, ml_models, \"Species\", train, test_x, test_y)\n",
    "    for shake in shake_percentages:\n",
    "        for method in circle_methods:\n",
    "            # Randomly select 30% of trajectories to be augmented.\n",
    "            selected = Selection.select_randomly(train, seed, k=0.3)\n",
    "\n",
    "            # Augment the trajectories.\n",
    "            train_x, train_y = TestUtils.augment_trajectories_using_random_strategy(dataset=train,\n",
    "                                                                                    percent_to_shake=shake,\n",
    "                                                                                    ids_to_augment=selected,\n",
    "                                                                                    circle=method,\n",
    "                                                                                    n_augmentations=20,\n",
    "                                                                                    class_col=\"Species\")\n",
    "            mean, std = TestUtils.find_original_and_augmentation_pairs_and_calculate_differences(train_x, selected)\n",
    "            distance_row.append(mean)\n",
    "            distance_row.append(std)\n",
    "\n",
    "            for i in range(len(ml_models)):\n",
    "                f1_score = TestUtils.train_model_and_evaluate(ml_models[i], scaler.fit_transform(train_x), train_y,\n",
    "                                                              scaler.fit_transform(test_x), test_y, seed)\n",
    "                model_row[i].append(f1_score)\n",
    "\n",
    "    model_results.extend(model_row)\n",
    "    distance_results.append(distance_row)\n",
    "\n",
    "    print(model_row)"
   ],
   "metadata": {
    "collapsed": false,
    "ExecuteTime": {
     "end_time": "2023-09-13T11:17:56.997980Z",
     "start_time": "2023-09-13T00:55:29.437084Z"
    }
   }
  }
 ],
 "metadata": {
  "kernelspec": {
   "display_name": "Python 3",
   "language": "python",
   "name": "python3"
  },
  "language_info": {
   "codemirror_mode": {
    "name": "ipython",
    "version": 2
   },
   "file_extension": ".py",
   "mimetype": "text/x-python",
   "name": "python",
   "nbconvert_exporter": "python",
   "pygments_lexer": "ipython2",
   "version": "2.7.6"
  }
 },
 "nbformat": 4,
 "nbformat_minor": 0
}
