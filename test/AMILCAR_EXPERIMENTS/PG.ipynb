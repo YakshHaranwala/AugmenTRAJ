{
 "cells": [
  {
   "cell_type": "code",
   "execution_count": 1,
   "outputs": [],
   "source": [
    "import pandas as pd\n",
    "from ptrail.core.TrajectoryDF import PTRAILDataFrame\n",
    "from ptrail.features.kinematic_features import KinematicFeatures\n",
    "\n",
    "from sklearn.ensemble import RandomForestClassifier, ExtraTreesClassifier, GradientBoostingClassifier\n",
    "from sklearn.preprocessing import MinMaxScaler\n",
    "from src.utils.test_utils import TestUtils\n",
    "from src.selection.select import Selection\n",
    "from src.utils.general_utils import Utilities\n",
    "import warnings\n",
    "\n",
    "warnings.simplefilter(action='ignore', category=FutureWarning)"
   ],
   "metadata": {
    "collapsed": false,
    "ExecuteTime": {
     "end_time": "2023-09-07T16:02:59.959178Z",
     "start_time": "2023-09-07T16:02:56.041055Z"
    }
   }
  },
  {
   "cell_type": "code",
   "execution_count": 2,
   "outputs": [
    {
     "data": {
      "text/plain": "                                lat        lon  Species  Distance\ntraj_id DateTime                                                 \n1058    2013-01-04 05:05:00 -5.2568  71.657683        1       NaN\n        2013-01-05 18:27:00 -5.2568  71.657683        1       0.0\n        2013-01-05 18:29:00 -5.2568  71.657683        1       0.0\n        2013-01-05 18:33:00 -5.2568  71.657683        1       0.0\n        2013-01-06 04:52:00 -5.2568  71.657683        1       0.0\n...                             ...        ...      ...       ...\n1654    2016-04-04 12:30:00 -5.2499  71.660270        1       0.0\n        2016-04-04 12:31:00 -5.2499  71.660270        1       0.0\n        2016-05-04 01:50:00 -5.2499  71.660270        1       0.0\n        2016-05-04 01:51:00 -5.2499  71.660270        1       0.0\n1674    2016-04-18 11:13:00  0.0000   0.000000        2       NaN\n\n[356790 rows x 4 columns]",
      "text/html": "<div>\n<style scoped>\n    .dataframe tbody tr th:only-of-type {\n        vertical-align: middle;\n    }\n\n    .dataframe tbody tr th {\n        vertical-align: top;\n    }\n\n    .dataframe thead th {\n        text-align: right;\n    }\n</style>\n<table border=\"1\" class=\"dataframe\">\n  <thead>\n    <tr style=\"text-align: right;\">\n      <th></th>\n      <th></th>\n      <th>lat</th>\n      <th>lon</th>\n      <th>Species</th>\n      <th>Distance</th>\n    </tr>\n    <tr>\n      <th>traj_id</th>\n      <th>DateTime</th>\n      <th></th>\n      <th></th>\n      <th></th>\n      <th></th>\n    </tr>\n  </thead>\n  <tbody>\n    <tr>\n      <th rowspan=\"5\" valign=\"top\">1058</th>\n      <th>2013-01-04 05:05:00</th>\n      <td>-5.2568</td>\n      <td>71.657683</td>\n      <td>1</td>\n      <td>NaN</td>\n    </tr>\n    <tr>\n      <th>2013-01-05 18:27:00</th>\n      <td>-5.2568</td>\n      <td>71.657683</td>\n      <td>1</td>\n      <td>0.0</td>\n    </tr>\n    <tr>\n      <th>2013-01-05 18:29:00</th>\n      <td>-5.2568</td>\n      <td>71.657683</td>\n      <td>1</td>\n      <td>0.0</td>\n    </tr>\n    <tr>\n      <th>2013-01-05 18:33:00</th>\n      <td>-5.2568</td>\n      <td>71.657683</td>\n      <td>1</td>\n      <td>0.0</td>\n    </tr>\n    <tr>\n      <th>2013-01-06 04:52:00</th>\n      <td>-5.2568</td>\n      <td>71.657683</td>\n      <td>1</td>\n      <td>0.0</td>\n    </tr>\n    <tr>\n      <th>...</th>\n      <th>...</th>\n      <td>...</td>\n      <td>...</td>\n      <td>...</td>\n      <td>...</td>\n    </tr>\n    <tr>\n      <th rowspan=\"4\" valign=\"top\">1654</th>\n      <th>2016-04-04 12:30:00</th>\n      <td>-5.2499</td>\n      <td>71.660270</td>\n      <td>1</td>\n      <td>0.0</td>\n    </tr>\n    <tr>\n      <th>2016-04-04 12:31:00</th>\n      <td>-5.2499</td>\n      <td>71.660270</td>\n      <td>1</td>\n      <td>0.0</td>\n    </tr>\n    <tr>\n      <th>2016-05-04 01:50:00</th>\n      <td>-5.2499</td>\n      <td>71.660270</td>\n      <td>1</td>\n      <td>0.0</td>\n    </tr>\n    <tr>\n      <th>2016-05-04 01:51:00</th>\n      <td>-5.2499</td>\n      <td>71.660270</td>\n      <td>1</td>\n      <td>0.0</td>\n    </tr>\n    <tr>\n      <th>1674</th>\n      <th>2016-04-18 11:13:00</th>\n      <td>0.0000</td>\n      <td>0.000000</td>\n      <td>2</td>\n      <td>NaN</td>\n    </tr>\n  </tbody>\n</table>\n<p>356790 rows × 4 columns</p>\n</div>"
     },
     "execution_count": 2,
     "metadata": {},
     "output_type": "execute_result"
    }
   ],
   "source": [
    "df = pd.read_csv('../datasets/fishes.csv', engine='python')\n",
    "fishes_dataset = PTRAILDataFrame(data_set=df,\n",
    "                                 traj_id='traj_id',\n",
    "                                 datetime='DateTime',\n",
    "                                 latitude='lat',\n",
    "                                 longitude='lon')\n",
    "ready_dataset = KinematicFeatures.create_distance_column(fishes_dataset)\n",
    "ready_dataset = ready_dataset.loc[ready_dataset['Species'].isin([1, 2])]\n",
    "ready_dataset"
   ],
   "metadata": {
    "collapsed": false,
    "ExecuteTime": {
     "end_time": "2023-09-07T16:03:09.528694Z",
     "start_time": "2023-09-07T16:02:59.962416Z"
    }
   }
  },
  {
   "cell_type": "code",
   "execution_count": 3,
   "outputs": [
    {
     "name": "stdout",
     "output_type": "stream",
     "text": [
      "[[1415, 'ExtraTreesClassifier', 0.439, 0.2375, 0.2375, 0.2375, 0.2375, 0.2375, 0.2375], [1415, 'GradientBoostingClassifier', 0.439, 0.2375, 0.2375, 0.2375, 0.2375, 0.2375, 0.2375], [1415, 'RandomForestClassifier', 0.439, 0.2375, 0.2375, 0.2375, 0.2375, 0.2375, 0.2375]]\n",
      "[[9265, 'ExtraTreesClassifier', 0.0916, 0.6589, 0.6589, 0.6589, 0.6589, 0.6589, 0.6589], [9265, 'GradientBoostingClassifier', 0.0916, 0.6589, 0.6589, 0.6589, 0.6589, 0.6589, 0.6589], [9265, 'RandomForestClassifier', 0.0916, 0.6589, 0.6589, 0.6589, 0.6589, 0.6589, 0.6589]]\n",
      "[[3589, 'ExtraTreesClassifier', 0.142, 0.142, 0.142, 0.142, 0.142, 0.142, 0.142], [3589, 'GradientBoostingClassifier', 0.142, 0.142, 0.142, 0.142, 0.142, 0.142, 0.142], [3589, 'RandomForestClassifier', 0.142, 0.142, 0.142, 0.142, 0.142, 0.142, 0.142]]\n",
      "[[7932, 'ExtraTreesClassifier', 0.439, 0.439, 0.439, 0.439, 0.439, 0.439, 0.439], [7932, 'GradientBoostingClassifier', 0.439, 0.439, 0.439, 0.439, 0.439, 0.439, 0.439], [7932, 'RandomForestClassifier', 0.439, 0.439, 0.439, 0.439, 0.439, 0.439, 0.439]]\n",
      "[[3846, 'ExtraTreesClassifier', 0.385, 0.2841, 0.2841, 0.2841, 0.2841, 0.2841, 0.2841], [3846, 'GradientBoostingClassifier', 0.385, 0.2841, 0.2841, 0.2841, 0.2841, 0.2841, 0.2841], [3846, 'RandomForestClassifier', 0.385, 0.2841, 0.2841, 0.2841, 0.2841, 0.2841, 0.2841]]\n",
      "[[2643, 'ExtraTreesClassifier', 0.439, 0.439, 0.439, 0.439, 0.439, 0.439, 0.439], [2643, 'GradientBoostingClassifier', 0.439, 0.439, 0.439, 0.439, 0.439, 0.439, 0.439], [2643, 'RandomForestClassifier', 0.439, 0.439, 0.439, 0.439, 0.439, 0.439, 0.439]]\n",
      "[[3832, 'ExtraTreesClassifier', 0.3333, 0.3333, 0.3333, 0.3333, 0.3333, 0.3333, 0.3333], [3832, 'GradientBoostingClassifier', 0.3333, 0.3333, 0.3333, 0.3333, 0.3333, 0.3333, 0.3333], [3832, 'RandomForestClassifier', 0.3333, 0.3333, 0.3333, 0.3333, 0.3333, 0.3333, 0.3333]]\n",
      "[[7950, 'ExtraTreesClassifier', 0.2841, 0.385, 0.385, 0.385, 0.385, 0.385, 0.385], [7950, 'GradientBoostingClassifier', 0.2841, 0.385, 0.385, 0.385, 0.385, 0.385, 0.385], [7950, 'RandomForestClassifier', 0.2841, 0.385, 0.385, 0.385, 0.385, 0.385, 0.385]]\n",
      "[[2884, 'ExtraTreesClassifier', 0.45, 0.2286, 0.2286, 0.2286, 0.2286, 0.2286, 0.2286], [2884, 'GradientBoostingClassifier', 0.45, 0.2286, 0.2286, 0.2286, 0.2286, 0.2286, 0.2286], [2884, 'RandomForestClassifier', 0.45, 0.2286, 0.2286, 0.2286, 0.2286, 0.2286, 0.2286]]\n",
      "[[1971, 'ExtraTreesClassifier', 0.1939, 0.1939, 0.1939, 0.1939, 0.1939, 0.1939, 0.1939], [1971, 'GradientBoostingClassifier', 0.1939, 0.1939, 0.1939, 0.1939, 0.1939, 0.1939, 0.1939], [1971, 'RandomForestClassifier', 0.1939, 0.1939, 0.1939, 0.1939, 0.1939, 0.1939, 0.1939]]\n",
      "[[6939, 'ExtraTreesClassifier', 0.3333, 0.3333, 0.3333, 0.3333, 0.3333, 0.3333, 0.3333], [6939, 'GradientBoostingClassifier', 0.3333, 0.3333, 0.3333, 0.3333, 0.3333, 0.3333, 0.3333], [6939, 'RandomForestClassifier', 0.3333, 0.3333, 0.3333, 0.3333, 0.3333, 0.3333, 0.3333]]\n",
      "[[9375, 'ExtraTreesClassifier', 0.3072, 0.3072, 0.3072, 0.3072, 0.3072, 0.3072, 0.3072], [9375, 'GradientBoostingClassifier', 0.3072, 0.3072, 0.3072, 0.3072, 0.3072, 0.3072, 0.3072], [9375, 'RandomForestClassifier', 0.3072, 0.3072, 0.3072, 0.3072, 0.3072, 0.3072, 0.3072]]\n",
      "[[1058, 'ExtraTreesClassifier', 0.3333, 0.3333, 0.3333, 0.3333, 0.3333, 0.3333, 0.3333], [1058, 'GradientBoostingClassifier', 0.3333, 0.3333, 0.3333, 0.3333, 0.3333, 0.3333, 0.3333], [1058, 'RandomForestClassifier', 0.3333, 0.3333, 0.3333, 0.3333, 0.3333, 0.3333, 0.3333]]\n",
      "[[2097, 'ExtraTreesClassifier', 0.2841, 0.2841, 0.2841, 0.2841, 0.2841, 0.2841, 0.2841], [2097, 'GradientBoostingClassifier', 0.2841, 0.2841, 0.2841, 0.2841, 0.2841, 0.2841, 0.2841], [2097, 'RandomForestClassifier', 0.2841, 0.2841, 0.2841, 0.2841, 0.2841, 0.2841, 0.2841]]\n",
      "[[4944, 'ExtraTreesClassifier', 0.1536, 0.1536, 0.1536, 0.1536, 0.1536, 0.1536, 0.1536], [4944, 'GradientBoostingClassifier', 0.1536, 0.1536, 0.1536, 0.1536, 0.1536, 0.1536, 0.1536], [4944, 'RandomForestClassifier', 0.1536, 0.1536, 0.1536, 0.1536, 0.1536, 0.1536, 0.1536]]\n",
      "[[5923, 'ExtraTreesClassifier', 0.4606, 0.4606, 0.4606, 0.4606, 0.4606, 0.4606, 0.4606], [5923, 'GradientBoostingClassifier', 0.4606, 0.4606, 0.4606, 0.4606, 0.4606, 0.4606, 0.4606], [5923, 'RandomForestClassifier', 0.4606, 0.4606, 0.4606, 0.4606, 0.4606, 0.4606, 0.4606]]\n",
      "[[781, 'ExtraTreesClassifier', 0.2375, 0.2375, 0.2375, 0.2375, 0.2375, 0.2375, 0.2375], [781, 'GradientBoostingClassifier', 0.2375, 0.2375, 0.2375, 0.2375, 0.2375, 0.2375, 0.2375], [781, 'RandomForestClassifier', 0.2375, 0.2375, 0.2375, 0.2375, 0.2375, 0.2375, 0.2375]]\n",
      "[[6406, 'ExtraTreesClassifier', 0.2375, 0.2375, 0.2375, 0.2375, 0.2375, 0.2375, 0.2375], [6406, 'GradientBoostingClassifier', 0.2375, 0.2375, 0.2375, 0.2375, 0.2375, 0.2375, 0.2375], [6406, 'RandomForestClassifier', 0.2375, 0.2375, 0.2375, 0.2375, 0.2375, 0.2375, 0.2375]]\n",
      "[[2862, 'ExtraTreesClassifier', 0.1667, 0.5333, 0.5333, 0.5333, 0.5333, 0.5333, 0.5333], [2862, 'GradientBoostingClassifier', 0.1667, 0.5333, 0.5333, 0.5333, 0.5333, 0.5333, 0.5333], [2862, 'RandomForestClassifier', 0.1667, 0.5333, 0.5333, 0.5333, 0.5333, 0.5333, 0.5333]]\n",
      "[[899, 'ExtraTreesClassifier', 0.385, 0.385, 0.385, 0.385, 0.385, 0.385, 0.385], [899, 'GradientBoostingClassifier', 0.385, 0.385, 0.385, 0.385, 0.385, 0.385, 0.385], [899, 'RandomForestClassifier', 0.385, 0.385, 0.385, 0.385, 0.385, 0.385, 0.385]]\n"
     ]
    }
   ],
   "source": [
    "seed_generator = Utilities.generate_pi_seed(20)\n",
    "seed_vals = [next(seed_generator) for i in range(20)]\n",
    "shake_percentages = [0.2, 0.4, 0.6]\n",
    "circle_methods = ['on', 'in']\n",
    "ml_models = [ExtraTreesClassifier(), GradientBoostingClassifier(), RandomForestClassifier()]\n",
    "scaler = MinMaxScaler((0, 1))\n",
    "\n",
    "distance_results = [[\"seed\", \"on_20%_dist\", \"on_20%_std\", \"on_40%_dist\", \"on_40%_std\", \"on_60%_dist\", \"on_60%_std\",\n",
    "                    \"in_20%_dist\",\"in_20%_std\",\"in_40%_dist\",\"in_40%_std\",\"in_60%_dist\",\"in_60%_std\"]]\n",
    "\n",
    "model_results = [[\"seed\", \"model\", \"baseline\", \"in_20%_f1\", \"in_40%_f1\", \"in_60%_f1\", \"on_20%_f1\", \"on_40%_f1\", \"on_60%_f1\"]]\n",
    "\n",
    "for seed in seed_vals:\n",
    "    # Intermediate lists for storing distance and model score values.\n",
    "    distance_row = [seed]\n",
    "\n",
    "    # Set apart 20% data for testing that augmentation process will never see.\n",
    "    train, test_x, test_y = TestUtils.get_test_train_data(dataset=ready_dataset, seed_val=seed,\n",
    "                                                          class_col='Species', k=0.8)\n",
    "\n",
    "    model_row = TestUtils.create_model_row(seed, ml_models, \"Species\", train, test_x, test_y)\n",
    "    for shake in shake_percentages:\n",
    "        for method in circle_methods:\n",
    "            # Randomly select 30% of trajectories to be augmented.\n",
    "            selected = Selection.select_randomly(train, seed, k=0.3)\n",
    "\n",
    "            # Augment the trajectories.\n",
    "            train_x, train_y = TestUtils.augment_trajectories_using_random_strategy(dataset=train,\n",
    "                                                                                    percent_to_shake=shake,\n",
    "                                                                                    ids_to_augment=selected,\n",
    "                                                                                    circle=method,\n",
    "                                                                                    n_augmentations=5,\n",
    "                                                                                    class_col=\"Species\")\n",
    "            mean, std = TestUtils.find_original_and_augmentation_pairs_and_calculate_differences(train_x, selected)\n",
    "            distance_row.append(mean)\n",
    "            distance_row.append(std)\n",
    "\n",
    "            for i in range(len(ml_models)):\n",
    "                f1_score = TestUtils.train_model_and_evaluate(ml_models[i], scaler.fit_transform(train_x), train_y,\n",
    "                                                              scaler.fit_transform(test_x), test_y, seed)\n",
    "                model_row[i].append(f1_score)\n",
    "\n",
    "    model_results.extend(model_row)\n",
    "    distance_results.append(distance_row)\n",
    "\n",
    "    print(model_row)"
   ],
   "metadata": {
    "collapsed": false,
    "ExecuteTime": {
     "end_time": "2023-09-08T00:54:27.407243Z",
     "start_time": "2023-09-07T16:03:09.524446Z"
    }
   }
  },
  {
   "cell_type": "code",
   "execution_count": 4,
   "outputs": [
    {
     "name": "stdout",
     "output_type": "stream",
     "text": [
      "File successfully written to: ./results/fishes_distances.csv\n",
      "File successfully written to: ./results/fishes_f1_score.csv\n"
     ]
    }
   ],
   "source": [
    "import csv\n",
    "\n",
    "file_path = \"./results/fishes_distances.csv\"\n",
    "with open(file_path, mode=\"w\") as file:\n",
    "    writer = csv.writer(file)\n",
    "    for item in distance_results:\n",
    "        writer.writerow(item)\n",
    "    print(f\"File successfully written to: {file_path}\")\n",
    "\n",
    "file_path = \"./results/fishes_f1_score.csv\"\n",
    "with open(file_path, mode=\"w\") as file:\n",
    "    writer = csv.writer(file)\n",
    "    for item in model_results:\n",
    "        writer.writerow(item)\n",
    "    print(f\"File successfully written to: {file_path}\")"
   ],
   "metadata": {
    "collapsed": false,
    "ExecuteTime": {
     "end_time": "2023-09-08T00:54:27.613094Z",
     "start_time": "2023-09-08T00:54:27.212528Z"
    }
   }
  },
  {
   "cell_type": "code",
   "execution_count": null,
   "outputs": [],
   "source": [],
   "metadata": {
    "collapsed": false
   }
  }
 ],
 "metadata": {
  "kernelspec": {
   "display_name": "Python 3",
   "language": "python",
   "name": "python3"
  },
  "language_info": {
   "codemirror_mode": {
    "name": "ipython",
    "version": 2
   },
   "file_extension": ".py",
   "mimetype": "text/x-python",
   "name": "python",
   "nbconvert_exporter": "python",
   "pygments_lexer": "ipython2",
   "version": "2.7.6"
  }
 },
 "nbformat": 4,
 "nbformat_minor": 0
}
