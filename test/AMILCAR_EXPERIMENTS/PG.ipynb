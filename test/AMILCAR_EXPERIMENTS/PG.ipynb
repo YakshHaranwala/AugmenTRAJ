{
 "cells": [
  {
   "cell_type": "code",
   "execution_count": 1,
   "outputs": [],
   "source": [
    "import numpy as np\n",
    "import pandas as pd\n",
    "from ptrail.core.TrajectoryDF import PTRAILDataFrame\n",
    "from ptrail.features.kinematic_features import KinematicFeatures\n",
    "from ptrail.core.Datasets import Datasets\n",
    "from ptrail.preprocessing.statistics import Statistics\n",
    "\n",
    "from sklearn.ensemble import RandomForestClassifier, ExtraTreesClassifier, GradientBoostingClassifier\n",
    "from sklearn.preprocessing import MinMaxScaler\n",
    "from TestUtils.test_utils import TestUtils\n",
    "from src.selection.select import Selection\n",
    "from src.utils.general_utils import Utilities\n",
    "import datetime"
   ],
   "metadata": {
    "collapsed": false,
    "ExecuteTime": {
     "end_time": "2023-09-04T15:35:31.850389389Z",
     "start_time": "2023-09-04T15:35:30.375352273Z"
    }
   }
  },
  {
   "cell_type": "code",
   "execution_count": 2,
   "outputs": [
    {
     "name": "stderr",
     "output_type": "stream",
     "text": [
      "/home/yjharanwala/anaconda3/envs/PreprocessingLibrary/lib/python3.8/site-packages/ptrail/core/TrajectoryDF.py:161: FutureWarning: Using .astype to convert from timezone-aware dtype to timezone-naive dtype is deprecated and will raise in a future version.  Use obj.tz_localize(None) or obj.tz_convert('UTC').tz_localize(None) instead\n",
      "  data[const.DateTime] = data[const.DateTime].astype('datetime64[ns]')\n"
     ]
    },
    {
     "data": {
      "text/plain": "                                   lat        lon  Species    Distance\ntraj_id DateTime                                                      \n1058    2013-01-04 05:05:00  -5.256800  71.657683        1         NaN\n        2013-01-05 18:27:00  -5.256800  71.657683        1    0.000000\n        2013-01-05 18:29:00  -5.256800  71.657683        1    0.000000\n        2013-01-05 18:33:00  -5.256800  71.657683        1    0.000000\n        2013-01-06 04:52:00  -5.256800  71.657683        1    0.000000\n...                                ...        ...      ...         ...\nt4961   2011-12-11 04:00:00  48.561960 -53.889830        0    0.000000\n        2011-12-11 05:00:00  48.562427 -53.890549        0   74.170844\n        2011-12-11 06:00:00  48.564111 -53.890225        0  188.663850\n        2011-12-11 07:00:00  48.564644 -53.889088        0  102.582900\n        2011-12-11 10:00:00  48.565630 -53.879400        0  721.278584\n\n[519162 rows x 4 columns]",
      "text/html": "<div>\n<style scoped>\n    .dataframe tbody tr th:only-of-type {\n        vertical-align: middle;\n    }\n\n    .dataframe tbody tr th {\n        vertical-align: top;\n    }\n\n    .dataframe thead th {\n        text-align: right;\n    }\n</style>\n<table border=\"1\" class=\"dataframe\">\n  <thead>\n    <tr style=\"text-align: right;\">\n      <th></th>\n      <th></th>\n      <th>lat</th>\n      <th>lon</th>\n      <th>Species</th>\n      <th>Distance</th>\n    </tr>\n    <tr>\n      <th>traj_id</th>\n      <th>DateTime</th>\n      <th></th>\n      <th></th>\n      <th></th>\n      <th></th>\n    </tr>\n  </thead>\n  <tbody>\n    <tr>\n      <th rowspan=\"5\" valign=\"top\">1058</th>\n      <th>2013-01-04 05:05:00</th>\n      <td>-5.256800</td>\n      <td>71.657683</td>\n      <td>1</td>\n      <td>NaN</td>\n    </tr>\n    <tr>\n      <th>2013-01-05 18:27:00</th>\n      <td>-5.256800</td>\n      <td>71.657683</td>\n      <td>1</td>\n      <td>0.000000</td>\n    </tr>\n    <tr>\n      <th>2013-01-05 18:29:00</th>\n      <td>-5.256800</td>\n      <td>71.657683</td>\n      <td>1</td>\n      <td>0.000000</td>\n    </tr>\n    <tr>\n      <th>2013-01-05 18:33:00</th>\n      <td>-5.256800</td>\n      <td>71.657683</td>\n      <td>1</td>\n      <td>0.000000</td>\n    </tr>\n    <tr>\n      <th>2013-01-06 04:52:00</th>\n      <td>-5.256800</td>\n      <td>71.657683</td>\n      <td>1</td>\n      <td>0.000000</td>\n    </tr>\n    <tr>\n      <th>...</th>\n      <th>...</th>\n      <td>...</td>\n      <td>...</td>\n      <td>...</td>\n      <td>...</td>\n    </tr>\n    <tr>\n      <th rowspan=\"5\" valign=\"top\">t4961</th>\n      <th>2011-12-11 04:00:00</th>\n      <td>48.561960</td>\n      <td>-53.889830</td>\n      <td>0</td>\n      <td>0.000000</td>\n    </tr>\n    <tr>\n      <th>2011-12-11 05:00:00</th>\n      <td>48.562427</td>\n      <td>-53.890549</td>\n      <td>0</td>\n      <td>74.170844</td>\n    </tr>\n    <tr>\n      <th>2011-12-11 06:00:00</th>\n      <td>48.564111</td>\n      <td>-53.890225</td>\n      <td>0</td>\n      <td>188.663850</td>\n    </tr>\n    <tr>\n      <th>2011-12-11 07:00:00</th>\n      <td>48.564644</td>\n      <td>-53.889088</td>\n      <td>0</td>\n      <td>102.582900</td>\n    </tr>\n    <tr>\n      <th>2011-12-11 10:00:00</th>\n      <td>48.565630</td>\n      <td>-53.879400</td>\n      <td>0</td>\n      <td>721.278584</td>\n    </tr>\n  </tbody>\n</table>\n<p>519162 rows × 4 columns</p>\n</div>"
     },
     "execution_count": 2,
     "metadata": {},
     "output_type": "execute_result"
    }
   ],
   "source": [
    "df = pd.read_csv('../datasets/fishes.csv', engine='python')\n",
    "df['DateTime'] = pd.to_datetime(df['DateTime'], format='%Y-%m-%d %H:%M:%S.%f', utc=True)\n",
    "fishes_dataset = PTRAILDataFrame(data_set=df,\n",
    "                                 traj_id='traj_id',\n",
    "                                 datetime='DateTime',\n",
    "                                 latitude='lat',\n",
    "                                 longitude='lon')\n",
    "ready_dataset = KinematicFeatures.create_distance_column(fishes_dataset)\n",
    "ready_dataset"
   ],
   "metadata": {
    "collapsed": false,
    "ExecuteTime": {
     "end_time": "2023-09-04T15:35:35.347100638Z",
     "start_time": "2023-09-04T15:35:32.188351880Z"
    }
   }
  },
  {
   "cell_type": "code",
   "execution_count": null,
   "outputs": [],
   "source": [
    "seed_generator = Utilities.generate_pi_seed(1)\n",
    "seed_vals = [next(seed_generator) for i in range(1)]\n",
    "shake_percentages = [0.2, 0.4, 0.6]\n",
    "circle_methods = ['on', 'in']\n",
    "ml_models = [ExtraTreesClassifier(), GradientBoostingClassifier(), RandomForestClassifier()]\n",
    "scaler = MinMaxScaler((0, 1))\n",
    "\n",
    "distance_results = [[\"seed\", \"on_20%_dist\", \"on_20%_std\", \"on_40%_dist\", \"on_40%_std\", \"on_60%_dist\", \"on_60%_std\",\n",
    "                    \"in_20%_dist\",\"in_20%_std\",\"in_40%_dist\",\"in_40%_std\",\"in_60%_dist\",\"in_60%_std\"]]\n",
    "\n",
    "model_results = [[\"seed\", \"model\", \"baseline\", \"in_20%_f1\", \"in_40%_f1\", \"in_60%_f1\", \"on_20%_f1\", \"on_40%_f1\", \"on_60%_f1\"]]\n",
    "\n",
    "for seed in seed_vals:\n",
    "    # Intermediate lists for storing distance and model score values.\n",
    "    distance_row = [seed]\n",
    "\n",
    "    # Set apart 20% data for testing that augmentation process will never see.\n",
    "    train, test_x, test_y = TestUtils.get_test_train_data(dataset=ready_dataset, seed_val=seed,\n",
    "                                                          class_col='Species', k=0.8)\n",
    "\n",
    "    model_row = TestUtils.create_model_row(seed, ml_models, \"Species\", train, test_x, test_y)\n",
    "    for shake in shake_percentages:\n",
    "        for method in circle_methods:\n",
    "            # Randomly select 30% of trajectories to be augmented.\n",
    "            selected = Selection.select_randomly(train, seed, k=0.3)\n",
    "\n",
    "            # Augment the trajectories.\n",
    "            train_x, train_y = TestUtils.augment_trajectories_using_random_strategy(dataset=train,\n",
    "                                                                                    percent_to_shake=shake,\n",
    "                                                                                    ids_to_augment=selected,\n",
    "                                                                                    circle=method,\n",
    "                                                                                    n_augmentations=1,\n",
    "                                                                                    class_col=\"Species\")\n",
    "            mean, std = TestUtils.find_original_and_augmentation_pairs_and_calculate_differences(train_x, selected)\n",
    "            distance_row.append(mean)\n",
    "            distance_row.append(std)\n",
    "\n",
    "            for i in range(len(ml_models)):\n",
    "                f1_score = TestUtils.train_model_and_evaluate(ml_models[i], scaler.fit_transform(train_x), train_y,\n",
    "                                                              scaler.fit_transform(test_x), test_y, seed)\n",
    "                model_row[i].append(f1_score)\n",
    "\n",
    "    model_results.extend(model_row)\n",
    "    distance_results.append(distance_row)\n",
    "\n",
    "    print(model_row)"
   ],
   "metadata": {
    "collapsed": false,
    "is_executing": true,
    "ExecuteTime": {
     "start_time": "2023-09-04T15:36:46.037722704Z"
    }
   }
  }
 ],
 "metadata": {
  "kernelspec": {
   "display_name": "Python 3",
   "language": "python",
   "name": "python3"
  },
  "language_info": {
   "codemirror_mode": {
    "name": "ipython",
    "version": 2
   },
   "file_extension": ".py",
   "mimetype": "text/x-python",
   "name": "python",
   "nbconvert_exporter": "python",
   "pygments_lexer": "ipython2",
   "version": "2.7.6"
  }
 },
 "nbformat": 4,
 "nbformat_minor": 0
}
