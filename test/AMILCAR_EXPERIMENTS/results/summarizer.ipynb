{
 "cells": [
  {
   "cell_type": "code",
   "execution_count": 38,
   "outputs": [],
   "source": [
    "import pandas as pd\n",
    "from ptrail.core.Datasets import Datasets\n",
    "import warnings\n",
    "\n",
    "warnings.simplefilter(\"ignore\", pd.errors.DtypeWarning)"
   ],
   "metadata": {
    "collapsed": false,
    "ExecuteTime": {
     "end_time": "2023-09-14T13:19:01.778688Z",
     "start_time": "2023-09-14T13:18:58.608588Z"
    }
   },
   "id": "f2d2ce38f080ffdc"
  },
  {
   "cell_type": "code",
   "execution_count": 39,
   "outputs": [
    {
     "name": "stdout",
     "output_type": "stream",
     "text": [
      "Total Number of Points: 528488\n",
      "Number of unique trajectories: 58\n"
     ]
    },
    {
     "data": {
      "text/plain": "Species\nGoose      22\nGulls      14\nVulture    22\nName: traj_id, dtype: int64"
     },
     "execution_count": 39,
     "metadata": {},
     "output_type": "execute_result"
    }
   ],
   "source": [
    "# References:\n",
    "goose = \"https://datarepository.movebank.org/entities/datapackage/2e9dace9-88e3-4504-9b5a-08954861c5c2\"\n",
    "gulls = \"https://datadryad.org/stash/dataset/doi:10.5061/dryad.539m2\"\n",
    "vultures = \"https://datarepository.movebank.org/handle/10255/move.572\"\n",
    "\n",
    "# Stats\n",
    "birds = pd.read_csv(\"../../datasets/birds.csv\")\n",
    "birds.Species = birds.Species.map({0: \"Goose\", 1: \"Gulls\", 2: \"Vulture\"})\n",
    "print(f\"Total Number of Points: {len(birds)}\")\n",
    "print(f\"Number of unique trajectories: {birds.traj_id.nunique()}\")\n",
    "birds.groupby(\"Species\").traj_id.nunique()"
   ],
   "metadata": {
    "collapsed": false,
    "ExecuteTime": {
     "end_time": "2023-09-14T13:19:02.535289Z",
     "start_time": "2023-09-14T13:19:01.783632Z"
    }
   },
   "id": "8508a9e1f0e56468"
  },
  {
   "cell_type": "code",
   "execution_count": 40,
   "outputs": [
    {
     "name": "stdout",
     "output_type": "stream",
     "text": [
      "Total Number of Points: 355181\n",
      "Number of unique trajectories: 36\n"
     ]
    },
    {
     "data": {
      "text/plain": "mode_of_transport\nairplane     4\nboat         3\nsubway      22\ntaxi        27\nName: traj_id, dtype: int64"
     },
     "execution_count": 40,
     "metadata": {},
     "output_type": "execute_result"
    }
   ],
   "source": [
    "# References\n",
    "gl = \"https://www.microsoft.com/en-us/download/details.aspx?id=52367\"\n",
    "paper = \"https://www.microsoft.com/en-us/research/publication/learning-transportation-mode-from-raw-gps-data-for-geographic-application-on-the-web/?from=https://research.microsoft.com/apps/pubs/?id=78567&type=exact\"\n",
    "\n",
    "# Stats\n",
    "geolife = pd.read_csv(\"../../datasets/geolife.csv\")\n",
    "geolife.mode_of_transport = geolife.mode_of_transport.map({0: \"subway\", 1: \"taxi\", 2: \"airplane\", 3: \"boat\"})\n",
    "print(f\"Total Number of Points: {len(geolife)}\")\n",
    "print(f\"Number of unique trajectories: {geolife.traj_id.nunique()}\")\n",
    "geolife.groupby(\"mode_of_transport\").traj_id.nunique()"
   ],
   "metadata": {
    "collapsed": false,
    "ExecuteTime": {
     "end_time": "2023-09-14T13:19:03.138371Z",
     "start_time": "2023-09-14T13:19:02.713925Z"
    }
   },
   "id": "be62d76f3b865a6e"
  },
  {
   "cell_type": "code",
   "execution_count": 44,
   "outputs": [
    {
     "name": "stdout",
     "output_type": "stream",
     "text": [
      "------------------------ Dataset Facts ------------------------------\n",
      "\n",
      "Number of unique Trajectories in the data: 125\n",
      "Number of points in the data: 44905\n",
      "Dataset time range: 0 days 00:00:59.900000\n",
      "Datatype of the DataFrame: <class 'ptrail.core.TrajectoryDF.PTRAILDataFrame'>\n",
      "Dataset Bounding Box: (34.7107417, 135.4640652, 34.7156517, 135.4702002)\n",
      "\n",
      "---------------------------------------------------------------------\n"
     ]
    },
    {
     "data": {
      "text/plain": "vehicle_type\nlarge vehicle      13\nnormal vehicle    112\nName: traj_id, dtype: int64"
     },
     "execution_count": 44,
     "metadata": {},
     "output_type": "execute_result"
    }
   ],
   "source": [
    "# Reference\n",
    "traffic_ref = \"https://zen-traffic-data.net/english/citation/\"\n",
    "\n",
    "# Stats\n",
    "traffic = Datasets.load_traffic_data().reset_index()\n",
    "traffic.vehicle_type = traffic.vehicle_type.map({1: \"normal vehicle\", 2: \"large vehicle\"})\n",
    "traffic.groupby(\"vehicle_type\").traj_id.nunique()"
   ],
   "metadata": {
    "collapsed": false,
    "ExecuteTime": {
     "end_time": "2023-09-14T13:23:51.884550Z",
     "start_time": "2023-09-14T13:23:51.371417Z"
    }
   },
   "id": "7ad564d381441e60"
  },
  {
   "cell_type": "code",
   "execution_count": 60,
   "outputs": [
    {
     "name": "stdout",
     "output_type": "stream",
     "text": [
      "Total Number of Points: 229657\n",
      "Number of unique trajectories: 66\n"
     ]
    },
    {
     "data": {
      "text/plain": "sex\nF    38\nM    28\nName: fox_id, dtype: int64"
     },
     "execution_count": 60,
     "metadata": {},
     "output_type": "execute_result"
    }
   ],
   "source": [
    "# Reference\n",
    "fox_ref = \"https://datadryad.org/stash/dataset/doi:10.5061/dryad.b56d4\"\n",
    "\n",
    "# Stats\n",
    "foxes = pd.read_csv(\"../../datasets/foxes.csv\")\n",
    "print(f\"Total Number of Points: {len(foxes)}\")\n",
    "print(f\"Number of unique trajectories: {foxes.fox_id.nunique()}\")\n",
    "foxes.groupby(\"sex\").fox_id.nunique()"
   ],
   "metadata": {
    "collapsed": false,
    "ExecuteTime": {
     "end_time": "2023-09-14T13:35:38.023528Z",
     "start_time": "2023-09-14T13:35:37.721265Z"
    }
   },
   "id": "3b45305a37d59356"
  },
  {
   "cell_type": "code",
   "execution_count": 65,
   "outputs": [
    {
     "name": "stdout",
     "output_type": "stream",
     "text": [
      "------------------------ Dataset Facts ------------------------------\n",
      "\n",
      "Number of unique Trajectories in the data: 253\n",
      "Number of points in the data: 287136\n",
      "Dataset time range: 1196 days 22:51:45\n",
      "Datatype of the DataFrame: <class 'ptrail.core.TrajectoryDF.PTRAILDataFrame'>\n",
      "Dataset Bounding Box: (45.18896978643169, -118.61020848239596, 45.314545642992, -118.50455596234036)\n",
      "\n",
      "---------------------------------------------------------------------\n"
     ]
    },
    {
     "data": {
      "text/plain": "Species\ncattle     74\ndeer       51\nelk       128\nName: traj_id, dtype: int64"
     },
     "execution_count": 65,
     "metadata": {},
     "output_type": "execute_result"
    }
   ],
   "source": [
    "# Reference\n",
    "starkey_ref = \"Wisdom, Michael J., ed. The Starkey Project: a synthesis of long-term studies of elk and mule deer. Alliance Communications Group, 2005.\"\n",
    "\n",
    "# Stats\n",
    "starkey = Datasets.load_starkey().reset_index()\n",
    "starkey.Species = starkey.Species.map({0: \"deer\", 1: \"elk\", 2: \"cattle\"})\n",
    "starkey.groupby(\"Species\").traj_id.nunique()"
   ],
   "metadata": {
    "collapsed": false,
    "ExecuteTime": {
     "end_time": "2023-09-14T13:58:00.729680Z",
     "start_time": "2023-09-14T13:57:57.641369Z"
    }
   },
   "id": "d01af568e11a45dc"
  }
 ],
 "metadata": {
  "kernelspec": {
   "display_name": "Python 3",
   "language": "python",
   "name": "python3"
  },
  "language_info": {
   "codemirror_mode": {
    "name": "ipython",
    "version": 2
   },
   "file_extension": ".py",
   "mimetype": "text/x-python",
   "name": "python",
   "nbconvert_exporter": "python",
   "pygments_lexer": "ipython2",
   "version": "2.7.6"
  }
 },
 "nbformat": 4,
 "nbformat_minor": 5
}
