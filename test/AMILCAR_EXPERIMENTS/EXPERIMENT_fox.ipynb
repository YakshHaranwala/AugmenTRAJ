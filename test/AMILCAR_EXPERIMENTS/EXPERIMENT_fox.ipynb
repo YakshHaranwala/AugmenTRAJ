{
 "cells": [
  {
   "cell_type": "code",
   "execution_count": 1,
   "metadata": {
    "collapsed": true,
    "ExecuteTime": {
     "end_time": "2023-08-30T18:34:57.813163587Z",
     "start_time": "2023-08-30T18:34:56.287370225Z"
    }
   },
   "outputs": [],
   "source": [
    "import numpy as np\n",
    "import pandas as pd\n",
    "from ptrail.core.TrajectoryDF import PTRAILDataFrame\n",
    "from ptrail.features.kinematic_features import KinematicFeatures\n",
    "from ptrail.core.Datasets import Datasets\n",
    "from ptrail.preprocessing.statistics import Statistics\n",
    "\n",
    "from sklearn.ensemble import RandomForestClassifier, ExtraTreesClassifier, GradientBoostingClassifier\n",
    "from sklearn.preprocessing import MinMaxScaler\n",
    "from src.utils.test_utils import TestUtils\n",
    "from src.selection.select import Selection\n",
    "from src.utils.general_utils import Utilities"
   ]
  },
  {
   "cell_type": "code",
   "execution_count": 2,
   "outputs": [
    {
     "data": {
      "text/plain": "                             sex       lat       lon     Distance\ntraj_id DateTime                                                 \n116     2008-07-04 07:16:38    1  72.88011 -79.77515          NaN\n        2008-07-04 08:54:58    1  72.89021 -79.77214  1127.379764\n        2008-07-04 10:40:11    1  72.87635 -79.72306  2226.018587\n        2008-07-04 12:19:30    1  72.87701 -79.73571   420.601042\n        2008-07-04 13:17:31    1  72.87414 -79.85453  3903.363864\n...                          ...       ...       ...          ...\n432     2013-05-31 15:17:27    1  73.11727 -80.03025   712.059619\n        2013-05-31 15:24:57    1  73.11761 -80.04005   318.714045\n        2013-05-31 15:42:27    1  73.12072 -80.05039   480.683897\n        2013-05-31 16:56:27    1  73.12214 -80.07021   659.078302\n        2013-05-31 17:02:27    1  73.11582 -80.04508  1073.443829\n\n[229657 rows x 4 columns]",
      "text/html": "<div>\n<style scoped>\n    .dataframe tbody tr th:only-of-type {\n        vertical-align: middle;\n    }\n\n    .dataframe tbody tr th {\n        vertical-align: top;\n    }\n\n    .dataframe thead th {\n        text-align: right;\n    }\n</style>\n<table border=\"1\" class=\"dataframe\">\n  <thead>\n    <tr style=\"text-align: right;\">\n      <th></th>\n      <th></th>\n      <th>sex</th>\n      <th>lat</th>\n      <th>lon</th>\n      <th>Distance</th>\n    </tr>\n    <tr>\n      <th>traj_id</th>\n      <th>DateTime</th>\n      <th></th>\n      <th></th>\n      <th></th>\n      <th></th>\n    </tr>\n  </thead>\n  <tbody>\n    <tr>\n      <th rowspan=\"5\" valign=\"top\">116</th>\n      <th>2008-07-04 07:16:38</th>\n      <td>1</td>\n      <td>72.88011</td>\n      <td>-79.77515</td>\n      <td>NaN</td>\n    </tr>\n    <tr>\n      <th>2008-07-04 08:54:58</th>\n      <td>1</td>\n      <td>72.89021</td>\n      <td>-79.77214</td>\n      <td>1127.379764</td>\n    </tr>\n    <tr>\n      <th>2008-07-04 10:40:11</th>\n      <td>1</td>\n      <td>72.87635</td>\n      <td>-79.72306</td>\n      <td>2226.018587</td>\n    </tr>\n    <tr>\n      <th>2008-07-04 12:19:30</th>\n      <td>1</td>\n      <td>72.87701</td>\n      <td>-79.73571</td>\n      <td>420.601042</td>\n    </tr>\n    <tr>\n      <th>2008-07-04 13:17:31</th>\n      <td>1</td>\n      <td>72.87414</td>\n      <td>-79.85453</td>\n      <td>3903.363864</td>\n    </tr>\n    <tr>\n      <th>...</th>\n      <th>...</th>\n      <td>...</td>\n      <td>...</td>\n      <td>...</td>\n      <td>...</td>\n    </tr>\n    <tr>\n      <th rowspan=\"5\" valign=\"top\">432</th>\n      <th>2013-05-31 15:17:27</th>\n      <td>1</td>\n      <td>73.11727</td>\n      <td>-80.03025</td>\n      <td>712.059619</td>\n    </tr>\n    <tr>\n      <th>2013-05-31 15:24:57</th>\n      <td>1</td>\n      <td>73.11761</td>\n      <td>-80.04005</td>\n      <td>318.714045</td>\n    </tr>\n    <tr>\n      <th>2013-05-31 15:42:27</th>\n      <td>1</td>\n      <td>73.12072</td>\n      <td>-80.05039</td>\n      <td>480.683897</td>\n    </tr>\n    <tr>\n      <th>2013-05-31 16:56:27</th>\n      <td>1</td>\n      <td>73.12214</td>\n      <td>-80.07021</td>\n      <td>659.078302</td>\n    </tr>\n    <tr>\n      <th>2013-05-31 17:02:27</th>\n      <td>1</td>\n      <td>73.11582</td>\n      <td>-80.04508</td>\n      <td>1073.443829</td>\n    </tr>\n  </tbody>\n</table>\n<p>229657 rows × 4 columns</p>\n</div>"
     },
     "execution_count": 2,
     "metadata": {},
     "output_type": "execute_result"
    }
   ],
   "source": [
    "foxes_dataset = PTRAILDataFrame(data_set=pd.read_csv('../TestUtils/foxes.csv'),\n",
    "                                traj_id='fox_id',\n",
    "                                datetime='dateloc',\n",
    "                                latitude='latitude',\n",
    "                                longitude='longitude')\n",
    "ready_dataset = KinematicFeatures.create_distance_column(foxes_dataset)\n",
    "ready_dataset"
   ],
   "metadata": {
    "collapsed": false,
    "ExecuteTime": {
     "end_time": "2023-08-30T18:34:58.451126991Z",
     "start_time": "2023-08-30T18:34:57.816755118Z"
    }
   }
  },
  {
   "cell_type": "code",
   "execution_count": 3,
   "outputs": [
    {
     "name": "stdout",
     "output_type": "stream",
     "text": [
      "[[1415, 'ExtraTreesClassifier', 0.492, 0.3468, 0.5026, 0.3468, 0.5714, 0.3429, 0.6447], [1415, 'GradientBoostingClassifier', 0.5026, 0.4032, 0.6447, 0.5524, 0.5714, 0.5524, 0.5714], [1415, 'RandomForestClassifier', 0.5714, 0.3468, 0.5026, 0.492, 0.5026, 0.492, 0.5714]]\n",
      "[[9265, 'ExtraTreesClassifier', 0.3468, 0.5524, 0.3429, 0.6714, 0.5714, 0.7669, 0.6714], [9265, 'GradientBoostingClassifier', 0.4286, 0.6371, 0.492, 0.5578, 0.5071, 0.7669, 0.5578], [9265, 'RandomForestClassifier', 0.2857, 0.5524, 0.3604, 0.6714, 0.7669, 0.7669, 0.6714]]\n",
      "[[3589, 'ExtraTreesClassifier', 0.2857, 0.4794, 0.4087, 0.6599, 0.5439, 0.6599, 0.4714], [3589, 'GradientBoostingClassifier', 0.2113, 0.4794, 0.4135, 0.4794, 0.5401, 0.4794, 0.4643], [3589, 'RandomForestClassifier', 0.2857, 0.5401, 0.4087, 0.4087, 0.5401, 0.4087, 0.3304]]\n",
      "[[7932, 'ExtraTreesClassifier', 0.492, 0.4561, 0.3008, 0.5524, 0.492, 0.4561, 0.3468], [7932, 'GradientBoostingClassifier', 0.5714, 0.7868, 0.5026, 0.5026, 0.5026, 0.5714, 0.5714], [7932, 'RandomForestClassifier', 0.5524, 0.492, 0.5026, 0.5714, 0.4923, 0.5714, 0.4923]]\n",
      "[[3846, 'ExtraTreesClassifier', 0.4286, 0.4561, 0.3008, 0.3429, 0.3429, 0.3429, 0.254], [3846, 'GradientBoostingClassifier', 0.3473, 0.5026, 0.6447, 0.3429, 0.4032, 0.4561, 0.5524], [3846, 'RandomForestClassifier', 0.254, 0.3429, 0.6374, 0.4561, 0.5026, 0.381, 0.4032]]\n",
      "[[2643, 'ExtraTreesClassifier', 0.3977, 0.3524, 0.5143, 0.1905, 0.5714, 0.3056, 0.6447], [2643, 'GradientBoostingClassifier', 0.7143, 0.5714, 0.4286, 0.5026, 0.3468, 0.5714, 0.2857], [2643, 'RandomForestClassifier', 0.4923, 0.3473, 0.4286, 0.3056, 0.4286, 0.3056, 0.3056]]\n",
      "[[3832, 'ExtraTreesClassifier', 0.4872, 0.285, 0.285, 0.1587, 0.2411, 0.1587, 0.3929], [3832, 'GradientBoostingClassifier', 0.5714, 0.5077, 0.4405, 0.4405, 0.5714, 0.5804, 0.4872], [3832, 'RandomForestClassifier', 0.5714, 0.285, 0.5714, 0.1587, 0.4872, 0.4872, 0.5714]]\n",
      "[[7950, 'ExtraTreesClassifier', 0.4405, 0.3383, 0.2411, 0.4286, 0.2264, 0.4854, 0.4286], [7950, 'GradientBoostingClassifier', 0.4286, 0.5804, 0.5804, 0.5804, 0.5714, 0.6486, 0.7202], [7950, 'RandomForestClassifier', 0.4286, 0.4286, 0.4872, 0.5714, 0.6486, 0.4854, 0.3929]]\n",
      "[[2884, 'ExtraTreesClassifier', 0.4286, 0.5714, 0.5714, 0.367, 0.3383, 0.367, 0.2269], [2884, 'GradientBoostingClassifier', 0.5804, 0.4854, 0.4286, 0.5393, 0.4854, 0.5393, 0.4854], [2884, 'RandomForestClassifier', 0.5804, 0.5077, 0.4854, 0.2857, 0.508, 0.5714, 0.508]]\n",
      "[[1971, 'ExtraTreesClassifier', 0.492, 0.4561, 0.4032, 0.4286, 0.254, 0.2857, 0.2857], [1971, 'GradientBoostingClassifier', 0.5536, 0.3468, 0.4032, 0.3468, 0.4032, 0.3468, 0.4032], [1971, 'RandomForestClassifier', 0.4286, 0.4032, 0.3468, 0.4032, 0.4032, 0.4032, 0.4032]]\n",
      "[[6939, 'ExtraTreesClassifier', 0.4923, 0.4032, 0.492, 0.4561, 0.3468, 0.4561, 0.2183], [6939, 'GradientBoostingClassifier', 0.492, 0.1905, 0.6374, 0.1905, 0.4923, 0.1513, 0.4923], [6939, 'RandomForestClassifier', 0.3473, 0.5026, 0.5714, 0.5714, 0.4923, 0.2857, 0.2857]]\n",
      "[[9375, 'ExtraTreesClassifier', 0.2708, 0.3262, 0.2857, 0.2708, 0.4286, 0.3778, 0.3538], [9375, 'GradientBoostingClassifier', 0.3538, 0.3262, 0.3538, 0.6257, 0.2103, 0.3538, 0.2708], [9375, 'RandomForestClassifier', 0.125, 0.3262, 0.2857, 0.3262, 0.4286, 0.3778, 0.4286]]\n",
      "[[1058, 'ExtraTreesClassifier', 0.5333, 0.3262, 0.3262, 0.4974, 0.4167, 0.641, 0.4167], [1058, 'GradientBoostingClassifier', 0.4974, 0.7143, 0.5625, 0.5714, 0.4974, 0.641, 0.4974], [1058, 'RandomForestClassifier', 0.4759, 0.641, 0.4974, 0.7143, 0.4974, 0.7143, 0.5625]]\n",
      "[[2097, 'ExtraTreesClassifier', 0.2857, 0.645, 0.3383, 0.5031, 0.4286, 0.5031, 0.5031], [2097, 'GradientBoostingClassifier', 0.4286, 0.5031, 0.3383, 0.5031, 0.4286, 0.5031, 0.4286], [2097, 'RandomForestClassifier', 0.4854, 0.3857, 0.3383, 0.5031, 0.4286, 0.5031, 0.4675]]\n",
      "[[4944, 'ExtraTreesClassifier', 0.2708, 0.2222, 0.3778, 0.1765, 0.2708, 0.2222, 0.2632], [4944, 'GradientBoostingClassifier', 0.4974, 0.1429, 0.2857, 0.1429, 0.2857, 0.1429, 0.2857], [4944, 'RandomForestClassifier', 0.2857, 0.2708, 0.3778, 0.2103, 0.4974, 0.4167, 0.4974]]\n",
      "[[5923, 'ExtraTreesClassifier', 0.256, 0.1905, 0.1905, 0.1905, 0.1905, 0.1905, 0.1905], [5923, 'GradientBoostingClassifier', 0.256, 0.3473, 0.5714, 0.5714, 0.7143, 0.4286, 0.7143], [5923, 'RandomForestClassifier', 0.256, 0.4048, 0.5714, 0.4048, 0.5714, 0.4923, 0.5714]]\n",
      "[[781, 'ExtraTreesClassifier', 0.3778, 0.3262, 0.4759, 0.4167, 0.3778, 0.4167, 0.4167], [781, 'GradientBoostingClassifier', 0.4759, 0.2708, 0.4167, 0.3262, 0.4974, 0.3262, 0.4167], [781, 'RandomForestClassifier', 0.4167, 0.2632, 0.4167, 0.3262, 0.5714, 0.3262, 0.4759]]\n",
      "[[6406, 'ExtraTreesClassifier', 0.4286, 0.4675, 0.3383, 0.5031, 0.3857, 0.5031, 0.5031], [6406, 'GradientBoostingClassifier', 0.5714, 0.3857, 0.4286, 0.5077, 0.5714, 0.5393, 0.6324], [6406, 'RandomForestClassifier', 0.4854, 0.4286, 0.4286, 0.645, 0.4286, 0.645, 0.5393]]\n",
      "[[2862, 'ExtraTreesClassifier', 0.4759, 0.4759, 0.4759, 0.5625, 0.4167, 0.4759, 0.5714], [2862, 'GradientBoostingClassifier', 0.4759, 0.641, 0.5625, 0.4974, 0.5625, 0.4974, 0.641], [2862, 'RandomForestClassifier', 0.5714, 0.4974, 0.4269, 0.2708, 0.2222, 0.3538, 0.3262]]\n",
      "[[899, 'ExtraTreesClassifier', 0.4032, 0.4032, 0.3468, 0.4032, 0.4032, 0.4561, 0.3468], [899, 'GradientBoostingClassifier', 0.6115, 0.2857, 0.3473, 0.2183, 0.4286, 0.1429, 0.2022], [899, 'RandomForestClassifier', 0.3468, 0.3468, 0.3468, 0.4032, 0.2857, 0.3468, 0.2857]]\n"
     ]
    }
   ],
   "source": [
    "seed_generator = Utilities.generate_pi_seed(20)\n",
    "seed_vals = [next(seed_generator) for i in range(20)]\n",
    "shake_percentages = [0.2, 0.4, 0.6]\n",
    "circle_methods = ['on', 'in']\n",
    "ml_models = [ExtraTreesClassifier(), GradientBoostingClassifier(), RandomForestClassifier()]\n",
    "scaler = MinMaxScaler((0, 1))\n",
    "\n",
    "distance_results = [[\"seed\", \"on_20%_dist\", \"on_20%_std\", \"on_40%_dist\", \"on_40%_std\", \"on_60%_dist\", \"on_60%_std\",\n",
    "                    \"in_20%_dist\",\"in_20%_std\",\"in_40%_dist\",\"in_40%_std\",\"in_60%_dist\",\"in_60%_std\"]]\n",
    "\n",
    "model_results = [[\"seed\", \"model\", \"baseline\", \"in_20%_f1\", \"in_40%_f1\", \"in_60%_f1\", \"on_20%_f1\", \"on_40%_f1\", \"on_60%_f1\"]]\n",
    "\n",
    "for seed in seed_vals:\n",
    "    # Intermediate lists for storing distance and model score values.\n",
    "    distance_row = [seed]\n",
    "\n",
    "    # Set apart 20% data for testing that augmentation process will never see.\n",
    "    train, test_x, test_y = TestUtils.get_test_train_data(dataset=ready_dataset, seed_val=seed,\n",
    "                                                          class_col='sex', k=0.8)\n",
    "\n",
    "    model_row = TestUtils.create_model_row(seed, ml_models, \"sex\", train, test_x, test_y)\n",
    "    for shake in shake_percentages:\n",
    "        for method in circle_methods:\n",
    "            # Randomly select 30% of trajectories to be augmented.\n",
    "            selected = Selection.select_randomly(train, seed, k=0.3)\n",
    "\n",
    "            # Augment the trajectories.\n",
    "            train_x, train_y = TestUtils.augment_trajectories_using_random_strategy(dataset=train,\n",
    "                                                                                    percent_to_shake=shake,\n",
    "                                                                                    ids_to_augment=selected,\n",
    "                                                                                    circle=method,\n",
    "                                                                                    n_augmentations=20,\n",
    "                                                                                    class_col=\"sex\")\n",
    "            mean, std = TestUtils.find_original_and_augmentation_pairs_and_calculate_differences(train_x, selected)\n",
    "            distance_row.append(mean)\n",
    "            distance_row.append(std)\n",
    "\n",
    "            for i in range(len(ml_models)):\n",
    "                f1_score = TestUtils.train_model_and_evaluate(ml_models[i], scaler.fit_transform(train_x), train_y,\n",
    "                                                              scaler.fit_transform(test_x), test_y, seed)\n",
    "                model_row[i].append(f1_score)\n",
    "\n",
    "    model_results.extend(model_row)\n",
    "    distance_results.append(distance_row)\n",
    "\n",
    "    print(model_row)"
   ],
   "metadata": {
    "collapsed": false,
    "ExecuteTime": {
     "end_time": "2023-08-31T07:06:22.796958523Z",
     "start_time": "2023-08-30T18:34:58.457657605Z"
    }
   }
  },
  {
   "cell_type": "code",
   "execution_count": 4,
   "outputs": [
    {
     "name": "stdout",
     "output_type": "stream",
     "text": [
      "File successfully written to: ./fox_distances.csv\n",
      "File successfully written to: ./fox_f1_score.csv\n"
     ]
    }
   ],
   "source": [
    "import csv\n",
    "\n",
    "file_path = \"./fox_distances.csv\"\n",
    "with open(file_path, mode=\"w\") as file:\n",
    "    writer = csv.writer(file)\n",
    "    for item in distance_results:\n",
    "        writer.writerow(item)\n",
    "    print(f\"File successfully written to: {file_path}\")\n",
    "\n",
    "file_path = \"./fox_f1_score.csv\"\n",
    "with open(file_path, mode=\"w\") as file:\n",
    "    writer = csv.writer(file)\n",
    "    for item in model_results:\n",
    "        writer.writerow(item)\n",
    "    print(f\"File successfully written to: {file_path}\")"
   ],
   "metadata": {
    "collapsed": false,
    "ExecuteTime": {
     "end_time": "2023-08-31T07:06:22.797277789Z",
     "start_time": "2023-08-31T07:06:22.779407931Z"
    }
   }
  }
 ],
 "metadata": {
  "kernelspec": {
   "display_name": "Python 3",
   "language": "python",
   "name": "python3"
  },
  "language_info": {
   "codemirror_mode": {
    "name": "ipython",
    "version": 2
   },
   "file_extension": ".py",
   "mimetype": "text/x-python",
   "name": "python",
   "nbconvert_exporter": "python",
   "pygments_lexer": "ipython2",
   "version": "2.7.6"
  }
 },
 "nbformat": 4,
 "nbformat_minor": 0
}
