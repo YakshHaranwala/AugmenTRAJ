{
 "cells": [
  {
   "cell_type": "code",
   "execution_count": 1,
   "metadata": {
    "collapsed": true,
    "ExecuteTime": {
     "end_time": "2023-08-24T20:56:13.724314048Z",
     "start_time": "2023-08-24T20:56:10.972960137Z"
    }
   },
   "outputs": [],
   "source": [
    "import numpy as np\n",
    "import pandas as pd\n",
    "from ptrail.core.TrajectoryDF import PTRAILDataFrame\n",
    "from ptrail.features.kinematic_features import KinematicFeatures\n",
    "from ptrail.core.Datasets import Datasets\n",
    "from ptrail.preprocessing.statistics import Statistics\n",
    "\n",
    "from sklearn.ensemble import RandomForestClassifier, ExtraTreesClassifier, GradientBoostingClassifier\n",
    "from sklearn.preprocessing import MinMaxScaler\n",
    "from src.utils.test_utils import TestUtils\n",
    "from src.selection.select import Selection\n",
    "from src.utils.general_utils import Utilities"
   ]
  },
  {
   "cell_type": "code",
   "execution_count": 2,
   "outputs": [
    {
     "name": "stdout",
     "output_type": "stream",
     "text": [
      "------------------------ Dataset Facts ------------------------------\n",
      "\n",
      "Number of unique Trajectories in the data: 253\n",
      "Number of points in the data: 287136\n",
      "Dataset time range: 1196 days 22:51:45\n",
      "Datatype of the DataFrame: <class 'ptrail.core.TrajectoryDF.PTRAILDataFrame'>\n",
      "Dataset Bounding Box: (45.18896978643169, -118.61020848239596, 45.314545642992, -118.50455596234036)\n",
      "\n",
      "---------------------------------------------------------------------\n"
     ]
    },
    {
     "data": {
      "text/plain": "                                     lat         lon  StarkeyTime    GMDate  \\\ntraj_id   DateTime                                                            \n880109D01 1995-04-13 13:40:06  45.239682 -118.533204    229902006  21:40:06   \n          1995-04-15 12:16:15  45.250521 -118.530438    230069775  20:16:15   \n          1995-04-15 21:39:38  45.247943 -118.541455    230103578  05:39:38   \n          1995-04-16 03:32:14  45.247429 -118.539530    230124734  11:32:14   \n          1995-04-16 04:08:28  45.247117 -118.542579    230126908  12:08:28   \n...                                  ...         ...          ...       ...   \nOSUX93191 1996-08-15 06:51:06  45.220642 -118.543392    272213466  14:51:06   \n          1996-08-15 08:45:15  45.219785 -118.546807    272220315  16:45:15   \n          1996-08-15 10:36:54  45.219801 -118.545661    272227014  18:36:54   \n          1996-08-15 12:31:22  45.220268 -118.551024    272233882  20:31:22   \n          1996-08-15 14:25:58  45.222562 -118.541151    272240758  22:25:58   \n\n                                 GMTime   LocDate   LocTime  RadNum  Species  \\\ntraj_id   DateTime                                                             \n880109D01 1995-04-13 13:40:06  19950413  19950413  13:40:06     409        0   \n          1995-04-15 12:16:15  19950415  19950415  12:16:15     409        0   \n          1995-04-15 21:39:38  19950416  19950415  21:39:38     409        0   \n          1995-04-16 03:32:14  19950416  19950416  03:32:14     409        0   \n          1995-04-16 04:08:28  19950416  19950416  04:08:28     409        0   \n...                                 ...       ...       ...     ...      ...   \nOSUX93191 1996-08-15 06:51:06  19960815  19960815  06:51:06     390        2   \n          1996-08-15 08:45:15  19960815  19960815  08:45:15     390        2   \n          1996-08-15 10:36:54  19960815  19960815  10:36:54     390        2   \n          1996-08-15 12:31:22  19960815  19960815  12:31:22     390        2   \n          1996-08-15 14:25:58  19960815  19960815  14:25:58     390        2   \n\n                                 UTME     UTMN  Year  Grensunr  Grensuns  \\\ntraj_id   DateTime                                                         \n880109D01 1995-04-13 13:40:06  379662  5010734    95  13:13:00  02:39:00   \n          1995-04-15 12:16:15  379895  5011927    95  13:09:00  02:41:00   \n          1995-04-15 21:39:38  379039  5011656    95  13:07:00  02:43:00   \n          1995-04-16 03:32:14  379188  5011581    95  13:07:00  02:43:00   \n          1995-04-16 04:08:28  378938  5011567    95  13:07:00  02:43:00   \n...                               ...      ...   ...       ...       ...   \nOSUX93191 1996-08-15 06:51:06  378821  5008634    96  12:56:00  03:04:00   \n          1996-08-15 08:45:15  378568  5008518    96  12:56:00  03:04:00   \n          1996-08-15 10:36:54  378645  5008543    96  12:56:00  03:04:00   \n          1996-08-15 12:31:22  378232  5008600    96  12:56:00  03:04:00   \n          1996-08-15 14:25:58  378995  5008820    96  12:56:00  03:04:00   \n\n                               Obswt     Distance  \ntraj_id   DateTime                                 \n880109D01 1995-04-13 13:40:06   1.47          NaN  \n          1995-04-15 12:16:15   1.59  1224.551334  \n          1995-04-15 21:39:38   1.34   908.878736  \n          1995-04-16 03:32:14   1.50   161.204428  \n          1995-04-16 04:08:28   1.34   241.258531  \n...                              ...          ...  \nOSUX93191 1996-08-15 06:51:06   1.60   892.331554  \n          1996-08-15 08:45:15   1.39   283.975120  \n          1996-08-15 10:36:54   1.43    89.767305  \n          1996-08-15 12:31:22   1.53   423.187635  \n          1996-08-15 14:25:58   1.66   814.243109  \n\n[287136 rows x 16 columns]",
      "text/html": "<div>\n<style scoped>\n    .dataframe tbody tr th:only-of-type {\n        vertical-align: middle;\n    }\n\n    .dataframe tbody tr th {\n        vertical-align: top;\n    }\n\n    .dataframe thead th {\n        text-align: right;\n    }\n</style>\n<table border=\"1\" class=\"dataframe\">\n  <thead>\n    <tr style=\"text-align: right;\">\n      <th></th>\n      <th></th>\n      <th>lat</th>\n      <th>lon</th>\n      <th>StarkeyTime</th>\n      <th>GMDate</th>\n      <th>GMTime</th>\n      <th>LocDate</th>\n      <th>LocTime</th>\n      <th>RadNum</th>\n      <th>Species</th>\n      <th>UTME</th>\n      <th>UTMN</th>\n      <th>Year</th>\n      <th>Grensunr</th>\n      <th>Grensuns</th>\n      <th>Obswt</th>\n      <th>Distance</th>\n    </tr>\n    <tr>\n      <th>traj_id</th>\n      <th>DateTime</th>\n      <th></th>\n      <th></th>\n      <th></th>\n      <th></th>\n      <th></th>\n      <th></th>\n      <th></th>\n      <th></th>\n      <th></th>\n      <th></th>\n      <th></th>\n      <th></th>\n      <th></th>\n      <th></th>\n      <th></th>\n      <th></th>\n    </tr>\n  </thead>\n  <tbody>\n    <tr>\n      <th rowspan=\"5\" valign=\"top\">880109D01</th>\n      <th>1995-04-13 13:40:06</th>\n      <td>45.239682</td>\n      <td>-118.533204</td>\n      <td>229902006</td>\n      <td>21:40:06</td>\n      <td>19950413</td>\n      <td>19950413</td>\n      <td>13:40:06</td>\n      <td>409</td>\n      <td>0</td>\n      <td>379662</td>\n      <td>5010734</td>\n      <td>95</td>\n      <td>13:13:00</td>\n      <td>02:39:00</td>\n      <td>1.47</td>\n      <td>NaN</td>\n    </tr>\n    <tr>\n      <th>1995-04-15 12:16:15</th>\n      <td>45.250521</td>\n      <td>-118.530438</td>\n      <td>230069775</td>\n      <td>20:16:15</td>\n      <td>19950415</td>\n      <td>19950415</td>\n      <td>12:16:15</td>\n      <td>409</td>\n      <td>0</td>\n      <td>379895</td>\n      <td>5011927</td>\n      <td>95</td>\n      <td>13:09:00</td>\n      <td>02:41:00</td>\n      <td>1.59</td>\n      <td>1224.551334</td>\n    </tr>\n    <tr>\n      <th>1995-04-15 21:39:38</th>\n      <td>45.247943</td>\n      <td>-118.541455</td>\n      <td>230103578</td>\n      <td>05:39:38</td>\n      <td>19950416</td>\n      <td>19950415</td>\n      <td>21:39:38</td>\n      <td>409</td>\n      <td>0</td>\n      <td>379039</td>\n      <td>5011656</td>\n      <td>95</td>\n      <td>13:07:00</td>\n      <td>02:43:00</td>\n      <td>1.34</td>\n      <td>908.878736</td>\n    </tr>\n    <tr>\n      <th>1995-04-16 03:32:14</th>\n      <td>45.247429</td>\n      <td>-118.539530</td>\n      <td>230124734</td>\n      <td>11:32:14</td>\n      <td>19950416</td>\n      <td>19950416</td>\n      <td>03:32:14</td>\n      <td>409</td>\n      <td>0</td>\n      <td>379188</td>\n      <td>5011581</td>\n      <td>95</td>\n      <td>13:07:00</td>\n      <td>02:43:00</td>\n      <td>1.50</td>\n      <td>161.204428</td>\n    </tr>\n    <tr>\n      <th>1995-04-16 04:08:28</th>\n      <td>45.247117</td>\n      <td>-118.542579</td>\n      <td>230126908</td>\n      <td>12:08:28</td>\n      <td>19950416</td>\n      <td>19950416</td>\n      <td>04:08:28</td>\n      <td>409</td>\n      <td>0</td>\n      <td>378938</td>\n      <td>5011567</td>\n      <td>95</td>\n      <td>13:07:00</td>\n      <td>02:43:00</td>\n      <td>1.34</td>\n      <td>241.258531</td>\n    </tr>\n    <tr>\n      <th>...</th>\n      <th>...</th>\n      <td>...</td>\n      <td>...</td>\n      <td>...</td>\n      <td>...</td>\n      <td>...</td>\n      <td>...</td>\n      <td>...</td>\n      <td>...</td>\n      <td>...</td>\n      <td>...</td>\n      <td>...</td>\n      <td>...</td>\n      <td>...</td>\n      <td>...</td>\n      <td>...</td>\n      <td>...</td>\n    </tr>\n    <tr>\n      <th rowspan=\"5\" valign=\"top\">OSUX93191</th>\n      <th>1996-08-15 06:51:06</th>\n      <td>45.220642</td>\n      <td>-118.543392</td>\n      <td>272213466</td>\n      <td>14:51:06</td>\n      <td>19960815</td>\n      <td>19960815</td>\n      <td>06:51:06</td>\n      <td>390</td>\n      <td>2</td>\n      <td>378821</td>\n      <td>5008634</td>\n      <td>96</td>\n      <td>12:56:00</td>\n      <td>03:04:00</td>\n      <td>1.60</td>\n      <td>892.331554</td>\n    </tr>\n    <tr>\n      <th>1996-08-15 08:45:15</th>\n      <td>45.219785</td>\n      <td>-118.546807</td>\n      <td>272220315</td>\n      <td>16:45:15</td>\n      <td>19960815</td>\n      <td>19960815</td>\n      <td>08:45:15</td>\n      <td>390</td>\n      <td>2</td>\n      <td>378568</td>\n      <td>5008518</td>\n      <td>96</td>\n      <td>12:56:00</td>\n      <td>03:04:00</td>\n      <td>1.39</td>\n      <td>283.975120</td>\n    </tr>\n    <tr>\n      <th>1996-08-15 10:36:54</th>\n      <td>45.219801</td>\n      <td>-118.545661</td>\n      <td>272227014</td>\n      <td>18:36:54</td>\n      <td>19960815</td>\n      <td>19960815</td>\n      <td>10:36:54</td>\n      <td>390</td>\n      <td>2</td>\n      <td>378645</td>\n      <td>5008543</td>\n      <td>96</td>\n      <td>12:56:00</td>\n      <td>03:04:00</td>\n      <td>1.43</td>\n      <td>89.767305</td>\n    </tr>\n    <tr>\n      <th>1996-08-15 12:31:22</th>\n      <td>45.220268</td>\n      <td>-118.551024</td>\n      <td>272233882</td>\n      <td>20:31:22</td>\n      <td>19960815</td>\n      <td>19960815</td>\n      <td>12:31:22</td>\n      <td>390</td>\n      <td>2</td>\n      <td>378232</td>\n      <td>5008600</td>\n      <td>96</td>\n      <td>12:56:00</td>\n      <td>03:04:00</td>\n      <td>1.53</td>\n      <td>423.187635</td>\n    </tr>\n    <tr>\n      <th>1996-08-15 14:25:58</th>\n      <td>45.222562</td>\n      <td>-118.541151</td>\n      <td>272240758</td>\n      <td>22:25:58</td>\n      <td>19960815</td>\n      <td>19960815</td>\n      <td>14:25:58</td>\n      <td>390</td>\n      <td>2</td>\n      <td>378995</td>\n      <td>5008820</td>\n      <td>96</td>\n      <td>12:56:00</td>\n      <td>03:04:00</td>\n      <td>1.66</td>\n      <td>814.243109</td>\n    </tr>\n  </tbody>\n</table>\n<p>287136 rows × 16 columns</p>\n</div>"
     },
     "execution_count": 2,
     "metadata": {},
     "output_type": "execute_result"
    }
   ],
   "source": [
    "starkey_dataset = Datasets.load_starkey()\n",
    "ready_dataset = KinematicFeatures.create_distance_column(starkey_dataset)\n",
    "ready_dataset"
   ],
   "metadata": {
    "collapsed": false,
    "ExecuteTime": {
     "end_time": "2023-08-24T20:56:47.776825398Z",
     "start_time": "2023-08-24T20:56:13.731328494Z"
    }
   }
  },
  {
   "cell_type": "code",
   "execution_count": 3,
   "outputs": [
    {
     "name": "stdout",
     "output_type": "stream",
     "text": [
      "[[1415, 'ExtraTreesClassifier', 0.9005, 0.7641, 0.8381, 0.4812, 0.7985, 0.2784, 0.7534], [1415, 'GradientBoostingClassifier', 0.8555, 0.7076, 0.8557, 0.4953, 0.8574, 0.5394, 0.8347], [1415, 'RandomForestClassifier', 0.8779, 0.6846, 0.8813, 0.4084, 0.8163, 0.2893, 0.6839]]\n",
      "[[9265, 'ExtraTreesClassifier', 1.0, 0.891, 0.9405, 0.9184, 0.9413, 0.8763, 0.9801], [9265, 'GradientBoostingClassifier', 0.9231, 0.9016, 0.9431, 0.9046, 0.9236, 0.9015, 0.9431], [9265, 'RandomForestClassifier', 0.9801, 0.8998, 0.94, 0.8558, 0.9606, 0.9015, 0.9412]]\n",
      "[[3589, 'ExtraTreesClassifier', 0.8791, 0.8823, 0.8601, 0.8413, 0.8799, 0.8093, 0.8601], [3589, 'GradientBoostingClassifier', 0.7771, 0.8191, 0.8794, 0.7588, 0.8363, 0.7965, 0.7959], [3589, 'RandomForestClassifier', 0.8433, 0.8257, 0.8823, 0.8212, 0.7541, 0.7787, 0.8589]]\n",
      "[[7932, 'ExtraTreesClassifier', 0.8381, 0.635, 0.7472, 0.3431, 0.73, 0.2377, 0.5481], [7932, 'GradientBoostingClassifier', 0.7835, 0.6576, 0.8062, 0.4925, 0.7672, 0.5436, 0.7471], [7932, 'RandomForestClassifier', 0.8427, 0.7275, 0.8628, 0.3616, 0.8031, 0.2464, 0.5481]]\n",
      "[[3846, 'ExtraTreesClassifier', 0.8831, 0.7963, 0.8645, 0.7144, 0.8449, 0.7352, 0.7936], [3846, 'GradientBoostingClassifier', 0.7321, 0.7325, 0.7798, 0.806, 0.8019, 0.8059, 0.8161], [3846, 'RandomForestClassifier', 0.7937, 0.786, 0.7449, 0.7389, 0.8072, 0.7735, 0.7735]]\n",
      "[[2643, 'ExtraTreesClassifier', 0.9601, 0.488, 0.7635, 0.3587, 0.4862, 0.3717, 0.4084], [2643, 'GradientBoostingClassifier', 0.8346, 0.6558, 0.7956, 0.4216, 0.6804, 0.1425, 0.5853], [2643, 'RandomForestClassifier', 0.8898, 0.577, 0.7545, 0.4294, 0.4902, 0.3408, 0.5025]]\n",
      "[[3832, 'ExtraTreesClassifier', 0.9194, 0.8769, 0.8721, 0.939, 0.9161, 0.8788, 0.9161], [3832, 'GradientBoostingClassifier', 0.8939, 0.8926, 0.922, 0.8992, 0.9416, 0.8397, 0.9014], [3832, 'RandomForestClassifier', 0.9027, 0.9192, 0.9204, 0.9013, 0.9603, 0.9013, 0.8913]]\n",
      "[[7950, 'ExtraTreesClassifier', 0.9607, 0.4928, 0.82, 0.3057, 0.5582, 0.1674, 0.4542], [7950, 'GradientBoostingClassifier', 0.8686, 0.753, 0.8376, 0.4076, 0.6966, 0.0939, 0.5156], [7950, 'RandomForestClassifier', 0.9226, 0.455, 0.8887, 0.1975, 0.6482, 0.0804, 0.5056]]\n",
      "[[2884, 'ExtraTreesClassifier', 0.893, 0.766, 0.8676, 0.7645, 0.7492, 0.7679, 0.8231], [2884, 'GradientBoostingClassifier', 0.8652, 0.7895, 0.8285, 0.8801, 0.7699, 0.7843, 0.8244], [2884, 'RandomForestClassifier', 0.9206, 0.8072, 0.9194, 0.8521, 0.9194, 0.7653, 0.9194]]\n",
      "[[1971, 'ExtraTreesClassifier', 0.8563, 0.8568, 0.8749, 0.7737, 0.8749, 0.8393, 0.8317], [1971, 'GradientBoostingClassifier', 0.9203, 0.902, 0.8626, 0.8572, 0.8982, 0.8309, 0.8982], [1971, 'RandomForestClassifier', 0.8983, 0.8764, 0.8747, 0.8572, 0.8563, 0.8572, 0.8747]]\n",
      "[[6939, 'ExtraTreesClassifier', 0.92, 0.8589, 0.8977, 0.8489, 0.8975, 0.874, 0.8779], [6939, 'GradientBoostingClassifier', 0.8706, 0.9026, 0.9388, 0.8865, 0.9, 0.9194, 0.8741], [6939, 'RandomForestClassifier', 0.9026, 0.8797, 0.8806, 0.8797, 0.8985, 0.9026, 0.898]]\n",
      "[[9375, 'ExtraTreesClassifier', 0.8753, 0.7991, 0.8019, 0.7676, 0.8251, 0.7362, 0.7991], [9375, 'GradientBoostingClassifier', 0.8784, 0.75, 0.8069, 0.7031, 0.8081, 0.7669, 0.7813], [9375, 'RandomForestClassifier', 0.8799, 0.7507, 0.8277, 0.7959, 0.8498, 0.7032, 0.8498]]\n",
      "[[1058, 'ExtraTreesClassifier', 0.921, 0.7133, 0.8827, 0.7267, 0.8609, 0.3999, 0.7961], [1058, 'GradientBoostingClassifier', 0.8822, 0.8132, 0.8817, 0.7727, 0.88, 0.7707, 0.8569], [1058, 'RandomForestClassifier', 0.9019, 0.8133, 0.9019, 0.6285, 0.899, 0.2768, 0.7981]]\n",
      "[[2097, 'ExtraTreesClassifier', 0.9798, 0.4457, 0.7774, 0.3301, 0.4748, 0.2175, 0.4505], [2097, 'GradientBoostingClassifier', 0.9627, 0.7963, 0.8381, 0.6779, 0.8807, 0.3308, 0.7708], [2097, 'RandomForestClassifier', 0.9204, 0.5977, 0.7625, 0.2854, 0.6272, 0.2336, 0.2576]]\n",
      "[[4944, 'ExtraTreesClassifier', 0.9205, 0.8535, 0.897, 0.8482, 0.8743, 0.8723, 0.9188], [4944, 'GradientBoostingClassifier', 0.8818, 0.696, 0.8235, 0.6928, 0.803, 0.679, 0.784], [4944, 'RandomForestClassifier', 0.9408, 0.917, 0.9398, 0.8707, 0.9408, 0.8945, 0.8788]]\n",
      "[[5923, 'ExtraTreesClassifier', 0.9376, 0.8799, 0.9115, 0.8799, 0.8926, 0.8799, 0.8467], [5923, 'GradientBoostingClassifier', 0.7869, 0.8833, 0.8758, 0.8579, 0.8253, 0.9067, 0.8514], [5923, 'RandomForestClassifier', 0.9067, 0.8646, 0.8833, 0.8646, 0.8848, 0.8613, 0.879]]\n",
      "[[781, 'ExtraTreesClassifier', 0.8673, 0.8385, 0.8487, 0.7576, 0.8673, 0.3988, 0.8249], [781, 'GradientBoostingClassifier', 0.785, 0.6315, 0.8052, 0.6368, 0.8679, 0.6914, 0.8679], [781, 'RandomForestClassifier', 0.8149, 0.8485, 0.8418, 0.3901, 0.8491, 0.3605, 0.8674]]\n",
      "[[6406, 'ExtraTreesClassifier', 0.6996, 0.5479, 0.5501, 0.5184, 0.5786, 0.488, 0.5971], [6406, 'GradientBoostingClassifier', 0.6335, 0.6733, 0.6526, 0.6542, 0.6542, 0.5996, 0.7251], [6406, 'RandomForestClassifier', 0.719, 0.6282, 0.6282, 0.5775, 0.6282, 0.6542, 0.6706]]\n",
      "[[2862, 'ExtraTreesClassifier', 0.9403, 0.6117, 0.8102, 0.2926, 0.6737, 0.1943, 0.4052], [2862, 'GradientBoostingClassifier', 0.9014, 0.7002, 0.8446, 0.6381, 0.7728, 0.4555, 0.7169], [2862, 'RandomForestClassifier', 0.9207, 0.391, 0.7518, 0.1873, 0.4675, 0.1433, 0.4209]]\n",
      "[[899, 'ExtraTreesClassifier', 0.8647, 0.449, 0.6221, 0.2255, 0.401, 0.2353, 0.3238], [899, 'GradientBoostingClassifier', 0.7773, 0.5019, 0.6063, 0.3251, 0.5457, 0.2858, 0.4586], [899, 'RandomForestClassifier', 0.8465, 0.449, 0.587, 0.2293, 0.4832, 0.1778, 0.3572]]\n"
     ]
    }
   ],
   "source": [
    "seed_generator = Utilities.generate_pi_seed(20)\n",
    "seed_vals = [next(seed_generator) for i in range(20)]\n",
    "shake_percentages = [0.2, 0.4, 0.6]\n",
    "circle_methods = ['on', 'in']\n",
    "ml_models = [ExtraTreesClassifier(), GradientBoostingClassifier(), RandomForestClassifier()]\n",
    "scaler = MinMaxScaler((0, 1))\n",
    "\n",
    "distance_results = [[\"seed\", \"on_20%_dist\", \"on_20%_std\", \"on_40%_dist\", \"on_40%_std\", \"on_60%_dist\", \"on_60%_std\",\n",
    "                    \"in_20%_dist\",\"in_20%_std\",\"in_40%_dist\",\"in_40%_std\",\"in_60%_dist\",\"in_60%_std\"]]\n",
    "\n",
    "model_results = [[\"seed\", \"model\", \"baseline\", \"in_20%_f1\", \"in_40%_f1\", \"in_60%_f1\", \"on_20%_f1\", \"on_40%_f1\", \"on_60%_f1\"]]\n",
    "\n",
    "for seed in seed_vals:\n",
    "    # Intermediate lists for storing distance and model score values.\n",
    "    distance_row = [seed]\n",
    "\n",
    "    # Set apart 20% data for testing that augmentation process will never see.\n",
    "    train, test_x, test_y = TestUtils.get_test_train_data(dataset=ready_dataset, seed_val=seed,\n",
    "                                                          class_col='Species', k=0.8)\n",
    "\n",
    "    model_row = TestUtils.create_model_row(seed, ml_models, \"Species\", train, test_x, test_y)\n",
    "    for shake in shake_percentages:\n",
    "        for method in circle_methods:\n",
    "            # Randomly select 30% of trajectories to be augmented.\n",
    "            selected = Selection.select_randomly(train, seed, k=0.3)\n",
    "\n",
    "            # Augment the trajectories.\n",
    "            train_x, train_y = TestUtils.augment_trajectories_using_random_strategy(dataset=train,\n",
    "                                                                                    percent_to_shake=shake,\n",
    "                                                                                    ids_to_augment=selected,\n",
    "                                                                                    circle=method,\n",
    "                                                                                    n_augmentations=20,\n",
    "                                                                                    class_col=\"Species\")\n",
    "            mean, std = TestUtils.find_original_and_augmentation_pairs_and_calculate_differences(train_x, selected)\n",
    "            distance_row.append(mean)\n",
    "            distance_row.append(std)\n",
    "\n",
    "            for i in range(len(ml_models)):\n",
    "                f1_score = TestUtils.train_model_and_evaluate(ml_models[i], scaler.fit_transform(train_x), train_y,\n",
    "                                                              scaler.fit_transform(test_x), test_y, seed)\n",
    "                model_row[i].append(f1_score)\n",
    "\n",
    "    model_results.extend(model_row)\n",
    "    distance_results.append(distance_row)\n",
    "\n",
    "    print(model_row)"
   ],
   "metadata": {
    "collapsed": false,
    "ExecuteTime": {
     "end_time": "2023-08-29T10:19:04.678348232Z",
     "start_time": "2023-08-24T20:56:47.777435440Z"
    }
   }
  },
  {
   "cell_type": "code",
   "execution_count": 4,
   "outputs": [
    {
     "name": "stdout",
     "output_type": "stream",
     "text": [
      "File successfully written to: ./starkey_distances.csv\n",
      "File successfully written to: ./starkey_f1_score.csv\n"
     ]
    }
   ],
   "source": [
    "import csv\n",
    "\n",
    "file_path = \"./starkey_distances.csv\"\n",
    "with open(file_path, mode=\"w\") as file:\n",
    "    writer = csv.writer(file)\n",
    "    for item in distance_results:\n",
    "        writer.writerow(item)\n",
    "    print(f\"File successfully written to: {file_path}\")\n",
    "\n",
    "file_path = \"./starkey_f1_score.csv\"\n",
    "with open(file_path, mode=\"w\") as file:\n",
    "    writer = csv.writer(file)\n",
    "    for item in model_results:\n",
    "        writer.writerow(item)\n",
    "    print(f\"File successfully written to: {file_path}\")"
   ],
   "metadata": {
    "collapsed": false,
    "ExecuteTime": {
     "end_time": "2023-08-29T10:19:04.679564178Z",
     "start_time": "2023-08-29T10:19:04.677403726Z"
    }
   }
  }
 ],
 "metadata": {
  "kernelspec": {
   "display_name": "Python 3",
   "language": "python",
   "name": "python3"
  },
  "language_info": {
   "codemirror_mode": {
    "name": "ipython",
    "version": 2
   },
   "file_extension": ".py",
   "mimetype": "text/x-python",
   "name": "python",
   "nbconvert_exporter": "python",
   "pygments_lexer": "ipython2",
   "version": "2.7.6"
  }
 },
 "nbformat": 4,
 "nbformat_minor": 0
}
