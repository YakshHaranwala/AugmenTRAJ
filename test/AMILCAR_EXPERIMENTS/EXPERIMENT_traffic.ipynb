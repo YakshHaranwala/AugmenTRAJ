{
 "cells": [
  {
   "cell_type": "code",
   "execution_count": 1,
   "metadata": {
    "collapsed": true,
    "ExecuteTime": {
     "end_time": "2023-08-24T20:52:43.140076285Z",
     "start_time": "2023-08-24T20:52:40.969024171Z"
    }
   },
   "outputs": [],
   "source": [
    "import numpy as np\n",
    "import pandas as pd\n",
    "from ptrail.core.TrajectoryDF import PTRAILDataFrame\n",
    "from ptrail.features.kinematic_features import KinematicFeatures\n",
    "from ptrail.core.Datasets import Datasets\n",
    "from ptrail.preprocessing.statistics import Statistics\n",
    "\n",
    "from sklearn.ensemble import RandomForestClassifier, ExtraTreesClassifier, GradientBoostingClassifier\n",
    "from sklearn.preprocessing import MinMaxScaler\n",
    "from src.utils.test_utils import TestUtils\n",
    "from src.selection.select import Selection\n",
    "from src.utils.general_utils import Utilities"
   ]
  },
  {
   "cell_type": "code",
   "execution_count": 2,
   "outputs": [
    {
     "name": "stdout",
     "output_type": "stream",
     "text": [
      "------------------------ Dataset Facts ------------------------------\n",
      "\n",
      "Number of unique Trajectories in the data: 125\n",
      "Number of points in the data: 44905\n",
      "Dataset time range: 0 days 00:00:59.900000\n",
      "Datatype of the DataFrame: <class 'ptrail.core.TrajectoryDF.PTRAILDataFrame'>\n",
      "Dataset Bounding Box: (34.7107417, 135.4640652, 34.7156517, 135.4702002)\n",
      "\n",
      "---------------------------------------------------------------------\n"
     ]
    },
    {
     "data": {
      "text/plain": "                                 vehicle_type  velocity  traffic_lane  \\\ntraj_id DateTime                                                        \n1371    1900-01-01 07:30:00.000             1      48.0             2   \n        1900-01-01 07:30:00.100             1      47.9             2   \n        1900-01-01 07:30:00.200             1      47.9             2   \n        1900-01-01 07:30:00.300             1      47.9             2   \n        1900-01-01 07:30:00.400             1      47.9             2   \n...                                       ...       ...           ...   \n3357    1900-01-01 07:30:59.500             1      27.7             1   \n        1900-01-01 07:30:59.600             1      27.7             1   \n        1900-01-01 07:30:59.700             1      29.0             1   \n        1900-01-01 07:30:59.800             1      30.3             1   \n        1900-01-01 07:30:59.900             1      31.0             1   \n\n                                        lon        lat  kilopost  \\\ntraj_id DateTime                                                   \n1371    1900-01-01 07:30:00.000  135.469950  34.710999    3539.5   \n        1900-01-01 07:30:00.100  135.469957  34.710991    3532.5   \n        1900-01-01 07:30:00.200  135.469963  34.710984    3532.5   \n        1900-01-01 07:30:00.300  135.469968  34.710979    3531.5   \n        1900-01-01 07:30:00.400  135.469972  34.710974    3530.8   \n...                                     ...        ...       ...   \n3357    1900-01-01 07:30:59.500  135.468970  34.712177    3697.6   \n        1900-01-01 07:30:59.600  135.468975  34.712172    3696.6   \n        1900-01-01 07:30:59.700  135.468981  34.712166    3695.6   \n        1900-01-01 07:30:59.800  135.468986  34.712160    3694.7   \n        1900-01-01 07:30:59.900  135.468992  34.712154    3693.7   \n\n                                 vehicle_length  detected_flag  Distance  \ntraj_id DateTime                                                          \n1371    1900-01-01 07:30:00.000             3.0              0       NaN  \n        1900-01-01 07:30:00.100             3.0              0  1.115504  \n        1900-01-01 07:30:00.200             3.0              0  0.939478  \n        1900-01-01 07:30:00.300             3.0              0  0.763477  \n        1900-01-01 07:30:00.400             3.0              0  0.596403  \n...                                         ...            ...       ...  \n3357    1900-01-01 07:30:59.500             3.5              0  0.737022  \n        1900-01-01 07:30:59.600             3.5              1  0.760166  \n        1900-01-01 07:30:59.700             3.5              1  0.788944  \n        1900-01-01 07:30:59.800             3.5              1  0.835374  \n        1900-01-01 07:30:59.900             3.5              1  0.873034  \n\n[44905 rows x 9 columns]",
      "text/html": "<div>\n<style scoped>\n    .dataframe tbody tr th:only-of-type {\n        vertical-align: middle;\n    }\n\n    .dataframe tbody tr th {\n        vertical-align: top;\n    }\n\n    .dataframe thead th {\n        text-align: right;\n    }\n</style>\n<table border=\"1\" class=\"dataframe\">\n  <thead>\n    <tr style=\"text-align: right;\">\n      <th></th>\n      <th></th>\n      <th>vehicle_type</th>\n      <th>velocity</th>\n      <th>traffic_lane</th>\n      <th>lon</th>\n      <th>lat</th>\n      <th>kilopost</th>\n      <th>vehicle_length</th>\n      <th>detected_flag</th>\n      <th>Distance</th>\n    </tr>\n    <tr>\n      <th>traj_id</th>\n      <th>DateTime</th>\n      <th></th>\n      <th></th>\n      <th></th>\n      <th></th>\n      <th></th>\n      <th></th>\n      <th></th>\n      <th></th>\n      <th></th>\n    </tr>\n  </thead>\n  <tbody>\n    <tr>\n      <th rowspan=\"5\" valign=\"top\">1371</th>\n      <th>1900-01-01 07:30:00.000</th>\n      <td>1</td>\n      <td>48.0</td>\n      <td>2</td>\n      <td>135.469950</td>\n      <td>34.710999</td>\n      <td>3539.5</td>\n      <td>3.0</td>\n      <td>0</td>\n      <td>NaN</td>\n    </tr>\n    <tr>\n      <th>1900-01-01 07:30:00.100</th>\n      <td>1</td>\n      <td>47.9</td>\n      <td>2</td>\n      <td>135.469957</td>\n      <td>34.710991</td>\n      <td>3532.5</td>\n      <td>3.0</td>\n      <td>0</td>\n      <td>1.115504</td>\n    </tr>\n    <tr>\n      <th>1900-01-01 07:30:00.200</th>\n      <td>1</td>\n      <td>47.9</td>\n      <td>2</td>\n      <td>135.469963</td>\n      <td>34.710984</td>\n      <td>3532.5</td>\n      <td>3.0</td>\n      <td>0</td>\n      <td>0.939478</td>\n    </tr>\n    <tr>\n      <th>1900-01-01 07:30:00.300</th>\n      <td>1</td>\n      <td>47.9</td>\n      <td>2</td>\n      <td>135.469968</td>\n      <td>34.710979</td>\n      <td>3531.5</td>\n      <td>3.0</td>\n      <td>0</td>\n      <td>0.763477</td>\n    </tr>\n    <tr>\n      <th>1900-01-01 07:30:00.400</th>\n      <td>1</td>\n      <td>47.9</td>\n      <td>2</td>\n      <td>135.469972</td>\n      <td>34.710974</td>\n      <td>3530.8</td>\n      <td>3.0</td>\n      <td>0</td>\n      <td>0.596403</td>\n    </tr>\n    <tr>\n      <th>...</th>\n      <th>...</th>\n      <td>...</td>\n      <td>...</td>\n      <td>...</td>\n      <td>...</td>\n      <td>...</td>\n      <td>...</td>\n      <td>...</td>\n      <td>...</td>\n      <td>...</td>\n    </tr>\n    <tr>\n      <th rowspan=\"5\" valign=\"top\">3357</th>\n      <th>1900-01-01 07:30:59.500</th>\n      <td>1</td>\n      <td>27.7</td>\n      <td>1</td>\n      <td>135.468970</td>\n      <td>34.712177</td>\n      <td>3697.6</td>\n      <td>3.5</td>\n      <td>0</td>\n      <td>0.737022</td>\n    </tr>\n    <tr>\n      <th>1900-01-01 07:30:59.600</th>\n      <td>1</td>\n      <td>27.7</td>\n      <td>1</td>\n      <td>135.468975</td>\n      <td>34.712172</td>\n      <td>3696.6</td>\n      <td>3.5</td>\n      <td>1</td>\n      <td>0.760166</td>\n    </tr>\n    <tr>\n      <th>1900-01-01 07:30:59.700</th>\n      <td>1</td>\n      <td>29.0</td>\n      <td>1</td>\n      <td>135.468981</td>\n      <td>34.712166</td>\n      <td>3695.6</td>\n      <td>3.5</td>\n      <td>1</td>\n      <td>0.788944</td>\n    </tr>\n    <tr>\n      <th>1900-01-01 07:30:59.800</th>\n      <td>1</td>\n      <td>30.3</td>\n      <td>1</td>\n      <td>135.468986</td>\n      <td>34.712160</td>\n      <td>3694.7</td>\n      <td>3.5</td>\n      <td>1</td>\n      <td>0.835374</td>\n    </tr>\n    <tr>\n      <th>1900-01-01 07:30:59.900</th>\n      <td>1</td>\n      <td>31.0</td>\n      <td>1</td>\n      <td>135.468992</td>\n      <td>34.712154</td>\n      <td>3693.7</td>\n      <td>3.5</td>\n      <td>1</td>\n      <td>0.873034</td>\n    </tr>\n  </tbody>\n</table>\n<p>44905 rows × 9 columns</p>\n</div>"
     },
     "execution_count": 2,
     "metadata": {},
     "output_type": "execute_result"
    }
   ],
   "source": [
    "traffic_dataset = Datasets.load_traffic_data()\n",
    "ready_dataset = KinematicFeatures.create_distance_column(traffic_dataset)\n",
    "ready_dataset"
   ],
   "metadata": {
    "collapsed": false,
    "ExecuteTime": {
     "end_time": "2023-08-24T20:52:46.604540264Z",
     "start_time": "2023-08-24T20:52:43.146158638Z"
    }
   }
  },
  {
   "cell_type": "code",
   "execution_count": 3,
   "outputs": [
    {
     "name": "stdout",
     "output_type": "stream",
     "text": [
      "[[1415, 'ExtraTreesClassifier', 0.9167, 0.8944, 0.9167, 0.8944, 0.9167, 0.8712, 0.9167], [1415, 'GradientBoostingClassifier', 0.5864, 0.7947, 0.7947, 0.8214, 0.7947, 0.8214, 0.7947], [1415, 'RandomForestClassifier', 0.9356, 0.8469, 0.8469, 0.8469, 0.8469, 0.8469, 0.8469]]\n",
      "[[9265, 'ExtraTreesClassifier', 0.9404, 0.9404, 0.9404, 0.9404, 0.9404, 0.9404, 0.9404], [9265, 'GradientBoostingClassifier', 0.8987, 0.776, 0.7457, 0.805, 0.776, 0.776, 0.776], [9265, 'RandomForestClassifier', 0.8987, 0.8291, 0.9404, 0.8533, 0.92, 0.8598, 0.8329]]\n",
      "[[3589, 'ExtraTreesClassifier', 0.9404, 0.9404, 0.9404, 0.9404, 0.9404, 0.9404, 0.9404], [3589, 'GradientBoostingClassifier', 0.8987, 0.8765, 0.92, 0.8765, 0.8765, 0.7771, 0.72], [3589, 'RandomForestClassifier', 0.9404, 0.92, 0.92, 0.92, 0.9404, 0.9404, 0.92]]\n",
      "[[7932, 'ExtraTreesClassifier', 0.767, 0.7467, 0.7467, 0.7467, 0.7467, 0.7467, 0.7467], [7932, 'GradientBoostingClassifier', 0.6187, 0.778, 0.84, 0.84, 0.8087, 0.84, 0.8087], [7932, 'RandomForestClassifier', 0.7467, 0.6752, 0.704, 0.6149, 0.6849, 0.704, 0.63]]\n",
      "[[3846, 'ExtraTreesClassifier', 0.767, 0.767, 0.767, 0.767, 0.767, 0.767, 0.767], [3846, 'GradientBoostingClassifier', 0.6486, 0.778, 0.778, 0.778, 0.778, 0.778, 0.778], [3846, 'RandomForestClassifier', 0.8087, 0.767, 0.848, 0.767, 0.767, 0.767, 0.767]]\n",
      "[[2643, 'ExtraTreesClassifier', 0.9017, 0.8238, 0.8238, 0.8238, 0.8238, 0.8238, 0.8238], [2643, 'GradientBoostingClassifier', 0.629, 0.5616, 0.5994, 0.5217, 0.5217, 0.5217, 0.5217], [2643, 'RandomForestClassifier', 0.84, 0.8238, 0.8238, 0.8238, 0.8238, 0.8238, 0.8238]]\n",
      "[[3832, 'ExtraTreesClassifier', 0.7364, 0.7576, 0.7576, 0.7576, 0.7576, 0.7576, 0.7576], [3832, 'GradientBoostingClassifier', 0.7143, 0.7576, 0.7143, 0.6609, 0.614, 0.7793, 0.6911], [3832, 'RandomForestClassifier', 0.7576, 0.7576, 0.7364, 0.7576, 0.7576, 0.7576, 0.7576]]\n",
      "[[7950, 'ExtraTreesClassifier', 0.7467, 0.7467, 0.767, 0.767, 0.767, 0.767, 0.767], [7950, 'GradientBoostingClassifier', 0.5829, 0.496, 0.7255, 0.5383, 0.5244, 0.767, 0.7224], [7950, 'RandomForestClassifier', 0.7255, 0.767, 0.7467, 0.767, 0.848, 0.767, 0.767]]\n",
      "[[2884, 'ExtraTreesClassifier', 0.8817, 0.8817, 0.8817, 0.8817, 0.8817, 0.8817, 0.8817], [2884, 'GradientBoostingClassifier', 0.5764, 0.752, 0.7222, 0.6588, 0.6912, 0.7222, 0.6912], [2884, 'RandomForestClassifier', 0.84, 0.6912, 0.718, 0.6295, 0.6605, 0.6588, 0.6588]]\n",
      "[[1971, 'ExtraTreesClassifier', 0.8238, 0.8238, 0.8238, 0.8238, 0.8238, 0.8238, 0.8238], [1971, 'GradientBoostingClassifier', 0.84, 0.812, 0.7843, 0.812, 0.7843, 0.812, 0.7843], [1971, 'RandomForestClassifier', 0.7124, 0.8238, 0.8238, 0.8238, 0.8238, 0.8238, 0.8238]]\n",
      "[[6939, 'ExtraTreesClassifier', 0.8817, 0.8817, 0.8817, 0.8817, 0.84, 0.8817, 0.8613], [6939, 'GradientBoostingClassifier', 0.6873, 0.718, 0.4917, 0.69, 0.4917, 0.69, 0.4453], [6939, 'RandomForestClassifier', 0.6588, 0.8086, 0.8086, 0.8359, 0.7807, 0.8359, 0.8359]]\n",
      "[[9375, 'ExtraTreesClassifier', 0.8817, 0.8817, 0.8817, 0.8817, 0.8817, 0.8817, 0.8817], [9375, 'GradientBoostingClassifier', 0.84, 0.753, 0.7807, 0.7222, 0.7222, 0.7222, 0.7222], [9375, 'RandomForestClassifier', 0.8817, 0.9538, 0.8817, 0.8613, 0.8613, 0.8817, 0.92]]\n",
      "[[1058, 'ExtraTreesClassifier', 0.8533, 0.92, 0.8765, 0.8987, 0.92, 0.92, 0.8987], [1058, 'GradientBoostingClassifier', 0.8291, 0.8291, 0.8533, 0.8533, 0.8037, 0.7493, 0.6892], [1058, 'RandomForestClassifier', 0.8987, 0.92, 0.92, 0.92, 0.92, 0.9404, 0.92]]\n",
      "[[2097, 'ExtraTreesClassifier', 0.8167, 0.8167, 0.8167, 0.8167, 0.8167, 0.8167, 0.8167], [2097, 'GradientBoostingClassifier', 0.864, 0.7256, 0.7733, 0.7158, 0.7733, 0.7, 0.7256], [2097, 'RandomForestClassifier', 0.8167, 0.8167, 0.7955, 0.8167, 0.8167, 0.8167, 0.8167]]\n",
      "[[4944, 'ExtraTreesClassifier', 0.8238, 0.8238, 0.8238, 0.8238, 0.8238, 0.8238, 0.8238], [4944, 'GradientBoostingClassifier', 0.5691, 0.7347, 0.7657, 0.7657, 0.7657, 0.7657, 0.7657], [4944, 'RandomForestClassifier', 0.8035, 0.8693, 0.84, 0.76, 0.7843, 0.7822, 0.76]]\n",
      "[[5923, 'ExtraTreesClassifier', 0.9538, 0.8817, 0.8817, 0.8817, 0.8817, 0.8817, 0.8817], [5923, 'GradientBoostingClassifier', 0.8359, 0.2256, 0.2256, 0.2256, 0.2256, 0.2256, 0.2256], [5923, 'RandomForestClassifier', 0.863, 0.8613, 0.8817, 0.8817, 0.8817, 0.8817, 0.8817]]\n",
      "[[781, 'ExtraTreesClassifier', 0.8333, 0.7955, 0.7955, 0.7955, 0.7955, 0.7955, 0.8167], [781, 'GradientBoostingClassifier', 0.25, 0.5375, 0.5781, 0.6484, 0.3126, 0.4, 0.4246], [781, 'RandomForestClassifier', 0.5375, 0.7955, 0.7955, 0.7955, 0.7955, 0.7955, 0.7955]]\n",
      "[[6406, 'ExtraTreesClassifier', 0.6564, 0.6564, 0.6564, 0.6564, 0.6564, 0.6564, 0.6363], [6406, 'GradientBoostingClassifier', 0.5171, 0.694, 0.7402, 0.727, 0.68, 0.4213, 0.656], [6406, 'RandomForestClassifier', 0.6564, 0.7402, 0.7402, 0.7402, 0.7402, 0.6564, 0.6564]]\n",
      "[[2862, 'ExtraTreesClassifier', 0.8101, 0.8768, 0.8768, 0.8768, 0.8768, 0.8768, 0.8768], [2862, 'GradientBoostingClassifier', 0.8, 0.8556, 0.8768, 0.8556, 0.8333, 0.8333, 0.8768], [2862, 'RandomForestClassifier', 0.8101, 0.8768, 0.8768, 0.8768, 0.8768, 0.8768, 0.8768]]\n",
      "[[899, 'ExtraTreesClassifier', 0.8035, 0.8238, 0.8238, 0.8035, 0.8238, 0.8035, 0.8238], [899, 'GradientBoostingClassifier', 0.7347, 0.7822, 0.7822, 0.7822, 0.7822, 0.7822, 0.7822], [899, 'RandomForestClassifier', 0.8035, 0.8238, 0.8035, 0.8035, 0.8238, 0.8238, 0.8035]]\n"
     ]
    }
   ],
   "source": [
    "seed_generator = Utilities.generate_pi_seed(20)\n",
    "seed_vals = [next(seed_generator) for i in range(20)]\n",
    "shake_percentages = [0.2, 0.4, 0.6]\n",
    "circle_methods = ['on', 'in']\n",
    "ml_models = [ExtraTreesClassifier(), GradientBoostingClassifier(), RandomForestClassifier()]\n",
    "scaler = MinMaxScaler((0, 1))\n",
    "\n",
    "distance_results = [[\"seed\", \"on_20%_dist\", \"on_20%_std\", \"on_40%_dist\", \"on_40%_std\", \"on_60%_dist\", \"on_60%_std\",\n",
    "                    \"in_20%_dist\",\"in_20%_std\",\"in_40%_dist\",\"in_40%_std\",\"in_60%_dist\",\"in_60%_std\"]]\n",
    "\n",
    "model_results = [[\"seed\", \"model\", \"baseline\", \"in_20%_f1\", \"in_40%_f1\", \"in_60%_f1\", \"on_20%_f1\", \"on_40%_f1\", \"on_60%_f1\"]]\n",
    "\n",
    "for seed in seed_vals:\n",
    "    # Intermediate lists for storing distance and model score values.\n",
    "    distance_row = [seed]\n",
    "\n",
    "    # Set apart 20% data for testing that augmentation process will never see.\n",
    "    train, test_x, test_y = TestUtils.get_test_train_data(dataset=ready_dataset, seed_val=seed,\n",
    "                                                          class_col='vehicle_type', k=0.8)\n",
    "\n",
    "    model_row = TestUtils.create_model_row(seed, ml_models, \"vehicle_type\", train, test_x, test_y)\n",
    "    for shake in shake_percentages:\n",
    "        for method in circle_methods:\n",
    "            # Randomly select 30% of trajectories to be augmented.\n",
    "            selected = Selection.select_randomly(train, seed, k=0.3)\n",
    "\n",
    "            # Augment the trajectories.\n",
    "            train_x, train_y = TestUtils.augment_trajectories_using_random_strategy(dataset=train,\n",
    "                                                                                    percent_to_shake=shake,\n",
    "                                                                                    ids_to_augment=selected,\n",
    "                                                                                    circle=method,\n",
    "                                                                                    n_augmentations=20,\n",
    "                                                                                    class_col=\"vehicle_type\")\n",
    "            mean, std = TestUtils.find_original_and_augmentation_pairs_and_calculate_differences(train_x, selected)\n",
    "            distance_row.append(mean)\n",
    "            distance_row.append(std)\n",
    "\n",
    "            for i in range(len(ml_models)):\n",
    "                f1_score = TestUtils.train_model_and_evaluate(ml_models[i], scaler.fit_transform(train_x), train_y,\n",
    "                                                              scaler.fit_transform(test_x), test_y, seed)\n",
    "                model_row[i].append(f1_score)\n",
    "\n",
    "    model_results.extend(model_row)\n",
    "    distance_results.append(distance_row)\n",
    "\n",
    "    print(model_row)"
   ],
   "metadata": {
    "collapsed": false,
    "ExecuteTime": {
     "end_time": "2023-08-25T02:38:34.250257730Z",
     "start_time": "2023-08-24T20:52:46.614407357Z"
    }
   }
  },
  {
   "cell_type": "code",
   "execution_count": 4,
   "outputs": [
    {
     "name": "stdout",
     "output_type": "stream",
     "text": [
      "File successfully written to: ./traffic_distances.csv\n",
      "File successfully written to: ./traffic_f1_score.csv\n"
     ]
    }
   ],
   "source": [
    "import csv\n",
    "\n",
    "file_path = \"./traffic_distances.csv\"\n",
    "with open(file_path, mode=\"w\") as file:\n",
    "    writer = csv.writer(file)\n",
    "    for item in distance_results:\n",
    "        writer.writerow(item)\n",
    "    print(f\"File successfully written to: {file_path}\")\n",
    "\n",
    "file_path = \"./traffic_f1_score.csv\"\n",
    "with open(file_path, mode=\"w\") as file:\n",
    "    writer = csv.writer(file)\n",
    "    for item in model_results:\n",
    "        writer.writerow(item)\n",
    "    print(f\"File successfully written to: {file_path}\")"
   ],
   "metadata": {
    "collapsed": false,
    "ExecuteTime": {
     "end_time": "2023-08-25T02:38:34.251475267Z",
     "start_time": "2023-08-25T02:38:34.249340532Z"
    }
   }
  }
 ],
 "metadata": {
  "kernelspec": {
   "display_name": "Python 3",
   "language": "python",
   "name": "python3"
  },
  "language_info": {
   "codemirror_mode": {
    "name": "ipython",
    "version": 2
   },
   "file_extension": ".py",
   "mimetype": "text/x-python",
   "name": "python",
   "nbconvert_exporter": "python",
   "pygments_lexer": "ipython2",
   "version": "2.7.6"
  }
 },
 "nbformat": 4,
 "nbformat_minor": 0
}
